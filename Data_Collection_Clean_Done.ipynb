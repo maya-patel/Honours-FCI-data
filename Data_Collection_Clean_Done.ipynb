{
 "cells": [
  {
   "cell_type": "code",
   "execution_count": 1,
   "metadata": {},
   "outputs": [],
   "source": [
    "import pandas as pd\n",
    "import numpy as np\n",
    "from FCI_functions import calculate_post_score, calculate_pre_score, calculate_question_score_post, calculate_question_score_pre, calculate_pre_score_2020, calculate_post_score_2020"
   ]
  },
  {
   "cell_type": "code",
   "execution_count": 2,
   "metadata": {},
   "outputs": [],
   "source": [
    "df16_111 = pd.read_excel('rawdata/2016-17 WT1 Phys 111 ALL Data - Shared with Chelsea.xlsx').replace([\"BLANK\", \"!!\", \"MULT\"], np.nan)\n",
    "df16_112 = pd.read_excel('rawdata/2016-17 WT1 Phys 112 ALL Data - Shared with Chelsea.xlsx').replace([\"BLANK\", \"!!\", \"MULT\"], np.nan)\n",
    "df14_111 = pd.read_excel('rawdata/2014-15 WT1 Phys 111 ALL Data - Shared with Chelsea (20210212).xlsx').replace([\"BLANK\", \"!!\", \"MULT\"], np.nan)\n",
    "df14_112 = pd.read_excel('rawdata/2014-15 WT1 Phys 112 ALL Data - Shared with Chelsea (20210212).xlsx').replace([\"BLANK\", \"!!\", \"MULT\"], np.nan)\n",
    "df15_111 = pd.read_excel('rawdata/2015-16 WT1 Phys 111 ALL Data - Shared with Chelsea.xlsx').replace([\"BLANK\", \"!!\", \"MULT\"], np.nan)\n",
    "df15_112 = pd.read_excel('rawdata/2015-16 WT1 Phys 112 ALL Data - Shared with Chelsea.xlsx').replace([\"BLANK\", \"!!\", \"MULT\"], np.nan)\n",
    "df17_111 = pd.read_excel('rawdata/2017-18 WT1 Phys 111 ALL Data - Shared with David (20190612).xlsx').replace([\"BLANK\", \"!!\", \"MULT\"], np.nan)\n",
    "df17_112 = pd.read_excel('rawdata/2017-18 WT1 Phys 112 ALL Data - Shared with David (20190612).xlsx').replace([\"BLANK\", \"!!\", \"MULT\"], np.nan)\n",
    "df18_111 = pd.read_excel('rawdata/2018-19 WT1 Phys 111 ALL Data - Shared with David (20190530).xlsx').replace([\"BLANK\", \"!!\", \"MULT\"], np.nan)\n",
    "df18_112 = pd.read_excel('rawdata/2018-19 WT1 Phys 112 ALL Data - Shared with David (20190527).xlsx').replace([\"BLANK\", \"!!\", \"MULT\"], np.nan)#.drop(df18_112[df18_112['Secondary'] == L15].index)\n",
    "df20 = pd.read_excel('rawdata/2020-21 WT1 Phys 111&112 ALL Data - Shared with Chelsea (20210329).xlsx').replace([\"BLANK\", \"!!\", \"MULT\"], np.nan)\n",
    "is_111 = df20['Course'] == 111\n",
    "df20_111 = df20[is_111]\n",
    "is_112 = df20['Course'] == 112\n",
    "df20_112 = df20[is_112]"
   ]
  },
  {
   "cell_type": "code",
   "execution_count": 3,
   "metadata": {},
   "outputs": [],
   "source": [
    "def by_gender_by_year_2020(df, name):\n",
    "    pre = []\n",
    "    for i in range (1,31):\n",
    "        string = \"PRE Q\" + str(i)\n",
    "        pre.append(string)\n",
    "    post = []\n",
    "    for i in range (1,31):\n",
    "        string = \"POST Q\" + str(i)\n",
    "        post.append(string)\n",
    "\n",
    "    pre_2020 = ['PRE Q1'] \n",
    "    for i in range (24, 53):\n",
    "        string = 'PRE Q' + str(i)\n",
    "        pre_2020.append(string)\n",
    "\n",
    "    post_2020 = ['POST Q1'] \n",
    "    for i in range (35, 64):\n",
    "        string = 'POST Q' + str(i)\n",
    "        post_2020.append(string)\n",
    "\n",
    "    df_pre = df[pre_2020]\n",
    "    df_post = df[post_2020]\n",
    "\n",
    "    df_pre.columns = pre\n",
    "    df_post.columns = post\n",
    "\n",
    "    is_f = df['PRE Q12']== 1\n",
    "    df_f = df[is_f]\n",
    "    num_f = len(df_f.index)\n",
    "    df_pre_f = df_f[pre_2020].dropna(thresh=25, axis=0)\n",
    "    df_pre_f.columns = pre\n",
    "    df_post_f = df_f[post_2020].dropna(thresh=25, axis=0)\n",
    "    df_post_f.columns = post\n",
    "\n",
    "    pre_f = df_pre_f.apply(calculate_pre_score_2020, axis=1).mean()\n",
    "    pre_f_error = df_pre_f.apply(calculate_pre_score_2020, axis=1).sem(axis=0)\n",
    "    post_f =df_post_f.apply(calculate_post_score_2020, axis=1).mean()\n",
    "    post_f_error = df_post_f.apply(calculate_post_score_2020, axis=1).sem(axis=0)\n",
    "    gain_f = (df_pre_f.apply(calculate_pre_score, axis=1) - df_post_f.apply(calculate_post_score_2020, axis=1)).mean()\n",
    "    norm_gain_f = (post_f-pre_f)/(30-pre_f)\n",
    "    norm_gain_error = (((df_pre_f.apply(calculate_pre_score_2020, axis=1) - df_post_f.apply(calculate_post_score_2020, axis=1)))/(30-(df_pre_f.apply(calculate_pre_score, axis=1)))).sem(axis=0)\n",
    "    gain_f_error = (df_pre_f.apply(calculate_pre_score_2020, axis=1) - df_post_f.apply(calculate_post_score_2020, axis=1)).sem(axis=0)\n",
    "    gain_f_error_1 = np.sqrt(pre_f_error**2 + post_f_error**2)\n",
    "\n",
    "    is_m = df['PRE Q12']== 3\n",
    "    df_m = df[is_m]\n",
    "    num_m = len(df_m.index)\n",
    "    df_pre_m = df_m[pre_2020].dropna(thresh=25, axis=0)\n",
    "    df_pre_m.columns = pre\n",
    "    df_post_m = df_m[post_2020].dropna(thresh=25, axis=0)\n",
    "    df_post_m.columns = post\n",
    "\n",
    "    pre_m = df_pre_m.apply(calculate_pre_score_2020, axis=1).mean()\n",
    "    pre_m_error = df_pre_m.apply(calculate_pre_score_2020, axis=1).sem(axis=0)\n",
    "    post_m =df_post_m.apply(calculate_post_score_2020, axis=1).mean()\n",
    "    post_m_error = df_post_m.apply(calculate_post_score_2020, axis=1).sem(axis=0)\n",
    "    gain_m = (df_pre_m.apply(calculate_pre_score_2020, axis=1) - df_post_m.apply(calculate_post_score_2020, axis=1)).mean()\n",
    "    norm_gain_m = (post_m-pre_m)/(30-pre_m)\n",
    "    norm_m_error = (((df_pre_m.apply(calculate_pre_score_2020, axis=1) - df_post_m.apply(calculate_post_score_2020, axis=1)))/(30-(df_pre_m.apply(calculate_pre_score, axis=1)))).sem(axis=0)\n",
    "    gain_m_error = (df_pre_m.apply(calculate_pre_score_2020, axis=1) - df_post_m.apply(calculate_post_score_2020, axis=1)).sem(axis=0)\n",
    "    gain_m_error_1 = np.sqrt(pre_m_error**2 + post_m_error**2)\n",
    "    \n",
    "    num = num_f + num_m\n",
    "\n",
    "    array = [name, num, pre_f, pre_f_error, post_f, post_f_error, post_f-pre_f, norm_gain_f, norm_gain_error, gain_f_error_1, gain_f_error, num_f, pre_m, pre_m_error, post_m, post_m_error, post_m-pre_m, norm_gain_m, norm_m_error, gain_m_error, gain_m_error_1, num_m]\n",
    "    return array"
   ]
  },
  {
   "cell_type": "code",
   "execution_count": 4,
   "metadata": {},
   "outputs": [
    {
     "data": {
      "text/plain": [
       "['2020 112',\n",
       " 360,\n",
       " 9.381147540983607,\n",
       " 0.26543790974255793,\n",
       " 13.646511627906976,\n",
       " 0.38638913472905057,\n",
       " 4.26536408692337,\n",
       " 0.2068671908585375,\n",
       " 0.010373909262764295,\n",
       " 0.4687791029527263,\n",
       " 0.31121727788292886,\n",
       " 244,\n",
       " 11.78448275862069,\n",
       " 0.4749822113741239,\n",
       " 15.753086419753087,\n",
       " 0.8201796822477849,\n",
       " 3.9686036611323967,\n",
       " 0.21786939171384667,\n",
       " 0.02474924627020214,\n",
       " 0.7424773881060645,\n",
       " 0.9477883794887604,\n",
       " 116]"
      ]
     },
     "execution_count": 4,
     "metadata": {},
     "output_type": "execute_result"
    }
   ],
   "source": [
    "by_gender_by_year_2020(df20_112, \"2020 112\")"
   ]
  },
  {
   "cell_type": "code",
   "execution_count": 17,
   "metadata": {},
   "outputs": [],
   "source": [
    "def by_gender_by_year(df, name):\n",
    "    pre = []\n",
    "    for i in range (1,31):\n",
    "        string = \"PRE Q\" + str(i)\n",
    "        pre.append(string)\n",
    "    post = []\n",
    "    for i in range (1,31):\n",
    "        string = \"POST Q\" + str(i)\n",
    "        post.append(string)\n",
    "\n",
    "    is_f = df['PRE Q85']== 'A'\n",
    "    df_f = df[is_f]\n",
    "    \n",
    "    df_pre_f = df_f[pre]\n",
    "    df_pre_f_drop = df_pre_f.dropna(thresh=25, axis=0)\n",
    "    df_post_f = df_f[post].dropna(thresh=25, axis=0)\n",
    "    num_f_pre = len(df_pre_f_drop.index)\n",
    "    num_f_post = len(df_post_f.index)\n",
    "    \n",
    "    pre_f = df_pre_f.apply(calculate_pre_score, axis=1).mean()\n",
    "    pre_f_error = df_pre_f.apply(calculate_pre_score, axis=1).sem(axis=0)\n",
    "    post_f =df_post_f.apply(calculate_post_score, axis=1).mean()\n",
    "    post_f_error = df_post_f.apply(calculate_post_score, axis=1).sem(axis=0)\n",
    "    norm_f = (post_f-pre_f)/(30-pre_f)\n",
    "    norm_gain_error = (((df_pre_f.apply(calculate_pre_score, axis=1) - df_post_f.apply(calculate_post_score, axis=1)))/(30-(df_pre_f.apply(calculate_pre_score, axis=1)))).sem(axis=0)\n",
    "    gain_f_error = np.sqrt(pre_f_error**2 + post_f_error**2)\n",
    "    gain_f_error_1 = (df_pre_f.apply(calculate_pre_score, axis=1) - df_post_f.apply(calculate_post_score, axis=1)).sem(axis=0)\n",
    "    \n",
    "    is_m = df['PRE Q85']== 'B'\n",
    "    df_m = df[is_m]\n",
    "    num_m = len(df_m.index)\n",
    "    df_pre_m = df_m[pre].dropna(thresh=1, axis=0)\n",
    "    df_post_m = df_m[post].dropna(thresh=1, axis=0)\n",
    "    \n",
    "    pre_m = df_pre_m.apply(calculate_pre_score, axis=1).mean()\n",
    "    pre_m_error = df_pre_m.apply(calculate_pre_score, axis=1).sem(axis=0)\n",
    "    post_m =df_post_m.apply(calculate_post_score, axis=1).mean()\n",
    "    post_m_error = df_post_m.apply(calculate_post_score, axis=1).sem(axis=0)\n",
    "    norm_m = (post_m-pre_m)/(30-pre_m)\n",
    "    norm_m_error = (((df_pre_m.apply(calculate_pre_score, axis=1) - df_post_m.apply(calculate_post_score, axis=1)))/(30-(df_pre_m.apply(calculate_pre_score, axis=1)))).sem(axis=0)\n",
    "    gain_m_error = np.sqrt(pre_m_error**2 + post_m_error**2)\n",
    "    gain_m_error_1 = (df_pre_m.apply(calculate_pre_score, axis=1) - df_post_m.apply(calculate_post_score, axis=1)).sem(axis=0)\n",
    "    \n",
    "    num_f  = 0\n",
    "    #num = num_f + num_m\n",
    "    \n",
    "    array = [name, num_f_pre, num_f_post, pre_f, pre_f_error, post_f, post_f_error, post_f-pre_f, norm_f, norm_gain_error, gain_f_error, gain_f_error_1, num_f, pre_m, pre_m_error, post_m, post_m_error, post_m-pre_m, norm_m, norm_m_error, gain_m_error, gain_m_error_1, num_m]\n",
    "    return array"
   ]
  },
  {
   "cell_type": "code",
   "execution_count": 43,
   "metadata": {},
   "outputs": [
    {
     "data": {
      "text/plain": [
       "88"
      ]
     },
     "execution_count": 43,
     "metadata": {},
     "output_type": "execute_result"
    }
   ],
   "source": [
    "is_f = df16_111['PRE Q85']== 'A'\n",
    "df_f = df16_111[is_f]\n",
    "pre = []\n",
    "for i in range (1,31):\n",
    "    string = \"PRE Q\" + str(i)\n",
    "    pre.append(string)\n",
    "post = []\n",
    "for i in range (1,31):\n",
    "    string = \"POST Q\" + str(i)\n",
    "    post.append(string)\n",
    "df_pre_f = df_f[pre]\n",
    "df_pre_f_drop = df_pre_f.dropna(thresh=25, axis=0)\n",
    "df_pre_f_drop.apply(calculate_pre_score, axis=1)\n",
    "\n",
    "df_post_f = df_f[post].dropna(thresh=25, axis=0)\n",
    "df_post_f.apply(calculate_post_score, axis=1)\n",
    "\n",
    "(df_pre_f_drop.apply(calculate_pre_score, axis=1)-df_post_f.apply(calculate_post_score, axis=1)).count()\n",
    "\n",
    "#pre_f = df_pre_f.apply(calculate_pre_score, axis=1).mean()\n",
    "#post_f =df_post_f.apply(calculate_post_score, axis=1).mean()\n",
    "\n",
    "#print(pre_f-post_f)"
   ]
  },
  {
   "cell_type": "code",
   "execution_count": 18,
   "metadata": {},
   "outputs": [
    {
     "ename": "ValueError",
     "evalue": "cannot set a row with mismatched columns",
     "output_type": "error",
     "traceback": [
      "\u001b[0;31m---------------------------------------------------------------------------\u001b[0m",
      "\u001b[0;31mValueError\u001b[0m                                Traceback (most recent call last)",
      "\u001b[0;32m<ipython-input-18-06df49b9576c>\u001b[0m in \u001b[0;36m<module>\u001b[0;34m\u001b[0m\n\u001b[1;32m     13\u001b[0m \u001b[0mdf4\u001b[0m\u001b[0;34m.\u001b[0m\u001b[0mloc\u001b[0m\u001b[0;34m[\u001b[0m\u001b[0;36m9\u001b[0m\u001b[0;34m]\u001b[0m \u001b[0;34m=\u001b[0m \u001b[0mby_gender_by_year\u001b[0m\u001b[0;34m(\u001b[0m\u001b[0mdf18_111\u001b[0m\u001b[0;34m,\u001b[0m \u001b[0;34m\"2018 111\"\u001b[0m\u001b[0;34m)\u001b[0m\u001b[0;34m\u001b[0m\u001b[0;34m\u001b[0m\u001b[0m\n\u001b[1;32m     14\u001b[0m \u001b[0mdf4\u001b[0m\u001b[0;34m.\u001b[0m\u001b[0mloc\u001b[0m\u001b[0;34m[\u001b[0m\u001b[0;36m10\u001b[0m\u001b[0;34m]\u001b[0m \u001b[0;34m=\u001b[0m \u001b[0mby_gender_by_year\u001b[0m\u001b[0;34m(\u001b[0m\u001b[0mdf18_112\u001b[0m\u001b[0;34m,\u001b[0m \u001b[0;34m\"2018 112\"\u001b[0m\u001b[0;34m)\u001b[0m\u001b[0;34m\u001b[0m\u001b[0;34m\u001b[0m\u001b[0m\n\u001b[0;32m---> 15\u001b[0;31m \u001b[0mdf4\u001b[0m\u001b[0;34m.\u001b[0m\u001b[0mloc\u001b[0m\u001b[0;34m[\u001b[0m\u001b[0;36m11\u001b[0m\u001b[0;34m]\u001b[0m \u001b[0;34m=\u001b[0m \u001b[0mby_gender_by_year_2020\u001b[0m\u001b[0;34m(\u001b[0m\u001b[0mdf20_111\u001b[0m\u001b[0;34m,\u001b[0m \u001b[0;34m\"2020 111\"\u001b[0m\u001b[0;34m)\u001b[0m\u001b[0;34m\u001b[0m\u001b[0;34m\u001b[0m\u001b[0m\n\u001b[0m\u001b[1;32m     16\u001b[0m \u001b[0mdf4\u001b[0m\u001b[0;34m.\u001b[0m\u001b[0mloc\u001b[0m\u001b[0;34m[\u001b[0m\u001b[0;36m12\u001b[0m\u001b[0;34m]\u001b[0m \u001b[0;34m=\u001b[0m \u001b[0mby_gender_by_year_2020\u001b[0m\u001b[0;34m(\u001b[0m\u001b[0mdf20_112\u001b[0m\u001b[0;34m,\u001b[0m \u001b[0;34m\"2020 112\"\u001b[0m\u001b[0;34m)\u001b[0m\u001b[0;34m\u001b[0m\u001b[0;34m\u001b[0m\u001b[0m\n\u001b[1;32m     17\u001b[0m \u001b[0;34m\u001b[0m\u001b[0m\n",
      "\u001b[0;32m~/opt/anaconda3/lib/python3.8/site-packages/pandas/core/indexing.py\u001b[0m in \u001b[0;36m__setitem__\u001b[0;34m(self, key, value)\u001b[0m\n\u001b[1;32m    721\u001b[0m \u001b[0;34m\u001b[0m\u001b[0m\n\u001b[1;32m    722\u001b[0m         \u001b[0miloc\u001b[0m \u001b[0;34m=\u001b[0m \u001b[0mself\u001b[0m \u001b[0;32mif\u001b[0m \u001b[0mself\u001b[0m\u001b[0;34m.\u001b[0m\u001b[0mname\u001b[0m \u001b[0;34m==\u001b[0m \u001b[0;34m\"iloc\"\u001b[0m \u001b[0;32melse\u001b[0m \u001b[0mself\u001b[0m\u001b[0;34m.\u001b[0m\u001b[0mobj\u001b[0m\u001b[0;34m.\u001b[0m\u001b[0miloc\u001b[0m\u001b[0;34m\u001b[0m\u001b[0;34m\u001b[0m\u001b[0m\n\u001b[0;32m--> 723\u001b[0;31m         \u001b[0miloc\u001b[0m\u001b[0;34m.\u001b[0m\u001b[0m_setitem_with_indexer\u001b[0m\u001b[0;34m(\u001b[0m\u001b[0mindexer\u001b[0m\u001b[0;34m,\u001b[0m \u001b[0mvalue\u001b[0m\u001b[0;34m,\u001b[0m \u001b[0mself\u001b[0m\u001b[0;34m.\u001b[0m\u001b[0mname\u001b[0m\u001b[0;34m)\u001b[0m\u001b[0;34m\u001b[0m\u001b[0;34m\u001b[0m\u001b[0m\n\u001b[0m\u001b[1;32m    724\u001b[0m \u001b[0;34m\u001b[0m\u001b[0m\n\u001b[1;32m    725\u001b[0m     \u001b[0;32mdef\u001b[0m \u001b[0m_validate_key\u001b[0m\u001b[0;34m(\u001b[0m\u001b[0mself\u001b[0m\u001b[0;34m,\u001b[0m \u001b[0mkey\u001b[0m\u001b[0;34m,\u001b[0m \u001b[0maxis\u001b[0m\u001b[0;34m:\u001b[0m \u001b[0mint\u001b[0m\u001b[0;34m)\u001b[0m\u001b[0;34m:\u001b[0m\u001b[0;34m\u001b[0m\u001b[0;34m\u001b[0m\u001b[0m\n",
      "\u001b[0;32m~/opt/anaconda3/lib/python3.8/site-packages/pandas/core/indexing.py\u001b[0m in \u001b[0;36m_setitem_with_indexer\u001b[0;34m(self, indexer, value, name)\u001b[0m\n\u001b[1;32m   1722\u001b[0m \u001b[0;34m\u001b[0m\u001b[0m\n\u001b[1;32m   1723\u001b[0m             \u001b[0;32mif\u001b[0m \u001b[0mmissing\u001b[0m\u001b[0;34m:\u001b[0m\u001b[0;34m\u001b[0m\u001b[0;34m\u001b[0m\u001b[0m\n\u001b[0;32m-> 1724\u001b[0;31m                 \u001b[0mself\u001b[0m\u001b[0;34m.\u001b[0m\u001b[0m_setitem_with_indexer_missing\u001b[0m\u001b[0;34m(\u001b[0m\u001b[0mindexer\u001b[0m\u001b[0;34m,\u001b[0m \u001b[0mvalue\u001b[0m\u001b[0;34m)\u001b[0m\u001b[0;34m\u001b[0m\u001b[0;34m\u001b[0m\u001b[0m\n\u001b[0m\u001b[1;32m   1725\u001b[0m                 \u001b[0;32mreturn\u001b[0m\u001b[0;34m\u001b[0m\u001b[0;34m\u001b[0m\u001b[0m\n\u001b[1;32m   1726\u001b[0m \u001b[0;34m\u001b[0m\u001b[0m\n",
      "\u001b[0;32m~/opt/anaconda3/lib/python3.8/site-packages/pandas/core/indexing.py\u001b[0m in \u001b[0;36m_setitem_with_indexer_missing\u001b[0;34m(self, indexer, value)\u001b[0m\n\u001b[1;32m   2025\u001b[0m                     \u001b[0;31m# must have conforming columns\u001b[0m\u001b[0;34m\u001b[0m\u001b[0;34m\u001b[0m\u001b[0;34m\u001b[0m\u001b[0m\n\u001b[1;32m   2026\u001b[0m                     \u001b[0;32mif\u001b[0m \u001b[0mlen\u001b[0m\u001b[0;34m(\u001b[0m\u001b[0mvalue\u001b[0m\u001b[0;34m)\u001b[0m \u001b[0;34m!=\u001b[0m \u001b[0mlen\u001b[0m\u001b[0;34m(\u001b[0m\u001b[0mself\u001b[0m\u001b[0;34m.\u001b[0m\u001b[0mobj\u001b[0m\u001b[0;34m.\u001b[0m\u001b[0mcolumns\u001b[0m\u001b[0;34m)\u001b[0m\u001b[0;34m:\u001b[0m\u001b[0;34m\u001b[0m\u001b[0;34m\u001b[0m\u001b[0m\n\u001b[0;32m-> 2027\u001b[0;31m                         \u001b[0;32mraise\u001b[0m \u001b[0mValueError\u001b[0m\u001b[0;34m(\u001b[0m\u001b[0;34m\"cannot set a row with mismatched columns\"\u001b[0m\u001b[0;34m)\u001b[0m\u001b[0;34m\u001b[0m\u001b[0;34m\u001b[0m\u001b[0m\n\u001b[0m\u001b[1;32m   2028\u001b[0m \u001b[0;34m\u001b[0m\u001b[0m\n\u001b[1;32m   2029\u001b[0m                 \u001b[0mvalue\u001b[0m \u001b[0;34m=\u001b[0m \u001b[0mSeries\u001b[0m\u001b[0;34m(\u001b[0m\u001b[0mvalue\u001b[0m\u001b[0;34m,\u001b[0m \u001b[0mindex\u001b[0m\u001b[0;34m=\u001b[0m\u001b[0mself\u001b[0m\u001b[0;34m.\u001b[0m\u001b[0mobj\u001b[0m\u001b[0;34m.\u001b[0m\u001b[0mcolumns\u001b[0m\u001b[0;34m,\u001b[0m \u001b[0mname\u001b[0m\u001b[0;34m=\u001b[0m\u001b[0mindexer\u001b[0m\u001b[0;34m)\u001b[0m\u001b[0;34m\u001b[0m\u001b[0;34m\u001b[0m\u001b[0m\n",
      "\u001b[0;31mValueError\u001b[0m: cannot set a row with mismatched columns"
     ]
    }
   ],
   "source": [
    "# create table of average scores by gender by year\n",
    "column_names=[\"YEAR\", \"F Pre num\",\"F post num\",\"Pre Score F\", \"Pre Score F Error\", \"Post Score F\",\"Post Score F Error\", \"Gain F\", \"Norm Gain\", \"Norm Gain Error\", \"Gain Error sqrt\",\"Gain Error\", \"Num F\", \"Pre Score M\", \"Pre Score M Error\", \"Post Score M\", \"Post Score M Error\", \"Gain M\", \"Norm gain M\", \"Norm gain error\", \"Gain M Error\", \"Gain M error sqrt\", \"Num M\"]\n",
    "df4 = pd.DataFrame(columns=column_names)\n",
    "\n",
    "df4.loc[1] = by_gender_by_year(df14_111, \"2014 111\")\n",
    "df4.loc[2] = by_gender_by_year(df14_112, \"2014 112\")\n",
    "df4.loc[3] = by_gender_by_year(df15_111, \"2015 111\")\n",
    "df4.loc[4] = by_gender_by_year(df15_112, \"2015 112\")\n",
    "df4.loc[5] = by_gender_by_year(df16_111, \"2016 111\")\n",
    "df4.loc[6] = by_gender_by_year(df16_112, \"2016 112\")\n",
    "df4.loc[7] = by_gender_by_year(df17_111, \"2017 111\")\n",
    "df4.loc[8] = by_gender_by_year(df17_112, \"2017 112\")\n",
    "df4.loc[9] = by_gender_by_year(df18_111, \"2018 111\")\n",
    "df4.loc[10] = by_gender_by_year(df18_112, \"2018 112\")\n",
    "df4.loc[11] = by_gender_by_year_2020(df20_111, \"2020 111\")\n",
    "df4.loc[12] = by_gender_by_year_2020(df20_112, \"2020 112\")\n",
    "\n",
    "df4"
   ]
  },
  {
   "cell_type": "code",
   "execution_count": 7,
   "metadata": {},
   "outputs": [],
   "source": [
    "df4.to_excel(\"2014-2020_by_gender_by_year.xlsx\")"
   ]
  },
  {
   "cell_type": "code",
   "execution_count": null,
   "metadata": {},
   "outputs": [],
   "source": []
  }
 ],
 "metadata": {
  "kernelspec": {
   "display_name": "Python 3",
   "language": "python",
   "name": "python3"
  },
  "language_info": {
   "codemirror_mode": {
    "name": "ipython",
    "version": 3
   },
   "file_extension": ".py",
   "mimetype": "text/x-python",
   "name": "python",
   "nbconvert_exporter": "python",
   "pygments_lexer": "ipython3",
   "version": "3.8.1"
  }
 },
 "nbformat": 4,
 "nbformat_minor": 4
}
