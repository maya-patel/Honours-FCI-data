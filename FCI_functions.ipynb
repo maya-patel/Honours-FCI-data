{
 "cells": [
  {
   "cell_type": "code",
   "execution_count": 2,
   "metadata": {},
   "outputs": [],
   "source": [
    "import pandas as pd"
   ]
  },
  {
   "cell_type": "code",
   "execution_count": 87,
   "metadata": {},
   "outputs": [],
   "source": [
    "# use df14_111.apply(calculate_score, axis=1) to calculate the percentage scores for each student in the df14_111 dataframe\n",
    "# df14_111.apply(calculate_score, axis=1).mean() will give you the mean percentage grade for that year\n",
    "\n",
    "def calculate_pre_score(student):\n",
    "    corr_ans = ['C', 'A' , 'C', 'E', 'B', 'B', 'B', 'B' , 'E', 'A', 'D', 'B', 'D', 'D', 'A', 'A', 'B', 'B', 'E', 'D', \n",
    "            'E', 'B', 'B', 'A', 'C', 'E', 'C', 'E', 'B', 'C']\n",
    "    student_pre = [] \n",
    "    score = 0\n",
    "    for i in range(1,31):\n",
    "        string = \"PRE Q\"+ str(i)\n",
    "        if string in student:\n",
    "            if student[string]==corr_ans[i-1]:\n",
    "                score+=1\n",
    "            \n",
    "    return (score*100/30)"
   ]
  },
  {
   "cell_type": "code",
   "execution_count": 88,
   "metadata": {},
   "outputs": [],
   "source": [
    "def calculate_post_score(student):\n",
    "    corr_ans = ['C', 'A' , 'C', 'E', 'B', 'B', 'B', 'B' , 'E', 'A', 'D', 'B', 'D', 'D', 'A', 'A', 'B', 'B', 'E', 'D', \n",
    "            'E', 'B', 'B', 'A', 'C', 'E', 'C', 'E', 'B', 'C']\n",
    "    student_pre = [] \n",
    "    score = 0\n",
    "    for i in range(1,31):\n",
    "        string = \"POST Q\"+ str(i)\n",
    "        if string in student:\n",
    "            if student[string]==corr_ans[i-1]:\n",
    "                score+=1\n",
    "            \n",
    "    return (score*100/30)"
   ]
  },
  {
   "cell_type": "code",
   "execution_count": 104,
   "metadata": {},
   "outputs": [],
   "source": [
    "def calculate_question_score_post(df):\n",
    "    corr_ans = ['C', 'A' , 'C', 'E', 'B', 'B', 'B', 'B' , 'E', 'A', 'D', 'B', 'D', 'D', 'A', 'A', 'B', 'B', 'E', 'D', \n",
    "            'E', 'B', 'B', 'A', 'C', 'E', 'C', 'E', 'B', 'C']\n",
    "    scores = []\n",
    "    num_students = len(df.index)\n",
    "    for j in range(1, 31):\n",
    "        score = 0\n",
    "        string = \"PRE Q\"+ str(j)\n",
    "        for i in range(1,num_students):\n",
    "                if df[string][i]==corr_ans[j-1]:\n",
    "                    score+=1\n",
    "        scores.append(score)\n",
    "        \n",
    "    return (scores)"
   ]
  },
  {
   "cell_type": "code",
   "execution_count": 62,
   "metadata": {},
   "outputs": [],
   "source": [
    "# def calculate_question_score_pre(df):\n",
    "#     corr_ans = ['C', 'A' , 'C', 'E', 'B', 'B', 'B', 'B' , 'E', 'A', 'D', 'B', 'D', 'D', 'A', 'A', 'B', 'B', 'E', 'D', \n",
    "#             'E', 'B', 'B', 'A', 'C', 'E', 'C', 'E', 'B', 'C']\n",
    "#     scores = []\n",
    "#     ans = []\n",
    "#     num_students = len(df.index)\n",
    "#     for j in range(1, 31):\n",
    "#         score = 0\n",
    "#         string = \"PRE Q\"+ str(j)\n",
    "#         ans = df[string]\n",
    "#         for i in range(1,num_students):\n",
    "#                 if df.at[i, string]:\n",
    "#                     if ans[i]==corr_ans[j-1]:\n",
    "#                         score+=1\n",
    "#         scores.append(score)\n",
    "        \n",
    "#    return (scores)"
   ]
  },
  {
   "cell_type": "code",
   "execution_count": 111,
   "metadata": {},
   "outputs": [
    {
     "data": {
      "text/plain": [
       "C    115\n",
       "D     14\n",
       "A     13\n",
       "B      8\n",
       "E      3\n",
       "Name: PRE Q1, dtype: int64"
      ]
     },
     "execution_count": 111,
     "metadata": {},
     "output_type": "execute_result"
    }
   ],
   "source": [
    "df14_111 = pd.read_excel('rawdata/2014-15 WT1 Phys 111 ALL Data - Shared with Chelsea (20210212).xlsx').dropna(axis = 0, thresh=25)\n",
    "#df14_111.apply(calculate_question_score_post, axis=1)\n",
    "df14_111[\"PRE Q1\"].value_counts()\n",
    "#df14_111.head()\n"
   ]
  },
  {
   "cell_type": "code",
   "execution_count": 135,
   "metadata": {},
   "outputs": [
    {
     "ename": "AttributeError",
     "evalue": "'Series' object has no attribute 'ans'",
     "output_type": "error",
     "traceback": [
      "\u001b[0;31m---------------------------------------------------------------------------\u001b[0m",
      "\u001b[0;31mAttributeError\u001b[0m                            Traceback (most recent call last)",
      "\u001b[0;32m<ipython-input-135-fe74ddf9a25f>\u001b[0m in \u001b[0;36m<module>\u001b[0;34m\u001b[0m\n\u001b[1;32m      1\u001b[0m \u001b[0mans\u001b[0m \u001b[0;34m=\u001b[0m \u001b[0;34m'C'\u001b[0m\u001b[0;34m\u001b[0m\u001b[0;34m\u001b[0m\u001b[0m\n\u001b[0;32m----> 2\u001b[0;31m \u001b[0mdf14_111\u001b[0m\u001b[0;34m[\u001b[0m\u001b[0;34m\"PRE Q1\"\u001b[0m\u001b[0;34m]\u001b[0m\u001b[0;34m.\u001b[0m\u001b[0mvalue_counts\u001b[0m\u001b[0;34m(\u001b[0m\u001b[0;34m)\u001b[0m\u001b[0;34m.\u001b[0m\u001b[0mans\u001b[0m\u001b[0;34m\u001b[0m\u001b[0;34m\u001b[0m\u001b[0m\n\u001b[0m",
      "\u001b[0;32m~/opt/anaconda3/lib/python3.8/site-packages/pandas/core/generic.py\u001b[0m in \u001b[0;36m__getattr__\u001b[0;34m(self, name)\u001b[0m\n\u001b[1;32m   5485\u001b[0m         ):\n\u001b[1;32m   5486\u001b[0m             \u001b[0;32mreturn\u001b[0m \u001b[0mself\u001b[0m\u001b[0;34m[\u001b[0m\u001b[0mname\u001b[0m\u001b[0;34m]\u001b[0m\u001b[0;34m\u001b[0m\u001b[0;34m\u001b[0m\u001b[0m\n\u001b[0;32m-> 5487\u001b[0;31m         \u001b[0;32mreturn\u001b[0m \u001b[0mobject\u001b[0m\u001b[0;34m.\u001b[0m\u001b[0m__getattribute__\u001b[0m\u001b[0;34m(\u001b[0m\u001b[0mself\u001b[0m\u001b[0;34m,\u001b[0m \u001b[0mname\u001b[0m\u001b[0;34m)\u001b[0m\u001b[0;34m\u001b[0m\u001b[0;34m\u001b[0m\u001b[0m\n\u001b[0m\u001b[1;32m   5488\u001b[0m \u001b[0;34m\u001b[0m\u001b[0m\n\u001b[1;32m   5489\u001b[0m     \u001b[0;32mdef\u001b[0m \u001b[0m__setattr__\u001b[0m\u001b[0;34m(\u001b[0m\u001b[0mself\u001b[0m\u001b[0;34m,\u001b[0m \u001b[0mname\u001b[0m\u001b[0;34m:\u001b[0m \u001b[0mstr\u001b[0m\u001b[0;34m,\u001b[0m \u001b[0mvalue\u001b[0m\u001b[0;34m)\u001b[0m \u001b[0;34m->\u001b[0m \u001b[0;32mNone\u001b[0m\u001b[0;34m:\u001b[0m\u001b[0;34m\u001b[0m\u001b[0;34m\u001b[0m\u001b[0m\n",
      "\u001b[0;31mAttributeError\u001b[0m: 'Series' object has no attribute 'ans'"
     ]
    }
   ],
   "source": [
    "ans = 'C'\n",
    "df14_111[\"PRE Q1\"].value_counts().ans"
   ]
  },
  {
   "cell_type": "code",
   "execution_count": 139,
   "metadata": {},
   "outputs": [],
   "source": [
    "def calculate_question_score_pre(df):\n",
    "    corr_ans = ['C', 'A' , 'C', 'E', 'B', 'B', 'B', 'B' , 'E', 'A', 'D', 'B', 'D', 'D', 'A', 'A', 'B', 'B', 'E', 'D', \n",
    "        'E', 'B', 'B', 'A', 'C', 'E', 'C', 'E', 'B', 'C']\n",
    "    num_students = len(df.index)\n",
    "    scores = [\n",
    "    df14_111[\"PRE Q1\"].value_counts().C,\n",
    "    df14_111[\"PRE Q2\"].value_counts().A,\n",
    "    df14_111[\"PRE Q3\"].value_counts().C,\n",
    "    df14_111[\"PRE Q4\"].value_counts().E,\n",
    "    df14_111[\"PRE Q5\"].value_counts().B,\n",
    "    df14_111[\"PRE Q6\"].value_counts().B,\n",
    "    df14_111[\"PRE Q7\"].value_counts().B,\n",
    "    df14_111[\"PRE Q8\"].value_counts().B,\n",
    "    df14_111[\"PRE Q9\"].value_counts().E,\n",
    "    df14_111[\"PRE Q10\"].value_counts().A,\n",
    "    df14_111[\"PRE Q11\"].value_counts().D,\n",
    "    df14_111[\"PRE Q12\"].value_counts().B,\n",
    "    df14_111[\"PRE Q13\"].value_counts().D,\n",
    "    df14_111[\"PRE Q14\"].value_counts().D,\n",
    "    df14_111[\"PRE Q15\"].value_counts().A,\n",
    "    df14_111[\"PRE Q16\"].value_counts().A,\n",
    "    df14_111[\"PRE Q17\"].value_counts().B,\n",
    "    df14_111[\"PRE Q18\"].value_counts().B,\n",
    "    df14_111[\"PRE Q19\"].value_counts().E,\n",
    "    df14_111[\"PRE Q20\"].value_counts().D,\n",
    "    df14_111[\"PRE Q21\"].value_counts().E,\n",
    "    df14_111[\"PRE Q22\"].value_counts().B,\n",
    "    df14_111[\"PRE Q23\"].value_counts().B,\n",
    "    df14_111[\"PRE Q24\"].value_counts().A,\n",
    "    df14_111[\"PRE Q25\"].value_counts().C,\n",
    "    df14_111[\"PRE Q26\"].value_counts().E,\n",
    "    df14_111[\"PRE Q27\"].value_counts().C,\n",
    "    df14_111[\"PRE Q28\"].value_counts().E,\n",
    "    df14_111[\"PRE Q29\"].value_counts().B,\n",
    "    df14_111[\"PRE Q30\"].value_counts().C,]\n",
    "    return scores"
   ]
  },
  {
   "cell_type": "code",
   "execution_count": 140,
   "metadata": {},
   "outputs": [
    {
     "data": {
      "text/plain": [
       "[115,\n",
       " 83,\n",
       " 105,\n",
       " 64,\n",
       " 52,\n",
       " 124,\n",
       " 108,\n",
       " 105,\n",
       " 78,\n",
       " 102,\n",
       " 55,\n",
       " 125,\n",
       " 56,\n",
       " 79,\n",
       " 59,\n",
       " 111,\n",
       " 36,\n",
       " 62,\n",
       " 93,\n",
       " 100,\n",
       " 73,\n",
       " 81,\n",
       " 85,\n",
       " 111,\n",
       " 56,\n",
       " 32,\n",
       " 102,\n",
       " 75,\n",
       " 110,\n",
       " 41]"
      ]
     },
     "execution_count": 140,
     "metadata": {},
     "output_type": "execute_result"
    }
   ],
   "source": [
    "calculate_question_score_pre(df14_111)"
   ]
  },
  {
   "cell_type": "code",
   "execution_count": 75,
   "metadata": {},
   "outputs": [
    {
     "data": {
      "text/plain": [
       "45.147679324894504"
      ]
     },
     "metadata": {},
     "output_type": "display_data"
    },
    {
     "data": {
      "text/plain": [
       "32.91139240506326"
      ]
     },
     "metadata": {},
     "output_type": "display_data"
    },
    {
     "data": {
      "text/plain": [
       "12.236286919831244"
      ]
     },
     "metadata": {},
     "output_type": "display_data"
    }
   ],
   "source": []
  },
  {
   "cell_type": "code",
   "execution_count": 76,
   "metadata": {},
   "outputs": [
    {
     "data": {
      "text/plain": [
       "44.27184466019418"
      ]
     },
     "metadata": {},
     "output_type": "display_data"
    },
    {
     "data": {
      "text/plain": [
       "33.786407766990294"
      ]
     },
     "metadata": {},
     "output_type": "display_data"
    },
    {
     "data": {
      "text/plain": [
       "10.48543689320389"
      ]
     },
     "metadata": {},
     "output_type": "display_data"
    }
   ],
   "source": []
  },
  {
   "cell_type": "code",
   "execution_count": 77,
   "metadata": {},
   "outputs": [
    {
     "data": {
      "text/plain": [
       "46.0"
      ]
     },
     "metadata": {},
     "output_type": "display_data"
    },
    {
     "data": {
      "text/plain": [
       "39.222222222222214"
      ]
     },
     "metadata": {},
     "output_type": "display_data"
    },
    {
     "data": {
      "text/plain": [
       "6.777777777777786"
      ]
     },
     "metadata": {},
     "output_type": "display_data"
    }
   ],
   "source": []
  },
  {
   "cell_type": "code",
   "execution_count": 78,
   "metadata": {},
   "outputs": [
    {
     "data": {
      "text/plain": [
       "51.92982456140351"
      ]
     },
     "metadata": {},
     "output_type": "display_data"
    },
    {
     "data": {
      "text/plain": [
       "49.84405458089669"
      ]
     },
     "metadata": {},
     "output_type": "display_data"
    },
    {
     "data": {
      "text/plain": [
       "2.085769980506818"
      ]
     },
     "metadata": {},
     "output_type": "display_data"
    }
   ],
   "source": [
    "is_001 = df16_111['Lecture']== 1\n",
    "post = df16_111[is_001].apply(calculate_post_score, axis=1).mean()\n",
    "pre = df16_111[is_001].apply(calculate_pre_score, axis=1).mean()\n",
    "display(post)\n",
    "display(pre)\n",
    "display(post-pre)"
   ]
  },
  {
   "cell_type": "code",
   "execution_count": 79,
   "metadata": {
    "scrolled": true
   },
   "outputs": [
    {
     "data": {
      "text/plain": [
       "51.826923076923094"
      ]
     },
     "metadata": {},
     "output_type": "display_data"
    },
    {
     "data": {
      "text/plain": [
       "47.78846153846155"
      ]
     },
     "metadata": {},
     "output_type": "display_data"
    },
    {
     "data": {
      "text/plain": [
       "4.038461538461547"
      ]
     },
     "metadata": {},
     "output_type": "display_data"
    }
   ],
   "source": [
    "is_002 = df16_111['Lecture']== 2\n",
    "post = df16_111[is_002].apply(calculate_post_score, axis=1).mean()\n",
    "pre = df16_111[is_002].apply(calculate_pre_score, axis=1).mean()\n",
    "display(post)\n",
    "display(pre)\n",
    "display(post-pre)"
   ]
  },
  {
   "cell_type": "code",
   "execution_count": null,
   "metadata": {},
   "outputs": [],
   "source": []
  },
  {
   "cell_type": "code",
   "execution_count": null,
   "metadata": {},
   "outputs": [],
   "source": []
  },
  {
   "cell_type": "code",
   "execution_count": null,
   "metadata": {},
   "outputs": [],
   "source": []
  }
 ],
 "metadata": {
  "kernelspec": {
   "display_name": "Python 3",
   "language": "python",
   "name": "python3"
  },
  "language_info": {
   "codemirror_mode": {
    "name": "ipython",
    "version": 3
   },
   "file_extension": ".py",
   "mimetype": "text/x-python",
   "name": "python",
   "nbconvert_exporter": "python",
   "pygments_lexer": "ipython3",
   "version": "3.8.1"
  }
 },
 "nbformat": 4,
 "nbformat_minor": 4
}
