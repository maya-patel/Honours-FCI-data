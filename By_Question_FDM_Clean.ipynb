{
 "cells": [
  {
   "cell_type": "code",
   "execution_count": 1,
   "metadata": {},
   "outputs": [],
   "source": [
    "import pandas as pd\n",
    "import numpy as np\n",
    "import matplotlib.pyplot as plt\n",
    "from FCI_functions.FCI_functions import calculate_pre_score, calculate_post_score, calculate_question_score_post, calculate_question_score_pre"
   ]
  },
  {
   "cell_type": "code",
   "execution_count": 2,
   "metadata": {},
   "outputs": [],
   "source": [
    "df16_111 = pd.read_excel('rawdata/2016-17 WT1 Phys 111 ALL Data - Shared with Chelsea.xlsx').replace([\"BLANK\", \"!!\", \"MULT\"], np.nan)\n",
    "df16_112 = pd.read_excel('rawdata/2016-17 WT1 Phys 112 ALL Data - Shared with Chelsea.xlsx').replace([\"BLANK\", \"!!\", \"MULT\"], np.nan)\n",
    "df14_111 = pd.read_excel('rawdata/2014-15 WT1 Phys 111 ALL Data - Shared with Chelsea (20210212).xlsx').replace([\"BLANK\", \"!!\", \"MULT\"], np.nan)\n",
    "df14_112 = pd.read_excel('rawdata/2014-15 WT1 Phys 112 ALL Data - Shared with Chelsea (20210212).xlsx').replace([\"BLANK\", \"!!\", \"MULT\"], np.nan)\n",
    "df15_111 = pd.read_excel('rawdata/2015-16 WT1 Phys 111 ALL Data - Shared with Chelsea.xlsx').replace([\"BLANK\", \"!!\", \"MULT\"], np.nan)\n",
    "df15_112 = pd.read_excel('rawdata/2015-16 WT1 Phys 112 ALL Data - Shared with Chelsea.xlsx').replace([\"BLANK\", \"!!\", \"MULT\"], np.nan)\n",
    "df17_111 = pd.read_excel('rawdata/2017-18 WT1 Phys 111 ALL Data - Shared with David (20190612).xlsx').replace([\"BLANK\", \"!!\", \"MULT\"], np.nan)\n",
    "df17_112 = pd.read_excel('rawdata/2017-18 WT1 Phys 112 ALL Data - Shared with David (20190612).xlsx').replace([\"BLANK\", \"!!\", \"MULT\"], np.nan)\n",
    "df18_111 = pd.read_excel('rawdata/2018-19 WT1 Phys 111 ALL Data - Shared with David (20190530).xlsx').replace([\"BLANK\", \"!!\", \"MULT\"], np.nan)\n",
    "df18_112 = pd.read_excel('rawdata/2018-19 WT1 Phys 112 ALL Data - Shared with David (20190527).xlsx').replace([\"BLANK\", \"!!\", \"MULT\"], np.nan)#.drop(df18_112[df18_112['Secondary'] == L15].index)\n",
    "df19_111 = pd.read_excel('rawdata/2019-20 WT1 Phys 111 ALL Data - Shared with Maya (20211222).xlsx').replace([\"BLANK\", \"!!\", \"MULT\"], np.nan)\n",
    "df19_112 = pd.read_excel('rawdata/2019-20 WT1 Phys 112 ALL Data - Shared with Maya (20211222).xlsx').replace([\"BLANK\", \"!!\", \"MULT\"], np.nan)\n",
    "df20 = pd.read_excel('rawdata/2020-21 WT1 Phys 111&112 ALL Data - Shared with Chelsea (20210329).xlsx').replace([\"BLANK\", \"!!\", \"MULT\"], np.nan)\n",
    "is_111 = df20['Course'] == 111\n",
    "df20_111 = df20[is_111]\n",
    "is_112 = df20['Course'] == 112\n",
    "df20_112 = df20[is_112]\n",
    "\n",
    "df21_111 = pd.read_excel('2021raw_corrected.xlsx')"
   ]
  },
  {
   "cell_type": "code",
   "execution_count": 3,
   "metadata": {},
   "outputs": [],
   "source": [
    "def calculate_pre_score_FDM(student):\n",
    "    corr_ans = ['C' , 'D', 'B' , 'C', 'B' , 'C' , 'E', 'A', 'C' , 'D' , 'E', 'A']\n",
    "    score = 0\n",
    "    questions = [5, 5, 11, 11, 13, 13, 13, 17, 18, 18, 18, 27]\n",
    "    for i in range(11):\n",
    "        string = \"PRE Q\"+ str(questions[i])\n",
    "        if string in student:\n",
    "            if student[string]==corr_ans[i]:\n",
    "                score+=1                \n",
    "            if pd.isna(student[string]):\n",
    "                score=None\n",
    "                break\n",
    "            \n",
    "    return (score)"
   ]
  },
  {
   "cell_type": "code",
   "execution_count": 4,
   "metadata": {},
   "outputs": [],
   "source": [
    "def calculate_pre_score_FDM_2021(student):\n",
    "    corr_ans = [3 , 4, 2 , 3, 2 , 3 , 5, 1, 3 , 4 , 5, 1]\n",
    "    score = 0\n",
    "    questions = [5, 5, 11, 11, 13, 13, 13, 17, 18, 18, 18, 27]\n",
    "    for i in range(12):\n",
    "        string = \"PRE Q\"+ str(questions[i])\n",
    "        if string in student:\n",
    "            if student[string]==corr_ans[i]:\n",
    "                score+=1                \n",
    "            if pd.isna(student[string]):\n",
    "                score=None\n",
    "                break\n",
    "            \n",
    "    return (score)"
   ]
  },
  {
   "cell_type": "code",
   "execution_count": 5,
   "metadata": {},
   "outputs": [],
   "source": [
    "def calculate_pre_score_FDM_2020(student):\n",
    "    corr_ans = [3 , 4, 2 , 3, 2 , 3 , 5, 1, 3 , 4 , 5, 1]\n",
    "    score = 0\n",
    "    questions = [5, 5, 11, 11, 13, 13, 13, 17, 18, 18, 18, 27]\n",
    "    for i in range(12):\n",
    "        string = \"PRE Q\"+ str(questions[i])\n",
    "        if string in student:\n",
    "            if student[string]==corr_ans[i]:\n",
    "                score+=1\n",
    "            if pd.isna(student[string]):\n",
    "                score=None\n",
    "                break\n",
    "            \n",
    "    return (score)"
   ]
  },
  {
   "cell_type": "code",
   "execution_count": 6,
   "metadata": {},
   "outputs": [],
   "source": [
    "def calculate_post_score_FDM(student):\n",
    "    corr_ans = ['C' , 'D', 'B' , 'C', 'B' , 'C' , 'E', 'A', 'C' , 'D' , 'E', 'A']\n",
    "    score = 0\n",
    "    questions = [5, 5, 11, 11, 13, 13, 13, 17, 18, 18, 18, 27]\n",
    "    for i in range(11):\n",
    "        string = \"POST Q\"+ str(questions[i])\n",
    "        if string in student:\n",
    "            if student[string]==corr_ans[i]:\n",
    "                score+=1\n",
    "            if pd.isna(student[string]):\n",
    "                score=None\n",
    "                break\n",
    "            \n",
    "    return (score)"
   ]
  },
  {
   "cell_type": "code",
   "execution_count": 7,
   "metadata": {},
   "outputs": [],
   "source": [
    "def calculate_post_score_FDM_2021(student):\n",
    "    corr_ans = [3 , 4, 2 , 3, 2 , 3 , 5, 1, 2 , 4 , 5, 1]\n",
    "    score = 0\n",
    "    questions = [5, 5, 11, 11, 13, 13, 13, 17, 18, 18, 18, 27]\n",
    "    for i in range(12):\n",
    "        string = \"POST Q\"+ str(questions[i])\n",
    "        if string in student:\n",
    "            if student[string]==corr_ans[i]:\n",
    "                score+=1\n",
    "            if pd.isna(student[string]):\n",
    "                score=None\n",
    "                break\n",
    "            \n",
    "    return (score)"
   ]
  },
  {
   "cell_type": "code",
   "execution_count": 8,
   "metadata": {},
   "outputs": [],
   "source": [
    "def calculate_post_score_FDM_2020(student):\n",
    "    corr_ans = [3 , 4, 2 , 3, 2 , 3 , 5, 1, 3 , 4 , 5, 1]\n",
    "    score = 0\n",
    "    questions = [5, 5, 11, 11, 13, 13, 13, 17, 18, 18, 18, 27]\n",
    "    for i in range(12):\n",
    "        string = \"POST Q\"+ str(questions[i])\n",
    "        if string in student:\n",
    "            if student[string]==corr_ans[i]:\n",
    "                score+=1\n",
    "            if pd.isna(student[string]):\n",
    "                score=None\n",
    "                break\n",
    "            \n",
    "    return (score)"
   ]
  },
  {
   "cell_type": "code",
   "execution_count": 9,
   "metadata": {},
   "outputs": [],
   "source": [
    "fdm111 = pd.DataFrame()\n",
    "fdm112 = pd.DataFrame()"
   ]
  },
  {
   "cell_type": "code",
   "execution_count": 38,
   "metadata": {},
   "outputs": [],
   "source": [
    "def FDM(df111, df112, year):\n",
    "    df111.apply(calculate_post_score_FDM, axis=1).plot.hist(alpha=0.5, bins=6)\n",
    "    df111.apply(calculate_pre_score_FDM, axis=1).plot.hist(alpha=0.5, bins=6)\n",
    "    plt.legend([\"post\", \"pre\"])\n",
    "    plt.title(\"111 \" + year)\n",
    "    #plt.xlim(0,7)\n",
    "    plt.show()\n",
    "    \n",
    "    df1 = df111.apply(calculate_pre_score_FDM, axis=1).value_counts(normalize=True, ascending=True).to_frame(name = \"111 PRE \" + year)\n",
    "    fdm111[\"111 PRE\" + year] = df1\n",
    "    df1[\"111 POST \"+ year] = df111.apply(calculate_post_score_FDM, axis=1).value_counts(normalize=True, ascending=True)\n",
    "    fdm111[\"111 POST\" + year] = df1[\"111 POST \"+ year]\n",
    "\n",
    "    print(df1)\n",
    "\n",
    "    df112.apply(calculate_post_score_FDM, axis=1).plot.hist(alpha=0.5, bins=6)\n",
    "    df112.apply(calculate_pre_score_FDM, axis=1).plot.hist(alpha=0.5, bins=6)\n",
    "    plt.legend([\"post\", \"pre\"])\n",
    "    plt.title(\"112 \"+ year)\n",
    "    #plt.xlim(0,7)\n",
    "    plt.show()\n",
    "\n",
    "    df2 = df112.apply(calculate_pre_score_FDM, axis=1).value_counts(normalize=True, ascending=True).to_frame(name = \"112 PRE \" + year)\n",
    "    fdm112[\"112 PRE\" + year] = df2\n",
    "    df2[\"112 POST \" + year] = df112.apply(calculate_post_score_FDM, axis=1).value_counts(normalize=True, ascending=True)\n",
    "    fdm112[\"112 POST\" + year] = df2[\"112 POST \"+ year]\n",
    "    \n",
    "    print(df2)\n",
    "\n",
    "    is_f111 = df111['PRE Q85']== 'A'\n",
    "    df_f111 = df111[is_f111]\n",
    "    \n",
    "    is_f112 = df112['PRE Q85']== 'A'\n",
    "    df_f112 = df112[is_f112]\n",
    "\n",
    "    df_f111.apply(calculate_post_score_FDM, axis=1).plot.hist(alpha=0.5, bins=6)\n",
    "    df_f111.apply(calculate_pre_score_FDM, axis=1).plot.hist(alpha=0.5, bins=6)\n",
    "    plt.legend([\"post\", \"pre\"])\n",
    "    plt.title(\"Female 111 \" + year)\n",
    "    plt.show()\n",
    "    \n",
    "    df3 = df111.apply(calculate_pre_score_FDM, axis=1).value_counts(normalize=True, ascending=True).to_frame(name = \"111 FEMALE PRE\")\n",
    "    df3[\"111 FEMALE POST \" + year ] = df111.apply(calculate_post_score_FDM, axis=1).value_counts(normalize=True, ascending=True)\n",
    "\n",
    "    print(df3)\n",
    "    \n",
    "    df_f112.apply(calculate_post_score_FDM, axis=1).plot.hist(alpha=0.5, bins=6)\n",
    "    df_f112.apply(calculate_pre_score_FDM, axis=1).plot.hist(alpha=0.5, bins=6)\n",
    "    plt.legend([\"post\", \"pre\"])\n",
    "    plt.title(\"Female 112 \" + year)\n",
    "    plt.show()\n",
    "    \n",
    "    df4 = df112.apply(calculate_pre_score_FDM, axis=1).value_counts(normalize=True, ascending=True).to_frame(name = \"112 FEMALE PRE\")\n",
    "    df4[\"112 FEMALE POST \" + year] = df112.apply(calculate_post_score_FDM, axis=1).value_counts(normalize=True, ascending=True)\n",
    "    print(df4)"
   ]
  },
  {
   "cell_type": "code",
   "execution_count": 11,
   "metadata": {},
   "outputs": [],
   "source": [
    "def FDM_2020(df111, df112):\n",
    "    year = '2020'\n",
    "    df111.apply(calculate_post_score_FDM_2020, axis=1).plot.hist(alpha=0.5, bins=7)\n",
    "    df111.apply(calculate_pre_score_FDM_2020, axis=1).plot.hist(alpha=0.5, bins=7)\n",
    "    plt.legend([\"post\", \"pre\"])\n",
    "    plt.title(\"111\")\n",
    "    #plt.xlim(0,7)\n",
    "    plt.show()\n",
    "    \n",
    "    df1 = df111.apply(calculate_pre_score_FDM_2020, axis=1).value_counts(normalize=True, ascending=True).to_frame(name = \"111 PRE\")\n",
    "    df1[\"111 POST\"] = df111.apply(calculate_post_score_FDM_2020, axis=1).value_counts(normalize=True, ascending=True)\n",
    "\n",
    "    print(df1)\n",
    "\n",
    "    df112.apply(calculate_post_score_FDM_2020, axis=1).plot.hist(alpha=0.5, bins=7)\n",
    "    df112.apply(calculate_pre_score_FDM_2020, axis=1).plot.hist(alpha=0.5, bins=7)\n",
    "    plt.legend([\"post\", \"pre\"])\n",
    "    plt.title(\"112\")\n",
    "    #plt.xlim(0,7)\n",
    "    plt.show()\n",
    "\n",
    "    df2 = df112.apply(calculate_pre_score_FDM_2020, axis=1).value_counts(normalize=True, ascending=True).to_frame(name = \"112 PRE\")\n",
    "    df2[\"112 POST \" + year] = df112.apply(calculate_post_score_FDM_2020, axis=1).value_counts(normalize=True, ascending=True)\n",
    "    print(df2)\n",
    "\n",
    "    is_f111 = df111['PRE Q12']== 1\n",
    "    df_f111 = df111[is_f111]\n",
    "    \n",
    "    is_f112 = df112['PRE Q12']== 1\n",
    "    df_f112 = df112[is_f112]\n",
    "\n",
    "    df_f111.apply(calculate_post_score_FDM_2020, axis=1).plot.hist(alpha=0.5, bins=7)\n",
    "    df_f111.apply(calculate_pre_score_FDM_2020, axis=1).plot.hist(alpha=0.5, bins=7)\n",
    "    plt.legend([\"post\", \"pre\"])\n",
    "    plt.title(\"Female 111\")\n",
    "    plt.show()\n",
    "    \n",
    "    df3 = df111.apply(calculate_pre_score_FDM_2020, axis=1).value_counts(normalize=True, ascending=True).to_frame(name = \"111 FEMALE PRE\")\n",
    "    df3[\"111 FEMALE POST\"] = df111.apply(calculate_post_score_FDM_2020, axis=1).value_counts(normalize=True, ascending=True)\n",
    "\n",
    "    print(df3)\n",
    "    \n",
    "    df_f112.apply(calculate_post_score_FDM_2020, axis=1).plot.hist(alpha=0.5, bins=7)\n",
    "    df_f112.apply(calculate_pre_score_FDM_2020, axis=1).plot.hist(alpha=0.5, bins=7)\n",
    "    plt.legend([\"post\", \"pre\"])\n",
    "    plt.title(\"Female 112\")\n",
    "    plt.show()\n",
    "    \n",
    "    df4 = df112.apply(calculate_pre_score_FDM_2020, axis=1).value_counts(normalize=True, ascending=True).to_frame(name = \"112 FEMALE PRE\")\n",
    "    df4[\"112 FEMALE POST\"] = df112.apply(calculate_post_score_FDM_2020, axis=1).value_counts(normalize=True, ascending=True)\n",
    "    print(df4)"
   ]
  },
  {
   "cell_type": "code",
   "execution_count": 12,
   "metadata": {},
   "outputs": [],
   "source": [
    "def FDM_2021(df111, df112):\n",
    "    year = '2021'\n",
    "    df111.apply(calculate_post_score_FDM_2021, axis=1).plot.hist(alpha=0.5, bins=7)\n",
    "    df111.apply(calculate_pre_score_FDM_2021, axis=1).plot.hist(alpha=0.5, bins=7)\n",
    "    plt.legend([\"post\", \"pre\"])\n",
    "    plt.title(\"111\")\n",
    "    #plt.xlim(0,7)\n",
    "    plt.show()\n",
    "    \n",
    "    df1 = df111.apply(calculate_pre_score_FDM_2021, axis=1).value_counts(normalize=True, ascending=True).to_frame(name = \"111 PRE\")\n",
    "    df1[\"111 POST\"] = df111.apply(calculate_post_score_FDM_2021, axis=1).value_counts(normalize=True, ascending=True)\n",
    "\n",
    "    print(df1)\n",
    "\n",
    "    df112.apply(calculate_post_score_FDM_2021, axis=1).plot.hist(alpha=0.5, bins=7)\n",
    "    df112.apply(calculate_pre_score_FDM_2021, axis=1).plot.hist(alpha=0.5, bins=7)\n",
    "    plt.legend([\"post\", \"pre\"])\n",
    "    plt.title(\"112\")\n",
    "    #plt.xlim(0,7)\n",
    "    plt.show()\n",
    "\n",
    "    df2 = df112.apply(calculate_pre_score_FDM_2021, axis=1).value_counts(normalize=True, ascending=True).to_frame(name = \"112 PRE\")\n",
    "    df2[\"112 POST \" + year] = df112.apply(calculate_post_score_FDM_2021, axis=1).value_counts(normalize=True, ascending=True)\n",
    "    print(df2)\n",
    "\n",
    "    is_f111 = df111['PRE Q12']== 1\n",
    "    df_f111 = df111[is_f111]\n",
    "    \n",
    "    is_f112 = df112['PRE Q12']== 1\n",
    "    df_f112 = df112[is_f112]\n",
    "\n",
    "    df_f111.apply(calculate_post_score_FDM_2021, axis=1).plot.hist(alpha=0.5, bins=7)\n",
    "    df_f111.apply(calculate_pre_score_FDM_2021, axis=1).plot.hist(alpha=0.5, bins=7)\n",
    "    plt.legend([\"post\", \"pre\"])\n",
    "    plt.title(\"Female 111\")\n",
    "    plt.show()\n",
    "    \n",
    "    df3 = df111.apply(calculate_pre_score_FDM_2021, axis=1).value_counts(normalize=True, ascending=True).to_frame(name = \"111 FEMALE PRE\")\n",
    "    df3[\"111 FEMALE POST\"] = df111.apply(calculate_post_score_FDM_2021, axis=1).value_counts(normalize=True, ascending=True)\n",
    "\n",
    "    print(df3)\n",
    "    \n",
    "    df_f112.apply(calculate_post_score_FDM_2021, axis=1).plot.hist(alpha=0.5, bins=7)\n",
    "    df_f112.apply(calculate_pre_score_FDM_2021, axis=1).plot.hist(alpha=0.5, bins=7)\n",
    "    plt.legend([\"post\", \"pre\"])\n",
    "    plt.title(\"Female 112\")\n",
    "    plt.show()\n",
    "    \n",
    "    df4 = df112.apply(calculate_pre_score_FDM_2021, axis=1).value_counts(normalize=True, ascending=True).to_frame(name = \"112 FEMALE PRE\")\n",
    "    df4[\"112 FEMALE POST\"] = df112.apply(calculate_post_score_FDM_2021, axis=1).value_counts(normalize=True, ascending=True)\n",
    "    print(df4)"
   ]
  },
  {
   "cell_type": "code",
   "execution_count": 39,
   "metadata": {
    "scrolled": true
   },
   "outputs": [
    {
     "data": {
      "image/png": "[encoded data removed]",
      "text/plain": [
       "<Figure size 432x288 with 1 Axes>"
      ]
     },
     "metadata": {
      "needs_background": "light"
     },
     "output_type": "display_data"
    },
    {
     "name": "stdout",
     "output_type": "stream",
     "text": [
      "     111 PRE 2014  111 POST 2014\n",
      "0.0      0.091503       0.240000\n",
      "2.0      0.150327       0.113333\n",
      "3.0      0.163399       0.153333\n",
      "1.0      0.169935       0.220000\n",
      "5.0      0.189542       0.106667\n",
      "4.0      0.235294       0.166667\n"
     ]
    },
    {
     "data": {
      "image/png": "[encoded data removed]",
      "text/plain": [
       "<Figure size 432x288 with 1 Axes>"
      ]
     },
     "metadata": {
      "needs_background": "light"
     },
     "output_type": "display_data"
    },
    {
     "name": "stdout",
     "output_type": "stream",
     "text": [
      "     112 PRE 2014  112 POST 2014\n",
      "0.0      0.004854       0.025510\n",
      "1.0      0.029126       0.091837\n",
      "2.0      0.097087       0.137755\n",
      "3.0      0.242718       0.250000\n",
      "5.0      0.305825       0.198980\n",
      "4.0      0.320388       0.295918\n"
     ]
    },
    {
     "data": {
      "image/png": "[encoded data removed]",
      "text/plain": [
       "<Figure size 432x288 with 1 Axes>"
      ]
     },
     "metadata": {
      "needs_background": "light"
     },
     "output_type": "display_data"
    },
    {
     "name": "stdout",
     "output_type": "stream",
     "text": [
      "     111 FEMALE PRE  111 FEMALE POST 2014\n",
      "0.0        0.091503              0.240000\n",
      "2.0        0.150327              0.113333\n",
      "3.0        0.163399              0.153333\n",
      "1.0        0.169935              0.220000\n",
      "5.0        0.189542              0.106667\n",
      "4.0        0.235294              0.166667\n"
     ]
    },
    {
     "data": {
      "image/png": "[encoded data removed]",
      "text/plain": [
       "<Figure size 432x288 with 1 Axes>"
      ]
     },
     "metadata": {
      "needs_background": "light"
     },
     "output_type": "display_data"
    },
    {
     "name": "stdout",
     "output_type": "stream",
     "text": [
      "     112 FEMALE PRE  112 FEMALE POST 2014\n",
      "0.0        0.004854              0.025510\n",
      "1.0        0.029126              0.091837\n",
      "2.0        0.097087              0.137755\n",
      "3.0        0.242718              0.250000\n",
      "5.0        0.305825              0.198980\n",
      "4.0        0.320388              0.295918\n"
     ]
    }
   ],
   "source": [
    "FDM(df14_111, df14_112, \"2014\")"
   ]
  },
  {
   "cell_type": "code",
   "execution_count": 14,
   "metadata": {},
   "outputs": [
    {
     "data": {
      "text/html": [
       "<div>\n",
       "<style scoped>\n",
       "    .dataframe tbody tr th:only-of-type {\n",
       "        vertical-align: middle;\n",
       "    }\n",
       "\n",
       "    .dataframe tbody tr th {\n",
       "        vertical-align: top;\n",
       "    }\n",
       "\n",
       "    .dataframe thead th {\n",
       "        text-align: right;\n",
       "    }\n",
       "</style>\n",
       "<table border=\"1\" class=\"dataframe\">\n",
       "  <thead>\n",
       "    <tr style=\"text-align: right;\">\n",
       "      <th></th>\n",
       "      <th>111 PRE2014</th>\n",
       "      <th>111 POST2014</th>\n",
       "    </tr>\n",
       "  </thead>\n",
       "  <tbody>\n",
       "    <tr>\n",
       "      <th>0.0</th>\n",
       "      <td>0.091503</td>\n",
       "      <td>0.240000</td>\n",
       "    </tr>\n",
       "    <tr>\n",
       "      <th>2.0</th>\n",
       "      <td>0.150327</td>\n",
       "      <td>0.113333</td>\n",
       "    </tr>\n",
       "    <tr>\n",
       "      <th>3.0</th>\n",
       "      <td>0.163399</td>\n",
       "      <td>0.153333</td>\n",
       "    </tr>\n",
       "    <tr>\n",
       "      <th>1.0</th>\n",
       "      <td>0.169935</td>\n",
       "      <td>0.220000</td>\n",
       "    </tr>\n",
       "    <tr>\n",
       "      <th>5.0</th>\n",
       "      <td>0.189542</td>\n",
       "      <td>0.106667</td>\n",
       "    </tr>\n",
       "    <tr>\n",
       "      <th>4.0</th>\n",
       "      <td>0.235294</td>\n",
       "      <td>0.166667</td>\n",
       "    </tr>\n",
       "  </tbody>\n",
       "</table>\n",
       "</div>"
      ],
      "text/plain": [
       "     111 PRE2014  111 POST2014\n",
       "0.0     0.091503      0.240000\n",
       "2.0     0.150327      0.113333\n",
       "3.0     0.163399      0.153333\n",
       "1.0     0.169935      0.220000\n",
       "5.0     0.189542      0.106667\n",
       "4.0     0.235294      0.166667"
      ]
     },
     "execution_count": 14,
     "metadata": {},
     "output_type": "execute_result"
    }
   ],
   "source": [
    "fdm111"
   ]
  },
  {
   "cell_type": "code",
   "execution_count": 15,
   "metadata": {
    "scrolled": true
   },
   "outputs": [
    {
     "data": {
      "image/png": "[encoded data removed]",
      "text/plain": [
       "<Figure size 432x288 with 1 Axes>"
      ]
     },
     "metadata": {
      "needs_background": "light"
     },
     "output_type": "display_data"
    },
    {
     "name": "stdout",
     "output_type": "stream",
     "text": [
      "     111 PRE 2015  111 POST 2015\n",
      "0.0      0.048077       0.190476\n",
      "2.0      0.110577       0.169312\n",
      "1.0      0.158654       0.253968\n",
      "3.0      0.197115       0.142857\n",
      "5.0      0.211538       0.074074\n",
      "4.0      0.274038       0.169312\n"
     ]
    },
    {
     "data": {
      "image/png": "[encoded data removed]",
      "text/plain": [
       "<Figure size 432x288 with 1 Axes>"
      ]
     },
     "metadata": {
      "needs_background": "light"
     },
     "output_type": "display_data"
    },
    {
     "name": "stdout",
     "output_type": "stream",
     "text": [
      "     112 PRE 2015  112 POST 2015\n",
      "0.0      0.016807       0.103306\n",
      "1.0      0.021008       0.169421\n",
      "2.0      0.109244       0.169421\n",
      "3.0      0.201681       0.198347\n",
      "5.0      0.294118       0.140496\n",
      "4.0      0.357143       0.219008\n"
     ]
    },
    {
     "data": {
      "image/png": "[encoded data removed]",
      "text/plain": [
       "<Figure size 432x288 with 1 Axes>"
      ]
     },
     "metadata": {
      "needs_background": "light"
     },
     "output_type": "display_data"
    },
    {
     "name": "stdout",
     "output_type": "stream",
     "text": [
      "     111 FEMALE PRE  111 FEMALE POST 2015\n",
      "0.0        0.048077              0.190476\n",
      "2.0        0.110577              0.169312\n",
      "1.0        0.158654              0.253968\n",
      "3.0        0.197115              0.142857\n",
      "5.0        0.211538              0.074074\n",
      "4.0        0.274038              0.169312\n"
     ]
    },
    {
     "data": {
      "image/png": "[encoded data removed]",
      "text/plain": [
       "<Figure size 432x288 with 1 Axes>"
      ]
     },
     "metadata": {
      "needs_background": "light"
     },
     "output_type": "display_data"
    },
    {
     "name": "stdout",
     "output_type": "stream",
     "text": [
      "     112 FEMALE PRE  112 FEMALE POST 2015\n",
      "0.0        0.016807              0.103306\n",
      "1.0        0.021008              0.169421\n",
      "2.0        0.109244              0.169421\n",
      "3.0        0.201681              0.198347\n",
      "5.0        0.294118              0.140496\n",
      "4.0        0.357143              0.219008\n"
     ]
    }
   ],
   "source": [
    "FDM(df15_111, df15_112, \"2015\")"
   ]
  },
  {
   "cell_type": "code",
   "execution_count": 16,
   "metadata": {
    "scrolled": true
   },
   "outputs": [
    {
     "data": {
      "image/png": "[encoded data removed]",
      "text/plain": [
       "<Figure size 432x288 with 1 Axes>"
      ]
     },
     "metadata": {
      "needs_background": "light"
     },
     "output_type": "display_data"
    },
    {
     "name": "stdout",
     "output_type": "stream",
     "text": [
      "     111 PRE 2016  111 POST 2016\n",
      "0.0      0.099617       0.223577\n",
      "2.0      0.130268       0.134146\n",
      "5.0      0.130268       0.060976\n",
      "1.0      0.149425       0.211382\n",
      "3.0      0.245211       0.182927\n",
      "4.0      0.245211       0.186992\n"
     ]
    },
    {
     "data": {
      "image/png": "[encoded data removed]",
      "text/plain": [
       "<Figure size 432x288 with 1 Axes>"
      ]
     },
     "metadata": {
      "needs_background": "light"
     },
     "output_type": "display_data"
    },
    {
     "name": "stdout",
     "output_type": "stream",
     "text": [
      "     112 PRE 2016  112 POST 2016\n",
      "0.0      0.024648       0.135849\n",
      "1.0      0.056338       0.158491\n",
      "2.0      0.105634       0.218868\n",
      "3.0      0.246479       0.154717\n",
      "5.0      0.257042       0.116981\n",
      "4.0      0.309859       0.215094\n"
     ]
    },
    {
     "data": {
      "image/png": "[encoded data removed]",
      "text/plain": [
       "<Figure size 432x288 with 1 Axes>"
      ]
     },
     "metadata": {
      "needs_background": "light"
     },
     "output_type": "display_data"
    },
    {
     "name": "stdout",
     "output_type": "stream",
     "text": [
      "     111 FEMALE PRE  111 FEMALE POST 2016\n",
      "0.0        0.099617              0.223577\n",
      "2.0        0.130268              0.134146\n",
      "5.0        0.130268              0.060976\n",
      "1.0        0.149425              0.211382\n",
      "3.0        0.245211              0.182927\n",
      "4.0        0.245211              0.186992\n"
     ]
    },
    {
     "data": {
      "image/png": "[encoded data removed]",
      "text/plain": [
       "<Figure size 432x288 with 1 Axes>"
      ]
     },
     "metadata": {
      "needs_background": "light"
     },
     "output_type": "display_data"
    },
    {
     "name": "stdout",
     "output_type": "stream",
     "text": [
      "     112 FEMALE PRE  112 FEMALE POST 2016\n",
      "0.0        0.024648              0.135849\n",
      "1.0        0.056338              0.158491\n",
      "2.0        0.105634              0.218868\n",
      "3.0        0.246479              0.154717\n",
      "5.0        0.257042              0.116981\n",
      "4.0        0.309859              0.215094\n"
     ]
    }
   ],
   "source": [
    "FDM(df16_111, df16_112, \"2016\")"
   ]
  },
  {
   "cell_type": "code",
   "execution_count": 17,
   "metadata": {
    "scrolled": true
   },
   "outputs": [
    {
     "data": {
      "image/png": "[encoded data removed]",
      "text/plain": [
       "<Figure size 432x288 with 1 Axes>"
      ]
     },
     "metadata": {
      "needs_background": "light"
     },
     "output_type": "display_data"
    },
    {
     "name": "stdout",
     "output_type": "stream",
     "text": [
      "     111 PRE 2017  111 POST 2017\n",
      "3.0      0.139037       0.154255\n",
      "5.0      0.155080       0.085106\n",
      "0.0      0.155080       0.276596\n",
      "2.0      0.160428       0.148936\n",
      "1.0      0.171123       0.164894\n",
      "4.0      0.219251       0.170213\n"
     ]
    },
    {
     "data": {
      "image/png": "[encoded data removed]",
      "text/plain": [
       "<Figure size 432x288 with 1 Axes>"
      ]
     },
     "metadata": {
      "needs_background": "light"
     },
     "output_type": "display_data"
    },
    {
     "name": "stdout",
     "output_type": "stream",
     "text": [
      "     112 PRE 2017  112 POST 2017\n",
      "0.0      0.037594       0.198529\n",
      "2.0      0.086466       0.158088\n",
      "1.0      0.093985       0.216912\n",
      "3.0      0.221805       0.139706\n",
      "5.0      0.251880       0.113971\n",
      "4.0      0.308271       0.172794\n"
     ]
    },
    {
     "data": {
      "image/png": "[encoded data removed]",
      "text/plain": [
       "<Figure size 432x288 with 1 Axes>"
      ]
     },
     "metadata": {
      "needs_background": "light"
     },
     "output_type": "display_data"
    },
    {
     "name": "stdout",
     "output_type": "stream",
     "text": [
      "     111 FEMALE PRE  111 FEMALE POST 2017\n",
      "3.0        0.139037              0.154255\n",
      "5.0        0.155080              0.085106\n",
      "0.0        0.155080              0.276596\n",
      "2.0        0.160428              0.148936\n",
      "1.0        0.171123              0.164894\n",
      "4.0        0.219251              0.170213\n"
     ]
    },
    {
     "data": {
      "image/png": "[encoded data removed]",
      "text/plain": [
       "<Figure size 432x288 with 1 Axes>"
      ]
     },
     "metadata": {
      "needs_background": "light"
     },
     "output_type": "display_data"
    },
    {
     "name": "stdout",
     "output_type": "stream",
     "text": [
      "     112 FEMALE PRE  112 FEMALE POST 2017\n",
      "0.0        0.037594              0.198529\n",
      "2.0        0.086466              0.158088\n",
      "1.0        0.093985              0.216912\n",
      "3.0        0.221805              0.139706\n",
      "5.0        0.251880              0.113971\n",
      "4.0        0.308271              0.172794\n"
     ]
    }
   ],
   "source": [
    "FDM(df17_111, df17_112, \"2017\")"
   ]
  },
  {
   "cell_type": "code",
   "execution_count": 18,
   "metadata": {
    "scrolled": true
   },
   "outputs": [
    {
     "data": {
      "image/png": "[encoded data removed]",
      "text/plain": [
       "<Figure size 432x288 with 1 Axes>"
      ]
     },
     "metadata": {
      "needs_background": "light"
     },
     "output_type": "display_data"
    },
    {
     "name": "stdout",
     "output_type": "stream",
     "text": [
      "     111 PRE 2018  111 POST 2018\n",
      "1.0      0.106742       0.160714\n",
      "5.0      0.140449       0.142857\n",
      "2.0      0.146067       0.077381\n",
      "0.0      0.151685       0.172619\n",
      "3.0      0.191011       0.202381\n",
      "4.0      0.264045       0.244048\n"
     ]
    },
    {
     "data": {
      "image/png": "[encoded data removed]",
      "text/plain": [
       "<Figure size 432x288 with 1 Axes>"
      ]
     },
     "metadata": {
      "needs_background": "light"
     },
     "output_type": "display_data"
    },
    {
     "name": "stdout",
     "output_type": "stream",
     "text": [
      "     112 PRE 2018  112 POST 2018\n",
      "0.0      0.035144       0.136691\n",
      "1.0      0.047923       0.125899\n",
      "2.0      0.092652       0.136691\n",
      "5.0      0.223642       0.161871\n",
      "3.0      0.236422       0.197842\n",
      "4.0      0.364217       0.241007\n"
     ]
    },
    {
     "data": {
      "image/png": "[encoded data removed]",
      "text/plain": [
       "<Figure size 432x288 with 1 Axes>"
      ]
     },
     "metadata": {
      "needs_background": "light"
     },
     "output_type": "display_data"
    },
    {
     "name": "stdout",
     "output_type": "stream",
     "text": [
      "     111 FEMALE PRE  111 FEMALE POST 2018\n",
      "1.0        0.106742              0.160714\n",
      "5.0        0.140449              0.142857\n",
      "2.0        0.146067              0.077381\n",
      "0.0        0.151685              0.172619\n",
      "3.0        0.191011              0.202381\n",
      "4.0        0.264045              0.244048\n"
     ]
    },
    {
     "data": {
      "image/png": "[encoded data removed]",
      "text/plain": [
       "<Figure size 432x288 with 1 Axes>"
      ]
     },
     "metadata": {
      "needs_background": "light"
     },
     "output_type": "display_data"
    },
    {
     "name": "stdout",
     "output_type": "stream",
     "text": [
      "     112 FEMALE PRE  112 FEMALE POST 2018\n",
      "0.0        0.035144              0.136691\n",
      "1.0        0.047923              0.125899\n",
      "2.0        0.092652              0.136691\n",
      "5.0        0.223642              0.161871\n",
      "3.0        0.236422              0.197842\n",
      "4.0        0.364217              0.241007\n"
     ]
    }
   ],
   "source": [
    "FDM(df18_111, df18_112, \"2018\")"
   ]
  },
  {
   "cell_type": "code",
   "execution_count": 19,
   "metadata": {
    "scrolled": true
   },
   "outputs": [
    {
     "data": {
      "image/png": "[encoded data removed]",
      "text/plain": [
       "<Figure size 432x288 with 1 Axes>"
      ]
     },
     "metadata": {
      "needs_background": "light"
     },
     "output_type": "display_data"
    },
    {
     "name": "stdout",
     "output_type": "stream",
     "text": [
      "     111 PRE 2019  111 POST 2019\n",
      "2.0      0.103774       0.125000\n",
      "1.0      0.155660       0.182692\n",
      "0.0      0.155660       0.346154\n",
      "5.0      0.165094       0.086538\n",
      "4.0      0.207547       0.139423\n",
      "3.0      0.212264       0.120192\n"
     ]
    },
    {
     "data": {
      "image/png": "[encoded data removed]",
      "text/plain": [
       "<Figure size 432x288 with 1 Axes>"
      ]
     },
     "metadata": {
      "needs_background": "light"
     },
     "output_type": "display_data"
    },
    {
     "name": "stdout",
     "output_type": "stream",
     "text": [
      "     112 PRE 2019  112 POST 2019\n",
      "0.0      0.022293       0.143731\n",
      "1.0      0.057325       0.162080\n",
      "2.0      0.114650       0.119266\n",
      "3.0      0.171975       0.189602\n",
      "5.0      0.289809       0.155963\n",
      "4.0      0.343949       0.229358\n"
     ]
    },
    {
     "data": {
      "image/png": "[encoded data removed]",
      "text/plain": [
       "<Figure size 432x288 with 1 Axes>"
      ]
     },
     "metadata": {
      "needs_background": "light"
     },
     "output_type": "display_data"
    },
    {
     "name": "stdout",
     "output_type": "stream",
     "text": [
      "     111 FEMALE PRE  111 FEMALE POST 2019\n",
      "2.0        0.103774              0.125000\n",
      "1.0        0.155660              0.182692\n",
      "0.0        0.155660              0.346154\n",
      "5.0        0.165094              0.086538\n",
      "4.0        0.207547              0.139423\n",
      "3.0        0.212264              0.120192\n"
     ]
    },
    {
     "data": {
      "image/png": "[encoded data removed]",
      "text/plain": [
       "<Figure size 432x288 with 1 Axes>"
      ]
     },
     "metadata": {
      "needs_background": "light"
     },
     "output_type": "display_data"
    },
    {
     "name": "stdout",
     "output_type": "stream",
     "text": [
      "     112 FEMALE PRE  112 FEMALE POST 2019\n",
      "0.0        0.022293              0.143731\n",
      "1.0        0.057325              0.162080\n",
      "2.0        0.114650              0.119266\n",
      "3.0        0.171975              0.189602\n",
      "5.0        0.289809              0.155963\n",
      "4.0        0.343949              0.229358\n"
     ]
    }
   ],
   "source": [
    "FDM(df19_111, df19_112, \"2019\")"
   ]
  },
  {
   "cell_type": "code",
   "execution_count": 20,
   "metadata": {
    "scrolled": true
   },
   "outputs": [
    {
     "data": {
      "image/png": "[encoded data removed]",
      "text/plain": [
       "<Figure size 432x288 with 1 Axes>"
      ]
     },
     "metadata": {
      "needs_background": "light"
     },
     "output_type": "display_data"
    },
    {
     "name": "stdout",
     "output_type": "stream",
     "text": [
      "      111 PRE  111 POST\n",
      "4.0  0.045643  0.205405\n",
      "0.0  0.082988  0.118919\n",
      "3.0  0.228216  0.286486\n",
      "1.0  0.244813  0.097297\n",
      "2.0  0.398340  0.216216\n"
     ]
    },
    {
     "data": {
      "image/png": "[encoded data removed]",
      "text/plain": [
       "<Figure size 432x288 with 1 Axes>"
      ]
     },
     "metadata": {
      "needs_background": "light"
     },
     "output_type": "display_data"
    },
    {
     "name": "stdout",
     "output_type": "stream",
     "text": [
      "      112 PRE  112 POST 2020\n",
      "6.0  0.002681       0.006390\n",
      "5.0  0.013405       0.089457\n",
      "0.0  0.042895       0.099042\n",
      "4.0  0.115282       0.201278\n",
      "1.0  0.131367       0.095847\n",
      "3.0  0.345845       0.303514\n",
      "2.0  0.348525       0.204473\n"
     ]
    },
    {
     "data": {
      "image/png": "[encoded data removed]",
      "text/plain": [
       "<Figure size 432x288 with 1 Axes>"
      ]
     },
     "metadata": {
      "needs_background": "light"
     },
     "output_type": "display_data"
    },
    {
     "name": "stdout",
     "output_type": "stream",
     "text": [
      "     111 FEMALE PRE  111 FEMALE POST\n",
      "4.0        0.045643         0.205405\n",
      "0.0        0.082988         0.118919\n",
      "3.0        0.228216         0.286486\n",
      "1.0        0.244813         0.097297\n",
      "2.0        0.398340         0.216216\n"
     ]
    },
    {
     "data": {
      "image/png": "[encoded data removed]",
      "text/plain": [
       "<Figure size 432x288 with 1 Axes>"
      ]
     },
     "metadata": {
      "needs_background": "light"
     },
     "output_type": "display_data"
    },
    {
     "name": "stdout",
     "output_type": "stream",
     "text": [
      "     112 FEMALE PRE  112 FEMALE POST\n",
      "6.0        0.002681         0.006390\n",
      "5.0        0.013405         0.089457\n",
      "0.0        0.042895         0.099042\n",
      "4.0        0.115282         0.201278\n",
      "1.0        0.131367         0.095847\n",
      "3.0        0.345845         0.303514\n",
      "2.0        0.348525         0.204473\n"
     ]
    }
   ],
   "source": [
    "FDM_2020(df20_111, df20_112)"
   ]
  },
  {
   "cell_type": "code",
   "execution_count": 21,
   "metadata": {
    "scrolled": true
   },
   "outputs": [
    {
     "data": {
      "image/png": "[encoded data removed]",
      "text/plain": [
       "<Figure size 432x288 with 1 Axes>"
      ]
     },
     "metadata": {
      "needs_background": "light"
     },
     "output_type": "display_data"
    },
    {
     "name": "stdout",
     "output_type": "stream",
     "text": [
      "      111 PRE  111 POST\n",
      "4.0  0.050980  0.217105\n",
      "0.0  0.086275  0.151316\n",
      "3.0  0.172549  0.269737\n",
      "1.0  0.309804  0.098684\n",
      "2.0  0.380392  0.184211\n"
     ]
    },
    {
     "data": {
      "image/png": "[encoded data removed]",
      "text/plain": [
       "<Figure size 432x288 with 1 Axes>"
      ]
     },
     "metadata": {
      "needs_background": "light"
     },
     "output_type": "display_data"
    },
    {
     "name": "stdout",
     "output_type": "stream",
     "text": [
      "      112 PRE  112 POST 2021\n",
      "4.0  0.050980       0.217105\n",
      "0.0  0.086275       0.151316\n",
      "3.0  0.172549       0.269737\n",
      "1.0  0.309804       0.098684\n",
      "2.0  0.380392       0.184211\n"
     ]
    },
    {
     "data": {
      "image/png": "[encoded data removed]",
      "text/plain": [
       "<Figure size 432x288 with 1 Axes>"
      ]
     },
     "metadata": {
      "needs_background": "light"
     },
     "output_type": "display_data"
    },
    {
     "name": "stdout",
     "output_type": "stream",
     "text": [
      "     111 FEMALE PRE  111 FEMALE POST\n",
      "4.0        0.050980         0.217105\n",
      "0.0        0.086275         0.151316\n",
      "3.0        0.172549         0.269737\n",
      "1.0        0.309804         0.098684\n",
      "2.0        0.380392         0.184211\n"
     ]
    },
    {
     "data": {
      "image/png": "[encoded data removed]",
      "text/plain": [
       "<Figure size 432x288 with 1 Axes>"
      ]
     },
     "metadata": {
      "needs_background": "light"
     },
     "output_type": "display_data"
    },
    {
     "name": "stdout",
     "output_type": "stream",
     "text": [
      "     112 FEMALE PRE  112 FEMALE POST\n",
      "4.0        0.050980         0.217105\n",
      "0.0        0.086275         0.151316\n",
      "3.0        0.172549         0.269737\n",
      "1.0        0.309804         0.098684\n",
      "2.0        0.380392         0.184211\n"
     ]
    }
   ],
   "source": [
    "FDM_2021(df21_111, df21_111)"
   ]
  },
  {
   "cell_type": "code",
   "execution_count": 22,
   "metadata": {
    "scrolled": true
   },
   "outputs": [
    {
     "data": {
      "text/html": [
       "<div>\n",
       "<style scoped>\n",
       "    .dataframe tbody tr th:only-of-type {\n",
       "        vertical-align: middle;\n",
       "    }\n",
       "\n",
       "    .dataframe tbody tr th {\n",
       "        vertical-align: top;\n",
       "    }\n",
       "\n",
       "    .dataframe thead th {\n",
       "        text-align: right;\n",
       "    }\n",
       "</style>\n",
       "<table border=\"1\" class=\"dataframe\">\n",
       "  <thead>\n",
       "    <tr style=\"text-align: right;\">\n",
       "      <th></th>\n",
       "      <th>111 PRE2014</th>\n",
       "      <th>111 POST2014</th>\n",
       "      <th>111 PRE2015</th>\n",
       "      <th>111 POST2015</th>\n",
       "      <th>111 PRE2016</th>\n",
       "      <th>111 POST2016</th>\n",
       "      <th>111 PRE2017</th>\n",
       "      <th>111 POST2017</th>\n",
       "      <th>111 PRE2018</th>\n",
       "      <th>111 POST2018</th>\n",
       "      <th>111 PRE2019</th>\n",
       "      <th>111 POST2019</th>\n",
       "    </tr>\n",
       "  </thead>\n",
       "  <tbody>\n",
       "    <tr>\n",
       "      <th>0.0</th>\n",
       "      <td>0.091503</td>\n",
       "      <td>0.240000</td>\n",
       "      <td>0.048077</td>\n",
       "      <td>0.190476</td>\n",
       "      <td>0.099617</td>\n",
       "      <td>0.223577</td>\n",
       "      <td>0.155080</td>\n",
       "      <td>0.276596</td>\n",
       "      <td>0.151685</td>\n",
       "      <td>0.172619</td>\n",
       "      <td>0.155660</td>\n",
       "      <td>0.346154</td>\n",
       "    </tr>\n",
       "    <tr>\n",
       "      <th>2.0</th>\n",
       "      <td>0.150327</td>\n",
       "      <td>0.113333</td>\n",
       "      <td>0.110577</td>\n",
       "      <td>0.169312</td>\n",
       "      <td>0.130268</td>\n",
       "      <td>0.134146</td>\n",
       "      <td>0.160428</td>\n",
       "      <td>0.148936</td>\n",
       "      <td>0.146067</td>\n",
       "      <td>0.077381</td>\n",
       "      <td>0.103774</td>\n",
       "      <td>0.125000</td>\n",
       "    </tr>\n",
       "    <tr>\n",
       "      <th>3.0</th>\n",
       "      <td>0.163399</td>\n",
       "      <td>0.153333</td>\n",
       "      <td>0.197115</td>\n",
       "      <td>0.142857</td>\n",
       "      <td>0.245211</td>\n",
       "      <td>0.182927</td>\n",
       "      <td>0.139037</td>\n",
       "      <td>0.154255</td>\n",
       "      <td>0.191011</td>\n",
       "      <td>0.202381</td>\n",
       "      <td>0.212264</td>\n",
       "      <td>0.120192</td>\n",
       "    </tr>\n",
       "    <tr>\n",
       "      <th>1.0</th>\n",
       "      <td>0.169935</td>\n",
       "      <td>0.220000</td>\n",
       "      <td>0.158654</td>\n",
       "      <td>0.253968</td>\n",
       "      <td>0.149425</td>\n",
       "      <td>0.211382</td>\n",
       "      <td>0.171123</td>\n",
       "      <td>0.164894</td>\n",
       "      <td>0.106742</td>\n",
       "      <td>0.160714</td>\n",
       "      <td>0.155660</td>\n",
       "      <td>0.182692</td>\n",
       "    </tr>\n",
       "    <tr>\n",
       "      <th>5.0</th>\n",
       "      <td>0.189542</td>\n",
       "      <td>0.106667</td>\n",
       "      <td>0.211538</td>\n",
       "      <td>0.074074</td>\n",
       "      <td>0.130268</td>\n",
       "      <td>0.060976</td>\n",
       "      <td>0.155080</td>\n",
       "      <td>0.085106</td>\n",
       "      <td>0.140449</td>\n",
       "      <td>0.142857</td>\n",
       "      <td>0.165094</td>\n",
       "      <td>0.086538</td>\n",
       "    </tr>\n",
       "    <tr>\n",
       "      <th>4.0</th>\n",
       "      <td>0.235294</td>\n",
       "      <td>0.166667</td>\n",
       "      <td>0.274038</td>\n",
       "      <td>0.169312</td>\n",
       "      <td>0.245211</td>\n",
       "      <td>0.186992</td>\n",
       "      <td>0.219251</td>\n",
       "      <td>0.170213</td>\n",
       "      <td>0.264045</td>\n",
       "      <td>0.244048</td>\n",
       "      <td>0.207547</td>\n",
       "      <td>0.139423</td>\n",
       "    </tr>\n",
       "  </tbody>\n",
       "</table>\n",
       "</div>"
      ],
      "text/plain": [
       "     111 PRE2014  111 POST2014  111 PRE2015  111 POST2015  111 PRE2016  \\\n",
       "0.0     0.091503      0.240000     0.048077      0.190476     0.099617   \n",
       "2.0     0.150327      0.113333     0.110577      0.169312     0.130268   \n",
       "3.0     0.163399      0.153333     0.197115      0.142857     0.245211   \n",
       "1.0     0.169935      0.220000     0.158654      0.253968     0.149425   \n",
       "5.0     0.189542      0.106667     0.211538      0.074074     0.130268   \n",
       "4.0     0.235294      0.166667     0.274038      0.169312     0.245211   \n",
       "\n",
       "     111 POST2016  111 PRE2017  111 POST2017  111 PRE2018  111 POST2018  \\\n",
       "0.0      0.223577     0.155080      0.276596     0.151685      0.172619   \n",
       "2.0      0.134146     0.160428      0.148936     0.146067      0.077381   \n",
       "3.0      0.182927     0.139037      0.154255     0.191011      0.202381   \n",
       "1.0      0.211382     0.171123      0.164894     0.106742      0.160714   \n",
       "5.0      0.060976     0.155080      0.085106     0.140449      0.142857   \n",
       "4.0      0.186992     0.219251      0.170213     0.264045      0.244048   \n",
       "\n",
       "     111 PRE2019  111 POST2019  \n",
       "0.0     0.155660      0.346154  \n",
       "2.0     0.103774      0.125000  \n",
       "3.0     0.212264      0.120192  \n",
       "1.0     0.155660      0.182692  \n",
       "5.0     0.165094      0.086538  \n",
       "4.0     0.207547      0.139423  "
      ]
     },
     "execution_count": 22,
     "metadata": {},
     "output_type": "execute_result"
    }
   ],
   "source": [
    "fdm111"
   ]
  },
  {
   "cell_type": "code",
   "execution_count": 23,
   "metadata": {},
   "outputs": [
    {
     "data": {
      "text/html": [
       "<div>\n",
       "<style scoped>\n",
       "    .dataframe tbody tr th:only-of-type {\n",
       "        vertical-align: middle;\n",
       "    }\n",
       "\n",
       "    .dataframe tbody tr th {\n",
       "        vertical-align: top;\n",
       "    }\n",
       "\n",
       "    .dataframe thead th {\n",
       "        text-align: right;\n",
       "    }\n",
       "</style>\n",
       "<table border=\"1\" class=\"dataframe\">\n",
       "  <thead>\n",
       "    <tr style=\"text-align: right;\">\n",
       "      <th></th>\n",
       "      <th>112 PRE2014</th>\n",
       "      <th>112 POST2014</th>\n",
       "      <th>112 PRE2015</th>\n",
       "      <th>112 POST2015</th>\n",
       "      <th>112 PRE2016</th>\n",
       "      <th>112 POST2016</th>\n",
       "      <th>112 PRE2017</th>\n",
       "      <th>112 POST2017</th>\n",
       "      <th>112 PRE2018</th>\n",
       "      <th>112 POST2018</th>\n",
       "      <th>112 PRE2019</th>\n",
       "      <th>112 POST2019</th>\n",
       "    </tr>\n",
       "  </thead>\n",
       "  <tbody>\n",
       "    <tr>\n",
       "      <th>0.0</th>\n",
       "      <td>0.004854</td>\n",
       "      <td>0.025510</td>\n",
       "      <td>0.016807</td>\n",
       "      <td>0.103306</td>\n",
       "      <td>0.024648</td>\n",
       "      <td>0.135849</td>\n",
       "      <td>0.037594</td>\n",
       "      <td>0.198529</td>\n",
       "      <td>0.035144</td>\n",
       "      <td>0.136691</td>\n",
       "      <td>0.022293</td>\n",
       "      <td>0.143731</td>\n",
       "    </tr>\n",
       "    <tr>\n",
       "      <th>1.0</th>\n",
       "      <td>0.029126</td>\n",
       "      <td>0.091837</td>\n",
       "      <td>0.021008</td>\n",
       "      <td>0.169421</td>\n",
       "      <td>0.056338</td>\n",
       "      <td>0.158491</td>\n",
       "      <td>0.093985</td>\n",
       "      <td>0.216912</td>\n",
       "      <td>0.047923</td>\n",
       "      <td>0.125899</td>\n",
       "      <td>0.057325</td>\n",
       "      <td>0.162080</td>\n",
       "    </tr>\n",
       "    <tr>\n",
       "      <th>2.0</th>\n",
       "      <td>0.097087</td>\n",
       "      <td>0.137755</td>\n",
       "      <td>0.109244</td>\n",
       "      <td>0.169421</td>\n",
       "      <td>0.105634</td>\n",
       "      <td>0.218868</td>\n",
       "      <td>0.086466</td>\n",
       "      <td>0.158088</td>\n",
       "      <td>0.092652</td>\n",
       "      <td>0.136691</td>\n",
       "      <td>0.114650</td>\n",
       "      <td>0.119266</td>\n",
       "    </tr>\n",
       "    <tr>\n",
       "      <th>3.0</th>\n",
       "      <td>0.242718</td>\n",
       "      <td>0.250000</td>\n",
       "      <td>0.201681</td>\n",
       "      <td>0.198347</td>\n",
       "      <td>0.246479</td>\n",
       "      <td>0.154717</td>\n",
       "      <td>0.221805</td>\n",
       "      <td>0.139706</td>\n",
       "      <td>0.236422</td>\n",
       "      <td>0.197842</td>\n",
       "      <td>0.171975</td>\n",
       "      <td>0.189602</td>\n",
       "    </tr>\n",
       "    <tr>\n",
       "      <th>5.0</th>\n",
       "      <td>0.305825</td>\n",
       "      <td>0.198980</td>\n",
       "      <td>0.294118</td>\n",
       "      <td>0.140496</td>\n",
       "      <td>0.257042</td>\n",
       "      <td>0.116981</td>\n",
       "      <td>0.251880</td>\n",
       "      <td>0.113971</td>\n",
       "      <td>0.223642</td>\n",
       "      <td>0.161871</td>\n",
       "      <td>0.289809</td>\n",
       "      <td>0.155963</td>\n",
       "    </tr>\n",
       "    <tr>\n",
       "      <th>4.0</th>\n",
       "      <td>0.320388</td>\n",
       "      <td>0.295918</td>\n",
       "      <td>0.357143</td>\n",
       "      <td>0.219008</td>\n",
       "      <td>0.309859</td>\n",
       "      <td>0.215094</td>\n",
       "      <td>0.308271</td>\n",
       "      <td>0.172794</td>\n",
       "      <td>0.364217</td>\n",
       "      <td>0.241007</td>\n",
       "      <td>0.343949</td>\n",
       "      <td>0.229358</td>\n",
       "    </tr>\n",
       "  </tbody>\n",
       "</table>\n",
       "</div>"
      ],
      "text/plain": [
       "     112 PRE2014  112 POST2014  112 PRE2015  112 POST2015  112 PRE2016  \\\n",
       "0.0     0.004854      0.025510     0.016807      0.103306     0.024648   \n",
       "1.0     0.029126      0.091837     0.021008      0.169421     0.056338   \n",
       "2.0     0.097087      0.137755     0.109244      0.169421     0.105634   \n",
       "3.0     0.242718      0.250000     0.201681      0.198347     0.246479   \n",
       "5.0     0.305825      0.198980     0.294118      0.140496     0.257042   \n",
       "4.0     0.320388      0.295918     0.357143      0.219008     0.309859   \n",
       "\n",
       "     112 POST2016  112 PRE2017  112 POST2017  112 PRE2018  112 POST2018  \\\n",
       "0.0      0.135849     0.037594      0.198529     0.035144      0.136691   \n",
       "1.0      0.158491     0.093985      0.216912     0.047923      0.125899   \n",
       "2.0      0.218868     0.086466      0.158088     0.092652      0.136691   \n",
       "3.0      0.154717     0.221805      0.139706     0.236422      0.197842   \n",
       "5.0      0.116981     0.251880      0.113971     0.223642      0.161871   \n",
       "4.0      0.215094     0.308271      0.172794     0.364217      0.241007   \n",
       "\n",
       "     112 PRE2019  112 POST2019  \n",
       "0.0     0.022293      0.143731  \n",
       "1.0     0.057325      0.162080  \n",
       "2.0     0.114650      0.119266  \n",
       "3.0     0.171975      0.189602  \n",
       "5.0     0.289809      0.155963  \n",
       "4.0     0.343949      0.229358  "
      ]
     },
     "execution_count": 23,
     "metadata": {},
     "output_type": "execute_result"
    }
   ],
   "source": [
    "fdm112"
   ]
  },
  {
   "cell_type": "code",
   "execution_count": 24,
   "metadata": {
    "scrolled": true
   },
   "outputs": [
    {
     "data": {
      "text/html": [
       "<div>\n",
       "<style scoped>\n",
       "    .dataframe tbody tr th:only-of-type {\n",
       "        vertical-align: middle;\n",
       "    }\n",
       "\n",
       "    .dataframe tbody tr th {\n",
       "        vertical-align: top;\n",
       "    }\n",
       "\n",
       "    .dataframe thead th {\n",
       "        text-align: right;\n",
       "    }\n",
       "</style>\n",
       "<table border=\"1\" class=\"dataframe\">\n",
       "  <thead>\n",
       "    <tr style=\"text-align: right;\">\n",
       "      <th></th>\n",
       "      <th>111 PRE2014</th>\n",
       "      <th>111 POST2014</th>\n",
       "      <th>111 PRE2015</th>\n",
       "      <th>111 POST2015</th>\n",
       "      <th>111 PRE2016</th>\n",
       "      <th>111 POST2016</th>\n",
       "      <th>111 PRE2017</th>\n",
       "      <th>111 POST2017</th>\n",
       "      <th>111 PRE2018</th>\n",
       "      <th>111 POST2018</th>\n",
       "      <th>...</th>\n",
       "      <th>112 PRE2015</th>\n",
       "      <th>112 POST2015</th>\n",
       "      <th>112 PRE2016</th>\n",
       "      <th>112 POST2016</th>\n",
       "      <th>112 PRE2017</th>\n",
       "      <th>112 POST2017</th>\n",
       "      <th>112 PRE2018</th>\n",
       "      <th>112 POST2018</th>\n",
       "      <th>112 PRE2019</th>\n",
       "      <th>112 POST2019</th>\n",
       "    </tr>\n",
       "  </thead>\n",
       "  <tbody>\n",
       "    <tr>\n",
       "      <th>-3.0</th>\n",
       "      <td>Pre</td>\n",
       "      <td>Post</td>\n",
       "      <td>Pre</td>\n",
       "      <td>Post</td>\n",
       "      <td>Pre</td>\n",
       "      <td>Post</td>\n",
       "      <td>Pre</td>\n",
       "      <td>Post</td>\n",
       "      <td>Pre</td>\n",
       "      <td>Post</td>\n",
       "      <td>...</td>\n",
       "      <td>Pre</td>\n",
       "      <td>Post</td>\n",
       "      <td>Pre</td>\n",
       "      <td>Post</td>\n",
       "      <td>Pre</td>\n",
       "      <td>Post</td>\n",
       "      <td>Pre</td>\n",
       "      <td>Post</td>\n",
       "      <td>Pre</td>\n",
       "      <td>Post</td>\n",
       "    </tr>\n",
       "    <tr>\n",
       "      <th>-2.0</th>\n",
       "      <td>2014.0</td>\n",
       "      <td>2014.0</td>\n",
       "      <td>2015.0</td>\n",
       "      <td>2015.0</td>\n",
       "      <td>2016.0</td>\n",
       "      <td>2016.0</td>\n",
       "      <td>2017.0</td>\n",
       "      <td>2017.0</td>\n",
       "      <td>2018.0</td>\n",
       "      <td>2018.0</td>\n",
       "      <td>...</td>\n",
       "      <td>2015.0</td>\n",
       "      <td>2015.0</td>\n",
       "      <td>2016.0</td>\n",
       "      <td>2016.0</td>\n",
       "      <td>2017.0</td>\n",
       "      <td>2017.0</td>\n",
       "      <td>2018.0</td>\n",
       "      <td>2018.0</td>\n",
       "      <td>2019.0</td>\n",
       "      <td>2019.0</td>\n",
       "    </tr>\n",
       "    <tr>\n",
       "      <th>-1.0</th>\n",
       "      <td>111.0</td>\n",
       "      <td>111.0</td>\n",
       "      <td>111.0</td>\n",
       "      <td>111.0</td>\n",
       "      <td>111.0</td>\n",
       "      <td>111.0</td>\n",
       "      <td>111.0</td>\n",
       "      <td>111.0</td>\n",
       "      <td>111.0</td>\n",
       "      <td>111.0</td>\n",
       "      <td>...</td>\n",
       "      <td>112.0</td>\n",
       "      <td>112.0</td>\n",
       "      <td>112.0</td>\n",
       "      <td>112.0</td>\n",
       "      <td>112.0</td>\n",
       "      <td>112.0</td>\n",
       "      <td>112.0</td>\n",
       "      <td>112.0</td>\n",
       "      <td>112.0</td>\n",
       "      <td>112.0</td>\n",
       "    </tr>\n",
       "    <tr>\n",
       "      <th>0.0</th>\n",
       "      <td>0.091503</td>\n",
       "      <td>0.24</td>\n",
       "      <td>0.048077</td>\n",
       "      <td>0.190476</td>\n",
       "      <td>0.099617</td>\n",
       "      <td>0.223577</td>\n",
       "      <td>0.15508</td>\n",
       "      <td>0.276596</td>\n",
       "      <td>0.151685</td>\n",
       "      <td>0.172619</td>\n",
       "      <td>...</td>\n",
       "      <td>0.016807</td>\n",
       "      <td>0.103306</td>\n",
       "      <td>0.024648</td>\n",
       "      <td>0.135849</td>\n",
       "      <td>0.037594</td>\n",
       "      <td>0.198529</td>\n",
       "      <td>0.035144</td>\n",
       "      <td>0.136691</td>\n",
       "      <td>0.022293</td>\n",
       "      <td>0.143731</td>\n",
       "    </tr>\n",
       "    <tr>\n",
       "      <th>1.0</th>\n",
       "      <td>0.169935</td>\n",
       "      <td>0.22</td>\n",
       "      <td>0.158654</td>\n",
       "      <td>0.253968</td>\n",
       "      <td>0.149425</td>\n",
       "      <td>0.211382</td>\n",
       "      <td>0.171123</td>\n",
       "      <td>0.164894</td>\n",
       "      <td>0.106742</td>\n",
       "      <td>0.160714</td>\n",
       "      <td>...</td>\n",
       "      <td>0.021008</td>\n",
       "      <td>0.169421</td>\n",
       "      <td>0.056338</td>\n",
       "      <td>0.158491</td>\n",
       "      <td>0.093985</td>\n",
       "      <td>0.216912</td>\n",
       "      <td>0.047923</td>\n",
       "      <td>0.125899</td>\n",
       "      <td>0.057325</td>\n",
       "      <td>0.16208</td>\n",
       "    </tr>\n",
       "    <tr>\n",
       "      <th>2.0</th>\n",
       "      <td>0.150327</td>\n",
       "      <td>0.113333</td>\n",
       "      <td>0.110577</td>\n",
       "      <td>0.169312</td>\n",
       "      <td>0.130268</td>\n",
       "      <td>0.134146</td>\n",
       "      <td>0.160428</td>\n",
       "      <td>0.148936</td>\n",
       "      <td>0.146067</td>\n",
       "      <td>0.077381</td>\n",
       "      <td>...</td>\n",
       "      <td>0.109244</td>\n",
       "      <td>0.169421</td>\n",
       "      <td>0.105634</td>\n",
       "      <td>0.218868</td>\n",
       "      <td>0.086466</td>\n",
       "      <td>0.158088</td>\n",
       "      <td>0.092652</td>\n",
       "      <td>0.136691</td>\n",
       "      <td>0.11465</td>\n",
       "      <td>0.119266</td>\n",
       "    </tr>\n",
       "    <tr>\n",
       "      <th>3.0</th>\n",
       "      <td>0.163399</td>\n",
       "      <td>0.153333</td>\n",
       "      <td>0.197115</td>\n",
       "      <td>0.142857</td>\n",
       "      <td>0.245211</td>\n",
       "      <td>0.182927</td>\n",
       "      <td>0.139037</td>\n",
       "      <td>0.154255</td>\n",
       "      <td>0.191011</td>\n",
       "      <td>0.202381</td>\n",
       "      <td>...</td>\n",
       "      <td>0.201681</td>\n",
       "      <td>0.198347</td>\n",
       "      <td>0.246479</td>\n",
       "      <td>0.154717</td>\n",
       "      <td>0.221805</td>\n",
       "      <td>0.139706</td>\n",
       "      <td>0.236422</td>\n",
       "      <td>0.197842</td>\n",
       "      <td>0.171975</td>\n",
       "      <td>0.189602</td>\n",
       "    </tr>\n",
       "    <tr>\n",
       "      <th>4.0</th>\n",
       "      <td>0.235294</td>\n",
       "      <td>0.166667</td>\n",
       "      <td>0.274038</td>\n",
       "      <td>0.169312</td>\n",
       "      <td>0.245211</td>\n",
       "      <td>0.186992</td>\n",
       "      <td>0.219251</td>\n",
       "      <td>0.170213</td>\n",
       "      <td>0.264045</td>\n",
       "      <td>0.244048</td>\n",
       "      <td>...</td>\n",
       "      <td>0.357143</td>\n",
       "      <td>0.219008</td>\n",
       "      <td>0.309859</td>\n",
       "      <td>0.215094</td>\n",
       "      <td>0.308271</td>\n",
       "      <td>0.172794</td>\n",
       "      <td>0.364217</td>\n",
       "      <td>0.241007</td>\n",
       "      <td>0.343949</td>\n",
       "      <td>0.229358</td>\n",
       "    </tr>\n",
       "    <tr>\n",
       "      <th>5.0</th>\n",
       "      <td>0.189542</td>\n",
       "      <td>0.106667</td>\n",
       "      <td>0.211538</td>\n",
       "      <td>0.074074</td>\n",
       "      <td>0.130268</td>\n",
       "      <td>0.060976</td>\n",
       "      <td>0.15508</td>\n",
       "      <td>0.085106</td>\n",
       "      <td>0.140449</td>\n",
       "      <td>0.142857</td>\n",
       "      <td>...</td>\n",
       "      <td>0.294118</td>\n",
       "      <td>0.140496</td>\n",
       "      <td>0.257042</td>\n",
       "      <td>0.116981</td>\n",
       "      <td>0.25188</td>\n",
       "      <td>0.113971</td>\n",
       "      <td>0.223642</td>\n",
       "      <td>0.161871</td>\n",
       "      <td>0.289809</td>\n",
       "      <td>0.155963</td>\n",
       "    </tr>\n",
       "  </tbody>\n",
       "</table>\n",
       "<p>9 rows × 24 columns</p>\n",
       "</div>"
      ],
      "text/plain": [
       "     111 PRE2014 111 POST2014 111 PRE2015 111 POST2015 111 PRE2016  \\\n",
       "-3.0         Pre         Post         Pre         Post         Pre   \n",
       "-2.0      2014.0       2014.0      2015.0       2015.0      2016.0   \n",
       "-1.0       111.0        111.0       111.0        111.0       111.0   \n",
       " 0.0    0.091503         0.24    0.048077     0.190476    0.099617   \n",
       " 1.0    0.169935         0.22    0.158654     0.253968    0.149425   \n",
       " 2.0    0.150327     0.113333    0.110577     0.169312    0.130268   \n",
       " 3.0    0.163399     0.153333    0.197115     0.142857    0.245211   \n",
       " 4.0    0.235294     0.166667    0.274038     0.169312    0.245211   \n",
       " 5.0    0.189542     0.106667    0.211538     0.074074    0.130268   \n",
       "\n",
       "     111 POST2016 111 PRE2017 111 POST2017 111 PRE2018 111 POST2018  ...  \\\n",
       "-3.0         Post         Pre         Post         Pre         Post  ...   \n",
       "-2.0       2016.0      2017.0       2017.0      2018.0       2018.0  ...   \n",
       "-1.0        111.0       111.0        111.0       111.0        111.0  ...   \n",
       " 0.0     0.223577     0.15508     0.276596    0.151685     0.172619  ...   \n",
       " 1.0     0.211382    0.171123     0.164894    0.106742     0.160714  ...   \n",
       " 2.0     0.134146    0.160428     0.148936    0.146067     0.077381  ...   \n",
       " 3.0     0.182927    0.139037     0.154255    0.191011     0.202381  ...   \n",
       " 4.0     0.186992    0.219251     0.170213    0.264045     0.244048  ...   \n",
       " 5.0     0.060976     0.15508     0.085106    0.140449     0.142857  ...   \n",
       "\n",
       "     112 PRE2015 112 POST2015 112 PRE2016 112 POST2016 112 PRE2017  \\\n",
       "-3.0         Pre         Post         Pre         Post         Pre   \n",
       "-2.0      2015.0       2015.0      2016.0       2016.0      2017.0   \n",
       "-1.0       112.0        112.0       112.0        112.0       112.0   \n",
       " 0.0    0.016807     0.103306    0.024648     0.135849    0.037594   \n",
       " 1.0    0.021008     0.169421    0.056338     0.158491    0.093985   \n",
       " 2.0    0.109244     0.169421    0.105634     0.218868    0.086466   \n",
       " 3.0    0.201681     0.198347    0.246479     0.154717    0.221805   \n",
       " 4.0    0.357143     0.219008    0.309859     0.215094    0.308271   \n",
       " 5.0    0.294118     0.140496    0.257042     0.116981     0.25188   \n",
       "\n",
       "     112 POST2017 112 PRE2018 112 POST2018 112 PRE2019 112 POST2019  \n",
       "-3.0         Post         Pre         Post         Pre         Post  \n",
       "-2.0       2017.0      2018.0       2018.0      2019.0       2019.0  \n",
       "-1.0        112.0       112.0        112.0       112.0        112.0  \n",
       " 0.0     0.198529    0.035144     0.136691    0.022293     0.143731  \n",
       " 1.0     0.216912    0.047923     0.125899    0.057325      0.16208  \n",
       " 2.0     0.158088    0.092652     0.136691     0.11465     0.119266  \n",
       " 3.0     0.139706    0.236422     0.197842    0.171975     0.189602  \n",
       " 4.0     0.172794    0.364217     0.241007    0.343949     0.229358  \n",
       " 5.0     0.113971    0.223642     0.161871    0.289809     0.155963  \n",
       "\n",
       "[9 rows x 24 columns]"
      ]
     },
     "execution_count": 24,
     "metadata": {},
     "output_type": "execute_result"
    }
   ],
   "source": [
    "fdm = fdm111.join(fdm112)\n",
    "fdm.loc[-1] = [111, 111, 111, 111, 111, 111,111, 111, 111, 111, 111, 111,112 ,112, 112, 112 ,112, 112,112 ,112, 112, 112 ,112, 112 ]\n",
    "fdm.loc[-2] = [2014, 2014, 2015, 2015, 2016, 2016, 2017, 2017, 2018, 2018, 2019, 2019, 2014, 2014, 2015, 2015, 2016, 2016, 2017, 2017, 2018, 2018, 2019, 2019]\n",
    "fdm.loc[-3] = [\"Pre\", \"Post\", \"Pre\", \"Post\", \"Pre\", \"Post\", \"Pre\", \"Post\", \"Pre\", \"Post\", \"Pre\", \"Post\", \"Pre\", \"Post\", \"Pre\", \"Post\", \"Pre\", \"Post\", \"Pre\", \"Post\", \"Pre\", \"Post\", \"Pre\", \"Post\"] # adding a row\n",
    "fdm.sort_index()"
   ]
  },
  {
   "cell_type": "code",
   "execution_count": 37,
   "metadata": {},
   "outputs": [],
   "source": [
    "fdm2 = fdm.sort_index().transpose()\n",
    "fdm2.columns=[\"Pre/Post\", \"Year\", \"Section\", 0.0, 1.0, 2.0, 3.0, 4.0, 5.0]\n",
    "fdm2.to_excel('fdm_numbers.xlsx')"
   ]
  },
  {
   "cell_type": "code",
   "execution_count": 26,
   "metadata": {},
   "outputs": [
    {
     "data": {
      "text/html": [
       "<div>\n",
       "<style scoped>\n",
       "    .dataframe tbody tr th:only-of-type {\n",
       "        vertical-align: middle;\n",
       "    }\n",
       "\n",
       "    .dataframe tbody tr th {\n",
       "        vertical-align: top;\n",
       "    }\n",
       "\n",
       "    .dataframe thead th {\n",
       "        text-align: right;\n",
       "    }\n",
       "</style>\n",
       "<table border=\"1\" class=\"dataframe\">\n",
       "  <thead>\n",
       "    <tr style=\"text-align: right;\">\n",
       "      <th></th>\n",
       "      <th>Pre/Post</th>\n",
       "      <th>Year</th>\n",
       "      <th>Section</th>\n",
       "      <th>0.0</th>\n",
       "      <th>1.0</th>\n",
       "      <th>2.0</th>\n",
       "      <th>3.0</th>\n",
       "      <th>4.0</th>\n",
       "      <th>5.0</th>\n",
       "    </tr>\n",
       "  </thead>\n",
       "  <tbody>\n",
       "    <tr>\n",
       "      <th>111 PRE2014</th>\n",
       "      <td>Pre</td>\n",
       "      <td>2014.0</td>\n",
       "      <td>111.0</td>\n",
       "      <td>0.091503</td>\n",
       "      <td>0.169935</td>\n",
       "      <td>0.150327</td>\n",
       "      <td>0.163399</td>\n",
       "      <td>0.235294</td>\n",
       "      <td>0.189542</td>\n",
       "    </tr>\n",
       "    <tr>\n",
       "      <th>111 PRE2015</th>\n",
       "      <td>Pre</td>\n",
       "      <td>2015.0</td>\n",
       "      <td>111.0</td>\n",
       "      <td>0.048077</td>\n",
       "      <td>0.158654</td>\n",
       "      <td>0.110577</td>\n",
       "      <td>0.197115</td>\n",
       "      <td>0.274038</td>\n",
       "      <td>0.211538</td>\n",
       "    </tr>\n",
       "    <tr>\n",
       "      <th>111 PRE2016</th>\n",
       "      <td>Pre</td>\n",
       "      <td>2016.0</td>\n",
       "      <td>111.0</td>\n",
       "      <td>0.099617</td>\n",
       "      <td>0.149425</td>\n",
       "      <td>0.130268</td>\n",
       "      <td>0.245211</td>\n",
       "      <td>0.245211</td>\n",
       "      <td>0.130268</td>\n",
       "    </tr>\n",
       "    <tr>\n",
       "      <th>111 PRE2017</th>\n",
       "      <td>Pre</td>\n",
       "      <td>2017.0</td>\n",
       "      <td>111.0</td>\n",
       "      <td>0.15508</td>\n",
       "      <td>0.171123</td>\n",
       "      <td>0.160428</td>\n",
       "      <td>0.139037</td>\n",
       "      <td>0.219251</td>\n",
       "      <td>0.15508</td>\n",
       "    </tr>\n",
       "    <tr>\n",
       "      <th>111 PRE2018</th>\n",
       "      <td>Pre</td>\n",
       "      <td>2018.0</td>\n",
       "      <td>111.0</td>\n",
       "      <td>0.151685</td>\n",
       "      <td>0.106742</td>\n",
       "      <td>0.146067</td>\n",
       "      <td>0.191011</td>\n",
       "      <td>0.264045</td>\n",
       "      <td>0.140449</td>\n",
       "    </tr>\n",
       "    <tr>\n",
       "      <th>111 PRE2019</th>\n",
       "      <td>Pre</td>\n",
       "      <td>2019.0</td>\n",
       "      <td>111.0</td>\n",
       "      <td>0.15566</td>\n",
       "      <td>0.15566</td>\n",
       "      <td>0.103774</td>\n",
       "      <td>0.212264</td>\n",
       "      <td>0.207547</td>\n",
       "      <td>0.165094</td>\n",
       "    </tr>\n",
       "    <tr>\n",
       "      <th>112 PRE2014</th>\n",
       "      <td>Pre</td>\n",
       "      <td>2014.0</td>\n",
       "      <td>112.0</td>\n",
       "      <td>0.004854</td>\n",
       "      <td>0.029126</td>\n",
       "      <td>0.097087</td>\n",
       "      <td>0.242718</td>\n",
       "      <td>0.320388</td>\n",
       "      <td>0.305825</td>\n",
       "    </tr>\n",
       "    <tr>\n",
       "      <th>112 PRE2015</th>\n",
       "      <td>Pre</td>\n",
       "      <td>2015.0</td>\n",
       "      <td>112.0</td>\n",
       "      <td>0.016807</td>\n",
       "      <td>0.021008</td>\n",
       "      <td>0.109244</td>\n",
       "      <td>0.201681</td>\n",
       "      <td>0.357143</td>\n",
       "      <td>0.294118</td>\n",
       "    </tr>\n",
       "    <tr>\n",
       "      <th>112 PRE2016</th>\n",
       "      <td>Pre</td>\n",
       "      <td>2016.0</td>\n",
       "      <td>112.0</td>\n",
       "      <td>0.024648</td>\n",
       "      <td>0.056338</td>\n",
       "      <td>0.105634</td>\n",
       "      <td>0.246479</td>\n",
       "      <td>0.309859</td>\n",
       "      <td>0.257042</td>\n",
       "    </tr>\n",
       "    <tr>\n",
       "      <th>112 PRE2017</th>\n",
       "      <td>Pre</td>\n",
       "      <td>2017.0</td>\n",
       "      <td>112.0</td>\n",
       "      <td>0.037594</td>\n",
       "      <td>0.093985</td>\n",
       "      <td>0.086466</td>\n",
       "      <td>0.221805</td>\n",
       "      <td>0.308271</td>\n",
       "      <td>0.25188</td>\n",
       "    </tr>\n",
       "    <tr>\n",
       "      <th>112 PRE2018</th>\n",
       "      <td>Pre</td>\n",
       "      <td>2018.0</td>\n",
       "      <td>112.0</td>\n",
       "      <td>0.035144</td>\n",
       "      <td>0.047923</td>\n",
       "      <td>0.092652</td>\n",
       "      <td>0.236422</td>\n",
       "      <td>0.364217</td>\n",
       "      <td>0.223642</td>\n",
       "    </tr>\n",
       "    <tr>\n",
       "      <th>112 PRE2019</th>\n",
       "      <td>Pre</td>\n",
       "      <td>2019.0</td>\n",
       "      <td>112.0</td>\n",
       "      <td>0.022293</td>\n",
       "      <td>0.057325</td>\n",
       "      <td>0.11465</td>\n",
       "      <td>0.171975</td>\n",
       "      <td>0.343949</td>\n",
       "      <td>0.289809</td>\n",
       "    </tr>\n",
       "  </tbody>\n",
       "</table>\n",
       "</div>"
      ],
      "text/plain": [
       "            Pre/Post    Year Section       0.0       1.0       2.0       3.0  \\\n",
       "111 PRE2014      Pre  2014.0   111.0  0.091503  0.169935  0.150327  0.163399   \n",
       "111 PRE2015      Pre  2015.0   111.0  0.048077  0.158654  0.110577  0.197115   \n",
       "111 PRE2016      Pre  2016.0   111.0  0.099617  0.149425  0.130268  0.245211   \n",
       "111 PRE2017      Pre  2017.0   111.0   0.15508  0.171123  0.160428  0.139037   \n",
       "111 PRE2018      Pre  2018.0   111.0  0.151685  0.106742  0.146067  0.191011   \n",
       "111 PRE2019      Pre  2019.0   111.0   0.15566   0.15566  0.103774  0.212264   \n",
       "112 PRE2014      Pre  2014.0   112.0  0.004854  0.029126  0.097087  0.242718   \n",
       "112 PRE2015      Pre  2015.0   112.0  0.016807  0.021008  0.109244  0.201681   \n",
       "112 PRE2016      Pre  2016.0   112.0  0.024648  0.056338  0.105634  0.246479   \n",
       "112 PRE2017      Pre  2017.0   112.0  0.037594  0.093985  0.086466  0.221805   \n",
       "112 PRE2018      Pre  2018.0   112.0  0.035144  0.047923  0.092652  0.236422   \n",
       "112 PRE2019      Pre  2019.0   112.0  0.022293  0.057325   0.11465  0.171975   \n",
       "\n",
       "                  4.0       5.0  \n",
       "111 PRE2014  0.235294  0.189542  \n",
       "111 PRE2015  0.274038  0.211538  \n",
       "111 PRE2016  0.245211  0.130268  \n",
       "111 PRE2017  0.219251   0.15508  \n",
       "111 PRE2018  0.264045  0.140449  \n",
       "111 PRE2019  0.207547  0.165094  \n",
       "112 PRE2014  0.320388  0.305825  \n",
       "112 PRE2015  0.357143  0.294118  \n",
       "112 PRE2016  0.309859  0.257042  \n",
       "112 PRE2017  0.308271   0.25188  \n",
       "112 PRE2018  0.364217  0.223642  \n",
       "112 PRE2019  0.343949  0.289809  "
      ]
     },
     "execution_count": 26,
     "metadata": {},
     "output_type": "execute_result"
    }
   ],
   "source": [
    "fdm4 = fdm2[fdm2.loc[:,\"Pre/Post\"]==\"Pre\"]\n",
    "fdm4"
   ]
  },
  {
   "cell_type": "code",
   "execution_count": 34,
   "metadata": {},
   "outputs": [
    {
     "data": {
      "text/html": [
       "<div>\n",
       "<style scoped>\n",
       "    .dataframe tbody tr th:only-of-type {\n",
       "        vertical-align: middle;\n",
       "    }\n",
       "\n",
       "    .dataframe tbody tr th {\n",
       "        vertical-align: top;\n",
       "    }\n",
       "\n",
       "    .dataframe thead th {\n",
       "        text-align: right;\n",
       "    }\n",
       "</style>\n",
       "<table border=\"1\" class=\"dataframe\">\n",
       "  <thead>\n",
       "    <tr style=\"text-align: right;\">\n",
       "      <th></th>\n",
       "      <th>Pre/Post</th>\n",
       "      <th>Year</th>\n",
       "      <th>Section</th>\n",
       "      <th>0.0</th>\n",
       "      <th>1.0</th>\n",
       "      <th>2.0</th>\n",
       "      <th>3.0</th>\n",
       "      <th>4.0</th>\n",
       "      <th>5.0</th>\n",
       "    </tr>\n",
       "  </thead>\n",
       "  <tbody>\n",
       "    <tr>\n",
       "      <th>111 POST2014</th>\n",
       "      <td>Post</td>\n",
       "      <td>2014.0</td>\n",
       "      <td>111.0</td>\n",
       "      <td>0.24</td>\n",
       "      <td>0.22</td>\n",
       "      <td>0.113333</td>\n",
       "      <td>0.153333</td>\n",
       "      <td>0.166667</td>\n",
       "      <td>0.106667</td>\n",
       "    </tr>\n",
       "    <tr>\n",
       "      <th>111 POST2015</th>\n",
       "      <td>Post</td>\n",
       "      <td>2015.0</td>\n",
       "      <td>111.0</td>\n",
       "      <td>0.190476</td>\n",
       "      <td>0.253968</td>\n",
       "      <td>0.169312</td>\n",
       "      <td>0.142857</td>\n",
       "      <td>0.169312</td>\n",
       "      <td>0.074074</td>\n",
       "    </tr>\n",
       "    <tr>\n",
       "      <th>111 POST2016</th>\n",
       "      <td>Post</td>\n",
       "      <td>2016.0</td>\n",
       "      <td>111.0</td>\n",
       "      <td>0.223577</td>\n",
       "      <td>0.211382</td>\n",
       "      <td>0.134146</td>\n",
       "      <td>0.182927</td>\n",
       "      <td>0.186992</td>\n",
       "      <td>0.060976</td>\n",
       "    </tr>\n",
       "    <tr>\n",
       "      <th>111 POST2017</th>\n",
       "      <td>Post</td>\n",
       "      <td>2017.0</td>\n",
       "      <td>111.0</td>\n",
       "      <td>0.276596</td>\n",
       "      <td>0.164894</td>\n",
       "      <td>0.148936</td>\n",
       "      <td>0.154255</td>\n",
       "      <td>0.170213</td>\n",
       "      <td>0.085106</td>\n",
       "    </tr>\n",
       "    <tr>\n",
       "      <th>111 POST2018</th>\n",
       "      <td>Post</td>\n",
       "      <td>2018.0</td>\n",
       "      <td>111.0</td>\n",
       "      <td>0.172619</td>\n",
       "      <td>0.160714</td>\n",
       "      <td>0.077381</td>\n",
       "      <td>0.202381</td>\n",
       "      <td>0.244048</td>\n",
       "      <td>0.142857</td>\n",
       "    </tr>\n",
       "    <tr>\n",
       "      <th>111 POST2019</th>\n",
       "      <td>Post</td>\n",
       "      <td>2019.0</td>\n",
       "      <td>111.0</td>\n",
       "      <td>0.346154</td>\n",
       "      <td>0.182692</td>\n",
       "      <td>0.125</td>\n",
       "      <td>0.120192</td>\n",
       "      <td>0.139423</td>\n",
       "      <td>0.086538</td>\n",
       "    </tr>\n",
       "    <tr>\n",
       "      <th>112 POST2014</th>\n",
       "      <td>Post</td>\n",
       "      <td>2014.0</td>\n",
       "      <td>112.0</td>\n",
       "      <td>0.02551</td>\n",
       "      <td>0.091837</td>\n",
       "      <td>0.137755</td>\n",
       "      <td>0.25</td>\n",
       "      <td>0.295918</td>\n",
       "      <td>0.19898</td>\n",
       "    </tr>\n",
       "    <tr>\n",
       "      <th>112 POST2015</th>\n",
       "      <td>Post</td>\n",
       "      <td>2015.0</td>\n",
       "      <td>112.0</td>\n",
       "      <td>0.103306</td>\n",
       "      <td>0.169421</td>\n",
       "      <td>0.169421</td>\n",
       "      <td>0.198347</td>\n",
       "      <td>0.219008</td>\n",
       "      <td>0.140496</td>\n",
       "    </tr>\n",
       "    <tr>\n",
       "      <th>112 POST2016</th>\n",
       "      <td>Post</td>\n",
       "      <td>2016.0</td>\n",
       "      <td>112.0</td>\n",
       "      <td>0.135849</td>\n",
       "      <td>0.158491</td>\n",
       "      <td>0.218868</td>\n",
       "      <td>0.154717</td>\n",
       "      <td>0.215094</td>\n",
       "      <td>0.116981</td>\n",
       "    </tr>\n",
       "    <tr>\n",
       "      <th>112 POST2017</th>\n",
       "      <td>Post</td>\n",
       "      <td>2017.0</td>\n",
       "      <td>112.0</td>\n",
       "      <td>0.198529</td>\n",
       "      <td>0.216912</td>\n",
       "      <td>0.158088</td>\n",
       "      <td>0.139706</td>\n",
       "      <td>0.172794</td>\n",
       "      <td>0.113971</td>\n",
       "    </tr>\n",
       "    <tr>\n",
       "      <th>112 POST2018</th>\n",
       "      <td>Post</td>\n",
       "      <td>2018.0</td>\n",
       "      <td>112.0</td>\n",
       "      <td>0.136691</td>\n",
       "      <td>0.125899</td>\n",
       "      <td>0.136691</td>\n",
       "      <td>0.197842</td>\n",
       "      <td>0.241007</td>\n",
       "      <td>0.161871</td>\n",
       "    </tr>\n",
       "    <tr>\n",
       "      <th>112 POST2019</th>\n",
       "      <td>Post</td>\n",
       "      <td>2019.0</td>\n",
       "      <td>112.0</td>\n",
       "      <td>0.143731</td>\n",
       "      <td>0.16208</td>\n",
       "      <td>0.119266</td>\n",
       "      <td>0.189602</td>\n",
       "      <td>0.229358</td>\n",
       "      <td>0.155963</td>\n",
       "    </tr>\n",
       "  </tbody>\n",
       "</table>\n",
       "</div>"
      ],
      "text/plain": [
       "             Pre/Post    Year Section       0.0       1.0       2.0       3.0  \\\n",
       "111 POST2014     Post  2014.0   111.0      0.24      0.22  0.113333  0.153333   \n",
       "111 POST2015     Post  2015.0   111.0  0.190476  0.253968  0.169312  0.142857   \n",
       "111 POST2016     Post  2016.0   111.0  0.223577  0.211382  0.134146  0.182927   \n",
       "111 POST2017     Post  2017.0   111.0  0.276596  0.164894  0.148936  0.154255   \n",
       "111 POST2018     Post  2018.0   111.0  0.172619  0.160714  0.077381  0.202381   \n",
       "111 POST2019     Post  2019.0   111.0  0.346154  0.182692     0.125  0.120192   \n",
       "112 POST2014     Post  2014.0   112.0   0.02551  0.091837  0.137755      0.25   \n",
       "112 POST2015     Post  2015.0   112.0  0.103306  0.169421  0.169421  0.198347   \n",
       "112 POST2016     Post  2016.0   112.0  0.135849  0.158491  0.218868  0.154717   \n",
       "112 POST2017     Post  2017.0   112.0  0.198529  0.216912  0.158088  0.139706   \n",
       "112 POST2018     Post  2018.0   112.0  0.136691  0.125899  0.136691  0.197842   \n",
       "112 POST2019     Post  2019.0   112.0  0.143731   0.16208  0.119266  0.189602   \n",
       "\n",
       "                   4.0       5.0  \n",
       "111 POST2014  0.166667  0.106667  \n",
       "111 POST2015  0.169312  0.074074  \n",
       "111 POST2016  0.186992  0.060976  \n",
       "111 POST2017  0.170213  0.085106  \n",
       "111 POST2018  0.244048  0.142857  \n",
       "111 POST2019  0.139423  0.086538  \n",
       "112 POST2014  0.295918   0.19898  \n",
       "112 POST2015  0.219008  0.140496  \n",
       "112 POST2016  0.215094  0.116981  \n",
       "112 POST2017  0.172794  0.113971  \n",
       "112 POST2018  0.241007  0.161871  \n",
       "112 POST2019  0.229358  0.155963  "
      ]
     },
     "execution_count": 34,
     "metadata": {},
     "output_type": "execute_result"
    }
   ],
   "source": [
    "fdm5 = fdm2[fdm2.loc[:,\"Pre/Post\"]==\"Post\"]\n",
    "fdm5"
   ]
  },
  {
   "cell_type": "code",
   "execution_count": null,
   "metadata": {},
   "outputs": [],
   "source": []
  }
 ],
 "metadata": {
  "kernelspec": {
   "display_name": "Python 3",
   "language": "python",
   "name": "python3"
  },
  "language_info": {
   "codemirror_mode": {
    "name": "ipython",
    "version": 3
   },
   "file_extension": ".py",
   "mimetype": "text/x-python",
   "name": "python",
   "nbconvert_exporter": "python",
   "pygments_lexer": "ipython3",
   "version": "3.8.1"
  }
 },
 "nbformat": 4,
 "nbformat_minor": 4
}
