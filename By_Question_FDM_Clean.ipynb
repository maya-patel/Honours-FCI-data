{
 "cells": [
  {
   "cell_type": "code",
   "execution_count": 1,
   "metadata": {},
   "outputs": [],
   "source": [
    "import pandas as pd\n",
    "import numpy as np\n",
    "import matplotlib.pyplot as plt\n",
    "from FCI_functions.FCI_functions import calculate_pre_score, calculate_post_score, calculate_question_score_post, calculate_question_score_pre"
   ]
  },
  {
   "cell_type": "code",
   "execution_count": 12,
   "metadata": {},
   "outputs": [],
   "source": [
    "df16_111 = pd.read_excel('rawdata/2016-17 WT1 Phys 111 ALL Data - Shared with Chelsea.xlsx').replace([\"BLANK\", \"!!\", \"MULT\"], np.nan)\n",
    "df16_112 = pd.read_excel('rawdata/2016-17 WT1 Phys 112 ALL Data - Shared with Chelsea.xlsx').replace([\"BLANK\", \"!!\", \"MULT\"], np.nan)\n",
    "df14_111 = pd.read_excel('rawdata/2014-15 WT1 Phys 111 ALL Data - Shared with Chelsea (20210212).xlsx').replace([\"BLANK\", \"!!\", \"MULT\"], np.nan)\n",
    "df14_112 = pd.read_excel('rawdata/2014-15 WT1 Phys 112 ALL Data - Shared with Chelsea (20210212).xlsx').replace([\"BLANK\", \"!!\", \"MULT\"], np.nan)\n",
    "df15_111 = pd.read_excel('rawdata/2015-16 WT1 Phys 111 ALL Data - Shared with Chelsea.xlsx').replace([\"BLANK\", \"!!\", \"MULT\"], np.nan)\n",
    "df15_112 = pd.read_excel('rawdata/2015-16 WT1 Phys 112 ALL Data - Shared with Chelsea.xlsx').replace([\"BLANK\", \"!!\", \"MULT\"], np.nan)\n",
    "df17_111 = pd.read_excel('rawdata/2017-18 WT1 Phys 111 ALL Data - Shared with David (20190612).xlsx').replace([\"BLANK\", \"!!\", \"MULT\"], np.nan)\n",
    "df17_112 = pd.read_excel('rawdata/2017-18 WT1 Phys 112 ALL Data - Shared with David (20190612).xlsx').replace([\"BLANK\", \"!!\", \"MULT\"], np.nan)\n",
    "df18_111 = pd.read_excel('rawdata/2018-19 WT1 Phys 111 ALL Data - Shared with David (20190530).xlsx').replace([\"BLANK\", \"!!\", \"MULT\"], np.nan)\n",
    "df18_112 = pd.read_excel('rawdata/2018-19 WT1 Phys 112 ALL Data - Shared with David (20190527).xlsx').replace([\"BLANK\", \"!!\", \"MULT\"], np.nan)#.drop(df18_112[df18_112['Secondary'] == L15].index)\n",
    "df19_111 = pd.read_excel('rawdata/2019-20 WT1 Phys 111 ALL Data - Shared with Maya (20211222).xlsx').replace([\"BLANK\", \"!!\", \"MULT\"], np.nan)\n",
    "df19_112 = pd.read_excel('rawdata/2019-20 WT1 Phys 112 ALL Data - Shared with Maya (20211222).xlsx').replace([\"BLANK\", \"!!\", \"MULT\"], np.nan)\n",
    "df20 = pd.read_excel('rawdata/2020-21 WT1 Phys 111&112 ALL Data - Shared with Chelsea (20210329).xlsx').replace([\"BLANK\", \"!!\", \"MULT\"], np.nan)\n",
    "is_111 = df20['Course'] == 111\n",
    "df20_111 = df20[is_111]\n",
    "is_112 = df20['Course'] == 112\n",
    "df20_112 = df20[is_112]\n",
    "\n",
    "df21_111 = pd.read_excel('2021raw_corrected.xlsx')"
   ]
  },
  {
   "cell_type": "code",
   "execution_count": 2,
   "metadata": {},
   "outputs": [],
   "source": [
    "def calculate_pre_score_FDM(student):\n",
    "    corr_ans = ['C' , 'D', 'B' , 'C', 'B' , 'C' , 'E', 'A', 'C' , 'D' , 'E', 'A']\n",
    "    score = 0\n",
    "    questions = [5, 5, 11, 11, 13, 13, 13, 17, 18, 18, 18, 27]\n",
    "    for i in range(12):\n",
    "        string = \"PRE Q\"+ str(questions[i])\n",
    "        if string in student:\n",
    "            if student[string]==corr_ans[i]:\n",
    "                score+=1                \n",
    "            if pd.isna(student[string]):\n",
    "                score=None\n",
    "                break\n",
    "            \n",
    "    return (score)"
   ]
  },
  {
   "cell_type": "code",
   "execution_count": 3,
   "metadata": {},
   "outputs": [],
   "source": [
    "def calculate_pre_score_FDM_2021(student):\n",
    "    corr_ans = [3 , 4, 2 , 3, 2 , 3 , 5, 1, 3 , 4 , 5, 1]\n",
    "    score = 0\n",
    "    questions = [5, 5, 11, 11, 13, 13, 13, 17, 18, 18, 18, 27]\n",
    "    for i in range(12):\n",
    "        string = \"PRE Q\"+ str(questions[i])\n",
    "        if string in student:\n",
    "            if student[string]==corr_ans[i]:\n",
    "                score+=1                \n",
    "            if pd.isna(student[string]):\n",
    "                score=None\n",
    "                break\n",
    "            \n",
    "    return (score)"
   ]
  },
  {
   "cell_type": "code",
   "execution_count": 4,
   "metadata": {},
   "outputs": [],
   "source": [
    "def calculate_pre_score_FDM_2020(student):\n",
    "    corr_ans = [3 , 4, 2 , 3, 2 , 3 , 5, 1, 3 , 4 , 5, 1]\n",
    "    score = 0\n",
    "    questions = [5, 5, 11, 11, 13, 13, 13, 17, 18, 18, 18, 27]\n",
    "    for i in range(12):\n",
    "        string = \"PRE Q\"+ str(questions[i])\n",
    "        if string in student:\n",
    "            if student[string]==corr_ans[i]:\n",
    "                score+=1\n",
    "            if pd.isna(student[string]):\n",
    "                score=None\n",
    "                break\n",
    "            \n",
    "    return (score)"
   ]
  },
  {
   "cell_type": "code",
   "execution_count": 5,
   "metadata": {},
   "outputs": [],
   "source": [
    "def calculate_post_score_FDM(student):\n",
    "    corr_ans = ['C' , 'D', 'B' , 'C', 'B' , 'C' , 'E', 'A', 'C' , 'D' , 'E', 'A']\n",
    "    score = 0\n",
    "    questions = [5, 5, 11, 11, 13, 13, 13, 17, 18, 18, 18, 27]\n",
    "    for i in range(12):\n",
    "        string = \"POST Q\"+ str(questions[i])\n",
    "        if string in student:\n",
    "            if student[string]==corr_ans[i]:\n",
    "                score+=1\n",
    "            if pd.isna(student[string]):\n",
    "                score=None\n",
    "                break\n",
    "            \n",
    "    return (score)"
   ]
  },
  {
   "cell_type": "code",
   "execution_count": 6,
   "metadata": {},
   "outputs": [],
   "source": [
    "def calculate_post_score_FDM_2021(student):\n",
    "    corr_ans = [3 , 4, 2 , 3, 2 , 3 , 5, 1, 2 , 4 , 5, 1]\n",
    "    score = 0\n",
    "    questions = [5, 5, 11, 11, 13, 13, 13, 17, 18, 18, 18, 27]\n",
    "    for i in range(12):\n",
    "        string = \"POST Q\"+ str(questions[i])\n",
    "        if string in student:\n",
    "            if student[string]==corr_ans[i]:\n",
    "                score+=1\n",
    "            if pd.isna(student[string]):\n",
    "                score=None\n",
    "                break\n",
    "            \n",
    "    return (score)"
   ]
  },
  {
   "cell_type": "code",
   "execution_count": 7,
   "metadata": {},
   "outputs": [],
   "source": [
    "def calculate_post_score_FDM_2020(student):\n",
    "    corr_ans = [3 , 4, 2 , 3, 2 , 3 , 5, 1, 3 , 4 , 5, 1]\n",
    "    score = 0\n",
    "    questions = [5, 5, 11, 11, 13, 13, 13, 17, 18, 18, 18, 27]\n",
    "    for i in range(12):\n",
    "        string = \"POST Q\"+ str(questions[i])\n",
    "        if string in student:\n",
    "            if student[string]==corr_ans[i]:\n",
    "                score+=1\n",
    "            if pd.isna(student[string]):\n",
    "                score=None\n",
    "                break\n",
    "            \n",
    "    return (score)"
   ]
  },
  {
   "cell_type": "code",
   "execution_count": 14,
   "metadata": {},
   "outputs": [],
   "source": [
    "fdm111 = pd.DataFrame()\n",
    "fdm112 = pd.DataFrame()"
   ]
  },
  {
   "cell_type": "code",
   "execution_count": 15,
   "metadata": {},
   "outputs": [],
   "source": [
    "def FDM(df111, df112, year):\n",
    "    df111.apply(calculate_post_score_FDM, axis=1).plot.hist(alpha=0.5, bins=7)\n",
    "    df111.apply(calculate_pre_score_FDM, axis=1).plot.hist(alpha=0.5, bins=7)\n",
    "    plt.legend([\"post\", \"pre\"])\n",
    "    plt.title(\"111 \" + year)\n",
    "    #plt.xlim(0,7)\n",
    "    plt.show()\n",
    "    \n",
    "    df1 = df111.apply(calculate_pre_score_FDM, axis=1).value_counts(normalize=True, ascending=True).to_frame(name = \"111 PRE \" + year)\n",
    "    fdm111[\"111 PRE\" + year] = df1\n",
    "    df1[\"111 POST \"+ year] = df111.apply(calculate_post_score_FDM, axis=1).value_counts(normalize=True, ascending=True)\n",
    "    fdm111[\"111 POST\" + year] = df1[\"111 POST \"+ year]\n",
    "\n",
    "    print(df1)\n",
    "\n",
    "    df112.apply(calculate_post_score_FDM, axis=1).plot.hist(alpha=0.5, bins=7)\n",
    "    df112.apply(calculate_pre_score_FDM, axis=1).plot.hist(alpha=0.5, bins=7)\n",
    "    plt.legend([\"post\", \"pre\"])\n",
    "    plt.title(\"112 \"+ year)\n",
    "    #plt.xlim(0,7)\n",
    "    plt.show()\n",
    "\n",
    "    df2 = df112.apply(calculate_pre_score_FDM, axis=1).value_counts(normalize=True, ascending=True).to_frame(name = \"112 PRE \" + year)\n",
    "    fdm112[\"112 PRE\" + year] = df2\n",
    "    df2[\"112 POST \" + year] = df112.apply(calculate_post_score_FDM, axis=1).value_counts(normalize=True, ascending=True)\n",
    "    fdm112[\"112 POST\" + year] = df2[\"112 POST \"+ year]\n",
    "    \n",
    "    print(df2)\n",
    "\n",
    "    is_f111 = df111['PRE Q85']== 'A'\n",
    "    df_f111 = df111[is_f111]\n",
    "    \n",
    "    is_f112 = df112['PRE Q85']== 'A'\n",
    "    df_f112 = df112[is_f112]\n",
    "\n",
    "    df_f111.apply(calculate_post_score_FDM, axis=1).plot.hist(alpha=0.5, bins=7)\n",
    "    df_f111.apply(calculate_pre_score_FDM, axis=1).plot.hist(alpha=0.5, bins=7)\n",
    "    plt.legend([\"post\", \"pre\"])\n",
    "    plt.title(\"Female 111 \" + year)\n",
    "    plt.show()\n",
    "    \n",
    "    df3 = df111.apply(calculate_pre_score_FDM, axis=1).value_counts(normalize=True, ascending=True).to_frame(name = \"111 FEMALE PRE\")\n",
    "    df3[\"111 FEMALE POST \" + year ] = df111.apply(calculate_post_score_FDM, axis=1).value_counts(normalize=True, ascending=True)\n",
    "\n",
    "    print(df3)\n",
    "    \n",
    "    df_f112.apply(calculate_post_score_FDM, axis=1).plot.hist(alpha=0.5, bins=7)\n",
    "    df_f112.apply(calculate_pre_score_FDM, axis=1).plot.hist(alpha=0.5, bins=7)\n",
    "    plt.legend([\"post\", \"pre\"])\n",
    "    plt.title(\"Female 112 \" + year)\n",
    "    plt.show()\n",
    "    \n",
    "    df4 = df112.apply(calculate_pre_score_FDM, axis=1).value_counts(normalize=True, ascending=True).to_frame(name = \"112 FEMALE PRE\")\n",
    "    df4[\"112 FEMALE POST \" + year] = df112.apply(calculate_post_score_FDM, axis=1).value_counts(normalize=True, ascending=True)\n",
    "    print(df4)"
   ]
  },
  {
   "cell_type": "code",
   "execution_count": 9,
   "metadata": {},
   "outputs": [],
   "source": [
    "def FDM_2020(df111, df112):\n",
    "    year = '2020'\n",
    "    df111.apply(calculate_post_score_FDM_2020, axis=1).plot.hist(alpha=0.5, bins=7)\n",
    "    df111.apply(calculate_pre_score_FDM_2020, axis=1).plot.hist(alpha=0.5, bins=7)\n",
    "    plt.legend([\"post\", \"pre\"])\n",
    "    plt.title(\"111\")\n",
    "    #plt.xlim(0,7)\n",
    "    plt.show()\n",
    "    \n",
    "    df1 = df111.apply(calculate_pre_score_FDM_2020, axis=1).value_counts(normalize=True, ascending=True).to_frame(name = \"111 PRE\")\n",
    "    df1[\"111 POST\"] = df111.apply(calculate_post_score_FDM_2020, axis=1).value_counts(normalize=True, ascending=True)\n",
    "\n",
    "    print(df1)\n",
    "\n",
    "    df112.apply(calculate_post_score_FDM_2020, axis=1).plot.hist(alpha=0.5, bins=7)\n",
    "    df112.apply(calculate_pre_score_FDM_2020, axis=1).plot.hist(alpha=0.5, bins=7)\n",
    "    plt.legend([\"post\", \"pre\"])\n",
    "    plt.title(\"112\")\n",
    "    #plt.xlim(0,7)\n",
    "    plt.show()\n",
    "\n",
    "    df2 = df112.apply(calculate_pre_score_FDM_2020, axis=1).value_counts(normalize=True, ascending=True).to_frame(name = \"112 PRE\")\n",
    "    df2[\"112 POST \" + year] = df112.apply(calculate_post_score_FDM_2020, axis=1).value_counts(normalize=True, ascending=True)\n",
    "    print(df2)\n",
    "\n",
    "    is_f111 = df111['PRE Q12']== 1\n",
    "    df_f111 = df111[is_f111]\n",
    "    \n",
    "    is_f112 = df112['PRE Q12']== 1\n",
    "    df_f112 = df112[is_f112]\n",
    "\n",
    "    df_f111.apply(calculate_post_score_FDM_2020, axis=1).plot.hist(alpha=0.5, bins=7)\n",
    "    df_f111.apply(calculate_pre_score_FDM_2020, axis=1).plot.hist(alpha=0.5, bins=7)\n",
    "    plt.legend([\"post\", \"pre\"])\n",
    "    plt.title(\"Female 111\")\n",
    "    plt.show()\n",
    "    \n",
    "    df3 = df111.apply(calculate_pre_score_FDM_2020, axis=1).value_counts(normalize=True, ascending=True).to_frame(name = \"111 FEMALE PRE\")\n",
    "    df3[\"111 FEMALE POST\"] = df111.apply(calculate_post_score_FDM_2020, axis=1).value_counts(normalize=True, ascending=True)\n",
    "\n",
    "    print(df3)\n",
    "    \n",
    "    df_f112.apply(calculate_post_score_FDM_2020, axis=1).plot.hist(alpha=0.5, bins=7)\n",
    "    df_f112.apply(calculate_pre_score_FDM_2020, axis=1).plot.hist(alpha=0.5, bins=7)\n",
    "    plt.legend([\"post\", \"pre\"])\n",
    "    plt.title(\"Female 112\")\n",
    "    plt.show()\n",
    "    \n",
    "    df4 = df112.apply(calculate_pre_score_FDM_2020, axis=1).value_counts(normalize=True, ascending=True).to_frame(name = \"112 FEMALE PRE\")\n",
    "    df4[\"112 FEMALE POST\"] = df112.apply(calculate_post_score_FDM_2020, axis=1).value_counts(normalize=True, ascending=True)\n",
    "    print(df4)"
   ]
  },
  {
   "cell_type": "code",
   "execution_count": 10,
   "metadata": {},
   "outputs": [],
   "source": [
    "def FDM_2021(df111, df112):\n",
    "    year = '2021'\n",
    "    df111.apply(calculate_post_score_FDM_2021, axis=1).plot.hist(alpha=0.5, bins=7)\n",
    "    df111.apply(calculate_pre_score_FDM_2021, axis=1).plot.hist(alpha=0.5, bins=7)\n",
    "    plt.legend([\"post\", \"pre\"])\n",
    "    plt.title(\"111\")\n",
    "    #plt.xlim(0,7)\n",
    "    plt.show()\n",
    "    \n",
    "    df1 = df111.apply(calculate_pre_score_FDM_2021, axis=1).value_counts(normalize=True, ascending=True).to_frame(name = \"111 PRE\")\n",
    "    df1[\"111 POST\"] = df111.apply(calculate_post_score_FDM_2021, axis=1).value_counts(normalize=True, ascending=True)\n",
    "\n",
    "    print(df1)\n",
    "\n",
    "    df112.apply(calculate_post_score_FDM_2021, axis=1).plot.hist(alpha=0.5, bins=7)\n",
    "    df112.apply(calculate_pre_score_FDM_2021, axis=1).plot.hist(alpha=0.5, bins=7)\n",
    "    plt.legend([\"post\", \"pre\"])\n",
    "    plt.title(\"112\")\n",
    "    #plt.xlim(0,7)\n",
    "    plt.show()\n",
    "\n",
    "    df2 = df112.apply(calculate_pre_score_FDM_2021, axis=1).value_counts(normalize=True, ascending=True).to_frame(name = \"112 PRE\")\n",
    "    df2[\"112 POST \" + year] = df112.apply(calculate_post_score_FDM_2021, axis=1).value_counts(normalize=True, ascending=True)\n",
    "    print(df2)\n",
    "\n",
    "    is_f111 = df111['PRE Q12']== 1\n",
    "    df_f111 = df111[is_f111]\n",
    "    \n",
    "    is_f112 = df112['PRE Q12']== 1\n",
    "    df_f112 = df112[is_f112]\n",
    "\n",
    "    df_f111.apply(calculate_post_score_FDM_2021, axis=1).plot.hist(alpha=0.5, bins=7)\n",
    "    df_f111.apply(calculate_pre_score_FDM_2021, axis=1).plot.hist(alpha=0.5, bins=7)\n",
    "    plt.legend([\"post\", \"pre\"])\n",
    "    plt.title(\"Female 111\")\n",
    "    plt.show()\n",
    "    \n",
    "    df3 = df111.apply(calculate_pre_score_FDM_2021, axis=1).value_counts(normalize=True, ascending=True).to_frame(name = \"111 FEMALE PRE\")\n",
    "    df3[\"111 FEMALE POST\"] = df111.apply(calculate_post_score_FDM_2021, axis=1).value_counts(normalize=True, ascending=True)\n",
    "\n",
    "    print(df3)\n",
    "    \n",
    "    df_f112.apply(calculate_post_score_FDM_2021, axis=1).plot.hist(alpha=0.5, bins=7)\n",
    "    df_f112.apply(calculate_pre_score_FDM_2021, axis=1).plot.hist(alpha=0.5, bins=7)\n",
    "    plt.legend([\"post\", \"pre\"])\n",
    "    plt.title(\"Female 112\")\n",
    "    plt.show()\n",
    "    \n",
    "    df4 = df112.apply(calculate_pre_score_FDM_2021, axis=1).value_counts(normalize=True, ascending=True).to_frame(name = \"112 FEMALE PRE\")\n",
    "    df4[\"112 FEMALE POST\"] = df112.apply(calculate_post_score_FDM_2021, axis=1).value_counts(normalize=True, ascending=True)\n",
    "    print(df4)"
   ]
  },
  {
   "cell_type": "code",
   "execution_count": 16,
   "metadata": {
    "scrolled": true
   },
   "outputs": [
    {
     "data": {
      "image/png": "[encoded data removed]",
      "text/plain": [
       "<Figure size 432x288 with 1 Axes>"
      ]
     },
     "metadata": {
      "needs_background": "light"
     },
     "output_type": "display_data"
    },
    {
     "name": "stdout",
     "output_type": "stream",
     "text": [
      "     111 PRE 2014  111 POST 2014\n",
      "6.0      0.052288       0.013333\n",
      "0.0      0.091503       0.220000\n",
      "2.0      0.130719       0.153333\n",
      "1.0      0.150327       0.193333\n",
      "3.0      0.176471       0.133333\n",
      "4.0      0.189542       0.140000\n",
      "5.0      0.209150       0.146667\n"
     ]
    },
    {
     "data": {
      "image/png": "[encoded data removed]",
      "text/plain": [
       "<Figure size 432x288 with 1 Axes>"
      ]
     },
     "metadata": {
      "needs_background": "light"
     },
     "output_type": "display_data"
    },
    {
     "name": "stdout",
     "output_type": "stream",
     "text": [
      "     112 PRE 2014  112 POST 2014\n",
      "0.0      0.004878       0.025510\n",
      "1.0      0.029268       0.081633\n",
      "2.0      0.078049       0.102041\n",
      "6.0      0.107317       0.086735\n",
      "3.0      0.175610       0.239796\n",
      "4.0      0.297561       0.229592\n",
      "5.0      0.307317       0.234694\n"
     ]
    },
    {
     "data": {
      "image/png": "[encoded data removed]",
      "text/plain": [
       "<Figure size 432x288 with 1 Axes>"
      ]
     },
     "metadata": {
      "needs_background": "light"
     },
     "output_type": "display_data"
    },
    {
     "name": "stdout",
     "output_type": "stream",
     "text": [
      "     111 FEMALE PRE  111 FEMALE POST 2014\n",
      "6.0        0.052288              0.013333\n",
      "0.0        0.091503              0.220000\n",
      "2.0        0.130719              0.153333\n",
      "1.0        0.150327              0.193333\n",
      "3.0        0.176471              0.133333\n",
      "4.0        0.189542              0.140000\n",
      "5.0        0.209150              0.146667\n"
     ]
    },
    {
     "data": {
      "image/png": "[encoded data removed]",
      "text/plain": [
       "<Figure size 432x288 with 1 Axes>"
      ]
     },
     "metadata": {
      "needs_background": "light"
     },
     "output_type": "display_data"
    },
    {
     "name": "stdout",
     "output_type": "stream",
     "text": [
      "     112 FEMALE PRE  112 FEMALE POST 2014\n",
      "0.0        0.004878              0.025510\n",
      "1.0        0.029268              0.081633\n",
      "2.0        0.078049              0.102041\n",
      "6.0        0.107317              0.086735\n",
      "3.0        0.175610              0.239796\n",
      "4.0        0.297561              0.229592\n",
      "5.0        0.307317              0.234694\n"
     ]
    }
   ],
   "source": [
    "FDM(df14_111, df14_112, \"2014\")"
   ]
  },
  {
   "cell_type": "code",
   "execution_count": 110,
   "metadata": {},
   "outputs": [
    {
     "data": {
      "text/html": [
       "<div>\n",
       "<style scoped>\n",
       "    .dataframe tbody tr th:only-of-type {\n",
       "        vertical-align: middle;\n",
       "    }\n",
       "\n",
       "    .dataframe tbody tr th {\n",
       "        vertical-align: top;\n",
       "    }\n",
       "\n",
       "    .dataframe thead th {\n",
       "        text-align: right;\n",
       "    }\n",
       "</style>\n",
       "<table border=\"1\" class=\"dataframe\">\n",
       "  <thead>\n",
       "    <tr style=\"text-align: right;\">\n",
       "      <th></th>\n",
       "    </tr>\n",
       "  </thead>\n",
       "  <tbody>\n",
       "  </tbody>\n",
       "</table>\n",
       "</div>"
      ],
      "text/plain": [
       "Empty DataFrame\n",
       "Columns: []\n",
       "Index: []"
      ]
     },
     "execution_count": 110,
     "metadata": {},
     "output_type": "execute_result"
    }
   ],
   "source": [
    "fdm111_pre"
   ]
  },
  {
   "cell_type": "code",
   "execution_count": 17,
   "metadata": {
    "scrolled": true
   },
   "outputs": [
    {
     "data": {
      "image/png": "[encoded data removed]",
      "text/plain": [
       "<Figure size 432x288 with 1 Axes>"
      ]
     },
     "metadata": {
      "needs_background": "light"
     },
     "output_type": "display_data"
    },
    {
     "name": "stdout",
     "output_type": "stream",
     "text": [
      "     111 PRE 2015  111 POST 2015\n",
      "0.0      0.048077       0.164021\n",
      "6.0      0.048077       0.015873\n",
      "2.0      0.105769       0.153439\n",
      "1.0      0.144231       0.243386\n",
      "3.0      0.173077       0.148148\n",
      "4.0      0.230769       0.169312\n",
      "5.0      0.250000       0.105820\n"
     ]
    },
    {
     "data": {
      "image/png": "[encoded data removed]",
      "text/plain": [
       "<Figure size 432x288 with 1 Axes>"
      ]
     },
     "metadata": {
      "needs_background": "light"
     },
     "output_type": "display_data"
    },
    {
     "name": "stdout",
     "output_type": "stream",
     "text": [
      "     112 PRE 2015  112 POST 2015\n",
      "0.0      0.012605       0.099585\n",
      "1.0      0.021008       0.136929\n",
      "2.0      0.079832       0.170124\n",
      "6.0      0.109244       0.045643\n",
      "3.0      0.176471       0.161826\n",
      "5.0      0.273109       0.165975\n",
      "4.0      0.327731       0.219917\n"
     ]
    },
    {
     "data": {
      "image/png": "[encoded data removed]",
      "text/plain": [
       "<Figure size 432x288 with 1 Axes>"
      ]
     },
     "metadata": {
      "needs_background": "light"
     },
     "output_type": "display_data"
    },
    {
     "name": "stdout",
     "output_type": "stream",
     "text": [
      "     111 FEMALE PRE  111 FEMALE POST 2015\n",
      "0.0        0.048077              0.164021\n",
      "6.0        0.048077              0.015873\n",
      "2.0        0.105769              0.153439\n",
      "1.0        0.144231              0.243386\n",
      "3.0        0.173077              0.148148\n",
      "4.0        0.230769              0.169312\n",
      "5.0        0.250000              0.105820\n"
     ]
    },
    {
     "data": {
      "image/png": "[encoded data removed]",
      "text/plain": [
       "<Figure size 432x288 with 1 Axes>"
      ]
     },
     "metadata": {
      "needs_background": "light"
     },
     "output_type": "display_data"
    },
    {
     "name": "stdout",
     "output_type": "stream",
     "text": [
      "     112 FEMALE PRE  112 FEMALE POST 2015\n",
      "0.0        0.012605              0.099585\n",
      "1.0        0.021008              0.136929\n",
      "2.0        0.079832              0.170124\n",
      "6.0        0.109244              0.045643\n",
      "3.0        0.176471              0.161826\n",
      "5.0        0.273109              0.165975\n",
      "4.0        0.327731              0.219917\n"
     ]
    }
   ],
   "source": [
    "FDM(df15_111, df15_112, \"2015\")"
   ]
  },
  {
   "cell_type": "code",
   "execution_count": 112,
   "metadata": {
    "scrolled": true
   },
   "outputs": [
    {
     "data": {
      "image/png": "[encoded data removed]",
      "text/plain": [
       "<Figure size 432x288 with 1 Axes>"
      ]
     },
     "metadata": {
      "needs_background": "light"
     },
     "output_type": "display_data"
    },
    {
     "name": "stdout",
     "output_type": "stream",
     "text": [
      "     111 PRE 2016  111 POST 2016\n",
      "6.0      0.045455       0.024793\n",
      "0.0      0.078512       0.219008\n",
      "2.0      0.123967       0.119835\n",
      "1.0      0.148760       0.194215\n",
      "5.0      0.152893       0.111570\n",
      "3.0      0.198347       0.185950\n",
      "4.0      0.252066       0.144628\n"
     ]
    },
    {
     "data": {
      "image/png": "[encoded data removed]",
      "text/plain": [
       "<Figure size 432x288 with 1 Axes>"
      ]
     },
     "metadata": {
      "needs_background": "light"
     },
     "output_type": "display_data"
    },
    {
     "name": "stdout",
     "output_type": "stream",
     "text": [
      "     112 PRE 2016  112 POST 2016\n",
      "0.0      0.017606       0.091603\n",
      "1.0      0.056338       0.164122\n",
      "6.0      0.063380       0.034351\n",
      "2.0      0.073944       0.198473\n",
      "3.0      0.218310       0.183206\n",
      "4.0      0.285211       0.171756\n",
      "5.0      0.285211       0.156489\n"
     ]
    },
    {
     "data": {
      "image/png": "[encoded data removed]",
      "text/plain": [
       "<Figure size 432x288 with 1 Axes>"
      ]
     },
     "metadata": {
      "needs_background": "light"
     },
     "output_type": "display_data"
    },
    {
     "name": "stdout",
     "output_type": "stream",
     "text": [
      "     111 FEMALE PRE  111 FEMALE POST 2016\n",
      "6.0        0.045455              0.024793\n",
      "0.0        0.078512              0.219008\n",
      "2.0        0.123967              0.119835\n",
      "1.0        0.148760              0.194215\n",
      "5.0        0.152893              0.111570\n",
      "3.0        0.198347              0.185950\n",
      "4.0        0.252066              0.144628\n"
     ]
    },
    {
     "data": {
      "image/png": "[encoded data removed]",
      "text/plain": [
       "<Figure size 432x288 with 1 Axes>"
      ]
     },
     "metadata": {
      "needs_background": "light"
     },
     "output_type": "display_data"
    },
    {
     "name": "stdout",
     "output_type": "stream",
     "text": [
      "     112 FEMALE PRE  112 FEMALE POST 2016\n",
      "0.0        0.017606              0.091603\n",
      "1.0        0.056338              0.164122\n",
      "6.0        0.063380              0.034351\n",
      "2.0        0.073944              0.198473\n",
      "3.0        0.218310              0.183206\n",
      "4.0        0.285211              0.171756\n",
      "5.0        0.285211              0.156489\n"
     ]
    }
   ],
   "source": [
    "FDM(df16_111, df16_112, \"2016\")"
   ]
  },
  {
   "cell_type": "code",
   "execution_count": 113,
   "metadata": {
    "scrolled": true
   },
   "outputs": [
    {
     "data": {
      "image/png": "[encoded data removed]",
      "text/plain": [
       "<Figure size 432x288 with 1 Axes>"
      ]
     },
     "metadata": {
      "needs_background": "light"
     },
     "output_type": "display_data"
    },
    {
     "name": "stdout",
     "output_type": "stream",
     "text": [
      "     111 PRE 2017  111 POST 2017\n",
      "6.0      0.037634       0.016129\n",
      "3.0      0.129032       0.145161\n",
      "0.0      0.150538       0.252688\n",
      "2.0      0.155914       0.145161\n",
      "1.0      0.155914       0.166667\n",
      "5.0      0.182796       0.112903\n",
      "4.0      0.188172       0.161290\n"
     ]
    },
    {
     "data": {
      "image/png": "[encoded data removed]",
      "text/plain": [
       "<Figure size 432x288 with 1 Axes>"
      ]
     },
     "metadata": {
      "needs_background": "light"
     },
     "output_type": "display_data"
    },
    {
     "name": "stdout",
     "output_type": "stream",
     "text": [
      "     112 PRE 2017  112 POST 2017\n",
      "0.0      0.030075       0.176471\n",
      "1.0      0.078947       0.183824\n",
      "2.0      0.082707       0.180147\n",
      "6.0      0.090226       0.044118\n",
      "3.0      0.176692       0.136029\n",
      "4.0      0.251880       0.150735\n",
      "5.0      0.289474       0.128676\n"
     ]
    },
    {
     "data": {
      "image/png": "[encoded data removed]",
      "text/plain": [
       "<Figure size 432x288 with 1 Axes>"
      ]
     },
     "metadata": {
      "needs_background": "light"
     },
     "output_type": "display_data"
    },
    {
     "name": "stdout",
     "output_type": "stream",
     "text": [
      "     111 FEMALE PRE  111 FEMALE POST 2017\n",
      "6.0        0.037634              0.016129\n",
      "3.0        0.129032              0.145161\n",
      "0.0        0.150538              0.252688\n",
      "2.0        0.155914              0.145161\n",
      "1.0        0.155914              0.166667\n",
      "5.0        0.182796              0.112903\n",
      "4.0        0.188172              0.161290\n"
     ]
    },
    {
     "data": {
      "image/png": "[encoded data removed]",
      "text/plain": [
       "<Figure size 432x288 with 1 Axes>"
      ]
     },
     "metadata": {
      "needs_background": "light"
     },
     "output_type": "display_data"
    },
    {
     "name": "stdout",
     "output_type": "stream",
     "text": [
      "     112 FEMALE PRE  112 FEMALE POST 2017\n",
      "0.0        0.030075              0.176471\n",
      "1.0        0.078947              0.183824\n",
      "2.0        0.082707              0.180147\n",
      "6.0        0.090226              0.044118\n",
      "3.0        0.176692              0.136029\n",
      "4.0        0.251880              0.150735\n",
      "5.0        0.289474              0.128676\n"
     ]
    }
   ],
   "source": [
    "FDM(df17_111, df17_112, \"2017\")"
   ]
  },
  {
   "cell_type": "code",
   "execution_count": 114,
   "metadata": {
    "scrolled": true
   },
   "outputs": [
    {
     "data": {
      "image/png": "[encoded data removed]",
      "text/plain": [
       "<Figure size 432x288 with 1 Axes>"
      ]
     },
     "metadata": {
      "needs_background": "light"
     },
     "output_type": "display_data"
    },
    {
     "name": "stdout",
     "output_type": "stream",
     "text": [
      "     111 PRE 2018  111 POST 2018\n",
      "6.0      0.061798       0.054217\n",
      "1.0      0.106742       0.156627\n",
      "5.0      0.134831       0.168675\n",
      "2.0      0.134831       0.096386\n",
      "0.0      0.146067       0.162651\n",
      "3.0      0.185393       0.192771\n",
      "4.0      0.230337       0.168675\n"
     ]
    },
    {
     "data": {
      "image/png": "[encoded data removed]",
      "text/plain": [
       "<Figure size 432x288 with 1 Axes>"
      ]
     },
     "metadata": {
      "needs_background": "light"
     },
     "output_type": "display_data"
    },
    {
     "name": "stdout",
     "output_type": "stream",
     "text": [
      "     112 PRE 2018  112 POST 2018\n",
      "0.0      0.035370       0.120000\n",
      "1.0      0.041801       0.098182\n",
      "6.0      0.057878       0.061818\n",
      "2.0      0.073955       0.138182\n",
      "3.0      0.180064       0.163636\n",
      "5.0      0.254019       0.189091\n",
      "4.0      0.356913       0.229091\n"
     ]
    },
    {
     "data": {
      "image/png": "[encoded data removed]",
      "text/plain": [
       "<Figure size 432x288 with 1 Axes>"
      ]
     },
     "metadata": {
      "needs_background": "light"
     },
     "output_type": "display_data"
    },
    {
     "name": "stdout",
     "output_type": "stream",
     "text": [
      "     111 FEMALE PRE  111 FEMALE POST 2018\n",
      "6.0        0.061798              0.054217\n",
      "1.0        0.106742              0.156627\n",
      "5.0        0.134831              0.168675\n",
      "2.0        0.134831              0.096386\n",
      "0.0        0.146067              0.162651\n",
      "3.0        0.185393              0.192771\n",
      "4.0        0.230337              0.168675\n"
     ]
    },
    {
     "data": {
      "image/png": "[encoded data removed]",
      "text/plain": [
       "<Figure size 432x288 with 1 Axes>"
      ]
     },
     "metadata": {
      "needs_background": "light"
     },
     "output_type": "display_data"
    },
    {
     "name": "stdout",
     "output_type": "stream",
     "text": [
      "     112 FEMALE PRE  112 FEMALE POST 2018\n",
      "0.0        0.035370              0.120000\n",
      "1.0        0.041801              0.098182\n",
      "6.0        0.057878              0.061818\n",
      "2.0        0.073955              0.138182\n",
      "3.0        0.180064              0.163636\n",
      "5.0        0.254019              0.189091\n",
      "4.0        0.356913              0.229091\n"
     ]
    }
   ],
   "source": [
    "FDM(df18_111, df18_112, \"2018\")"
   ]
  },
  {
   "cell_type": "code",
   "execution_count": 115,
   "metadata": {
    "scrolled": true
   },
   "outputs": [
    {
     "data": {
      "image/png": "[encoded data removed]",
      "text/plain": [
       "<Figure size 432x288 with 1 Axes>"
      ]
     },
     "metadata": {
      "needs_background": "light"
     },
     "output_type": "display_data"
    },
    {
     "name": "stdout",
     "output_type": "stream",
     "text": [
      "     111 PRE 2019  111 POST 2019\n",
      "6.0      0.042654       0.033654\n",
      "2.0      0.104265       0.110577\n",
      "1.0      0.142180       0.201923\n",
      "0.0      0.156398       0.317308\n",
      "5.0      0.175355       0.105769\n",
      "3.0      0.175355       0.120192\n",
      "4.0      0.203791       0.110577\n"
     ]
    },
    {
     "data": {
      "image/png": "[encoded data removed]",
      "text/plain": [
       "<Figure size 432x288 with 1 Axes>"
      ]
     },
     "metadata": {
      "needs_background": "light"
     },
     "output_type": "display_data"
    },
    {
     "name": "stdout",
     "output_type": "stream",
     "text": [
      "     112 PRE 2019  112 POST 2019\n",
      "0.0      0.022293       0.125382\n",
      "1.0      0.047771       0.146789\n",
      "6.0      0.085987       0.064220\n",
      "2.0      0.101911       0.119266\n",
      "3.0      0.146497       0.168196\n",
      "4.0      0.296178       0.198777\n",
      "5.0      0.299363       0.177370\n"
     ]
    },
    {
     "data": {
      "image/png": "[encoded data removed]",
      "text/plain": [
       "<Figure size 432x288 with 1 Axes>"
      ]
     },
     "metadata": {
      "needs_background": "light"
     },
     "output_type": "display_data"
    },
    {
     "name": "stdout",
     "output_type": "stream",
     "text": [
      "     111 FEMALE PRE  111 FEMALE POST 2019\n",
      "6.0        0.042654              0.033654\n",
      "2.0        0.104265              0.110577\n",
      "1.0        0.142180              0.201923\n",
      "0.0        0.156398              0.317308\n",
      "5.0        0.175355              0.105769\n",
      "3.0        0.175355              0.120192\n",
      "4.0        0.203791              0.110577\n"
     ]
    },
    {
     "data": {
      "image/png": "[encoded data removed]",
      "text/plain": [
       "<Figure size 432x288 with 1 Axes>"
      ]
     },
     "metadata": {
      "needs_background": "light"
     },
     "output_type": "display_data"
    },
    {
     "name": "stdout",
     "output_type": "stream",
     "text": [
      "     112 FEMALE PRE  112 FEMALE POST 2019\n",
      "0.0        0.022293              0.125382\n",
      "1.0        0.047771              0.146789\n",
      "6.0        0.085987              0.064220\n",
      "2.0        0.101911              0.119266\n",
      "3.0        0.146497              0.168196\n",
      "4.0        0.296178              0.198777\n",
      "5.0        0.299363              0.177370\n"
     ]
    }
   ],
   "source": [
    "FDM(df19_111, df19_112, \"2019\")"
   ]
  },
  {
   "cell_type": "code",
   "execution_count": 29,
   "metadata": {
    "scrolled": true
   },
   "outputs": [
    {
     "data": {
      "image/png": "[encoded data removed]",
      "text/plain": [
       "<Figure size 432x288 with 1 Axes>"
      ]
     },
     "metadata": {
      "needs_background": "light"
     },
     "output_type": "display_data"
    },
    {
     "name": "stdout",
     "output_type": "stream",
     "text": [
      "      111 PRE  111 POST\n",
      "4.0  0.045643  0.205405\n",
      "0.0  0.082988  0.118919\n",
      "3.0  0.228216  0.286486\n",
      "1.0  0.244813  0.097297\n",
      "2.0  0.398340  0.216216\n"
     ]
    },
    {
     "data": {
      "image/png": "[encoded data removed]",
      "text/plain": [
       "<Figure size 432x288 with 1 Axes>"
      ]
     },
     "metadata": {
      "needs_background": "light"
     },
     "output_type": "display_data"
    },
    {
     "name": "stdout",
     "output_type": "stream",
     "text": [
      "      112 PRE  112 POST 2020\n",
      "6.0  0.002681       0.006390\n",
      "5.0  0.013405       0.089457\n",
      "0.0  0.042895       0.099042\n",
      "4.0  0.115282       0.201278\n",
      "1.0  0.131367       0.095847\n",
      "3.0  0.345845       0.303514\n",
      "2.0  0.348525       0.204473\n"
     ]
    },
    {
     "data": {
      "image/png": "[encoded data removed]",
      "text/plain": [
       "<Figure size 432x288 with 1 Axes>"
      ]
     },
     "metadata": {
      "needs_background": "light"
     },
     "output_type": "display_data"
    },
    {
     "name": "stdout",
     "output_type": "stream",
     "text": [
      "     111 FEMALE PRE  111 FEMALE POST\n",
      "4.0        0.045643         0.205405\n",
      "0.0        0.082988         0.118919\n",
      "3.0        0.228216         0.286486\n",
      "1.0        0.244813         0.097297\n",
      "2.0        0.398340         0.216216\n"
     ]
    },
    {
     "data": {
      "image/png": "[encoded data removed]",
      "text/plain": [
       "<Figure size 432x288 with 1 Axes>"
      ]
     },
     "metadata": {
      "needs_background": "light"
     },
     "output_type": "display_data"
    },
    {
     "name": "stdout",
     "output_type": "stream",
     "text": [
      "     112 FEMALE PRE  112 FEMALE POST\n",
      "6.0        0.002681         0.006390\n",
      "5.0        0.013405         0.089457\n",
      "0.0        0.042895         0.099042\n",
      "4.0        0.115282         0.201278\n",
      "1.0        0.131367         0.095847\n",
      "3.0        0.345845         0.303514\n",
      "2.0        0.348525         0.204473\n"
     ]
    }
   ],
   "source": [
    "FDM_2020(df20_111, df20_112)"
   ]
  },
  {
   "cell_type": "code",
   "execution_count": 28,
   "metadata": {
    "scrolled": true
   },
   "outputs": [
    {
     "data": {
      "image/png": "[encoded data removed]",
      "text/plain": [
       "<Figure size 432x288 with 1 Axes>"
      ]
     },
     "metadata": {
      "needs_background": "light"
     },
     "output_type": "display_data"
    },
    {
     "name": "stdout",
     "output_type": "stream",
     "text": [
      "      111 PRE  111 POST\n",
      "4.0  0.050980  0.217105\n",
      "0.0  0.086275  0.151316\n",
      "3.0  0.172549  0.269737\n",
      "1.0  0.309804  0.098684\n",
      "2.0  0.380392  0.184211\n"
     ]
    },
    {
     "data": {
      "image/png": "[encoded data removed]",
      "text/plain": [
       "<Figure size 432x288 with 1 Axes>"
      ]
     },
     "metadata": {
      "needs_background": "light"
     },
     "output_type": "display_data"
    },
    {
     "name": "stdout",
     "output_type": "stream",
     "text": [
      "      112 PRE  112 POST 2021\n",
      "4.0  0.050980       0.217105\n",
      "0.0  0.086275       0.151316\n",
      "3.0  0.172549       0.269737\n",
      "1.0  0.309804       0.098684\n",
      "2.0  0.380392       0.184211\n"
     ]
    },
    {
     "data": {
      "image/png": "[encoded data removed]",
      "text/plain": [
       "<Figure size 432x288 with 1 Axes>"
      ]
     },
     "metadata": {
      "needs_background": "light"
     },
     "output_type": "display_data"
    },
    {
     "name": "stdout",
     "output_type": "stream",
     "text": [
      "     111 FEMALE PRE  111 FEMALE POST\n",
      "4.0        0.050980         0.217105\n",
      "0.0        0.086275         0.151316\n",
      "3.0        0.172549         0.269737\n",
      "1.0        0.309804         0.098684\n",
      "2.0        0.380392         0.184211\n"
     ]
    },
    {
     "data": {
      "image/png": "[encoded data removed]",
      "text/plain": [
       "<Figure size 432x288 with 1 Axes>"
      ]
     },
     "metadata": {
      "needs_background": "light"
     },
     "output_type": "display_data"
    },
    {
     "name": "stdout",
     "output_type": "stream",
     "text": [
      "     112 FEMALE PRE  112 FEMALE POST\n",
      "4.0        0.050980         0.217105\n",
      "0.0        0.086275         0.151316\n",
      "3.0        0.172549         0.269737\n",
      "1.0        0.309804         0.098684\n",
      "2.0        0.380392         0.184211\n"
     ]
    }
   ],
   "source": [
    "FDM_2021(df21_111, df21_111)"
   ]
  },
  {
   "cell_type": "code",
   "execution_count": 117,
   "metadata": {
    "scrolled": true
   },
   "outputs": [
    {
     "data": {
      "text/html": [
       "<div>\n",
       "<style scoped>\n",
       "    .dataframe tbody tr th:only-of-type {\n",
       "        vertical-align: middle;\n",
       "    }\n",
       "\n",
       "    .dataframe tbody tr th {\n",
       "        vertical-align: top;\n",
       "    }\n",
       "\n",
       "    .dataframe thead th {\n",
       "        text-align: right;\n",
       "    }\n",
       "</style>\n",
       "<table border=\"1\" class=\"dataframe\">\n",
       "  <thead>\n",
       "    <tr style=\"text-align: right;\">\n",
       "      <th></th>\n",
       "      <th>111 PRE2014</th>\n",
       "      <th>111 POST2014</th>\n",
       "      <th>111 PRE2015</th>\n",
       "      <th>111 POST2015</th>\n",
       "      <th>111 PRE2016</th>\n",
       "      <th>111 POST2016</th>\n",
       "      <th>111 PRE2017</th>\n",
       "      <th>111 POST2017</th>\n",
       "      <th>111 PRE2018</th>\n",
       "      <th>111 POST2018</th>\n",
       "      <th>111 PRE2019</th>\n",
       "      <th>111 POST2019</th>\n",
       "    </tr>\n",
       "  </thead>\n",
       "  <tbody>\n",
       "    <tr>\n",
       "      <th>6.0</th>\n",
       "      <td>0.052288</td>\n",
       "      <td>0.013333</td>\n",
       "      <td>0.048077</td>\n",
       "      <td>0.015873</td>\n",
       "      <td>0.045455</td>\n",
       "      <td>0.024793</td>\n",
       "      <td>0.037634</td>\n",
       "      <td>0.016129</td>\n",
       "      <td>0.061798</td>\n",
       "      <td>0.054217</td>\n",
       "      <td>0.042654</td>\n",
       "      <td>0.033654</td>\n",
       "    </tr>\n",
       "    <tr>\n",
       "      <th>0.0</th>\n",
       "      <td>0.091503</td>\n",
       "      <td>0.220000</td>\n",
       "      <td>0.048077</td>\n",
       "      <td>0.164021</td>\n",
       "      <td>0.078512</td>\n",
       "      <td>0.219008</td>\n",
       "      <td>0.150538</td>\n",
       "      <td>0.252688</td>\n",
       "      <td>0.146067</td>\n",
       "      <td>0.162651</td>\n",
       "      <td>0.156398</td>\n",
       "      <td>0.317308</td>\n",
       "    </tr>\n",
       "    <tr>\n",
       "      <th>2.0</th>\n",
       "      <td>0.130719</td>\n",
       "      <td>0.153333</td>\n",
       "      <td>0.105769</td>\n",
       "      <td>0.153439</td>\n",
       "      <td>0.123967</td>\n",
       "      <td>0.119835</td>\n",
       "      <td>0.155914</td>\n",
       "      <td>0.145161</td>\n",
       "      <td>0.134831</td>\n",
       "      <td>0.096386</td>\n",
       "      <td>0.104265</td>\n",
       "      <td>0.110577</td>\n",
       "    </tr>\n",
       "    <tr>\n",
       "      <th>1.0</th>\n",
       "      <td>0.150327</td>\n",
       "      <td>0.193333</td>\n",
       "      <td>0.144231</td>\n",
       "      <td>0.243386</td>\n",
       "      <td>0.148760</td>\n",
       "      <td>0.194215</td>\n",
       "      <td>0.155914</td>\n",
       "      <td>0.166667</td>\n",
       "      <td>0.106742</td>\n",
       "      <td>0.156627</td>\n",
       "      <td>0.142180</td>\n",
       "      <td>0.201923</td>\n",
       "    </tr>\n",
       "    <tr>\n",
       "      <th>3.0</th>\n",
       "      <td>0.176471</td>\n",
       "      <td>0.133333</td>\n",
       "      <td>0.173077</td>\n",
       "      <td>0.148148</td>\n",
       "      <td>0.198347</td>\n",
       "      <td>0.185950</td>\n",
       "      <td>0.129032</td>\n",
       "      <td>0.145161</td>\n",
       "      <td>0.185393</td>\n",
       "      <td>0.192771</td>\n",
       "      <td>0.175355</td>\n",
       "      <td>0.120192</td>\n",
       "    </tr>\n",
       "    <tr>\n",
       "      <th>4.0</th>\n",
       "      <td>0.189542</td>\n",
       "      <td>0.140000</td>\n",
       "      <td>0.230769</td>\n",
       "      <td>0.169312</td>\n",
       "      <td>0.252066</td>\n",
       "      <td>0.144628</td>\n",
       "      <td>0.188172</td>\n",
       "      <td>0.161290</td>\n",
       "      <td>0.230337</td>\n",
       "      <td>0.168675</td>\n",
       "      <td>0.203791</td>\n",
       "      <td>0.110577</td>\n",
       "    </tr>\n",
       "    <tr>\n",
       "      <th>5.0</th>\n",
       "      <td>0.209150</td>\n",
       "      <td>0.146667</td>\n",
       "      <td>0.250000</td>\n",
       "      <td>0.105820</td>\n",
       "      <td>0.152893</td>\n",
       "      <td>0.111570</td>\n",
       "      <td>0.182796</td>\n",
       "      <td>0.112903</td>\n",
       "      <td>0.134831</td>\n",
       "      <td>0.168675</td>\n",
       "      <td>0.175355</td>\n",
       "      <td>0.105769</td>\n",
       "    </tr>\n",
       "  </tbody>\n",
       "</table>\n",
       "</div>"
      ],
      "text/plain": [
       "     111 PRE2014  111 POST2014  111 PRE2015  111 POST2015  111 PRE2016  \\\n",
       "6.0     0.052288      0.013333     0.048077      0.015873     0.045455   \n",
       "0.0     0.091503      0.220000     0.048077      0.164021     0.078512   \n",
       "2.0     0.130719      0.153333     0.105769      0.153439     0.123967   \n",
       "1.0     0.150327      0.193333     0.144231      0.243386     0.148760   \n",
       "3.0     0.176471      0.133333     0.173077      0.148148     0.198347   \n",
       "4.0     0.189542      0.140000     0.230769      0.169312     0.252066   \n",
       "5.0     0.209150      0.146667     0.250000      0.105820     0.152893   \n",
       "\n",
       "     111 POST2016  111 PRE2017  111 POST2017  111 PRE2018  111 POST2018  \\\n",
       "6.0      0.024793     0.037634      0.016129     0.061798      0.054217   \n",
       "0.0      0.219008     0.150538      0.252688     0.146067      0.162651   \n",
       "2.0      0.119835     0.155914      0.145161     0.134831      0.096386   \n",
       "1.0      0.194215     0.155914      0.166667     0.106742      0.156627   \n",
       "3.0      0.185950     0.129032      0.145161     0.185393      0.192771   \n",
       "4.0      0.144628     0.188172      0.161290     0.230337      0.168675   \n",
       "5.0      0.111570     0.182796      0.112903     0.134831      0.168675   \n",
       "\n",
       "     111 PRE2019  111 POST2019  \n",
       "6.0     0.042654      0.033654  \n",
       "0.0     0.156398      0.317308  \n",
       "2.0     0.104265      0.110577  \n",
       "1.0     0.142180      0.201923  \n",
       "3.0     0.175355      0.120192  \n",
       "4.0     0.203791      0.110577  \n",
       "5.0     0.175355      0.105769  "
      ]
     },
     "execution_count": 117,
     "metadata": {},
     "output_type": "execute_result"
    }
   ],
   "source": [
    "fdm111"
   ]
  },
  {
   "cell_type": "code",
   "execution_count": 118,
   "metadata": {},
   "outputs": [
    {
     "data": {
      "text/html": [
       "<div>\n",
       "<style scoped>\n",
       "    .dataframe tbody tr th:only-of-type {\n",
       "        vertical-align: middle;\n",
       "    }\n",
       "\n",
       "    .dataframe tbody tr th {\n",
       "        vertical-align: top;\n",
       "    }\n",
       "\n",
       "    .dataframe thead th {\n",
       "        text-align: right;\n",
       "    }\n",
       "</style>\n",
       "<table border=\"1\" class=\"dataframe\">\n",
       "  <thead>\n",
       "    <tr style=\"text-align: right;\">\n",
       "      <th></th>\n",
       "      <th>112 PRE2014</th>\n",
       "      <th>112 POST2014</th>\n",
       "      <th>112 PRE2015</th>\n",
       "      <th>112 POST2015</th>\n",
       "      <th>112 PRE2016</th>\n",
       "      <th>112 POST2016</th>\n",
       "      <th>112 PRE2017</th>\n",
       "      <th>112 POST2017</th>\n",
       "      <th>112 PRE2018</th>\n",
       "      <th>112 POST2018</th>\n",
       "      <th>112 PRE2019</th>\n",
       "      <th>112 POST2019</th>\n",
       "    </tr>\n",
       "  </thead>\n",
       "  <tbody>\n",
       "    <tr>\n",
       "      <th>0.0</th>\n",
       "      <td>0.004878</td>\n",
       "      <td>0.025510</td>\n",
       "      <td>0.012605</td>\n",
       "      <td>0.099585</td>\n",
       "      <td>0.017606</td>\n",
       "      <td>0.091603</td>\n",
       "      <td>0.030075</td>\n",
       "      <td>0.176471</td>\n",
       "      <td>0.035370</td>\n",
       "      <td>0.120000</td>\n",
       "      <td>0.022293</td>\n",
       "      <td>0.125382</td>\n",
       "    </tr>\n",
       "    <tr>\n",
       "      <th>1.0</th>\n",
       "      <td>0.029268</td>\n",
       "      <td>0.081633</td>\n",
       "      <td>0.021008</td>\n",
       "      <td>0.136929</td>\n",
       "      <td>0.056338</td>\n",
       "      <td>0.164122</td>\n",
       "      <td>0.078947</td>\n",
       "      <td>0.183824</td>\n",
       "      <td>0.041801</td>\n",
       "      <td>0.098182</td>\n",
       "      <td>0.047771</td>\n",
       "      <td>0.146789</td>\n",
       "    </tr>\n",
       "    <tr>\n",
       "      <th>2.0</th>\n",
       "      <td>0.078049</td>\n",
       "      <td>0.102041</td>\n",
       "      <td>0.079832</td>\n",
       "      <td>0.170124</td>\n",
       "      <td>0.073944</td>\n",
       "      <td>0.198473</td>\n",
       "      <td>0.082707</td>\n",
       "      <td>0.180147</td>\n",
       "      <td>0.073955</td>\n",
       "      <td>0.138182</td>\n",
       "      <td>0.101911</td>\n",
       "      <td>0.119266</td>\n",
       "    </tr>\n",
       "    <tr>\n",
       "      <th>6.0</th>\n",
       "      <td>0.107317</td>\n",
       "      <td>0.086735</td>\n",
       "      <td>0.109244</td>\n",
       "      <td>0.045643</td>\n",
       "      <td>0.063380</td>\n",
       "      <td>0.034351</td>\n",
       "      <td>0.090226</td>\n",
       "      <td>0.044118</td>\n",
       "      <td>0.057878</td>\n",
       "      <td>0.061818</td>\n",
       "      <td>0.085987</td>\n",
       "      <td>0.064220</td>\n",
       "    </tr>\n",
       "    <tr>\n",
       "      <th>3.0</th>\n",
       "      <td>0.175610</td>\n",
       "      <td>0.239796</td>\n",
       "      <td>0.176471</td>\n",
       "      <td>0.161826</td>\n",
       "      <td>0.218310</td>\n",
       "      <td>0.183206</td>\n",
       "      <td>0.176692</td>\n",
       "      <td>0.136029</td>\n",
       "      <td>0.180064</td>\n",
       "      <td>0.163636</td>\n",
       "      <td>0.146497</td>\n",
       "      <td>0.168196</td>\n",
       "    </tr>\n",
       "    <tr>\n",
       "      <th>4.0</th>\n",
       "      <td>0.297561</td>\n",
       "      <td>0.229592</td>\n",
       "      <td>0.327731</td>\n",
       "      <td>0.219917</td>\n",
       "      <td>0.285211</td>\n",
       "      <td>0.171756</td>\n",
       "      <td>0.251880</td>\n",
       "      <td>0.150735</td>\n",
       "      <td>0.356913</td>\n",
       "      <td>0.229091</td>\n",
       "      <td>0.296178</td>\n",
       "      <td>0.198777</td>\n",
       "    </tr>\n",
       "    <tr>\n",
       "      <th>5.0</th>\n",
       "      <td>0.307317</td>\n",
       "      <td>0.234694</td>\n",
       "      <td>0.273109</td>\n",
       "      <td>0.165975</td>\n",
       "      <td>0.285211</td>\n",
       "      <td>0.156489</td>\n",
       "      <td>0.289474</td>\n",
       "      <td>0.128676</td>\n",
       "      <td>0.254019</td>\n",
       "      <td>0.189091</td>\n",
       "      <td>0.299363</td>\n",
       "      <td>0.177370</td>\n",
       "    </tr>\n",
       "  </tbody>\n",
       "</table>\n",
       "</div>"
      ],
      "text/plain": [
       "     112 PRE2014  112 POST2014  112 PRE2015  112 POST2015  112 PRE2016  \\\n",
       "0.0     0.004878      0.025510     0.012605      0.099585     0.017606   \n",
       "1.0     0.029268      0.081633     0.021008      0.136929     0.056338   \n",
       "2.0     0.078049      0.102041     0.079832      0.170124     0.073944   \n",
       "6.0     0.107317      0.086735     0.109244      0.045643     0.063380   \n",
       "3.0     0.175610      0.239796     0.176471      0.161826     0.218310   \n",
       "4.0     0.297561      0.229592     0.327731      0.219917     0.285211   \n",
       "5.0     0.307317      0.234694     0.273109      0.165975     0.285211   \n",
       "\n",
       "     112 POST2016  112 PRE2017  112 POST2017  112 PRE2018  112 POST2018  \\\n",
       "0.0      0.091603     0.030075      0.176471     0.035370      0.120000   \n",
       "1.0      0.164122     0.078947      0.183824     0.041801      0.098182   \n",
       "2.0      0.198473     0.082707      0.180147     0.073955      0.138182   \n",
       "6.0      0.034351     0.090226      0.044118     0.057878      0.061818   \n",
       "3.0      0.183206     0.176692      0.136029     0.180064      0.163636   \n",
       "4.0      0.171756     0.251880      0.150735     0.356913      0.229091   \n",
       "5.0      0.156489     0.289474      0.128676     0.254019      0.189091   \n",
       "\n",
       "     112 PRE2019  112 POST2019  \n",
       "0.0     0.022293      0.125382  \n",
       "1.0     0.047771      0.146789  \n",
       "2.0     0.101911      0.119266  \n",
       "6.0     0.085987      0.064220  \n",
       "3.0     0.146497      0.168196  \n",
       "4.0     0.296178      0.198777  \n",
       "5.0     0.299363      0.177370  "
      ]
     },
     "execution_count": 118,
     "metadata": {},
     "output_type": "execute_result"
    }
   ],
   "source": [
    "fdm112"
   ]
  },
  {
   "cell_type": "code",
   "execution_count": 176,
   "metadata": {},
   "outputs": [
    {
     "data": {
      "text/html": [
       "<div>\n",
       "<style scoped>\n",
       "    .dataframe tbody tr th:only-of-type {\n",
       "        vertical-align: middle;\n",
       "    }\n",
       "\n",
       "    .dataframe tbody tr th {\n",
       "        vertical-align: top;\n",
       "    }\n",
       "\n",
       "    .dataframe thead th {\n",
       "        text-align: right;\n",
       "    }\n",
       "</style>\n",
       "<table border=\"1\" class=\"dataframe\">\n",
       "  <thead>\n",
       "    <tr style=\"text-align: right;\">\n",
       "      <th></th>\n",
       "      <th>111 PRE2014</th>\n",
       "      <th>111 POST2014</th>\n",
       "      <th>111 PRE2015</th>\n",
       "      <th>111 POST2015</th>\n",
       "      <th>111 PRE2016</th>\n",
       "      <th>111 POST2016</th>\n",
       "      <th>111 PRE2017</th>\n",
       "      <th>111 POST2017</th>\n",
       "      <th>111 PRE2018</th>\n",
       "      <th>111 POST2018</th>\n",
       "      <th>...</th>\n",
       "      <th>112 PRE2015</th>\n",
       "      <th>112 POST2015</th>\n",
       "      <th>112 PRE2016</th>\n",
       "      <th>112 POST2016</th>\n",
       "      <th>112 PRE2017</th>\n",
       "      <th>112 POST2017</th>\n",
       "      <th>112 PRE2018</th>\n",
       "      <th>112 POST2018</th>\n",
       "      <th>112 PRE2019</th>\n",
       "      <th>112 POST2019</th>\n",
       "    </tr>\n",
       "  </thead>\n",
       "  <tbody>\n",
       "    <tr>\n",
       "      <th>-3.0</th>\n",
       "      <td>Pre</td>\n",
       "      <td>Post</td>\n",
       "      <td>Pre</td>\n",
       "      <td>Post</td>\n",
       "      <td>Pre</td>\n",
       "      <td>Post</td>\n",
       "      <td>Pre</td>\n",
       "      <td>Post</td>\n",
       "      <td>Pre</td>\n",
       "      <td>Post</td>\n",
       "      <td>...</td>\n",
       "      <td>Pre</td>\n",
       "      <td>Post</td>\n",
       "      <td>Pre</td>\n",
       "      <td>Post</td>\n",
       "      <td>Pre</td>\n",
       "      <td>Post</td>\n",
       "      <td>Pre</td>\n",
       "      <td>Post</td>\n",
       "      <td>Pre</td>\n",
       "      <td>Post</td>\n",
       "    </tr>\n",
       "    <tr>\n",
       "      <th>-2.0</th>\n",
       "      <td>2014.0</td>\n",
       "      <td>2014.0</td>\n",
       "      <td>2015.0</td>\n",
       "      <td>2015.0</td>\n",
       "      <td>2016.0</td>\n",
       "      <td>2016.0</td>\n",
       "      <td>2017.0</td>\n",
       "      <td>2017.0</td>\n",
       "      <td>2018.0</td>\n",
       "      <td>2018.0</td>\n",
       "      <td>...</td>\n",
       "      <td>2015.0</td>\n",
       "      <td>2015.0</td>\n",
       "      <td>2016.0</td>\n",
       "      <td>2016.0</td>\n",
       "      <td>2017.0</td>\n",
       "      <td>2017.0</td>\n",
       "      <td>2018.0</td>\n",
       "      <td>2018.0</td>\n",
       "      <td>2019.0</td>\n",
       "      <td>2019.0</td>\n",
       "    </tr>\n",
       "    <tr>\n",
       "      <th>-1.0</th>\n",
       "      <td>111.0</td>\n",
       "      <td>111.0</td>\n",
       "      <td>111.0</td>\n",
       "      <td>111.0</td>\n",
       "      <td>111.0</td>\n",
       "      <td>111.0</td>\n",
       "      <td>111.0</td>\n",
       "      <td>111.0</td>\n",
       "      <td>111.0</td>\n",
       "      <td>111.0</td>\n",
       "      <td>...</td>\n",
       "      <td>112.0</td>\n",
       "      <td>112.0</td>\n",
       "      <td>112.0</td>\n",
       "      <td>112.0</td>\n",
       "      <td>112.0</td>\n",
       "      <td>112.0</td>\n",
       "      <td>112.0</td>\n",
       "      <td>112.0</td>\n",
       "      <td>112.0</td>\n",
       "      <td>112.0</td>\n",
       "    </tr>\n",
       "    <tr>\n",
       "      <th>0.0</th>\n",
       "      <td>0.091503</td>\n",
       "      <td>0.22</td>\n",
       "      <td>0.048077</td>\n",
       "      <td>0.164021</td>\n",
       "      <td>0.078512</td>\n",
       "      <td>0.219008</td>\n",
       "      <td>0.150538</td>\n",
       "      <td>0.252688</td>\n",
       "      <td>0.146067</td>\n",
       "      <td>0.162651</td>\n",
       "      <td>...</td>\n",
       "      <td>0.012605</td>\n",
       "      <td>0.099585</td>\n",
       "      <td>0.017606</td>\n",
       "      <td>0.091603</td>\n",
       "      <td>0.030075</td>\n",
       "      <td>0.176471</td>\n",
       "      <td>0.03537</td>\n",
       "      <td>0.12</td>\n",
       "      <td>0.022293</td>\n",
       "      <td>0.125382</td>\n",
       "    </tr>\n",
       "    <tr>\n",
       "      <th>1.0</th>\n",
       "      <td>0.150327</td>\n",
       "      <td>0.193333</td>\n",
       "      <td>0.144231</td>\n",
       "      <td>0.243386</td>\n",
       "      <td>0.14876</td>\n",
       "      <td>0.194215</td>\n",
       "      <td>0.155914</td>\n",
       "      <td>0.166667</td>\n",
       "      <td>0.106742</td>\n",
       "      <td>0.156627</td>\n",
       "      <td>...</td>\n",
       "      <td>0.021008</td>\n",
       "      <td>0.136929</td>\n",
       "      <td>0.056338</td>\n",
       "      <td>0.164122</td>\n",
       "      <td>0.078947</td>\n",
       "      <td>0.183824</td>\n",
       "      <td>0.041801</td>\n",
       "      <td>0.098182</td>\n",
       "      <td>0.047771</td>\n",
       "      <td>0.146789</td>\n",
       "    </tr>\n",
       "    <tr>\n",
       "      <th>2.0</th>\n",
       "      <td>0.130719</td>\n",
       "      <td>0.153333</td>\n",
       "      <td>0.105769</td>\n",
       "      <td>0.153439</td>\n",
       "      <td>0.123967</td>\n",
       "      <td>0.119835</td>\n",
       "      <td>0.155914</td>\n",
       "      <td>0.145161</td>\n",
       "      <td>0.134831</td>\n",
       "      <td>0.096386</td>\n",
       "      <td>...</td>\n",
       "      <td>0.079832</td>\n",
       "      <td>0.170124</td>\n",
       "      <td>0.073944</td>\n",
       "      <td>0.198473</td>\n",
       "      <td>0.082707</td>\n",
       "      <td>0.180147</td>\n",
       "      <td>0.073955</td>\n",
       "      <td>0.138182</td>\n",
       "      <td>0.101911</td>\n",
       "      <td>0.119266</td>\n",
       "    </tr>\n",
       "    <tr>\n",
       "      <th>3.0</th>\n",
       "      <td>0.176471</td>\n",
       "      <td>0.133333</td>\n",
       "      <td>0.173077</td>\n",
       "      <td>0.148148</td>\n",
       "      <td>0.198347</td>\n",
       "      <td>0.18595</td>\n",
       "      <td>0.129032</td>\n",
       "      <td>0.145161</td>\n",
       "      <td>0.185393</td>\n",
       "      <td>0.192771</td>\n",
       "      <td>...</td>\n",
       "      <td>0.176471</td>\n",
       "      <td>0.161826</td>\n",
       "      <td>0.21831</td>\n",
       "      <td>0.183206</td>\n",
       "      <td>0.176692</td>\n",
       "      <td>0.136029</td>\n",
       "      <td>0.180064</td>\n",
       "      <td>0.163636</td>\n",
       "      <td>0.146497</td>\n",
       "      <td>0.168196</td>\n",
       "    </tr>\n",
       "    <tr>\n",
       "      <th>4.0</th>\n",
       "      <td>0.189542</td>\n",
       "      <td>0.14</td>\n",
       "      <td>0.230769</td>\n",
       "      <td>0.169312</td>\n",
       "      <td>0.252066</td>\n",
       "      <td>0.144628</td>\n",
       "      <td>0.188172</td>\n",
       "      <td>0.16129</td>\n",
       "      <td>0.230337</td>\n",
       "      <td>0.168675</td>\n",
       "      <td>...</td>\n",
       "      <td>0.327731</td>\n",
       "      <td>0.219917</td>\n",
       "      <td>0.285211</td>\n",
       "      <td>0.171756</td>\n",
       "      <td>0.25188</td>\n",
       "      <td>0.150735</td>\n",
       "      <td>0.356913</td>\n",
       "      <td>0.229091</td>\n",
       "      <td>0.296178</td>\n",
       "      <td>0.198777</td>\n",
       "    </tr>\n",
       "    <tr>\n",
       "      <th>5.0</th>\n",
       "      <td>0.20915</td>\n",
       "      <td>0.146667</td>\n",
       "      <td>0.25</td>\n",
       "      <td>0.10582</td>\n",
       "      <td>0.152893</td>\n",
       "      <td>0.11157</td>\n",
       "      <td>0.182796</td>\n",
       "      <td>0.112903</td>\n",
       "      <td>0.134831</td>\n",
       "      <td>0.168675</td>\n",
       "      <td>...</td>\n",
       "      <td>0.273109</td>\n",
       "      <td>0.165975</td>\n",
       "      <td>0.285211</td>\n",
       "      <td>0.156489</td>\n",
       "      <td>0.289474</td>\n",
       "      <td>0.128676</td>\n",
       "      <td>0.254019</td>\n",
       "      <td>0.189091</td>\n",
       "      <td>0.299363</td>\n",
       "      <td>0.17737</td>\n",
       "    </tr>\n",
       "    <tr>\n",
       "      <th>6.0</th>\n",
       "      <td>0.052288</td>\n",
       "      <td>0.013333</td>\n",
       "      <td>0.048077</td>\n",
       "      <td>0.015873</td>\n",
       "      <td>0.045455</td>\n",
       "      <td>0.024793</td>\n",
       "      <td>0.037634</td>\n",
       "      <td>0.016129</td>\n",
       "      <td>0.061798</td>\n",
       "      <td>0.054217</td>\n",
       "      <td>...</td>\n",
       "      <td>0.109244</td>\n",
       "      <td>0.045643</td>\n",
       "      <td>0.06338</td>\n",
       "      <td>0.034351</td>\n",
       "      <td>0.090226</td>\n",
       "      <td>0.044118</td>\n",
       "      <td>0.057878</td>\n",
       "      <td>0.061818</td>\n",
       "      <td>0.085987</td>\n",
       "      <td>0.06422</td>\n",
       "    </tr>\n",
       "  </tbody>\n",
       "</table>\n",
       "<p>10 rows × 24 columns</p>\n",
       "</div>"
      ],
      "text/plain": [
       "     111 PRE2014 111 POST2014 111 PRE2015 111 POST2015 111 PRE2016  \\\n",
       "-3.0         Pre         Post         Pre         Post         Pre   \n",
       "-2.0      2014.0       2014.0      2015.0       2015.0      2016.0   \n",
       "-1.0       111.0        111.0       111.0        111.0       111.0   \n",
       " 0.0    0.091503         0.22    0.048077     0.164021    0.078512   \n",
       " 1.0    0.150327     0.193333    0.144231     0.243386     0.14876   \n",
       " 2.0    0.130719     0.153333    0.105769     0.153439    0.123967   \n",
       " 3.0    0.176471     0.133333    0.173077     0.148148    0.198347   \n",
       " 4.0    0.189542         0.14    0.230769     0.169312    0.252066   \n",
       " 5.0     0.20915     0.146667        0.25      0.10582    0.152893   \n",
       " 6.0    0.052288     0.013333    0.048077     0.015873    0.045455   \n",
       "\n",
       "     111 POST2016 111 PRE2017 111 POST2017 111 PRE2018 111 POST2018  ...  \\\n",
       "-3.0         Post         Pre         Post         Pre         Post  ...   \n",
       "-2.0       2016.0      2017.0       2017.0      2018.0       2018.0  ...   \n",
       "-1.0        111.0       111.0        111.0       111.0        111.0  ...   \n",
       " 0.0     0.219008    0.150538     0.252688    0.146067     0.162651  ...   \n",
       " 1.0     0.194215    0.155914     0.166667    0.106742     0.156627  ...   \n",
       " 2.0     0.119835    0.155914     0.145161    0.134831     0.096386  ...   \n",
       " 3.0      0.18595    0.129032     0.145161    0.185393     0.192771  ...   \n",
       " 4.0     0.144628    0.188172      0.16129    0.230337     0.168675  ...   \n",
       " 5.0      0.11157    0.182796     0.112903    0.134831     0.168675  ...   \n",
       " 6.0     0.024793    0.037634     0.016129    0.061798     0.054217  ...   \n",
       "\n",
       "     112 PRE2015 112 POST2015 112 PRE2016 112 POST2016 112 PRE2017  \\\n",
       "-3.0         Pre         Post         Pre         Post         Pre   \n",
       "-2.0      2015.0       2015.0      2016.0       2016.0      2017.0   \n",
       "-1.0       112.0        112.0       112.0        112.0       112.0   \n",
       " 0.0    0.012605     0.099585    0.017606     0.091603    0.030075   \n",
       " 1.0    0.021008     0.136929    0.056338     0.164122    0.078947   \n",
       " 2.0    0.079832     0.170124    0.073944     0.198473    0.082707   \n",
       " 3.0    0.176471     0.161826     0.21831     0.183206    0.176692   \n",
       " 4.0    0.327731     0.219917    0.285211     0.171756     0.25188   \n",
       " 5.0    0.273109     0.165975    0.285211     0.156489    0.289474   \n",
       " 6.0    0.109244     0.045643     0.06338     0.034351    0.090226   \n",
       "\n",
       "     112 POST2017 112 PRE2018 112 POST2018 112 PRE2019 112 POST2019  \n",
       "-3.0         Post         Pre         Post         Pre         Post  \n",
       "-2.0       2017.0      2018.0       2018.0      2019.0       2019.0  \n",
       "-1.0        112.0       112.0        112.0       112.0        112.0  \n",
       " 0.0     0.176471     0.03537         0.12    0.022293     0.125382  \n",
       " 1.0     0.183824    0.041801     0.098182    0.047771     0.146789  \n",
       " 2.0     0.180147    0.073955     0.138182    0.101911     0.119266  \n",
       " 3.0     0.136029    0.180064     0.163636    0.146497     0.168196  \n",
       " 4.0     0.150735    0.356913     0.229091    0.296178     0.198777  \n",
       " 5.0     0.128676    0.254019     0.189091    0.299363      0.17737  \n",
       " 6.0     0.044118    0.057878     0.061818    0.085987      0.06422  \n",
       "\n",
       "[10 rows x 24 columns]"
      ]
     },
     "execution_count": 176,
     "metadata": {},
     "output_type": "execute_result"
    }
   ],
   "source": [
    "fdm = fdm111.join(fdm112)\n",
    "fdm.loc[-1] = [111, 111, 111, 111, 111, 111,111, 111, 111, 111, 111, 111,112 ,112, 112, 112 ,112, 112,112 ,112, 112, 112 ,112, 112 ]\n",
    "fdm.loc[-2] = [2014, 2014, 2015, 2015, 2016, 2016, 2017, 2017, 2018, 2018, 2019, 2019, 2014, 2014, 2015, 2015, 2016, 2016, 2017, 2017, 2018, 2018, 2019, 2019]\n",
    "fdm.loc[-3] = [\"Pre\", \"Post\", \"Pre\", \"Post\", \"Pre\", \"Post\", \"Pre\", \"Post\", \"Pre\", \"Post\", \"Pre\", \"Post\", \"Pre\", \"Post\", \"Pre\", \"Post\", \"Pre\", \"Post\", \"Pre\", \"Post\", \"Pre\", \"Post\", \"Pre\", \"Post\"] # adding a row\n",
    "fdm.sort_index()"
   ]
  },
  {
   "cell_type": "code",
   "execution_count": 183,
   "metadata": {},
   "outputs": [
    {
     "data": {
      "text/html": [
       "<div>\n",
       "<style scoped>\n",
       "    .dataframe tbody tr th:only-of-type {\n",
       "        vertical-align: middle;\n",
       "    }\n",
       "\n",
       "    .dataframe tbody tr th {\n",
       "        vertical-align: top;\n",
       "    }\n",
       "\n",
       "    .dataframe thead th {\n",
       "        text-align: right;\n",
       "    }\n",
       "</style>\n",
       "<table border=\"1\" class=\"dataframe\">\n",
       "  <thead>\n",
       "    <tr style=\"text-align: right;\">\n",
       "      <th></th>\n",
       "      <th>Pre/Post</th>\n",
       "      <th>Year</th>\n",
       "      <th>Section</th>\n",
       "      <th>0.0</th>\n",
       "      <th>1.0</th>\n",
       "      <th>2.0</th>\n",
       "      <th>3.0</th>\n",
       "      <th>4.0</th>\n",
       "      <th>5.0</th>\n",
       "      <th>6.0</th>\n",
       "    </tr>\n",
       "  </thead>\n",
       "  <tbody>\n",
       "    <tr>\n",
       "      <th>111 PRE2014</th>\n",
       "      <td>Pre</td>\n",
       "      <td>2014.0</td>\n",
       "      <td>111.0</td>\n",
       "      <td>0.091503</td>\n",
       "      <td>0.150327</td>\n",
       "      <td>0.130719</td>\n",
       "      <td>0.176471</td>\n",
       "      <td>0.189542</td>\n",
       "      <td>0.20915</td>\n",
       "      <td>0.052288</td>\n",
       "    </tr>\n",
       "    <tr>\n",
       "      <th>111 POST2014</th>\n",
       "      <td>Post</td>\n",
       "      <td>2014.0</td>\n",
       "      <td>111.0</td>\n",
       "      <td>0.22</td>\n",
       "      <td>0.193333</td>\n",
       "      <td>0.153333</td>\n",
       "      <td>0.133333</td>\n",
       "      <td>0.14</td>\n",
       "      <td>0.146667</td>\n",
       "      <td>0.013333</td>\n",
       "    </tr>\n",
       "    <tr>\n",
       "      <th>111 PRE2015</th>\n",
       "      <td>Pre</td>\n",
       "      <td>2015.0</td>\n",
       "      <td>111.0</td>\n",
       "      <td>0.048077</td>\n",
       "      <td>0.144231</td>\n",
       "      <td>0.105769</td>\n",
       "      <td>0.173077</td>\n",
       "      <td>0.230769</td>\n",
       "      <td>0.25</td>\n",
       "      <td>0.048077</td>\n",
       "    </tr>\n",
       "    <tr>\n",
       "      <th>111 POST2015</th>\n",
       "      <td>Post</td>\n",
       "      <td>2015.0</td>\n",
       "      <td>111.0</td>\n",
       "      <td>0.164021</td>\n",
       "      <td>0.243386</td>\n",
       "      <td>0.153439</td>\n",
       "      <td>0.148148</td>\n",
       "      <td>0.169312</td>\n",
       "      <td>0.10582</td>\n",
       "      <td>0.015873</td>\n",
       "    </tr>\n",
       "    <tr>\n",
       "      <th>111 PRE2016</th>\n",
       "      <td>Pre</td>\n",
       "      <td>2016.0</td>\n",
       "      <td>111.0</td>\n",
       "      <td>0.078512</td>\n",
       "      <td>0.14876</td>\n",
       "      <td>0.123967</td>\n",
       "      <td>0.198347</td>\n",
       "      <td>0.252066</td>\n",
       "      <td>0.152893</td>\n",
       "      <td>0.045455</td>\n",
       "    </tr>\n",
       "    <tr>\n",
       "      <th>111 POST2016</th>\n",
       "      <td>Post</td>\n",
       "      <td>2016.0</td>\n",
       "      <td>111.0</td>\n",
       "      <td>0.219008</td>\n",
       "      <td>0.194215</td>\n",
       "      <td>0.119835</td>\n",
       "      <td>0.18595</td>\n",
       "      <td>0.144628</td>\n",
       "      <td>0.11157</td>\n",
       "      <td>0.024793</td>\n",
       "    </tr>\n",
       "    <tr>\n",
       "      <th>111 PRE2017</th>\n",
       "      <td>Pre</td>\n",
       "      <td>2017.0</td>\n",
       "      <td>111.0</td>\n",
       "      <td>0.150538</td>\n",
       "      <td>0.155914</td>\n",
       "      <td>0.155914</td>\n",
       "      <td>0.129032</td>\n",
       "      <td>0.188172</td>\n",
       "      <td>0.182796</td>\n",
       "      <td>0.037634</td>\n",
       "    </tr>\n",
       "    <tr>\n",
       "      <th>111 POST2017</th>\n",
       "      <td>Post</td>\n",
       "      <td>2017.0</td>\n",
       "      <td>111.0</td>\n",
       "      <td>0.252688</td>\n",
       "      <td>0.166667</td>\n",
       "      <td>0.145161</td>\n",
       "      <td>0.145161</td>\n",
       "      <td>0.16129</td>\n",
       "      <td>0.112903</td>\n",
       "      <td>0.016129</td>\n",
       "    </tr>\n",
       "    <tr>\n",
       "      <th>111 PRE2018</th>\n",
       "      <td>Pre</td>\n",
       "      <td>2018.0</td>\n",
       "      <td>111.0</td>\n",
       "      <td>0.146067</td>\n",
       "      <td>0.106742</td>\n",
       "      <td>0.134831</td>\n",
       "      <td>0.185393</td>\n",
       "      <td>0.230337</td>\n",
       "      <td>0.134831</td>\n",
       "      <td>0.061798</td>\n",
       "    </tr>\n",
       "    <tr>\n",
       "      <th>111 POST2018</th>\n",
       "      <td>Post</td>\n",
       "      <td>2018.0</td>\n",
       "      <td>111.0</td>\n",
       "      <td>0.162651</td>\n",
       "      <td>0.156627</td>\n",
       "      <td>0.096386</td>\n",
       "      <td>0.192771</td>\n",
       "      <td>0.168675</td>\n",
       "      <td>0.168675</td>\n",
       "      <td>0.054217</td>\n",
       "    </tr>\n",
       "    <tr>\n",
       "      <th>111 PRE2019</th>\n",
       "      <td>Pre</td>\n",
       "      <td>2019.0</td>\n",
       "      <td>111.0</td>\n",
       "      <td>0.156398</td>\n",
       "      <td>0.14218</td>\n",
       "      <td>0.104265</td>\n",
       "      <td>0.175355</td>\n",
       "      <td>0.203791</td>\n",
       "      <td>0.175355</td>\n",
       "      <td>0.042654</td>\n",
       "    </tr>\n",
       "    <tr>\n",
       "      <th>111 POST2019</th>\n",
       "      <td>Post</td>\n",
       "      <td>2019.0</td>\n",
       "      <td>111.0</td>\n",
       "      <td>0.317308</td>\n",
       "      <td>0.201923</td>\n",
       "      <td>0.110577</td>\n",
       "      <td>0.120192</td>\n",
       "      <td>0.110577</td>\n",
       "      <td>0.105769</td>\n",
       "      <td>0.033654</td>\n",
       "    </tr>\n",
       "    <tr>\n",
       "      <th>112 PRE2014</th>\n",
       "      <td>Pre</td>\n",
       "      <td>2014.0</td>\n",
       "      <td>112.0</td>\n",
       "      <td>0.004878</td>\n",
       "      <td>0.029268</td>\n",
       "      <td>0.078049</td>\n",
       "      <td>0.17561</td>\n",
       "      <td>0.297561</td>\n",
       "      <td>0.307317</td>\n",
       "      <td>0.107317</td>\n",
       "    </tr>\n",
       "    <tr>\n",
       "      <th>112 POST2014</th>\n",
       "      <td>Post</td>\n",
       "      <td>2014.0</td>\n",
       "      <td>112.0</td>\n",
       "      <td>0.02551</td>\n",
       "      <td>0.081633</td>\n",
       "      <td>0.102041</td>\n",
       "      <td>0.239796</td>\n",
       "      <td>0.229592</td>\n",
       "      <td>0.234694</td>\n",
       "      <td>0.086735</td>\n",
       "    </tr>\n",
       "    <tr>\n",
       "      <th>112 PRE2015</th>\n",
       "      <td>Pre</td>\n",
       "      <td>2015.0</td>\n",
       "      <td>112.0</td>\n",
       "      <td>0.012605</td>\n",
       "      <td>0.021008</td>\n",
       "      <td>0.079832</td>\n",
       "      <td>0.176471</td>\n",
       "      <td>0.327731</td>\n",
       "      <td>0.273109</td>\n",
       "      <td>0.109244</td>\n",
       "    </tr>\n",
       "    <tr>\n",
       "      <th>112 POST2015</th>\n",
       "      <td>Post</td>\n",
       "      <td>2015.0</td>\n",
       "      <td>112.0</td>\n",
       "      <td>0.099585</td>\n",
       "      <td>0.136929</td>\n",
       "      <td>0.170124</td>\n",
       "      <td>0.161826</td>\n",
       "      <td>0.219917</td>\n",
       "      <td>0.165975</td>\n",
       "      <td>0.045643</td>\n",
       "    </tr>\n",
       "    <tr>\n",
       "      <th>112 PRE2016</th>\n",
       "      <td>Pre</td>\n",
       "      <td>2016.0</td>\n",
       "      <td>112.0</td>\n",
       "      <td>0.017606</td>\n",
       "      <td>0.056338</td>\n",
       "      <td>0.073944</td>\n",
       "      <td>0.21831</td>\n",
       "      <td>0.285211</td>\n",
       "      <td>0.285211</td>\n",
       "      <td>0.06338</td>\n",
       "    </tr>\n",
       "    <tr>\n",
       "      <th>112 POST2016</th>\n",
       "      <td>Post</td>\n",
       "      <td>2016.0</td>\n",
       "      <td>112.0</td>\n",
       "      <td>0.091603</td>\n",
       "      <td>0.164122</td>\n",
       "      <td>0.198473</td>\n",
       "      <td>0.183206</td>\n",
       "      <td>0.171756</td>\n",
       "      <td>0.156489</td>\n",
       "      <td>0.034351</td>\n",
       "    </tr>\n",
       "    <tr>\n",
       "      <th>112 PRE2017</th>\n",
       "      <td>Pre</td>\n",
       "      <td>2017.0</td>\n",
       "      <td>112.0</td>\n",
       "      <td>0.030075</td>\n",
       "      <td>0.078947</td>\n",
       "      <td>0.082707</td>\n",
       "      <td>0.176692</td>\n",
       "      <td>0.25188</td>\n",
       "      <td>0.289474</td>\n",
       "      <td>0.090226</td>\n",
       "    </tr>\n",
       "    <tr>\n",
       "      <th>112 POST2017</th>\n",
       "      <td>Post</td>\n",
       "      <td>2017.0</td>\n",
       "      <td>112.0</td>\n",
       "      <td>0.176471</td>\n",
       "      <td>0.183824</td>\n",
       "      <td>0.180147</td>\n",
       "      <td>0.136029</td>\n",
       "      <td>0.150735</td>\n",
       "      <td>0.128676</td>\n",
       "      <td>0.044118</td>\n",
       "    </tr>\n",
       "    <tr>\n",
       "      <th>112 PRE2018</th>\n",
       "      <td>Pre</td>\n",
       "      <td>2018.0</td>\n",
       "      <td>112.0</td>\n",
       "      <td>0.03537</td>\n",
       "      <td>0.041801</td>\n",
       "      <td>0.073955</td>\n",
       "      <td>0.180064</td>\n",
       "      <td>0.356913</td>\n",
       "      <td>0.254019</td>\n",
       "      <td>0.057878</td>\n",
       "    </tr>\n",
       "    <tr>\n",
       "      <th>112 POST2018</th>\n",
       "      <td>Post</td>\n",
       "      <td>2018.0</td>\n",
       "      <td>112.0</td>\n",
       "      <td>0.12</td>\n",
       "      <td>0.098182</td>\n",
       "      <td>0.138182</td>\n",
       "      <td>0.163636</td>\n",
       "      <td>0.229091</td>\n",
       "      <td>0.189091</td>\n",
       "      <td>0.061818</td>\n",
       "    </tr>\n",
       "    <tr>\n",
       "      <th>112 PRE2019</th>\n",
       "      <td>Pre</td>\n",
       "      <td>2019.0</td>\n",
       "      <td>112.0</td>\n",
       "      <td>0.022293</td>\n",
       "      <td>0.047771</td>\n",
       "      <td>0.101911</td>\n",
       "      <td>0.146497</td>\n",
       "      <td>0.296178</td>\n",
       "      <td>0.299363</td>\n",
       "      <td>0.085987</td>\n",
       "    </tr>\n",
       "    <tr>\n",
       "      <th>112 POST2019</th>\n",
       "      <td>Post</td>\n",
       "      <td>2019.0</td>\n",
       "      <td>112.0</td>\n",
       "      <td>0.125382</td>\n",
       "      <td>0.146789</td>\n",
       "      <td>0.119266</td>\n",
       "      <td>0.168196</td>\n",
       "      <td>0.198777</td>\n",
       "      <td>0.17737</td>\n",
       "      <td>0.06422</td>\n",
       "    </tr>\n",
       "  </tbody>\n",
       "</table>\n",
       "</div>"
      ],
      "text/plain": [
       "             Pre/Post    Year Section       0.0       1.0       2.0       3.0  \\\n",
       "111 PRE2014       Pre  2014.0   111.0  0.091503  0.150327  0.130719  0.176471   \n",
       "111 POST2014     Post  2014.0   111.0      0.22  0.193333  0.153333  0.133333   \n",
       "111 PRE2015       Pre  2015.0   111.0  0.048077  0.144231  0.105769  0.173077   \n",
       "111 POST2015     Post  2015.0   111.0  0.164021  0.243386  0.153439  0.148148   \n",
       "111 PRE2016       Pre  2016.0   111.0  0.078512   0.14876  0.123967  0.198347   \n",
       "111 POST2016     Post  2016.0   111.0  0.219008  0.194215  0.119835   0.18595   \n",
       "111 PRE2017       Pre  2017.0   111.0  0.150538  0.155914  0.155914  0.129032   \n",
       "111 POST2017     Post  2017.0   111.0  0.252688  0.166667  0.145161  0.145161   \n",
       "111 PRE2018       Pre  2018.0   111.0  0.146067  0.106742  0.134831  0.185393   \n",
       "111 POST2018     Post  2018.0   111.0  0.162651  0.156627  0.096386  0.192771   \n",
       "111 PRE2019       Pre  2019.0   111.0  0.156398   0.14218  0.104265  0.175355   \n",
       "111 POST2019     Post  2019.0   111.0  0.317308  0.201923  0.110577  0.120192   \n",
       "112 PRE2014       Pre  2014.0   112.0  0.004878  0.029268  0.078049   0.17561   \n",
       "112 POST2014     Post  2014.0   112.0   0.02551  0.081633  0.102041  0.239796   \n",
       "112 PRE2015       Pre  2015.0   112.0  0.012605  0.021008  0.079832  0.176471   \n",
       "112 POST2015     Post  2015.0   112.0  0.099585  0.136929  0.170124  0.161826   \n",
       "112 PRE2016       Pre  2016.0   112.0  0.017606  0.056338  0.073944   0.21831   \n",
       "112 POST2016     Post  2016.0   112.0  0.091603  0.164122  0.198473  0.183206   \n",
       "112 PRE2017       Pre  2017.0   112.0  0.030075  0.078947  0.082707  0.176692   \n",
       "112 POST2017     Post  2017.0   112.0  0.176471  0.183824  0.180147  0.136029   \n",
       "112 PRE2018       Pre  2018.0   112.0   0.03537  0.041801  0.073955  0.180064   \n",
       "112 POST2018     Post  2018.0   112.0      0.12  0.098182  0.138182  0.163636   \n",
       "112 PRE2019       Pre  2019.0   112.0  0.022293  0.047771  0.101911  0.146497   \n",
       "112 POST2019     Post  2019.0   112.0  0.125382  0.146789  0.119266  0.168196   \n",
       "\n",
       "                   4.0       5.0       6.0  \n",
       "111 PRE2014   0.189542   0.20915  0.052288  \n",
       "111 POST2014      0.14  0.146667  0.013333  \n",
       "111 PRE2015   0.230769      0.25  0.048077  \n",
       "111 POST2015  0.169312   0.10582  0.015873  \n",
       "111 PRE2016   0.252066  0.152893  0.045455  \n",
       "111 POST2016  0.144628   0.11157  0.024793  \n",
       "111 PRE2017   0.188172  0.182796  0.037634  \n",
       "111 POST2017   0.16129  0.112903  0.016129  \n",
       "111 PRE2018   0.230337  0.134831  0.061798  \n",
       "111 POST2018  0.168675  0.168675  0.054217  \n",
       "111 PRE2019   0.203791  0.175355  0.042654  \n",
       "111 POST2019  0.110577  0.105769  0.033654  \n",
       "112 PRE2014   0.297561  0.307317  0.107317  \n",
       "112 POST2014  0.229592  0.234694  0.086735  \n",
       "112 PRE2015   0.327731  0.273109  0.109244  \n",
       "112 POST2015  0.219917  0.165975  0.045643  \n",
       "112 PRE2016   0.285211  0.285211   0.06338  \n",
       "112 POST2016  0.171756  0.156489  0.034351  \n",
       "112 PRE2017    0.25188  0.289474  0.090226  \n",
       "112 POST2017  0.150735  0.128676  0.044118  \n",
       "112 PRE2018   0.356913  0.254019  0.057878  \n",
       "112 POST2018  0.229091  0.189091  0.061818  \n",
       "112 PRE2019   0.296178  0.299363  0.085987  \n",
       "112 POST2019  0.198777   0.17737   0.06422  "
      ]
     },
     "execution_count": 183,
     "metadata": {},
     "output_type": "execute_result"
    }
   ],
   "source": [
    "fdm2 = fdm.sort_index().transpose()\n",
    "fdm2.columns=[\"Pre/Post\", \"Year\", \"Section\", 0.0, 1.0, 2.0, 3.0, 4.0, 5.0, 6.0]\n",
    "fdm2"
   ]
  },
  {
   "cell_type": "code",
   "execution_count": 185,
   "metadata": {},
   "outputs": [
    {
     "data": {
      "image/png": "[encoded data removed]",
      "text/plain": [
       "<Figure size 432x288 with 1 Axes>"
      ]
     },
     "metadata": {
      "needs_background": "light"
     },
     "output_type": "display_data"
    }
   ],
   "source": [
    "import seaborn as sns\n",
    "#sns.set_theme(style=\"whitegrid\")\n",
    "ax = sns.violinplot(data = fdm112.sort_index().transpose())"
   ]
  },
  {
   "cell_type": "code",
   "execution_count": 135,
   "metadata": {},
   "outputs": [
    {
     "data": {
      "image/png": "[encoded data removed]",
      "text/plain": [
       "<Figure size 432x288 with 1 Axes>"
      ]
     },
     "metadata": {
      "needs_background": "light"
     },
     "output_type": "display_data"
    }
   ],
   "source": [
    "ax1 = sns.violinplot(x=fdm112.iloc[1])"
   ]
  },
  {
   "cell_type": "code",
   "execution_count": 136,
   "metadata": {},
   "outputs": [
    {
     "data": {
      "image/png": "[encoded data removed]",
      "text/plain": [
       "<Figure size 432x288 with 1 Axes>"
      ]
     },
     "metadata": {
      "needs_background": "light"
     },
     "output_type": "display_data"
    }
   ],
   "source": [
    "ax2 = sns.violinplot(x=fdm112.iloc[2])"
   ]
  },
  {
   "cell_type": "code",
   "execution_count": 142,
   "metadata": {},
   "outputs": [
    {
     "data": {
      "image/png": "[encoded data removed]",
      "text/plain": [
       "<Figure size 432x288 with 1 Axes>"
      ]
     },
     "metadata": {
      "needs_background": "light"
     },
     "output_type": "display_data"
    }
   ],
   "source": [
    "ax3 = sns.violinplot(x=fdm112.iloc[4])"
   ]
  },
  {
   "cell_type": "code",
   "execution_count": 143,
   "metadata": {},
   "outputs": [
    {
     "data": {
      "image/png": "[encoded data removed]",
      "text/plain": [
       "<Figure size 432x288 with 1 Axes>"
      ]
     },
     "metadata": {
      "needs_background": "light"
     },
     "output_type": "display_data"
    }
   ],
   "source": [
    "ax3 = sns.violinplot(x=fdm112.iloc[5])"
   ]
  },
  {
   "cell_type": "code",
   "execution_count": 144,
   "metadata": {},
   "outputs": [
    {
     "data": {
      "image/png": "[encoded data removed]",
      "text/plain": [
       "<Figure size 432x288 with 1 Axes>"
      ]
     },
     "metadata": {
      "needs_background": "light"
     },
     "output_type": "display_data"
    }
   ],
   "source": [
    "ax3 = sns.violinplot(x=fdm112.iloc[6])"
   ]
  },
  {
   "cell_type": "code",
   "execution_count": 145,
   "metadata": {},
   "outputs": [
    {
     "data": {
      "image/png": "[encoded data removed]",
      "text/plain": [
       "<Figure size 432x288 with 1 Axes>"
      ]
     },
     "metadata": {
      "needs_background": "light"
     },
     "output_type": "display_data"
    }
   ],
   "source": [
    "ax3 = sns.violinplot(x=fdm112.iloc[3])"
   ]
  },
  {
   "cell_type": "code",
   "execution_count": null,
   "metadata": {},
   "outputs": [],
   "source": []
  }
 ],
 "metadata": {
  "kernelspec": {
   "display_name": "Python 3",
   "language": "python",
   "name": "python3"
  },
  "language_info": {
   "codemirror_mode": {
    "name": "ipython",
    "version": 3
   },
   "file_extension": ".py",
   "mimetype": "text/x-python",
   "name": "python",
   "nbconvert_exporter": "python",
   "pygments_lexer": "ipython3",
   "version": "3.8.1"
  }
 },
 "nbformat": 4,
 "nbformat_minor": 4
}
