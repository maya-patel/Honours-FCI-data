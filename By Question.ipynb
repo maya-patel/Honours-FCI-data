{
 "cells": [
  {
   "cell_type": "code",
   "execution_count": 2,
   "metadata": {},
   "outputs": [],
   "source": [
    "import pandas as pd\n",
    "import numpy as np\n",
    "import matplotlib.pyplot as plt\n",
    "from FCI_functions import calculate_post_score, calculate_pre_score, calculate_question_score_post, calculate_question_score_pre, calculate_pre_score_2020, calculate_post_score_2020, calculate_question_score_pre_2020 , calculate_question_score_post_2020, calculate_question_score_pre_2021, calculate_question_score_post_2021, calculate_question_score_post_2021_err\n"
   ]
  },
  {
   "cell_type": "code",
   "execution_count": 3,
   "metadata": {},
   "outputs": [],
   "source": [
    "df16_111 = pd.read_excel('rawdata/2016-17 WT1 Phys 111 ALL Data - Shared with Chelsea.xlsx').replace([\"BLANK\", \"!!\", \"MULT\"], np.nan)\n",
    "df16_112 = pd.read_excel('rawdata/2016-17 WT1 Phys 112 ALL Data - Shared with Chelsea.xlsx').replace([\"BLANK\", \"!!\", \"MULT\"], np.nan)\n",
    "df14_111 = pd.read_excel('rawdata/2014-15 WT1 Phys 111 ALL Data - Shared with Chelsea (20210212).xlsx').replace([\"BLANK\", \"!!\", \"MULT\"], np.nan)\n",
    "df14_112 = pd.read_excel('rawdata/2014-15 WT1 Phys 112 ALL Data - Shared with Chelsea (20210212).xlsx').replace([\"BLANK\", \"!!\", \"MULT\"], np.nan)\n",
    "df15_111 = pd.read_excel('rawdata/2015-16 WT1 Phys 111 ALL Data - Shared with Chelsea.xlsx').replace([\"BLANK\", \"!!\", \"MULT\"], np.nan)\n",
    "df15_112 = pd.read_excel('rawdata/2015-16 WT1 Phys 112 ALL Data - Shared with Chelsea.xlsx').replace([\"BLANK\", \"!!\", \"MULT\"], np.nan)\n",
    "df17_111 = pd.read_excel('rawdata/2017-18 WT1 Phys 111 ALL Data - Shared with David (20190612).xlsx').replace([\"BLANK\", \"!!\", \"MULT\"], np.nan)\n",
    "df17_112 = pd.read_excel('rawdata/2017-18 WT1 Phys 112 ALL Data - Shared with David (20190612).xlsx').replace([\"BLANK\", \"!!\", \"MULT\"], np.nan)\n",
    "df18_111 = pd.read_excel('rawdata/2018-19 WT1 Phys 111 ALL Data - Shared with David (20190530).xlsx').replace([\"BLANK\", \"!!\", \"MULT\"], np.nan)\n",
    "df18_112 = pd.read_excel('rawdata/2018-19 WT1 Phys 112 ALL Data - Shared with David (20190527).xlsx').replace([\"BLANK\", \"!!\", \"MULT\"], np.nan)#.drop(df18_112[df18_112['Secondary'] == L15].index)\n",
    "df19_111 = pd.read_excel('rawdata/2019-20 WT1 Phys 111 ALL Data - Shared with Maya (20211222).xlsx').replace([\"BLANK\", \"!!\", \"MULT\"], np.nan)\n",
    "df19_112 = pd.read_excel('rawdata/2019-20 WT1 Phys 112 ALL Data - Shared with Maya (20211222).xlsx').replace([\"BLANK\", \"!!\", \"MULT\"], np.nan)\n",
    "df20 = pd.read_excel('rawdata/2020-21 WT1 Phys 111&112 ALL Data - Shared with Chelsea (20210329).xlsx').replace([\"BLANK\", \"!!\", \"MULT\"], np.nan)\n",
    "is_111 = df20['Course'] == 111\n",
    "df20_111 = df20[is_111]\n",
    "is_112 = df20['Course'] == 112\n",
    "df20_112 = df20[is_112]\n",
    "\n",
    "df21_111 = pd.read_excel('2021raw_corrected.xlsx')\n"
   ]
  },
  {
   "cell_type": "code",
   "execution_count": 4,
   "metadata": {},
   "outputs": [],
   "source": [
    "column_names=[]\n",
    "for i in range(1, 31):\n",
    "    column_names.append(\"PRE Q\" + str(i))\n",
    "df1 = pd.DataFrame(columns=column_names)\n",
    "\n",
    "df1.loc[\"2014 111\"] = calculate_question_score_pre(df14_111)\n",
    "df1.loc[\"2014 112\"] = calculate_question_score_pre(df14_112)\n",
    "df1.loc[\"2015 111\"] = calculate_question_score_pre(df15_111)\n",
    "df1.loc[\"2015 112\"] = calculate_question_score_pre(df15_112)\n",
    "df1.loc[\"2016 111\"] = calculate_question_score_pre(df16_111)\n",
    "df1.loc[\"2016 112\"] = calculate_question_score_pre(df16_112)\n",
    "df1.loc[\"2017 111\"] = calculate_question_score_pre(df17_111)\n",
    "df1.loc[\"2017 112\"] = calculate_question_score_pre(df17_112)\n",
    "df1.loc[\"2018 111\"] = calculate_question_score_pre(df18_111)\n",
    "df1.loc[\"2018 112\"] = calculate_question_score_pre(df18_112)\n",
    "df1.loc[\"2019 111\"] = calculate_question_score_pre(df19_111)\n",
    "df1.loc[\"2019 112\"] = calculate_question_score_pre(df19_112)\n",
    "df1.loc[\"2020 111\"] = calculate_question_score_pre_2020(df20_111)\n",
    "df1.loc[\"2020 112\"] = calculate_question_score_pre_2020(df20_112)\n",
    "df1.loc[\"2021 111\"] = calculate_question_score_pre_2021(df21_111)\n",
    "df1.loc[\"mean\"] = df1.mean()\n",
    "\n",
    "df1.to_excel(\"Pre_test_by_question.xlsx\")"
   ]
  },
  {
   "cell_type": "code",
   "execution_count": 5,
   "metadata": {},
   "outputs": [
    {
     "name": "stdout",
     "output_type": "stream",
     "text": [
      "255\n",
      "153\n"
     ]
    }
   ],
   "source": [
    "print(len(df14_111.index))\n",
    "print(df14_111[\"PRE Q1\"].count())"
   ]
  },
  {
   "cell_type": "code",
   "execution_count": 6,
   "metadata": {},
   "outputs": [],
   "source": [
    "column_names=[]\n",
    "for i in range(1, 31):\n",
    "    column_names.append(\"PRE Q\" + str(i))\n",
    "df7 = pd.DataFrame(columns=column_names)\n",
    "\n",
    "df7.loc[\"2014 111\"] = calculate_question_score_pre(df14_111)\n",
    "df7.loc[\"2015 111\"] = calculate_question_score_pre(df15_111)\n",
    "df7.loc[\"2016 111\"] = calculate_question_score_pre(df16_111)\n",
    "df7.loc[\"2017 111\"] = calculate_question_score_pre(df17_111)\n",
    "df7.loc[\"2018 111\"] = calculate_question_score_pre(df18_111)\n",
    "df7.loc[\"2019 111\"] = calculate_question_score_pre(df19_111)\n",
    "df7.loc[\"2020 111\"] = calculate_question_score_pre_2020(df20_111)\n",
    "df7.loc[\"2021 111\"] = calculate_question_score_pre_2021(df21_111)\n",
    "df7.loc[\"mean\"] = df7.mean()\n",
    "df7.loc[\"std dev\"] = df7.std()\n",
    "\n",
    "df7.to_excel(\"Pre_test_by_question_111.xlsx\")"
   ]
  },
  {
   "cell_type": "code",
   "execution_count": 7,
   "metadata": {},
   "outputs": [],
   "source": [
    "column_names=[]\n",
    "for i in range(1, 31):\n",
    "    column_names.append(\"POST Q\" + str(i))\n",
    "df8 = pd.DataFrame(columns=column_names)\n",
    "\n",
    "df8.loc[\"2014 111\"] = calculate_question_score_post(df14_111)\n",
    "df8.loc[\"2015 111\"] = calculate_question_score_post(df15_111)\n",
    "df8.loc[\"2016 111\"] = calculate_question_score_post(df16_111)\n",
    "df8.loc[\"2017 111\"] = calculate_question_score_post(df17_111)\n",
    "df8.loc[\"2018 111\"] = calculate_question_score_post(df18_111)\n",
    "df8.loc[\"2019 111\"] = calculate_question_score_post(df19_111)\n",
    "df8.loc[\"2020 111\"] = calculate_question_score_post_2020(df20_111)\n",
    "df8.loc[\"2021 111\"] = calculate_question_score_post_2021(df21_111)\n",
    "df8.loc[\"2021 111 err\"] = calculate_question_score_post_2021_err(df21_111)\n",
    "df8.loc[\"mean\"] = df8.mean()\n",
    "df8.loc[\"std dev\"] = df8.std()\n",
    "\n",
    "df8.to_excel(\"Post_test_by_question_111.xlsx\")"
   ]
  },
  {
   "cell_type": "code",
   "execution_count": 8,
   "metadata": {},
   "outputs": [
    {
     "data": {
      "text/plain": [
       "0.28672941613899516"
      ]
     },
     "execution_count": 8,
     "metadata": {},
     "output_type": "execute_result"
    }
   ],
   "source": [
    "df21_111[\"POST Q1\"].value_counts().std()/df21_111['POST Q1'].count()"
   ]
  },
  {
   "cell_type": "code",
   "execution_count": 14,
   "metadata": {},
   "outputs": [
    {
     "data": {
      "text/plain": [
       "(15.0, 95.0)"
      ]
     },
     "execution_count": 14,
     "metadata": {},
     "output_type": "execute_result"
    },
    {
     "data": {
      "image/png": "[encoded data removed]",
      "text/plain": [
       "<Figure size 576x432 with 1 Axes>"
      ]
     },
     "metadata": {
      "needs_background": "light"
     },
     "output_type": "display_data"
    }
   ],
   "source": [
    "xaxis = [1,2,3,4,5,6,7,8,9,10,11,12,13,14,15,16,17,18,19,20,21,22,23,24,25,26,27,28,29,30]\n",
    "plt.figure(figsize=(8,6))\n",
    "#plt.scatter(xaxis, df7.loc['2021 111']*100, color='b')\n",
    "plt.scatter(xaxis, df7.loc['mean']*100, color = 'r')\n",
    "plt.errorbar(xaxis, df7.loc['mean']*100, yerr=df7.loc['std dev']*100, fmt=\"ro\")\n",
    "plt.grid()\n",
    "plt.title(\"Pre Test By Question\")\n",
    "plt.legend(['Mean of 111 2014-2021'])\n",
    "plt.xticks(xaxis)\n",
    "plt.xlabel(\"Question Number\")\n",
    "plt.ylabel(\"Percentage of Correct Answers\")\n",
    "plt.ylim(15,95)"
   ]
  },
  {
   "cell_type": "code",
   "execution_count": 19,
   "metadata": {},
   "outputs": [
    {
     "data": {
      "text/plain": [
       "(15.0, 95.0)"
      ]
     },
     "execution_count": 19,
     "metadata": {},
     "output_type": "execute_result"
    },
    {
     "data": {
      "image/png": "[encoded data removed]",
      "text/plain": [
       "<Figure size 576x432 with 1 Axes>"
      ]
     },
     "metadata": {
      "needs_background": "light"
     },
     "output_type": "display_data"
    }
   ],
   "source": [
    "xaxis = [1,2,3,4,5,6,7,8,9,10,11,12,13,14,15,16,17,18,19,20,21,22,23,24,25,26,27,28,29,30]\n",
    "plt.figure(figsize=(8,6))\n",
    "#plt.scatter(xaxis, df8.loc['2021 111']*100, color='b')\n",
    "plt.errorbar(xaxis, df7.loc['mean']*100, yerr=df7.loc['std dev']*100, fmt=\"bo\")\n",
    "plt.errorbar(xaxis, df8.loc['mean']*100, yerr=df8.loc['std dev']*100, fmt=\"ro\")\n",
    "#plt.errorbar(xaxis, df8.loc['2021 111']*100, yerr=df8.loc['2021 111 err'], fmt=\"bo\")\n",
    "plt.grid()\n",
    "plt.title(\"Mean of Question Scores 2014-2021\")\n",
    "plt.legend(['Pre', 'Post'])\n",
    "plt.xticks(xaxis)\n",
    "plt.xlabel(\"Question Number\")\n",
    "plt.ylabel(\"Percentage of Correct Answers\")\n",
    "plt.ylim(15,95)"
   ]
  },
  {
   "cell_type": "code",
   "execution_count": null,
   "metadata": {},
   "outputs": [],
   "source": [
    "xaxis = [1,2,3,4,5,6,7,8,9,10,11,12,13,14,15,16,17,18,19,20,21,22,23,24,25,26,27,28,29,30]\n",
    "plt.figure(figsize=(8,6))\n",
    "#plt.scatter(xaxis, df8.loc['2021 111']*100, color='b')\n",
    "plt.scatter(xaxis, df8.loc['mean']*100, color = 'r')\n",
    "plt.errorbar(xaxis, df8.loc['mean']*100, yerr=df8.loc['std dev']*100, fmt=\"ro\")\n",
    "#plt.errorbar(xaxis, df8.loc['2021 111']*100, yerr=df8.loc['2021 111 err'], fmt=\"bo\")\n",
    "plt.grid()\n",
    "plt.title(\"Post Test By Question\")\n",
    "plt.legend(['2021', 'Mean of 111 2014-2021'])\n",
    "plt.xticks(xaxis)\n",
    "plt.xlabel(\"Question Number\")\n",
    "plt.ylabel(\"Percentage of Correct Answers\")\n",
    "plt.ylim(15,95)"
   ]
  },
  {
   "cell_type": "code",
   "execution_count": 23,
   "metadata": {},
   "outputs": [
    {
     "data": {
      "text/plain": [
       "Text(0.5, 1.0, 'Gain By Question')"
      ]
     },
     "execution_count": 23,
     "metadata": {},
     "output_type": "execute_result"
    },
    {
     "data": {
      "image/png": "[encoded data removed]",
      "text/plain": [
       "<Figure size 432x288 with 1 Axes>"
      ]
     },
     "metadata": {
      "needs_background": "light"
     },
     "output_type": "display_data"
    }
   ],
   "source": [
    "#np.array(df8.loc['2021 111']) - np.array(df7.loc['2021 111'])\n",
    "plt.scatter(xaxis, np.array(df8.loc['2021 111']) - np.array(df7.loc['2021 111']), color='b')\n",
    "plt.scatter(xaxis, np.array(df8.loc['mean']) - np.array(df7.loc['mean']), color='r')\n",
    "plt.xticks(xaxis)\n",
    "plt.xlabel(\"Question Number\")\n",
    "plt.ylabel(\"Percentage Gain\")\n",
    "plt.grid()\n",
    "plt.title(\"Gain By Question\")"
   ]
  },
  {
   "cell_type": "code",
   "execution_count": null,
   "metadata": {},
   "outputs": [],
   "source": [
    "column_names=[]\n",
    "for i in range(1, 31):\n",
    "    column_names.append(\"POST Q\" + str(i))\n",
    "df2 = pd.DataFrame(columns=column_names)\n",
    "\n",
    "df2.loc[\"2014 111\"] = calculate_question_score_post(df14_111)\n",
    "df2.loc[\"2014 112\"] = calculate_question_score_post(df14_112)\n",
    "df2.loc[\"2015 111\"] = calculate_question_score_post(df15_111)\n",
    "df2.loc[\"2015 112\"] = calculate_question_score_post(df15_112)\n",
    "df2.loc[\"2016 111\"] = calculate_question_score_post(df16_111)\n",
    "df2.loc[\"2016 112\"] = calculate_question_score_post(df16_112)\n",
    "df2.loc[\"2017 111\"] = calculate_question_score_post(df17_111)\n",
    "df2.loc[\"2017 112\"] = calculate_question_score_post(df17_112)\n",
    "df2.loc[\"2018 111\"] = calculate_question_score_post(df18_111)\n",
    "df2.loc[\"2018 112\"] = calculate_question_score_post(df18_112)\n",
    "df2.loc[\"2019 111\"] = calculate_question_score_post(df19_111)\n",
    "df2.loc[\"2019 112\"] = calculate_question_score_post(df19_112)\n",
    "df2.loc[\"2020 111\"] = calculate_question_score_post_2020(df20_111)\n",
    "df2.loc[\"2020 112\"] = calculate_question_score_post_2020(df20_112)\n",
    "df2.loc[\"2021 111\"] = calculate_question_score_post_2021(df21_111)\n",
    "df2.loc[\"mean\"] = df2.mean()\n",
    "\n",
    "df2.to_excel(\"Post_test_by_question.xlsx\")"
   ]
  },
  {
   "cell_type": "code",
   "execution_count": null,
   "metadata": {},
   "outputs": [],
   "source": [
    "for i in range(1,31):\n",
    "    string = \"PRE Q\"+ str(i)\n",
    "\n",
    "    y14_q1 = pd.DataFrame(df14_111[string].value_counts(dropna=False))\n",
    "    y15_q1 = pd.DataFrame(df15_111[string].value_counts(dropna=False))\n",
    "    y16_q1 = pd.DataFrame(df16_111[string].value_counts(dropna=False))\n",
    "    y17_q1 = pd.DataFrame(df17_111[string].value_counts(dropna=False))\n",
    "    y18_q1 = pd.DataFrame(df18_111[string].value_counts(dropna=False))\n",
    "\n",
    "    dff1 = y14_q1.join(y15_q1, lsuffix=' 2014 111', rsuffix=' 2015 111')\n",
    "    dff1 = dff1.join(y16_q1, lsuffix=' 2015 111', rsuffix=' 2016 111')\n",
    "    dff1 = dff1.join(y17_q1, lsuffix=' 2016 111', rsuffix=' 2017 111')\n",
    "    dff1 = dff1.join(y18_q1, lsuffix=' 2017 111', rsuffix=' 2018 111')\n",
    "\n",
    "    y14_q1 = pd.DataFrame(df14_112[string].value_counts(dropna=False))\n",
    "    y15_q1 = pd.DataFrame(df15_112[string].value_counts(dropna=False))\n",
    "    y16_q1 = pd.DataFrame(df16_112[string].value_counts(dropna=False))\n",
    "    y17_q1 = pd.DataFrame(df17_112[string].value_counts(dropna=False))\n",
    "    y18_q1 = pd.DataFrame(df18_112[string].value_counts(dropna=False))\n",
    "\n",
    "    dff2 = y14_q1.join(y15_q1, lsuffix=' 2014 112', rsuffix=' 2015 112')\n",
    "    dff2 = dff2.join(y16_q1, lsuffix=' 2015 112', rsuffix=' 2016 112')\n",
    "    dff2 = dff2.join(y17_q1, lsuffix=' 2016 112', rsuffix=' 2017 112')\n",
    "    dff2 = dff2.join(y18_q1, lsuffix=' 2017 112', rsuffix=' 2018 112')\n",
    "\n",
    "    dff3 = dff2.join(dff1, lsuffix='111', rsuffix='112')\n",
    "\n",
    "    print(string)\n",
    "    with pd.ExcelWriter('answers_by_question.xlsx', engine='openpyxl',mode='a') as writer:  \n",
    "        dff3.to_excel(writer, sheet_name=string)\n"
   ]
  },
  {
   "cell_type": "code",
   "execution_count": null,
   "metadata": {},
   "outputs": [],
   "source": [
    "pd.DataFrame(df15_111['PRE Q5'].value_counts(dropna=False)).join(pd.DataFrame(df16_111['PRE Q5'].value_counts(dropna=False)), lsuffix=' 2014 111', rsuffix=' 2015 111')"
   ]
  },
  {
   "cell_type": "code",
   "execution_count": null,
   "metadata": {},
   "outputs": [],
   "source": [
    "for i in range(1,31):\n",
    "    string = \"POST Q\"+ str(i)\n",
    "\n",
    "    y14_q1 = pd.DataFrame(df14_111[string].value_counts(dropna=False))\n",
    "    y15_q1 = pd.DataFrame(df15_111[string].value_counts(dropna=False))\n",
    "    y16_q1 = pd.DataFrame(df16_111[string].value_counts(dropna=False))\n",
    "    y17_q1 = pd.DataFrame(df17_111[string].value_counts(dropna=False))\n",
    "    y18_q1 = pd.DataFrame(df18_111[string].value_counts(dropna=False))\n",
    "\n",
    "    dff1 = y14_q1.join(y15_q1, lsuffix=' 2014 111', rsuffix=' 2015 111')\n",
    "    dff1 = dff1.join(y16_q1, lsuffix=' 2015 111', rsuffix=' 2016 111')\n",
    "    dff1 = dff1.join(y17_q1, lsuffix=' 2016 111', rsuffix=' 2017 111')\n",
    "    dff1 = dff1.join(y18_q1, lsuffix=' 2017 111', rsuffix=' 2018 111')\n",
    "\n",
    "    y14_q1 = pd.DataFrame(df14_112[string].value_counts(dropna=False))\n",
    "    y15_q1 = pd.DataFrame(df15_112[string].value_counts(dropna=False))\n",
    "    y16_q1 = pd.DataFrame(df16_112[string].value_counts(dropna=False))\n",
    "    y17_q1 = pd.DataFrame(df17_112[string].value_counts(dropna=False))\n",
    "    y18_q1 = pd.DataFrame(df18_112[string].value_counts(dropna=False))\n",
    "\n",
    "    dff2 = y14_q1.join(y15_q1, lsuffix=' 2014 112', rsuffix=' 2015 112')\n",
    "    dff2 = dff2.join(y16_q1, lsuffix=' 2015 112', rsuffix=' 2016 112')\n",
    "    dff2 = dff2.join(y17_q1, lsuffix=' 2016 112', rsuffix=' 2017 112')\n",
    "    dff2 = dff2.join(y18_q1, lsuffix=' 2017 112', rsuffix=' 2018 112')\n",
    "\n",
    "    dff3 = dff2.join(dff1, lsuffix='111', rsuffix='112')\n",
    "\n",
    "    print(string)\n",
    "    with pd.ExcelWriter('answers_by_question_post.xlsx', engine='openpyxl',mode='a') as writer:  \n",
    "        dff3.to_excel(writer, sheet_name=string)"
   ]
  },
  {
   "cell_type": "code",
   "execution_count": null,
   "metadata": {},
   "outputs": [],
   "source": [
    "for i in range(1,31):\n",
    "    string = \"PRE Q\"+ str(i)\n",
    "    \n",
    "    y14_q1 = pd.DataFrame(df14_111[df14_111['PRE Q85']== 'A'][string].value_counts(dropna=False))\n",
    "    y15_q1 = pd.DataFrame(df15_111[df15_111['PRE Q85']== 'A'][string].value_counts(dropna=False))\n",
    "    y16_q1 = pd.DataFrame(df16_111[df16_111['PRE Q85']== 'A'][string].value_counts(dropna=False))\n",
    "    y17_q1 = pd.DataFrame(df17_111[df17_111['PRE Q85']== 'A'][string].value_counts(dropna=False))\n",
    "    y18_q1 = pd.DataFrame(df18_111[df18_111['PRE Q85']== 'A'][string].value_counts(dropna=False))\n",
    "\n",
    "    dff1 = y14_q1.join(y15_q1, lsuffix=' 2014 111', rsuffix=' 2015 111')\n",
    "    dff1 = dff1.join(y16_q1, lsuffix=' 2015 111', rsuffix=' 2016 111')\n",
    "    dff1 = dff1.join(y17_q1, lsuffix=' 2016 111', rsuffix=' 2017 111')\n",
    "    dff1 = dff1.join(y18_q1, lsuffix=' 2017 111', rsuffix=' 2018 111')\n",
    "\n",
    "    y14_q1 = pd.DataFrame(df14_112[df14_112['PRE Q85']== 'A'][string].value_counts(dropna=False))\n",
    "    y15_q1 = pd.DataFrame(df15_112[df15_112['PRE Q85']== 'A'][string].value_counts(dropna=False))\n",
    "    y16_q1 = pd.DataFrame(df16_112[df16_112['PRE Q85']== 'A'][string].value_counts(dropna=False))\n",
    "    y17_q1 = pd.DataFrame(df17_112[df17_112['PRE Q85']== 'A'][string].value_counts(dropna=False))\n",
    "    y18_q1 = pd.DataFrame(df18_112[df18_112['PRE Q85']== 'A'][string].value_counts(dropna=False))\n",
    "\n",
    "    dff2 = y14_q1.join(y15_q1, lsuffix=' 2014 112', rsuffix=' 2015 112')\n",
    "    dff2 = dff2.join(y16_q1, lsuffix=' 2015 112', rsuffix=' 2016 112')\n",
    "    dff2 = dff2.join(y17_q1, lsuffix=' 2016 112', rsuffix=' 2017 112')\n",
    "    dff2 = dff2.join(y18_q1, lsuffix=' 2017 112', rsuffix=' 2018 112')\n",
    "\n",
    "    dff3 = dff2.join(dff1, lsuffix='111', rsuffix='112')\n",
    "\n",
    "    print(string)\n",
    "    #with pd.ExcelWriter('answers_by_question_female_pre.xlsx', engine='openpyxl',mode='a') as writer:  \n",
    "    #    dff3.to_excel(writer, sheet_name=string)"
   ]
  },
  {
   "cell_type": "code",
   "execution_count": null,
   "metadata": {},
   "outputs": [],
   "source": [
    "for i in range(1,31):\n",
    "    string = \"PRE Q\"+ str(i)\n",
    "    \n",
    "    y14_q1 = pd.DataFrame(df14_111[df14_111['PRE Q85']== 'B'][string].value_counts(dropna=False))\n",
    "    y15_q1 = pd.DataFrame(df15_111[df15_111['PRE Q85']== 'B'][string].value_counts(dropna=False))\n",
    "    y16_q1 = pd.DataFrame(df16_111[df16_111['PRE Q85']== 'B'][string].value_counts(dropna=False))\n",
    "    y17_q1 = pd.DataFrame(df17_111[df17_111['PRE Q85']== 'B'][string].value_counts(dropna=False))\n",
    "    y18_q1 = pd.DataFrame(df18_111[df18_111['PRE Q85']== 'B'][string].value_counts(dropna=False))\n",
    "\n",
    "    dff1 = y14_q1.join(y15_q1, lsuffix=' 2014 111', rsuffix=' 2015 111')\n",
    "    dff1 = dff1.join(y16_q1, lsuffix=' 2015 111', rsuffix=' 2016 111')\n",
    "    dff1 = dff1.join(y17_q1, lsuffix=' 2016 111', rsuffix=' 2017 111')\n",
    "    dff1 = dff1.join(y18_q1, lsuffix=' 2017 111', rsuffix=' 2018 111')\n",
    "\n",
    "    y14_q1 = pd.DataFrame(df14_112[df14_112['PRE Q85']== 'B'][string].value_counts(dropna=False))\n",
    "    y15_q1 = pd.DataFrame(df15_112[df15_112['PRE Q85']== 'B'][string].value_counts(dropna=False))\n",
    "    y16_q1 = pd.DataFrame(df16_112[df16_112['PRE Q85']== 'B'][string].value_counts(dropna=False))\n",
    "    y17_q1 = pd.DataFrame(df17_112[df17_112['PRE Q85']== 'B'][string].value_counts(dropna=False))\n",
    "    y18_q1 = pd.DataFrame(df18_112[df18_112['PRE Q85']== 'B'][string].value_counts(dropna=False))\n",
    "\n",
    "    dff2 = y14_q1.join(y15_q1, lsuffix=' 2014 112', rsuffix=' 2015 112')\n",
    "    dff2 = dff2.join(y16_q1, lsuffix=' 2015 112', rsuffix=' 2016 112')\n",
    "    dff2 = dff2.join(y17_q1, lsuffix=' 2016 112', rsuffix=' 2017 112')\n",
    "    dff2 = dff2.join(y18_q1, lsuffix=' 2017 112', rsuffix=' 2018 112')\n",
    "\n",
    "    dff3 = dff2.join(dff1, lsuffix='111', rsuffix='112')\n",
    "\n",
    "    print(string)\n",
    "    #with pd.ExcelWriter('answers_by_question_male_pre.xlsx', engine='openpyxl',mode='a') as writer:  \n",
    "    #    dff3.to_excel(writer, sheet_name=string)"
   ]
  },
  {
   "cell_type": "code",
   "execution_count": null,
   "metadata": {
    "scrolled": false
   },
   "outputs": [],
   "source": [
    "dff4 = pd.DataFrame(columns=['Question', 'Female Score', 'Female Score Error'])\n",
    "for i in range(1,31):\n",
    "    string = \"POST Q\"+ str(i)\n",
    "    \n",
    "    corr_ans = ['C', 'A' , 'C', 'E', 'B', 'B', 'B', 'B' , 'E', 'A', 'D', 'B', 'D', 'D', 'A', 'A', 'B', 'B', 'E', 'D', \n",
    "            'E', 'B', 'B', 'A', 'C', 'E', 'C', 'E', 'B', 'C']\n",
    "    \n",
    "    y14_q1 = pd.DataFrame(df14_111[df14_111['POST Q85']== 'A'][string].value_counts(dropna=False))\n",
    "    y15_q1 = pd.DataFrame(df15_111[df15_111['POST Q85']== 'A'][string].value_counts(dropna=False))\n",
    "    y16_q1 = pd.DataFrame(df16_111[df16_111['POST Q85']== 'A'][string].value_counts(dropna=False))\n",
    "    y17_q1 = pd.DataFrame(df17_111[df17_111['POST Q85']== 'A'][string].value_counts(dropna=False))\n",
    "    y18_q1 = pd.DataFrame(df18_111[df18_111['POST Q85']== 'A'][string].value_counts(dropna=False))\n",
    "\n",
    "    dff1 = y14_q1.join(y15_q1, lsuffix=' 2014 111', rsuffix=' 2015 111')\n",
    "    dff1 = dff1.join(y16_q1, lsuffix=' 2015 111', rsuffix=' 2016 111')\n",
    "    dff1 = dff1.join(y17_q1, lsuffix=' 2016 111', rsuffix=' 2017 111')\n",
    "    dff1 = dff1.join(y18_q1, lsuffix=' 2017 111', rsuffix=' 2018 111')\n",
    "\n",
    "    y14_q1 = pd.DataFrame(df14_112[df14_112['POST Q85']== 'A'][string].value_counts(dropna=False))\n",
    "    y15_q1 = pd.DataFrame(df15_112[df15_112['POST Q85']== 'A'][string].value_counts(dropna=False))\n",
    "    y16_q1 = pd.DataFrame(df16_112[df16_112['POST Q85']== 'A'][string].value_counts(dropna=False))\n",
    "    y17_q1 = pd.DataFrame(df17_112[df17_112['POST Q85']== 'A'][string].value_counts(dropna=False))\n",
    "    y18_q1 = pd.DataFrame(df18_112[df18_112['POST Q85']== 'A'][string].value_counts(dropna=False))\n",
    "\n",
    "    dff2 = y14_q1.join(y15_q1, lsuffix=' 2014 112', rsuffix=' 2015 112')\n",
    "    dff2 = dff2.join(y16_q1, lsuffix=' 2015 112', rsuffix=' 2016 112')\n",
    "    dff2 = dff2.join(y17_q1, lsuffix=' 2016 112', rsuffix=' 2017 112')\n",
    "    dff2 = dff2.join(y18_q1, lsuffix=' 2017 112', rsuffix=' 2018 112')\n",
    "\n",
    "    dff3 = dff2.join(dff1, lsuffix='111', rsuffix='112')\n",
    "\n",
    "    #print(string)\n",
    "    #with pd.ExcelWriter('answers_by_question_female_post.xlsx', engine='openpyxl',mode='a') as writer:  \n",
    "    #    dff3.to_excel(writer, sheet_name=string)\n",
    "        \n",
    "    corr = dff3.loc[corr_ans[3-1]].sum()\n",
    "    total = dff3.sum().sum()\n",
    "\n",
    "    corr_err = dff3.loc[corr_ans[3-1]].std()/corr\n",
    "    total_err = dff3.sum().values.std()/total\n",
    "    actual_err = np.sqrt(corr_err**2 + total_err**2)\n",
    "\n",
    "    array = [string, corr/total, actual_err]\n",
    "\n",
    "    dff4.loc[i] = [string, corr/total, actual_err]"
   ]
  },
  {
   "cell_type": "code",
   "execution_count": null,
   "metadata": {},
   "outputs": [],
   "source": [
    "dff4"
   ]
  },
  {
   "cell_type": "code",
   "execution_count": null,
   "metadata": {},
   "outputs": [],
   "source": []
  }
 ],
 "metadata": {
  "kernelspec": {
   "display_name": "Python 3",
   "language": "python",
   "name": "python3"
  },
  "language_info": {
   "codemirror_mode": {
    "name": "ipython",
    "version": 3
   },
   "file_extension": ".py",
   "mimetype": "text/x-python",
   "name": "python",
   "nbconvert_exporter": "python",
   "pygments_lexer": "ipython3",
   "version": "3.8.1"
  }
 },
 "nbformat": 4,
 "nbformat_minor": 4
}
