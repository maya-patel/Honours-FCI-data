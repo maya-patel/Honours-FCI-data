{
 "cells": [
  {
   "cell_type": "code",
   "execution_count": 12,
   "metadata": {},
   "outputs": [],
   "source": [
    "import pandas as pd\n",
    "import numpy as np\n",
    "import matplotlib.pyplot as plt\n",
    "from FCI_functions.FCI_functions import calculate_pre_score, calculate_post_score, calculate_question_score_post, calculate_question_score_pre"
   ]
  },
  {
   "cell_type": "code",
   "execution_count": 13,
   "metadata": {},
   "outputs": [],
   "source": [
    "df16_111 = pd.read_excel('rawdata/2016-17 WT1 Phys 111 ALL Data - Shared with Chelsea.xlsx').replace([\"BLANK\", \"!!\", \"MULT\"], np.nan)\n",
    "df16_112 = pd.read_excel('rawdata/2016-17 WT1 Phys 112 ALL Data - Shared with Chelsea.xlsx').replace([\"BLANK\", \"!!\", \"MULT\"], np.nan)\n",
    "df14_111 = pd.read_excel('rawdata/2014-15 WT1 Phys 111 ALL Data - Shared with Chelsea (20210212).xlsx').replace([\"BLANK\", \"!!\", \"MULT\"], np.nan)\n",
    "df14_112 = pd.read_excel('rawdata/2014-15 WT1 Phys 112 ALL Data - Shared with Chelsea (20210212).xlsx').replace([\"BLANK\", \"!!\", \"MULT\"], np.nan)\n",
    "df15_111 = pd.read_excel('rawdata/2015-16 WT1 Phys 111 ALL Data - Shared with Chelsea.xlsx').replace([\"BLANK\", \"!!\", \"MULT\"], np.nan)\n",
    "df15_112 = pd.read_excel('rawdata/2015-16 WT1 Phys 112 ALL Data - Shared with Chelsea.xlsx').replace([\"BLANK\", \"!!\", \"MULT\"], np.nan)\n",
    "df17_111 = pd.read_excel('rawdata/2017-18 WT1 Phys 111 ALL Data - Shared with David (20190612).xlsx').replace([\"BLANK\", \"!!\", \"MULT\"], np.nan)\n",
    "df17_112 = pd.read_excel('rawdata/2017-18 WT1 Phys 112 ALL Data - Shared with David (20190612).xlsx').replace([\"BLANK\", \"!!\", \"MULT\"], np.nan)\n",
    "df18_111 = pd.read_excel('rawdata/2018-19 WT1 Phys 111 ALL Data - Shared with David (20190530).xlsx').replace([\"BLANK\", \"!!\", \"MULT\"], np.nan)\n",
    "df18_112 = pd.read_excel('rawdata/2018-19 WT1 Phys 112 ALL Data - Shared with David (20190527).xlsx').replace([\"BLANK\", \"!!\", \"MULT\"], np.nan)#.drop(df18_112[df18_112['Secondary'] == L15].index)\n",
    "df20 = pd.read_excel('rawdata/2020-21 WT1 Phys 111&112 ALL Data - Shared with Chelsea (20210329).xlsx').replace([\"BLANK\", \"!!\", \"MULT\"], np.nan)\n",
    "is_111 = df20['Course'] == 111\n",
    "df20_111 = df20[is_111]\n",
    "is_112 = df20['Course'] == 112\n",
    "df20_112 = df20[is_112]"
   ]
  },
  {
   "cell_type": "code",
   "execution_count": 14,
   "metadata": {},
   "outputs": [],
   "source": [
    "def calculate_pre_score_3rdLaw(student):\n",
    "    corr_ans = ['A','D']\n",
    "    score = 0\n",
    "    questions = [4,28]\n",
    "    for i in range(2):\n",
    "        string = \"PRE Q\"+ str(questions[i])\n",
    "        if string in student:\n",
    "            if student[string]==corr_ans[i]:\n",
    "                score+=1\n",
    "    return (score)"
   ]
  },
  {
   "cell_type": "code",
   "execution_count": 15,
   "metadata": {},
   "outputs": [],
   "source": [
    "def calculate_post_score_3rdLaw(student):\n",
    "    corr_ans = ['A', 'B','B', 'D']\n",
    "    score = 0\n",
    "    questions = [4,15,16,28]\n",
    "    for i in range(4):\n",
    "        string = \"POST Q\"+ str(questions[i])\n",
    "        if string in student:\n",
    "            if student[string]==corr_ans[i]:\n",
    "                score+=1\n",
    "            \n",
    "    return (score)"
   ]
  },
  {
   "cell_type": "code",
   "execution_count": 16,
   "metadata": {},
   "outputs": [
    {
     "name": "stdout",
     "output_type": "stream",
     "text": [
      "0.28823529411764703\n",
      "0.5354330708661418\n",
      "0.5651162790697675\n",
      "0.517921146953405\n",
      "0.4690909090909091\n",
      "0.5807560137457045\n",
      "0.2814569536423841\n",
      "0.4267352185089974\n",
      "0.4088541666666667\n",
      "0.5903426791277259\n"
     ]
    }
   ],
   "source": [
    "print(df14_111.apply(calculate_pre_score_3rdLaw, axis=1).mean()/2)\n",
    "print(df14_112.apply(calculate_pre_score_3rdLaw, axis=1).mean()/2)\n",
    "print(df15_111.apply(calculate_pre_score_3rdLaw, axis=1).mean()/2)\n",
    "print(df15_112.apply(calculate_pre_score_3rdLaw, axis=1).mean()/2)\n",
    "print(df16_111.apply(calculate_pre_score_3rdLaw, axis=1).mean()/2)\n",
    "print(df16_112.apply(calculate_pre_score_3rdLaw, axis=1).mean()/2)\n",
    "print(df17_111.apply(calculate_pre_score_3rdLaw, axis=1).mean()/2)\n",
    "print(df17_112.apply(calculate_pre_score_3rdLaw, axis=1).mean()/2)\n",
    "print(df18_111.apply(calculate_pre_score_3rdLaw, axis=1).mean()/2)\n",
    "print(df18_112.apply(calculate_pre_score_3rdLaw, axis=1).mean()/2)"
   ]
  },
  {
   "cell_type": "code",
   "execution_count": 17,
   "metadata": {},
   "outputs": [
    {
     "name": "stdout",
     "output_type": "stream",
     "text": [
      "0.05163398692810458\n",
      "0.15091863517060367\n",
      "0.11627906976744186\n",
      "0.13799283154121864\n",
      "0.11272727272727273\n",
      "0.10080183276059564\n",
      "0.06070640176600441\n",
      "0.05184233076263925\n",
      "0.14756944444444445\n",
      "0.0628245067497404\n"
     ]
    }
   ],
   "source": [
    "print(df14_111.apply(calculate_post_score_3rdLaw, axis=1).mean()/6)\n",
    "print(df14_112.apply(calculate_post_score_3rdLaw, axis=1).mean()/6)\n",
    "print(df15_111.apply(calculate_post_score_3rdLaw, axis=1).mean()/6)\n",
    "print(df15_112.apply(calculate_post_score_3rdLaw, axis=1).mean()/6)\n",
    "print(df16_111.apply(calculate_post_score_3rdLaw, axis=1).mean()/6)\n",
    "print(df16_112.apply(calculate_post_score_3rdLaw, axis=1).mean()/6)\n",
    "print(df17_111.apply(calculate_post_score_3rdLaw, axis=1).mean()/6)\n",
    "print(df17_112.apply(calculate_post_score_3rdLaw, axis=1).mean()/6)\n",
    "print(df18_111.apply(calculate_post_score_3rdLaw, axis=1).mean()/6)\n",
    "print(df18_112.apply(calculate_post_score_3rdLaw, axis=1).mean()/6)"
   ]
  },
  {
   "cell_type": "code",
   "execution_count": 18,
   "metadata": {},
   "outputs": [
    {
     "name": "stdout",
     "output_type": "stream",
     "text": [
      "0.04444444444444443\n",
      "0.02755905511811027\n",
      "0.13673810609515125\n",
      "0.02172174714719799\n",
      "0.10472964943553179\n",
      "0.04266670274463116\n",
      "0.04218499761935678\n",
      "-0.00867356233427119\n",
      "0.08465073529411765\n",
      "0.04586225787197162\n"
     ]
    }
   ],
   "source": [
    "print((df14_111.apply(calculate_pre_score_3rdLaw, axis=1).mean()/6)-(df14_111.apply(calculate_post_score_3rdLaw, axis=1).mean()/6))\n",
    "print((df14_112.apply(calculate_pre_score_3rdLaw, axis=1).mean()/6)-(df14_112.apply(calculate_post_score_3rdLaw, axis=1).mean()/6))\n",
    "print((df15_111.apply(calculate_pre_score_3rdLaw, axis=1).mean()/6)-(df14_111.apply(calculate_post_score_3rdLaw, axis=1).mean()/6))\n",
    "print((df15_112.apply(calculate_pre_score_3rdLaw, axis=1).mean()/6)-(df14_112.apply(calculate_post_score_3rdLaw, axis=1).mean()/6))\n",
    "print((df16_111.apply(calculate_pre_score_3rdLaw, axis=1).mean()/6)-(df14_111.apply(calculate_post_score_3rdLaw, axis=1).mean()/6))\n",
    "print((df16_112.apply(calculate_pre_score_3rdLaw, axis=1).mean()/6)-(df14_112.apply(calculate_post_score_3rdLaw, axis=1).mean()/6))\n",
    "print((df17_111.apply(calculate_pre_score_3rdLaw, axis=1).mean()/6)-(df14_111.apply(calculate_post_score_3rdLaw, axis=1).mean()/6))\n",
    "print((df17_112.apply(calculate_pre_score_3rdLaw, axis=1).mean()/6)-(df14_112.apply(calculate_post_score_3rdLaw, axis=1).mean()/6))\n",
    "print((df18_111.apply(calculate_pre_score_3rdLaw, axis=1).mean()/6)-(df14_111.apply(calculate_post_score_3rdLaw, axis=1).mean()/6))\n",
    "print((df18_112.apply(calculate_pre_score_3rdLaw, axis=1).mean()/6)-(df14_112.apply(calculate_post_score_3rdLaw, axis=1).mean()/6))"
   ]
  },
  {
   "cell_type": "code",
   "execution_count": 19,
   "metadata": {},
   "outputs": [],
   "source": [
    "column_names=[]\n",
    "for i in range(1, 31):\n",
    "    column_names.append(\"PRE Q\" + str(i))\n",
    "df1 = pd.DataFrame(columns=column_names)\n",
    "\n",
    "df1.loc[\"2014 111\"] = calculate_question_score_pre(df14_111)\n",
    "df1.loc[\"2014 112\"] = calculate_question_score_pre(df14_112)\n",
    "df1.loc[\"2015 111\"] = calculate_question_score_pre(df15_111)\n",
    "df1.loc[\"2015 112\"] = calculate_question_score_pre(df15_112)\n",
    "df1.loc[\"2016 111\"] = calculate_question_score_pre(df16_111)\n",
    "df1.loc[\"2016 112\"] = calculate_question_score_pre(df16_112)\n",
    "df1.loc[\"2017 111\"] = calculate_question_score_pre(df17_111)\n",
    "df1.loc[\"2017 112\"] = calculate_question_score_pre(df17_112)\n",
    "df1.loc[\"2018 111\"] = calculate_question_score_pre(df18_111)\n",
    "df1.loc[\"2018 112\"] = calculate_question_score_pre(df18_112)\n",
    "df1.loc[\"mean\"] = df1.mean()\n",
    "\n",
    "df1.to_excel(\"Pre_test_by_question.xlsx\")"
   ]
  },
  {
   "cell_type": "code",
   "execution_count": 20,
   "metadata": {},
   "outputs": [],
   "source": [
    "column_names=[]\n",
    "for i in range(1, 31):\n",
    "    column_names.append(\"POST Q\" + str(i))\n",
    "df2 = pd.DataFrame(columns=column_names)\n",
    "\n",
    "df2.loc[\"2014 111\"] = calculate_question_score_post(df14_111)\n",
    "df2.loc[\"2014 112\"] = calculate_question_score_post(df14_112)\n",
    "df2.loc[\"2015 111\"] = calculate_question_score_post(df15_111)\n",
    "df2.loc[\"2015 112\"] = calculate_question_score_post(df15_112)\n",
    "df2.loc[\"2016 111\"] = calculate_question_score_post(df16_111)\n",
    "df2.loc[\"2016 112\"] = calculate_question_score_post(df16_112)\n",
    "df2.loc[\"2017 111\"] = calculate_question_score_post(df17_111)\n",
    "df2.loc[\"2017 112\"] = calculate_question_score_post(df17_112)\n",
    "df2.loc[\"2018 111\"] = calculate_question_score_post(df18_111)\n",
    "df2.loc[\"2018 112\"] = calculate_question_score_post(df18_112)\n",
    "df2.loc[\"mean\"] = df2.mean()\n",
    "\n",
    "df2.to_excel(\"Post_test_by_question.xlsx\")"
   ]
  },
  {
   "cell_type": "code",
   "execution_count": 27,
   "metadata": {},
   "outputs": [
    {
     "data": {
      "text/plain": [
       "<matplotlib.legend.Legend at 0x123c1efa0>"
      ]
     },
     "execution_count": 27,
     "metadata": {},
     "output_type": "execute_result"
    },
    {
     "data": {
      "image/png": "[encoded data removed]",
      "text/plain": [
       "<Figure size 432x288 with 1 Axes>"
      ]
     },
     "metadata": {
      "needs_background": "light"
     },
     "output_type": "display_data"
    }
   ],
   "source": [
    "df14_111.apply(calculate_pre_score_3rdLaw, axis=1).plot.hist(alpha=0.5, bins=2)\n",
    "df14_112.apply(calculate_pre_score_3rdLaw, axis=1).plot.hist(alpha=0.5, bins=2)\n",
    "plt.legend([\"df14_111\", \"df14_112\"])"
   ]
  },
  {
   "cell_type": "code",
   "execution_count": 22,
   "metadata": {},
   "outputs": [
    {
     "data": {
      "text/plain": [
       "<matplotlib.legend.Legend at 0x12378ab50>"
      ]
     },
     "execution_count": 22,
     "metadata": {},
     "output_type": "execute_result"
    },
    {
     "data": {
      "image/png": "[encoded data removed]",
      "text/plain": [
       "<Figure size 432x288 with 1 Axes>"
      ]
     },
     "metadata": {
      "needs_background": "light"
     },
     "output_type": "display_data"
    }
   ],
   "source": [
    "df15_111.apply(calculate_pre_score_3rdLaw, axis=1).plot.hist(alpha=0.5)\n",
    "df15_112.apply(calculate_pre_score_3rdLaw, axis=1).plot.hist(alpha=0.5)\n",
    "plt.legend([\"df15_111\", \"df15_112\"])"
   ]
  },
  {
   "cell_type": "code",
   "execution_count": 28,
   "metadata": {},
   "outputs": [
    {
     "data": {
      "text/plain": [
       "<matplotlib.legend.Legend at 0x123c2beb0>"
      ]
     },
     "execution_count": 28,
     "metadata": {},
     "output_type": "execute_result"
    },
    {
     "data": {
      "image/png": "[encoded data removed]",
      "text/plain": [
       "<Figure size 432x288 with 1 Axes>"
      ]
     },
     "metadata": {
      "needs_background": "light"
     },
     "output_type": "display_data"
    }
   ],
   "source": [
    "df16_111.apply(calculate_pre_score_3rdLaw, axis=1).plot.hist(alpha=0.5)\n",
    "df16_112.apply(calculate_pre_score_3rdLaw, axis=1).plot.hist(alpha=0.5)\n",
    "plt.legend([\"df16_111\", \"df16_112\"])"
   ]
  },
  {
   "cell_type": "code",
   "execution_count": null,
   "metadata": {},
   "outputs": [],
   "source": []
  }
 ],
 "metadata": {
  "kernelspec": {
   "display_name": "Python 3",
   "language": "python",
   "name": "python3"
  },
  "language_info": {
   "codemirror_mode": {
    "name": "ipython",
    "version": 3
   },
   "file_extension": ".py",
   "mimetype": "text/x-python",
   "name": "python",
   "nbconvert_exporter": "python",
   "pygments_lexer": "ipython3",
   "version": "3.8.1"
  }
 },
 "nbformat": 4,
 "nbformat_minor": 4
}
