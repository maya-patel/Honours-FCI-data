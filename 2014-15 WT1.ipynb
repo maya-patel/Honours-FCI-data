{
 "cells": [
  {
   "cell_type": "code",
   "execution_count": 87,
   "metadata": {},
   "outputs": [
    {
     "name": "stdout",
     "output_type": "stream",
     "text": [
      "256\n",
      "460\n",
      "215\n"
     ]
    },
    {
     "data": {
      "text/html": [
       "<div>\n",
       "<style scoped>\n",
       "    .dataframe tbody tr th:only-of-type {\n",
       "        vertical-align: middle;\n",
       "    }\n",
       "\n",
       "    .dataframe tbody tr th {\n",
       "        vertical-align: top;\n",
       "    }\n",
       "\n",
       "    .dataframe thead th {\n",
       "        text-align: right;\n",
       "    }\n",
       "</style>\n",
       "<table border=\"1\" class=\"dataframe\">\n",
       "  <thead>\n",
       "    <tr style=\"text-align: right;\">\n",
       "      <th></th>\n",
       "      <th>Session</th>\n",
       "      <th>Course</th>\n",
       "      <th>Lecture</th>\n",
       "      <th>Secondary</th>\n",
       "      <th>Percent Grade</th>\n",
       "      <th>Letter Grade</th>\n",
       "      <th>PRE Q1</th>\n",
       "      <th>PRE Q2</th>\n",
       "      <th>PRE Q3</th>\n",
       "      <th>PRE Q4</th>\n",
       "      <th>...</th>\n",
       "      <th>POST Q87</th>\n",
       "      <th>POST Q88</th>\n",
       "      <th>POST Q89</th>\n",
       "      <th>POST Q90</th>\n",
       "      <th>POST Q91</th>\n",
       "      <th>POST Q92</th>\n",
       "      <th>POST Q93</th>\n",
       "      <th>POST Q94</th>\n",
       "      <th>POST Q95</th>\n",
       "      <th>POST Q96</th>\n",
       "    </tr>\n",
       "  </thead>\n",
       "  <tbody>\n",
       "    <tr>\n",
       "      <th>0</th>\n",
       "      <td>2014W</td>\n",
       "      <td>111.0</td>\n",
       "      <td>1.0</td>\n",
       "      <td>L02</td>\n",
       "      <td>70.0</td>\n",
       "      <td>B-</td>\n",
       "      <td>C</td>\n",
       "      <td>D</td>\n",
       "      <td>D</td>\n",
       "      <td>A</td>\n",
       "      <td>...</td>\n",
       "      <td>A</td>\n",
       "      <td>C</td>\n",
       "      <td>C</td>\n",
       "      <td>E</td>\n",
       "      <td>D</td>\n",
       "      <td>C</td>\n",
       "      <td>A</td>\n",
       "      <td>C</td>\n",
       "      <td>B</td>\n",
       "      <td>BLANK</td>\n",
       "    </tr>\n",
       "    <tr>\n",
       "      <th>1</th>\n",
       "      <td>2014W</td>\n",
       "      <td>111.0</td>\n",
       "      <td>1.0</td>\n",
       "      <td>XMT</td>\n",
       "      <td>66.0</td>\n",
       "      <td>C+</td>\n",
       "      <td>NaN</td>\n",
       "      <td>NaN</td>\n",
       "      <td>NaN</td>\n",
       "      <td>NaN</td>\n",
       "      <td>...</td>\n",
       "      <td>NaN</td>\n",
       "      <td>NaN</td>\n",
       "      <td>NaN</td>\n",
       "      <td>NaN</td>\n",
       "      <td>NaN</td>\n",
       "      <td>NaN</td>\n",
       "      <td>NaN</td>\n",
       "      <td>NaN</td>\n",
       "      <td>NaN</td>\n",
       "      <td>NaN</td>\n",
       "    </tr>\n",
       "    <tr>\n",
       "      <th>2</th>\n",
       "      <td>2014W</td>\n",
       "      <td>111.0</td>\n",
       "      <td>1.0</td>\n",
       "      <td>L10</td>\n",
       "      <td>74.0</td>\n",
       "      <td>B</td>\n",
       "      <td>A</td>\n",
       "      <td>A</td>\n",
       "      <td>C</td>\n",
       "      <td>A</td>\n",
       "      <td>...</td>\n",
       "      <td>B</td>\n",
       "      <td>B</td>\n",
       "      <td>A</td>\n",
       "      <td>D</td>\n",
       "      <td>A</td>\n",
       "      <td>A</td>\n",
       "      <td>B</td>\n",
       "      <td>C</td>\n",
       "      <td>B</td>\n",
       "      <td>BLANK</td>\n",
       "    </tr>\n",
       "    <tr>\n",
       "      <th>3</th>\n",
       "      <td>2014W</td>\n",
       "      <td>111.0</td>\n",
       "      <td>1.0</td>\n",
       "      <td>L02</td>\n",
       "      <td>78.0</td>\n",
       "      <td>B+</td>\n",
       "      <td>C</td>\n",
       "      <td>A</td>\n",
       "      <td>C</td>\n",
       "      <td>E</td>\n",
       "      <td>...</td>\n",
       "      <td>A</td>\n",
       "      <td>A</td>\n",
       "      <td>A</td>\n",
       "      <td>D</td>\n",
       "      <td>D</td>\n",
       "      <td>A</td>\n",
       "      <td>C</td>\n",
       "      <td>E</td>\n",
       "      <td>A</td>\n",
       "      <td>BLANK</td>\n",
       "    </tr>\n",
       "    <tr>\n",
       "      <th>4</th>\n",
       "      <td>2014W</td>\n",
       "      <td>111.0</td>\n",
       "      <td>1.0</td>\n",
       "      <td>L09</td>\n",
       "      <td>60.0</td>\n",
       "      <td>C</td>\n",
       "      <td>C</td>\n",
       "      <td>A</td>\n",
       "      <td>C</td>\n",
       "      <td>E</td>\n",
       "      <td>...</td>\n",
       "      <td>B</td>\n",
       "      <td>B</td>\n",
       "      <td>E</td>\n",
       "      <td>A</td>\n",
       "      <td>C</td>\n",
       "      <td>C</td>\n",
       "      <td>A</td>\n",
       "      <td>D</td>\n",
       "      <td>A</td>\n",
       "      <td>BLANK</td>\n",
       "    </tr>\n",
       "  </tbody>\n",
       "</table>\n",
       "<p>5 rows × 117 columns</p>\n",
       "</div>"
      ],
      "text/plain": [
       "  Session  Course  Lecture Secondary  Percent Grade Letter Grade PRE Q1  \\\n",
       "0   2014W   111.0      1.0       L02           70.0           B-      C   \n",
       "1   2014W   111.0      1.0       XMT           66.0           C+    NaN   \n",
       "2   2014W   111.0      1.0       L10           74.0           B       A   \n",
       "3   2014W   111.0      1.0       L02           78.0           B+      C   \n",
       "4   2014W   111.0      1.0       L09           60.0           C       C   \n",
       "\n",
       "  PRE Q2 PRE Q3 PRE Q4  ... POST Q87 POST Q88 POST Q89 POST Q90 POST Q91  \\\n",
       "0      D      D      A  ...        A        C        C        E        D   \n",
       "1    NaN    NaN    NaN  ...      NaN      NaN      NaN      NaN      NaN   \n",
       "2      A      C      A  ...        B        B        A        D        A   \n",
       "3      A      C      E  ...        A        A        A        D        D   \n",
       "4      A      C      E  ...        B        B        E        A        C   \n",
       "\n",
       "  POST Q92 POST Q93 POST Q94 POST Q95 POST Q96  \n",
       "0        C        A        C        B    BLANK  \n",
       "1      NaN      NaN      NaN      NaN      NaN  \n",
       "2        A        B        C        B    BLANK  \n",
       "3        A        C        E        A    BLANK  \n",
       "4        C        A        D        A    BLANK  \n",
       "\n",
       "[5 rows x 117 columns]"
      ]
     },
     "execution_count": 87,
     "metadata": {},
     "output_type": "execute_result"
    }
   ],
   "source": [
    "import pandas as pd\n",
    "import matplotlib.pyplot as plt\n",
    "df14_111 = pd.read_excel('/Users/mayapatel/Desktop/honours/rawdata/2014-15 WT1 Phys 111 ALL Data - Shared with Chelsea (20210212).xlsx', nrows=256)\n",
    "df14_112 = pd.read_excel('/Users/mayapatel/Desktop/honours/rawdata/2014-15 WT1 Phys 112 ALL Data - Shared with Chelsea (20210212).xlsx')\n",
    "df15_111 = pd.read_excel('/Users/mayapatel/Desktop/honours/rawdata/2015-16 WT1 Phys 111 ALL Data - Shared with Chelsea.xlsx')\n",
    "print(len(df14_111))\n",
    "print(len(df14_112))\n",
    "print(len(df15_111))\n",
    "df14_111.head()"
   ]
  },
  {
   "cell_type": "code",
   "execution_count": 2,
   "metadata": {},
   "outputs": [
    {
     "data": {
      "text/plain": [
       "Course           111.000000\n",
       "Lecture            1.384314\n",
       "Percent Grade     69.474510\n",
       "dtype: float64"
      ]
     },
     "execution_count": 2,
     "metadata": {},
     "output_type": "execute_result"
    }
   ],
   "source": [
    "df14_111.mean(axis=0)"
   ]
  },
  {
   "cell_type": "code",
   "execution_count": 3,
   "metadata": {},
   "outputs": [
    {
     "data": {
      "text/plain": [
       "Course              111.000000\n",
       "Lecture               1.427907\n",
       "Tertiary Section           NaN\n",
       "Percent Grade        71.400000\n",
       "dtype: float64"
      ]
     },
     "execution_count": 3,
     "metadata": {},
     "output_type": "execute_result"
    }
   ],
   "source": [
    "df15_111.mean(axis=0)"
   ]
  },
  {
   "cell_type": "code",
   "execution_count": 4,
   "metadata": {},
   "outputs": [
    {
     "data": {
      "text/plain": [
       "0      117\n",
       "1        6\n",
       "2      117\n",
       "3      117\n",
       "4      117\n",
       "      ... \n",
       "251    117\n",
       "252     68\n",
       "253      6\n",
       "254      6\n",
       "255      0\n",
       "Length: 256, dtype: int64"
      ]
     },
     "execution_count": 4,
     "metadata": {},
     "output_type": "execute_result"
    }
   ],
   "source": [
    "df14_111.count(axis=1)"
   ]
  },
  {
   "cell_type": "code",
   "execution_count": 5,
   "metadata": {},
   "outputs": [
    {
     "data": {
      "text/html": [
       "<div>\n",
       "<style scoped>\n",
       "    .dataframe tbody tr th:only-of-type {\n",
       "        vertical-align: middle;\n",
       "    }\n",
       "\n",
       "    .dataframe tbody tr th {\n",
       "        vertical-align: top;\n",
       "    }\n",
       "\n",
       "    .dataframe thead th {\n",
       "        text-align: right;\n",
       "    }\n",
       "</style>\n",
       "<table border=\"1\" class=\"dataframe\">\n",
       "  <thead>\n",
       "    <tr style=\"text-align: right;\">\n",
       "      <th></th>\n",
       "      <th>PRE Q12014-15</th>\n",
       "      <th>PRE Q12015-16</th>\n",
       "      <th>PRE Q1</th>\n",
       "    </tr>\n",
       "  </thead>\n",
       "  <tbody>\n",
       "    <tr>\n",
       "      <th>C</th>\n",
       "      <td>115</td>\n",
       "      <td>156</td>\n",
       "      <td>98</td>\n",
       "    </tr>\n",
       "    <tr>\n",
       "      <th>NaN</th>\n",
       "      <td>103</td>\n",
       "      <td>3</td>\n",
       "      <td>254</td>\n",
       "    </tr>\n",
       "    <tr>\n",
       "      <th>D</th>\n",
       "      <td>14</td>\n",
       "      <td>20</td>\n",
       "      <td>44</td>\n",
       "    </tr>\n",
       "    <tr>\n",
       "      <th>A</th>\n",
       "      <td>13</td>\n",
       "      <td>26</td>\n",
       "      <td>30</td>\n",
       "    </tr>\n",
       "    <tr>\n",
       "      <th>B</th>\n",
       "      <td>8</td>\n",
       "      <td>6</td>\n",
       "      <td>19</td>\n",
       "    </tr>\n",
       "    <tr>\n",
       "      <th>E</th>\n",
       "      <td>3</td>\n",
       "      <td>4</td>\n",
       "      <td>15</td>\n",
       "    </tr>\n",
       "  </tbody>\n",
       "</table>\n",
       "</div>"
      ],
      "text/plain": [
       "     PRE Q12014-15  PRE Q12015-16  PRE Q1\n",
       "C              115            156      98\n",
       "NaN            103              3     254\n",
       "D               14             20      44\n",
       "A               13             26      30\n",
       "B                8              6      19\n",
       "E                3              4      15"
      ]
     },
     "execution_count": 5,
     "metadata": {},
     "output_type": "execute_result"
    }
   ],
   "source": [
    "y14_q1 = pd.DataFrame(df14_111['PRE Q1'].value_counts(dropna=False))\n",
    "y15_q1 = pd.DataFrame(df15_111['PRE Q1'].value_counts(dropna=False))\n",
    "y14_q1_112 = pd.DataFrame(df14_112['PRE Q1'].value_counts(dropna=False))\n",
    "\n",
    "dff1 = y14_q1.join(y15_q1, lsuffix='2014-15', rsuffix='2015-16')\n",
    "dff1 = dff1.join(y14_q1_112, rsuffix='2014 112')\n",
    "dff1\n",
    "\n",
    "#correct answer = C"
   ]
  },
  {
   "cell_type": "code",
   "execution_count": 6,
   "metadata": {},
   "outputs": [
    {
     "data": {
      "text/html": [
       "<div>\n",
       "<style scoped>\n",
       "    .dataframe tbody tr th:only-of-type {\n",
       "        vertical-align: middle;\n",
       "    }\n",
       "\n",
       "    .dataframe tbody tr th {\n",
       "        vertical-align: top;\n",
       "    }\n",
       "\n",
       "    .dataframe thead th {\n",
       "        text-align: right;\n",
       "    }\n",
       "</style>\n",
       "<table border=\"1\" class=\"dataframe\">\n",
       "  <thead>\n",
       "    <tr style=\"text-align: right;\">\n",
       "      <th></th>\n",
       "      <th>PRE Q12014-15</th>\n",
       "      <th>PRE Q12015-16</th>\n",
       "      <th>PRE Q1</th>\n",
       "      <th>POST Q12014-15</th>\n",
       "      <th>POST Q12015-16</th>\n",
       "      <th>POST Q1</th>\n",
       "    </tr>\n",
       "  </thead>\n",
       "  <tbody>\n",
       "    <tr>\n",
       "      <th>C</th>\n",
       "      <td>115</td>\n",
       "      <td>156</td>\n",
       "      <td>98</td>\n",
       "      <td>112</td>\n",
       "      <td>139</td>\n",
       "      <td>80</td>\n",
       "    </tr>\n",
       "    <tr>\n",
       "      <th>NaN</th>\n",
       "      <td>103</td>\n",
       "      <td>3</td>\n",
       "      <td>254</td>\n",
       "      <td>105</td>\n",
       "      <td>25</td>\n",
       "      <td>262</td>\n",
       "    </tr>\n",
       "    <tr>\n",
       "      <th>D</th>\n",
       "      <td>14</td>\n",
       "      <td>20</td>\n",
       "      <td>44</td>\n",
       "      <td>13</td>\n",
       "      <td>21</td>\n",
       "      <td>26</td>\n",
       "    </tr>\n",
       "    <tr>\n",
       "      <th>A</th>\n",
       "      <td>13</td>\n",
       "      <td>26</td>\n",
       "      <td>30</td>\n",
       "      <td>16</td>\n",
       "      <td>17</td>\n",
       "      <td>52</td>\n",
       "    </tr>\n",
       "    <tr>\n",
       "      <th>B</th>\n",
       "      <td>8</td>\n",
       "      <td>6</td>\n",
       "      <td>19</td>\n",
       "      <td>8</td>\n",
       "      <td>11</td>\n",
       "      <td>34</td>\n",
       "    </tr>\n",
       "    <tr>\n",
       "      <th>E</th>\n",
       "      <td>3</td>\n",
       "      <td>4</td>\n",
       "      <td>15</td>\n",
       "      <td>2</td>\n",
       "      <td>1</td>\n",
       "      <td>6</td>\n",
       "    </tr>\n",
       "  </tbody>\n",
       "</table>\n",
       "</div>"
      ],
      "text/plain": [
       "     PRE Q12014-15  PRE Q12015-16  PRE Q1  POST Q12014-15  POST Q12015-16  \\\n",
       "C              115            156      98             112             139   \n",
       "NaN            103              3     254             105              25   \n",
       "D               14             20      44              13              21   \n",
       "A               13             26      30              16              17   \n",
       "B                8              6      19               8              11   \n",
       "E                3              4      15               2               1   \n",
       "\n",
       "     POST Q1  \n",
       "C         80  \n",
       "NaN      262  \n",
       "D         26  \n",
       "A         52  \n",
       "B         34  \n",
       "E          6  "
      ]
     },
     "metadata": {},
     "output_type": "display_data"
    }
   ],
   "source": [
    "y14_q1_post = pd.DataFrame(df14_111['POST Q1'].value_counts(dropna=False))\n",
    "y15_q1_post = pd.DataFrame(df15_111['POST Q1'].value_counts(dropna=False))\n",
    "y14_q1_112_post = pd.DataFrame(df14_112['POST Q1'].value_counts(dropna=False))\n",
    "\n",
    "dff2 = y14_q1_post.join(y15_q1_post, lsuffix='2014-15', rsuffix='2015-16')\n",
    "dff2 = dff2.join(y14_q1_112_post, rsuffix='2014 112')\n",
    "\n",
    "display(dff1.join(dff2))\n",
    "\n",
    "#correct answer = C"
   ]
  },
  {
   "cell_type": "code",
   "execution_count": 7,
   "metadata": {},
   "outputs": [
    {
     "data": {
      "text/html": [
       "<div>\n",
       "<style scoped>\n",
       "    .dataframe tbody tr th:only-of-type {\n",
       "        vertical-align: middle;\n",
       "    }\n",
       "\n",
       "    .dataframe tbody tr th {\n",
       "        vertical-align: top;\n",
       "    }\n",
       "\n",
       "    .dataframe thead th {\n",
       "        text-align: right;\n",
       "    }\n",
       "</style>\n",
       "<table border=\"1\" class=\"dataframe\">\n",
       "  <thead>\n",
       "    <tr style=\"text-align: right;\">\n",
       "      <th></th>\n",
       "      <th>PRE Q22014-15</th>\n",
       "      <th>PRE Q22015-16</th>\n",
       "      <th>PRE Q2</th>\n",
       "    </tr>\n",
       "  </thead>\n",
       "  <tbody>\n",
       "    <tr>\n",
       "      <th>NaN</th>\n",
       "      <td>103</td>\n",
       "      <td>3.0</td>\n",
       "      <td>254</td>\n",
       "    </tr>\n",
       "    <tr>\n",
       "      <th>A</th>\n",
       "      <td>83</td>\n",
       "      <td>99.0</td>\n",
       "      <td>59</td>\n",
       "    </tr>\n",
       "    <tr>\n",
       "      <th>D</th>\n",
       "      <td>34</td>\n",
       "      <td>55.0</td>\n",
       "      <td>81</td>\n",
       "    </tr>\n",
       "    <tr>\n",
       "      <th>B</th>\n",
       "      <td>22</td>\n",
       "      <td>39.0</td>\n",
       "      <td>40</td>\n",
       "    </tr>\n",
       "    <tr>\n",
       "      <th>E</th>\n",
       "      <td>7</td>\n",
       "      <td>6.0</td>\n",
       "      <td>14</td>\n",
       "    </tr>\n",
       "    <tr>\n",
       "      <th>C</th>\n",
       "      <td>6</td>\n",
       "      <td>11.0</td>\n",
       "      <td>11</td>\n",
       "    </tr>\n",
       "    <tr>\n",
       "      <th>!!</th>\n",
       "      <td>1</td>\n",
       "      <td>NaN</td>\n",
       "      <td>1</td>\n",
       "    </tr>\n",
       "  </tbody>\n",
       "</table>\n",
       "</div>"
      ],
      "text/plain": [
       "     PRE Q22014-15  PRE Q22015-16  PRE Q2\n",
       "NaN            103            3.0     254\n",
       "A               83           99.0      59\n",
       "D               34           55.0      81\n",
       "B               22           39.0      40\n",
       "E                7            6.0      14\n",
       "C                6           11.0      11\n",
       "!!               1            NaN       1"
      ]
     },
     "execution_count": 7,
     "metadata": {},
     "output_type": "execute_result"
    }
   ],
   "source": [
    "y14_q2 = pd.DataFrame(df14_111['PRE Q2'].value_counts(dropna=False))\n",
    "y15_q2 = pd.DataFrame(df15_111['PRE Q2'].value_counts(dropna=False))\n",
    "y14_q2_112 = pd.DataFrame(df14_112['PRE Q2'].value_counts(dropna=False))\n",
    "\n",
    "dff = y14_q2.join(y15_q2, lsuffix='2014-15', rsuffix='2015-16')\n",
    "dff.join(y14_q2_112, rsuffix='2014 112')\n",
    "\n",
    "#correct answer = A"
   ]
  },
  {
   "cell_type": "code",
   "execution_count": 8,
   "metadata": {},
   "outputs": [
    {
     "data": {
      "text/html": [
       "<div>\n",
       "<style scoped>\n",
       "    .dataframe tbody tr th:only-of-type {\n",
       "        vertical-align: middle;\n",
       "    }\n",
       "\n",
       "    .dataframe tbody tr th {\n",
       "        vertical-align: top;\n",
       "    }\n",
       "\n",
       "    .dataframe thead th {\n",
       "        text-align: right;\n",
       "    }\n",
       "</style>\n",
       "<table border=\"1\" class=\"dataframe\">\n",
       "  <thead>\n",
       "    <tr style=\"text-align: right;\">\n",
       "      <th></th>\n",
       "      <th>PRE Q32014-15</th>\n",
       "      <th>PRE Q32015-16</th>\n",
       "      <th>PRE Q3</th>\n",
       "    </tr>\n",
       "  </thead>\n",
       "  <tbody>\n",
       "    <tr>\n",
       "      <th>C</th>\n",
       "      <td>105</td>\n",
       "      <td>145</td>\n",
       "      <td>97</td>\n",
       "    </tr>\n",
       "    <tr>\n",
       "      <th>NaN</th>\n",
       "      <td>103</td>\n",
       "      <td>3</td>\n",
       "      <td>254</td>\n",
       "    </tr>\n",
       "    <tr>\n",
       "      <th>B</th>\n",
       "      <td>21</td>\n",
       "      <td>26</td>\n",
       "      <td>34</td>\n",
       "    </tr>\n",
       "    <tr>\n",
       "      <th>A</th>\n",
       "      <td>17</td>\n",
       "      <td>32</td>\n",
       "      <td>51</td>\n",
       "    </tr>\n",
       "    <tr>\n",
       "      <th>E</th>\n",
       "      <td>7</td>\n",
       "      <td>5</td>\n",
       "      <td>17</td>\n",
       "    </tr>\n",
       "    <tr>\n",
       "      <th>D</th>\n",
       "      <td>3</td>\n",
       "      <td>4</td>\n",
       "      <td>7</td>\n",
       "    </tr>\n",
       "  </tbody>\n",
       "</table>\n",
       "</div>"
      ],
      "text/plain": [
       "     PRE Q32014-15  PRE Q32015-16  PRE Q3\n",
       "C              105            145      97\n",
       "NaN            103              3     254\n",
       "B               21             26      34\n",
       "A               17             32      51\n",
       "E                7              5      17\n",
       "D                3              4       7"
      ]
     },
     "execution_count": 8,
     "metadata": {},
     "output_type": "execute_result"
    }
   ],
   "source": [
    "y14_q3 = pd.DataFrame(df14_111['PRE Q3'].value_counts(dropna=False))\n",
    "y15_q3 = pd.DataFrame(df15_111['PRE Q3'].value_counts(dropna=False))\n",
    "y14_q3_112 = pd.DataFrame(df14_112['PRE Q3'].value_counts(dropna=False))\n",
    "\n",
    "dff = y14_q3.join(y15_q3, lsuffix='2014-15', rsuffix='2015-16')\n",
    "dff.join(y14_q3_112, rsuffix='2014 112')\n",
    "\n",
    "#correct answer = C"
   ]
  },
  {
   "cell_type": "code",
   "execution_count": 9,
   "metadata": {},
   "outputs": [
    {
     "data": {
      "text/html": [
       "<div>\n",
       "<style scoped>\n",
       "    .dataframe tbody tr th:only-of-type {\n",
       "        vertical-align: middle;\n",
       "    }\n",
       "\n",
       "    .dataframe tbody tr th {\n",
       "        vertical-align: top;\n",
       "    }\n",
       "\n",
       "    .dataframe thead th {\n",
       "        text-align: right;\n",
       "    }\n",
       "</style>\n",
       "<table border=\"1\" class=\"dataframe\">\n",
       "  <thead>\n",
       "    <tr style=\"text-align: right;\">\n",
       "      <th></th>\n",
       "      <th>PRE Q4</th>\n",
       "      <th>PRE Q3</th>\n",
       "      <th>PRE Q32014 112</th>\n",
       "    </tr>\n",
       "  </thead>\n",
       "  <tbody>\n",
       "    <tr>\n",
       "      <th>NaN</th>\n",
       "      <td>103</td>\n",
       "      <td>3</td>\n",
       "      <td>254</td>\n",
       "    </tr>\n",
       "    <tr>\n",
       "      <th>A</th>\n",
       "      <td>87</td>\n",
       "      <td>32</td>\n",
       "      <td>51</td>\n",
       "    </tr>\n",
       "    <tr>\n",
       "      <th>E</th>\n",
       "      <td>64</td>\n",
       "      <td>5</td>\n",
       "      <td>17</td>\n",
       "    </tr>\n",
       "    <tr>\n",
       "      <th>D</th>\n",
       "      <td>2</td>\n",
       "      <td>4</td>\n",
       "      <td>7</td>\n",
       "    </tr>\n",
       "  </tbody>\n",
       "</table>\n",
       "</div>"
      ],
      "text/plain": [
       "     PRE Q4  PRE Q3  PRE Q32014 112\n",
       "NaN     103       3             254\n",
       "A        87      32              51\n",
       "E        64       5              17\n",
       "D         2       4               7"
      ]
     },
     "execution_count": 9,
     "metadata": {},
     "output_type": "execute_result"
    }
   ],
   "source": [
    "y14_q4 = pd.DataFrame(df14_111['PRE Q4'].value_counts(dropna=False))\n",
    "y15_q4 = pd.DataFrame(df15_111['PRE Q4'].value_counts(dropna=False))\n",
    "y14_q4_112 = pd.DataFrame(df14_112['PRE Q4'].value_counts(dropna=False))\n",
    "\n",
    "dff = y14_q4.join(y15_q3, lsuffix='2014-15', rsuffix='2015-16')\n",
    "dff.join(y14_q3_112, rsuffix='2014 112')\n",
    "\n",
    "#correct answer = E"
   ]
  },
  {
   "cell_type": "code",
   "execution_count": 10,
   "metadata": {},
   "outputs": [
    {
     "data": {
      "text/plain": [
       "[]"
      ]
     },
     "execution_count": 10,
     "metadata": {},
     "output_type": "execute_result"
    }
   ],
   "source": [
    "q_ans = df14_111.count(axis=1)\n",
    "q = []\n",
    "i=0\n",
    "while q_ans[i]<50:\n",
    "    q.append(q_ans[i])\n",
    "    i+=1\n",
    "\n",
    "q"
   ]
  },
  {
   "cell_type": "code",
   "execution_count": 43,
   "metadata": {},
   "outputs": [
    {
     "name": "stdout",
     "output_type": "stream",
     "text": [
      "['C', 'D', 'D', 'A', 'D', 'B', 'B', 'B', 'B', 'E', 'C', 'B', 'C', 'B', 'C', 'C', 'A', 'E', 'E', 'A', 'C', 'B', 'C', 'A', 'E', 'A', 'A', 'E', 'B', 'B']\n"
     ]
    }
   ],
   "source": [
    "\n",
    "stu1_df14_111_pre = [] \n",
    "for i in range(1,31):\n",
    "    string = \"PRE Q\"+ str(i)\n",
    "    stu1_df14_111_pre += df14_111[string].iloc[0]\n",
    "print(stu1_df14_111_pre)"
   ]
  },
  {
   "cell_type": "code",
   "execution_count": 68,
   "metadata": {},
   "outputs": [],
   "source": [
    "corr_ans = ['C', 'A' , 'C', 'E', 'B', 'B', 'B', 'B' , 'E', 'A', 'D', 'B', 'D', 'D', 'A', 'A', 'B', 'B', 'E', 'D', \n",
    "            'E', 'B', 'B', 'A', 'C', 'E', 'C', 'E', 'B', 'C']"
   ]
  },
  {
   "cell_type": "code",
   "execution_count": 69,
   "metadata": {
    "scrolled": true
   },
   "outputs": [
    {
     "data": {
      "text/plain": [
       "20"
      ]
     },
     "execution_count": 69,
     "metadata": {},
     "output_type": "execute_result"
    }
   ],
   "source": [
    "for i in range(len(stu1_df14_111_pre)):\n",
    "    if corr_ans[i]==stu1_df14_111_pre[i]:\n",
    "        stu1_df14_111_pre_score += 1  \n",
    "stu1_df14_111_pre_score"
   ]
  },
  {
   "cell_type": "code",
   "execution_count": 79,
   "metadata": {},
   "outputs": [],
   "source": [
    "sample_arg = df14_111.iloc[56]\n",
    "def calculate_score(student):\n",
    "    student_pre = [] \n",
    "    score = 0\n",
    "    for i in range(1,31):\n",
    "        string = \"PRE Q\"+ str(i)\n",
    "        if string in student:\n",
    "            if student[string]==corr_ans[i-1]:\n",
    "                score+=1\n",
    "            \n",
    "    return score"
   ]
  },
  {
   "cell_type": "code",
   "execution_count": 80,
   "metadata": {},
   "outputs": [
    {
     "data": {
      "text/plain": [
       "17"
      ]
     },
     "execution_count": 80,
     "metadata": {},
     "output_type": "execute_result"
    }
   ],
   "source": [
    "calculate_score(sample_arg)"
   ]
  },
  {
   "cell_type": "code",
   "execution_count": 90,
   "metadata": {},
   "outputs": [
    {
     "data": {
      "text/plain": [
       "32.265625"
      ]
     },
     "execution_count": 90,
     "metadata": {},
     "output_type": "execute_result"
    }
   ],
   "source": [
    "df14_111.apply(calculate_score, axis=1).mean()*100/30"
   ]
  },
  {
   "cell_type": "code",
   "execution_count": 91,
   "metadata": {},
   "outputs": [
    {
     "data": {
      "text/html": [
       "<div>\n",
       "<style scoped>\n",
       "    .dataframe tbody tr th:only-of-type {\n",
       "        vertical-align: middle;\n",
       "    }\n",
       "\n",
       "    .dataframe tbody tr th {\n",
       "        vertical-align: top;\n",
       "    }\n",
       "\n",
       "    .dataframe thead th {\n",
       "        text-align: right;\n",
       "    }\n",
       "</style>\n",
       "<table border=\"1\" class=\"dataframe\">\n",
       "  <thead>\n",
       "    <tr style=\"text-align: right;\">\n",
       "      <th></th>\n",
       "      <th>Course</th>\n",
       "      <th>Lecture</th>\n",
       "      <th>Percent Grade</th>\n",
       "    </tr>\n",
       "  </thead>\n",
       "  <tbody>\n",
       "    <tr>\n",
       "      <th>count</th>\n",
       "      <td>255.0</td>\n",
       "      <td>255.000000</td>\n",
       "      <td>255.000000</td>\n",
       "    </tr>\n",
       "    <tr>\n",
       "      <th>mean</th>\n",
       "      <td>111.0</td>\n",
       "      <td>1.384314</td>\n",
       "      <td>69.474510</td>\n",
       "    </tr>\n",
       "    <tr>\n",
       "      <th>std</th>\n",
       "      <td>0.0</td>\n",
       "      <td>0.487389</td>\n",
       "      <td>17.289064</td>\n",
       "    </tr>\n",
       "    <tr>\n",
       "      <th>min</th>\n",
       "      <td>111.0</td>\n",
       "      <td>1.000000</td>\n",
       "      <td>3.000000</td>\n",
       "    </tr>\n",
       "    <tr>\n",
       "      <th>25%</th>\n",
       "      <td>111.0</td>\n",
       "      <td>1.000000</td>\n",
       "      <td>61.000000</td>\n",
       "    </tr>\n",
       "    <tr>\n",
       "      <th>50%</th>\n",
       "      <td>111.0</td>\n",
       "      <td>1.000000</td>\n",
       "      <td>71.000000</td>\n",
       "    </tr>\n",
       "    <tr>\n",
       "      <th>75%</th>\n",
       "      <td>111.0</td>\n",
       "      <td>2.000000</td>\n",
       "      <td>81.000000</td>\n",
       "    </tr>\n",
       "    <tr>\n",
       "      <th>max</th>\n",
       "      <td>111.0</td>\n",
       "      <td>2.000000</td>\n",
       "      <td>100.000000</td>\n",
       "    </tr>\n",
       "  </tbody>\n",
       "</table>\n",
       "</div>"
      ],
      "text/plain": [
       "       Course     Lecture  Percent Grade\n",
       "count   255.0  255.000000     255.000000\n",
       "mean    111.0    1.384314      69.474510\n",
       "std       0.0    0.487389      17.289064\n",
       "min     111.0    1.000000       3.000000\n",
       "25%     111.0    1.000000      61.000000\n",
       "50%     111.0    1.000000      71.000000\n",
       "75%     111.0    2.000000      81.000000\n",
       "max     111.0    2.000000     100.000000"
      ]
     },
     "execution_count": 91,
     "metadata": {},
     "output_type": "execute_result"
    }
   ],
   "source": [
    "df14_111.describe()"
   ]
  },
  {
   "cell_type": "code",
   "execution_count": 2,
   "metadata": {},
   "outputs": [],
   "source": [
    "#heloo"
   ]
  },
  {
   "cell_type": "code",
   "execution_count": null,
   "metadata": {},
   "outputs": [],
   "source": []
  }
 ],
 "metadata": {
  "kernelspec": {
   "display_name": "Python 3",
   "language": "python",
   "name": "python3"
  },
  "language_info": {
   "codemirror_mode": {
    "name": "ipython",
    "version": 3
   },
   "file_extension": ".py",
   "mimetype": "text/x-python",
   "name": "python",
   "nbconvert_exporter": "python",
   "pygments_lexer": "ipython3",
   "version": "3.8.1"
  }
 },
 "nbformat": 4,
 "nbformat_minor": 4
}
