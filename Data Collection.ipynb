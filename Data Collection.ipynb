{
 "cells": [
  {
   "cell_type": "code",
   "execution_count": 1,
   "metadata": {},
   "outputs": [],
   "source": [
    "import pandas as pd\n",
    "from FCI_functions.FCI_functions import calculate_pre_score, calculate_post_score, calculate_question_score_post, calculate_question_score_pre"
   ]
  },
  {
   "cell_type": "code",
   "execution_count": 2,
   "metadata": {},
   "outputs": [],
   "source": [
    "# import raw data from excel files\n",
    "df16_111 = pd.read_excel('rawdata/2016-17 WT1 Phys 111 ALL Data - Shared with Chelsea.xlsx').dropna(axis = 0, thresh = 25)\n",
    "df16_112 = pd.read_excel('rawdata/2016-17 WT1 Phys 112 ALL Data - Shared with Chelsea.xlsx').dropna(axis = 0, thresh = 25)\n",
    "df14_111 = pd.read_excel('rawdata/2014-15 WT1 Phys 111 ALL Data - Shared with Chelsea (20210212).xlsx').dropna(axis = 0, thresh = 25)\n",
    "df14_112 = pd.read_excel('rawdata/2014-15 WT1 Phys 112 ALL Data - Shared with Chelsea (20210212).xlsx').dropna(axis = 0, thresh = 25)\n",
    "df15_111 = pd.read_excel('rawdata/2015-16 WT1 Phys 111 ALL Data - Shared with Chelsea.xlsx').dropna(axis = 0, thresh = 25)\n",
    "df15_112 = pd.read_excel('rawdata/2015-16 WT1 Phys 112 ALL Data - Shared with Chelsea.xlsx').dropna(axis = 0, thresh = 25)\n",
    "df17_111 = pd.read_excel('rawdata/2017-18 WT1 Phys 111 ALL Data - Shared with David (20190612).xlsx').dropna(axis = 0, thresh = 25)\n",
    "df17_112 = pd.read_excel('rawdata/2017-18 WT1 Phys 112 ALL Data - Shared with David (20190612).xlsx').dropna(axis = 0, thresh = 25)\n",
    "df18_111 = pd.read_excel('rawdata/2018-19 WT1 Phys 111 ALL Data - Shared with David (20190530).xlsx').dropna(axis = 0, thresh = 25)\n",
    "df18_112 = pd.read_excel('rawdata/2018-19 WT1 Phys 112 ALL Data - Shared with David (20190527).xlsx').dropna(axis = 0, thresh = 25)"
   ]
  },
  {
   "cell_type": "code",
   "execution_count": 3,
   "metadata": {},
   "outputs": [
    {
     "data": {
      "text/plain": [
       "6.340996168582421"
      ]
     },
     "metadata": {},
     "output_type": "display_data"
    },
    {
     "data": {
      "text/plain": [
       "-11.954022988505699"
      ]
     },
     "metadata": {},
     "output_type": "display_data"
    },
    {
     "data": {
      "text/plain": [
       "2.8242424242423922"
      ]
     },
     "metadata": {},
     "output_type": "display_data"
    },
    {
     "data": {
      "text/plain": [
       "11.053837342497147"
      ]
     },
     "metadata": {},
     "output_type": "display_data"
    },
    {
     "data": {
      "text/plain": [
       "1.5193798449612217"
      ]
     },
     "metadata": {},
     "output_type": "display_data"
    },
    {
     "data": {
      "text/plain": [
       "12.506561679790067"
      ]
     },
     "metadata": {},
     "output_type": "display_data"
    },
    {
     "data": {
      "text/plain": [
       "4.8455284552845725"
      ]
     },
     "metadata": {},
     "output_type": "display_data"
    },
    {
     "data": {
      "text/plain": [
       "17.321839080459775"
      ]
     },
     "metadata": {},
     "output_type": "display_data"
    },
    {
     "data": {
      "text/plain": [
       "-2.5614035087719387"
      ]
     },
     "metadata": {},
     "output_type": "display_data"
    },
    {
     "data": {
      "text/plain": [
       "8.670820353063355"
      ]
     },
     "metadata": {},
     "output_type": "display_data"
    }
   ],
   "source": [
    "# output gain from all years\n",
    "display(df14_111.apply(calculate_post_score, axis=1).mean()-df14_111.apply(calculate_pre_score, axis=1).mean())\n",
    "display(df14_112.apply(calculate_post_score, axis=1).mean()-df14_111.apply(calculate_pre_score, axis=1).mean())\n",
    "display(df16_111.apply(calculate_post_score, axis=1).mean()-df16_111.apply(calculate_pre_score, axis=1).mean())\n",
    "display(df16_112.apply(calculate_post_score, axis=1).mean()-df16_112.apply(calculate_pre_score, axis=1).mean())\n",
    "display(df15_111.apply(calculate_post_score, axis=1).mean()-df15_111.apply(calculate_pre_score, axis=1).mean())\n",
    "display(df15_112.apply(calculate_post_score, axis=1).mean()-df15_112.apply(calculate_pre_score, axis=1).mean())\n",
    "display(df17_111.apply(calculate_post_score, axis=1).mean()-df17_111.apply(calculate_pre_score, axis=1).mean())\n",
    "display(df17_112.apply(calculate_post_score, axis=1).mean()-df17_112.apply(calculate_pre_score, axis=1).mean())\n",
    "display(df18_111.apply(calculate_post_score, axis=1).mean()-df18_111.apply(calculate_pre_score, axis=1).mean())\n",
    "display(df18_112.apply(calculate_post_score, axis=1).mean()-df18_112.apply(calculate_pre_score, axis=1).mean())"
   ]
  },
  {
   "cell_type": "code",
   "execution_count": 4,
   "metadata": {},
   "outputs": [
    {
     "data": {
      "text/plain": [
       "45.147679324894504"
      ]
     },
     "metadata": {},
     "output_type": "display_data"
    },
    {
     "data": {
      "text/plain": [
       "32.91139240506326"
      ]
     },
     "metadata": {},
     "output_type": "display_data"
    },
    {
     "data": {
      "text/plain": [
       "12.236286919831244"
      ]
     },
     "metadata": {},
     "output_type": "display_data"
    }
   ],
   "source": [
    "# calculate gain of 2016 001 lecture section\n",
    "is_001 = df16_112['Lecture']== 1\n",
    "post = df16_112[is_001].apply(calculate_post_score, axis=1).mean()\n",
    "pre = df16_112[is_001].apply(calculate_pre_score, axis=1).mean()\n",
    "display(post)\n",
    "display(pre)\n",
    "display(post-pre)"
   ]
  },
  {
   "cell_type": "code",
   "execution_count": 5,
   "metadata": {},
   "outputs": [
    {
     "data": {
      "text/plain": [
       "44.27184466019418"
      ]
     },
     "metadata": {},
     "output_type": "display_data"
    },
    {
     "data": {
      "text/plain": [
       "33.786407766990294"
      ]
     },
     "metadata": {},
     "output_type": "display_data"
    },
    {
     "data": {
      "text/plain": [
       "10.48543689320389"
      ]
     },
     "metadata": {},
     "output_type": "display_data"
    }
   ],
   "source": [
    "is_002 = df16_112['Lecture']== 2\n",
    "post = df16_112[is_002].apply(calculate_post_score, axis=1).mean()\n",
    "pre = df16_112[is_002].apply(calculate_pre_score, axis=1).mean()\n",
    "display(post)\n",
    "display(pre)\n",
    "display(post-pre)"
   ]
  },
  {
   "cell_type": "code",
   "execution_count": 6,
   "metadata": {},
   "outputs": [
    {
     "data": {
      "text/html": [
       "<div>\n",
       "<style scoped>\n",
       "    .dataframe tbody tr th:only-of-type {\n",
       "        vertical-align: middle;\n",
       "    }\n",
       "\n",
       "    .dataframe tbody tr th {\n",
       "        vertical-align: top;\n",
       "    }\n",
       "\n",
       "    .dataframe thead th {\n",
       "        text-align: right;\n",
       "    }\n",
       "</style>\n",
       "<table border=\"1\" class=\"dataframe\">\n",
       "  <thead>\n",
       "    <tr style=\"text-align: right;\">\n",
       "      <th></th>\n",
       "      <th>PRE Q12014-15</th>\n",
       "      <th>PRE Q12015-16</th>\n",
       "      <th>PRE Q1</th>\n",
       "    </tr>\n",
       "  </thead>\n",
       "  <tbody>\n",
       "    <tr>\n",
       "      <th>C</th>\n",
       "      <td>115</td>\n",
       "      <td>156</td>\n",
       "      <td>98</td>\n",
       "    </tr>\n",
       "    <tr>\n",
       "      <th>NaN</th>\n",
       "      <td>21</td>\n",
       "      <td>3</td>\n",
       "      <td>26</td>\n",
       "    </tr>\n",
       "    <tr>\n",
       "      <th>D</th>\n",
       "      <td>14</td>\n",
       "      <td>20</td>\n",
       "      <td>44</td>\n",
       "    </tr>\n",
       "    <tr>\n",
       "      <th>A</th>\n",
       "      <td>13</td>\n",
       "      <td>26</td>\n",
       "      <td>30</td>\n",
       "    </tr>\n",
       "    <tr>\n",
       "      <th>B</th>\n",
       "      <td>8</td>\n",
       "      <td>6</td>\n",
       "      <td>19</td>\n",
       "    </tr>\n",
       "    <tr>\n",
       "      <th>E</th>\n",
       "      <td>3</td>\n",
       "      <td>4</td>\n",
       "      <td>15</td>\n",
       "    </tr>\n",
       "  </tbody>\n",
       "</table>\n",
       "</div>"
      ],
      "text/plain": [
       "     PRE Q12014-15  PRE Q12015-16  PRE Q1\n",
       "C              115            156      98\n",
       "NaN             21              3      26\n",
       "D               14             20      44\n",
       "A               13             26      30\n",
       "B                8              6      19\n",
       "E                3              4      15"
      ]
     },
     "execution_count": 6,
     "metadata": {},
     "output_type": "execute_result"
    }
   ],
   "source": [
    "y14_q1 = pd.DataFrame(df14_111['PRE Q1'].value_counts(dropna=False))\n",
    "y15_q1 = pd.DataFrame(df15_111['PRE Q1'].value_counts(dropna=False))\n",
    "y14_q1_112 = pd.DataFrame(df14_112['PRE Q1'].value_counts(dropna=False))\n",
    "\n",
    "dff1 = y14_q1.join(y15_q1, lsuffix='2014-15', rsuffix='2015-16')\n",
    "dff1 = dff1.join(y14_q1_112, rsuffix='2014 112')\n",
    "dff1\n",
    "\n",
    "#correct answer = C"
   ]
  },
  {
   "cell_type": "code",
   "execution_count": 7,
   "metadata": {},
   "outputs": [
    {
     "data": {
      "text/plain": [
       "46.0"
      ]
     },
     "metadata": {},
     "output_type": "display_data"
    },
    {
     "data": {
      "text/plain": [
       "39.222222222222214"
      ]
     },
     "metadata": {},
     "output_type": "display_data"
    },
    {
     "data": {
      "text/plain": [
       "6.777777777777786"
      ]
     },
     "metadata": {},
     "output_type": "display_data"
    }
   ],
   "source": [
    "is_003 = df16_112['Lecture']== 3\n",
    "post = df16_112[is_003].apply(calculate_post_score, axis=1).mean()\n",
    "pre = df16_112[is_003].apply(calculate_pre_score, axis=1).mean()\n",
    "display(post)\n",
    "display(pre)\n",
    "display(post-pre)"
   ]
  },
  {
   "cell_type": "code",
   "execution_count": 8,
   "metadata": {},
   "outputs": [
    {
     "data": {
      "text/plain": [
       "51.92982456140351"
      ]
     },
     "metadata": {},
     "output_type": "display_data"
    },
    {
     "data": {
      "text/plain": [
       "49.84405458089669"
      ]
     },
     "metadata": {},
     "output_type": "display_data"
    },
    {
     "data": {
      "text/plain": [
       "2.085769980506818"
      ]
     },
     "metadata": {},
     "output_type": "display_data"
    }
   ],
   "source": [
    "is_001 = df16_111['Lecture']== 1\n",
    "post = df16_111[is_001].apply(calculate_post_score, axis=1).mean()\n",
    "pre = df16_111[is_001].apply(calculate_pre_score, axis=1).mean()\n",
    "display(post)\n",
    "display(pre)\n",
    "display(post-pre)"
   ]
  },
  {
   "cell_type": "code",
   "execution_count": 9,
   "metadata": {},
   "outputs": [
    {
     "data": {
      "text/plain": [
       "51.826923076923094"
      ]
     },
     "metadata": {},
     "output_type": "display_data"
    },
    {
     "data": {
      "text/plain": [
       "47.78846153846155"
      ]
     },
     "metadata": {},
     "output_type": "display_data"
    },
    {
     "data": {
      "text/plain": [
       "4.038461538461547"
      ]
     },
     "metadata": {},
     "output_type": "display_data"
    }
   ],
   "source": [
    "is_002 = df16_111['Lecture']== 2\n",
    "post = df16_111[is_002].apply(calculate_post_score, axis=1).mean()\n",
    "pre = df16_111[is_002].apply(calculate_pre_score, axis=1).mean()\n",
    "display(post)\n",
    "display(pre)\n",
    "display(post-pre)"
   ]
  },
  {
   "cell_type": "code",
   "execution_count": null,
   "metadata": {},
   "outputs": [],
   "source": []
  },
  {
   "cell_type": "code",
   "execution_count": null,
   "metadata": {},
   "outputs": [],
   "source": []
  },
  {
   "cell_type": "code",
   "execution_count": null,
   "metadata": {},
   "outputs": [],
   "source": []
  },
  {
   "cell_type": "code",
   "execution_count": 10,
   "metadata": {},
   "outputs": [],
   "source": [
    "corr_ans = ['C', 'A' , 'C', 'E', 'B', 'B', 'B', 'B' , 'E', 'A', 'D', 'B', 'D', 'D', 'A', 'A', 'B', 'B', 'E', 'D', \n",
    "            'E', 'B', 'B', 'A', 'C', 'E', 'C', 'E', 'B', 'C']"
   ]
  },
  {
   "cell_type": "code",
   "execution_count": 12,
   "metadata": {
    "scrolled": true
   },
   "outputs": [
    {
     "ename": "NameError",
     "evalue": "name 'stu1_df14_111_pre' is not defined",
     "output_type": "error",
     "traceback": [
      "\u001b[0;31m---------------------------------------------------------------------------\u001b[0m",
      "\u001b[0;31mNameError\u001b[0m                                 Traceback (most recent call last)",
      "\u001b[0;32m<ipython-input-12-91f48d563a80>\u001b[0m in \u001b[0;36m<module>\u001b[0;34m\u001b[0m\n\u001b[0;32m----> 1\u001b[0;31m \u001b[0;32mfor\u001b[0m \u001b[0mi\u001b[0m \u001b[0;32min\u001b[0m \u001b[0mrange\u001b[0m\u001b[0;34m(\u001b[0m\u001b[0mlen\u001b[0m\u001b[0;34m(\u001b[0m\u001b[0mstu1_df14_111_pre\u001b[0m\u001b[0;34m)\u001b[0m\u001b[0;34m)\u001b[0m\u001b[0;34m:\u001b[0m\u001b[0;34m\u001b[0m\u001b[0;34m\u001b[0m\u001b[0m\n\u001b[0m\u001b[1;32m      2\u001b[0m     \u001b[0;32mif\u001b[0m \u001b[0mcorr_ans\u001b[0m\u001b[0;34m[\u001b[0m\u001b[0mi\u001b[0m\u001b[0;34m]\u001b[0m\u001b[0;34m==\u001b[0m\u001b[0mstu1_df14_111_pre\u001b[0m\u001b[0;34m[\u001b[0m\u001b[0mi\u001b[0m\u001b[0;34m]\u001b[0m\u001b[0;34m:\u001b[0m\u001b[0;34m\u001b[0m\u001b[0;34m\u001b[0m\u001b[0m\n\u001b[1;32m      3\u001b[0m         \u001b[0mstu1_df14_111_pre_score\u001b[0m \u001b[0;34m+=\u001b[0m \u001b[0;36m1\u001b[0m\u001b[0;34m\u001b[0m\u001b[0;34m\u001b[0m\u001b[0m\n\u001b[1;32m      4\u001b[0m \u001b[0mstu1_df14_111_pre_score\u001b[0m\u001b[0;34m\u001b[0m\u001b[0;34m\u001b[0m\u001b[0m\n",
      "\u001b[0;31mNameError\u001b[0m: name 'stu1_df14_111_pre' is not defined"
     ]
    }
   ],
   "source": [
    "for i in range(len(stu1_df14_111_pre)):\n",
    "    if corr_ans[i]==stu1_df14_111_pre[i]:\n",
    "        stu1_df14_111_pre_score += 1  \n",
    "stu1_df14_111_pre_score"
   ]
  },
  {
   "cell_type": "code",
   "execution_count": 13,
   "metadata": {},
   "outputs": [],
   "source": [
    "sample_arg = df14_111.iloc[56]\n",
    "def calculate_score(student):\n",
    "    student_pre = [] \n",
    "    score = 0\n",
    "    for i in range(1,31):\n",
    "        string = \"PRE Q\"+ str(i)\n",
    "        if string in student:\n",
    "            if student[string]==corr_ans[i-1]:\n",
    "                score+=1\n",
    "            \n",
    "    return (score*100/30)"
   ]
  },
  {
   "cell_type": "code",
   "execution_count": 14,
   "metadata": {},
   "outputs": [
    {
     "data": {
      "text/plain": [
       "30.0"
      ]
     },
     "execution_count": 14,
     "metadata": {},
     "output_type": "execute_result"
    }
   ],
   "source": [
    "calculate_score(sample_arg)"
   ]
  },
  {
   "cell_type": "code",
   "execution_count": 15,
   "metadata": {},
   "outputs": [
    {
     "data": {
      "text/plain": [
       "0      33.333333\n",
       "2      43.333333\n",
       "3      60.000000\n",
       "4      66.666667\n",
       "5      56.666667\n",
       "         ...    \n",
       "247    53.333333\n",
       "248    36.666667\n",
       "250    33.333333\n",
       "251    40.000000\n",
       "252     0.000000\n",
       "Length: 174, dtype: float64"
      ]
     },
     "execution_count": 15,
     "metadata": {},
     "output_type": "execute_result"
    }
   ],
   "source": [
    "df14_111.apply(calculate_score, axis=1)"
   ]
  },
  {
   "cell_type": "code",
   "execution_count": 16,
   "metadata": {
    "scrolled": true
   },
   "outputs": [
    {
     "data": {
      "text/html": [
       "<div>\n",
       "<style scoped>\n",
       "    .dataframe tbody tr th:only-of-type {\n",
       "        vertical-align: middle;\n",
       "    }\n",
       "\n",
       "    .dataframe tbody tr th {\n",
       "        vertical-align: top;\n",
       "    }\n",
       "\n",
       "    .dataframe thead th {\n",
       "        text-align: right;\n",
       "    }\n",
       "</style>\n",
       "<table border=\"1\" class=\"dataframe\">\n",
       "  <thead>\n",
       "    <tr style=\"text-align: right;\">\n",
       "      <th></th>\n",
       "      <th>Course</th>\n",
       "      <th>Lecture</th>\n",
       "      <th>Percent Grade</th>\n",
       "    </tr>\n",
       "  </thead>\n",
       "  <tbody>\n",
       "    <tr>\n",
       "      <th>count</th>\n",
       "      <td>174.0</td>\n",
       "      <td>174.000000</td>\n",
       "      <td>174.000000</td>\n",
       "    </tr>\n",
       "    <tr>\n",
       "      <th>mean</th>\n",
       "      <td>111.0</td>\n",
       "      <td>1.373563</td>\n",
       "      <td>70.040230</td>\n",
       "    </tr>\n",
       "    <tr>\n",
       "      <th>std</th>\n",
       "      <td>0.0</td>\n",
       "      <td>0.485146</td>\n",
       "      <td>15.518164</td>\n",
       "    </tr>\n",
       "    <tr>\n",
       "      <th>min</th>\n",
       "      <td>111.0</td>\n",
       "      <td>1.000000</td>\n",
       "      <td>5.000000</td>\n",
       "    </tr>\n",
       "    <tr>\n",
       "      <th>25%</th>\n",
       "      <td>111.0</td>\n",
       "      <td>1.000000</td>\n",
       "      <td>62.000000</td>\n",
       "    </tr>\n",
       "    <tr>\n",
       "      <th>50%</th>\n",
       "      <td>111.0</td>\n",
       "      <td>1.000000</td>\n",
       "      <td>70.500000</td>\n",
       "    </tr>\n",
       "    <tr>\n",
       "      <th>75%</th>\n",
       "      <td>111.0</td>\n",
       "      <td>2.000000</td>\n",
       "      <td>79.750000</td>\n",
       "    </tr>\n",
       "    <tr>\n",
       "      <th>max</th>\n",
       "      <td>111.0</td>\n",
       "      <td>2.000000</td>\n",
       "      <td>100.000000</td>\n",
       "    </tr>\n",
       "  </tbody>\n",
       "</table>\n",
       "</div>"
      ],
      "text/plain": [
       "       Course     Lecture  Percent Grade\n",
       "count   174.0  174.000000     174.000000\n",
       "mean    111.0    1.373563      70.040230\n",
       "std       0.0    0.485146      15.518164\n",
       "min     111.0    1.000000       5.000000\n",
       "25%     111.0    1.000000      62.000000\n",
       "50%     111.0    1.000000      70.500000\n",
       "75%     111.0    2.000000      79.750000\n",
       "max     111.0    2.000000     100.000000"
      ]
     },
     "execution_count": 16,
     "metadata": {},
     "output_type": "execute_result"
    }
   ],
   "source": [
    "df14_111.describe()"
   ]
  },
  {
   "cell_type": "code",
   "execution_count": 20,
   "metadata": {},
   "outputs": [],
   "source": [
    "column_names=[\"YEAR\"]\n",
    "for i in range(1, 31):\n",
    "    column_names.append(\"PRE Q\" + str(i))\n",
    "df1 = pd.DataFrame(columns=column_names)"
   ]
  },
  {
   "cell_type": "code",
   "execution_count": 21,
   "metadata": {},
   "outputs": [],
   "source": [
    "#df1.append(df14_111.apply(calculate_pre_score, axis=1) , ignore_index=True)"
   ]
  },
  {
   "cell_type": "code",
   "execution_count": 31,
   "metadata": {},
   "outputs": [
    {
     "data": {
      "text/html": [
       "<div>\n",
       "<style scoped>\n",
       "    .dataframe tbody tr th:only-of-type {\n",
       "        vertical-align: middle;\n",
       "    }\n",
       "\n",
       "    .dataframe tbody tr th {\n",
       "        vertical-align: top;\n",
       "    }\n",
       "\n",
       "    .dataframe thead th {\n",
       "        text-align: right;\n",
       "    }\n",
       "</style>\n",
       "<table border=\"1\" class=\"dataframe\">\n",
       "  <thead>\n",
       "    <tr style=\"text-align: right;\">\n",
       "      <th></th>\n",
       "      <th>YEAR</th>\n",
       "      <th>PRE Q1</th>\n",
       "      <th>PRE Q2</th>\n",
       "      <th>PRE Q3</th>\n",
       "      <th>PRE Q4</th>\n",
       "      <th>PRE Q5</th>\n",
       "      <th>PRE Q6</th>\n",
       "      <th>PRE Q7</th>\n",
       "      <th>PRE Q8</th>\n",
       "      <th>PRE Q9</th>\n",
       "      <th>...</th>\n",
       "      <th>PRE Q21</th>\n",
       "      <th>PRE Q22</th>\n",
       "      <th>PRE Q23</th>\n",
       "      <th>PRE Q24</th>\n",
       "      <th>PRE Q25</th>\n",
       "      <th>PRE Q26</th>\n",
       "      <th>PRE Q27</th>\n",
       "      <th>PRE Q28</th>\n",
       "      <th>PRE Q29</th>\n",
       "      <th>PRE Q30</th>\n",
       "    </tr>\n",
       "  </thead>\n",
       "  <tbody>\n",
       "    <tr>\n",
       "      <th>1</th>\n",
       "      <td>2014 111</td>\n",
       "      <td>0.660920</td>\n",
       "      <td>0.477011</td>\n",
       "      <td>0.603448</td>\n",
       "      <td>0.367816</td>\n",
       "      <td>0.298851</td>\n",
       "      <td>0.712644</td>\n",
       "      <td>0.620690</td>\n",
       "      <td>0.603448</td>\n",
       "      <td>0.448276</td>\n",
       "      <td>...</td>\n",
       "      <td>0.419540</td>\n",
       "      <td>0.465517</td>\n",
       "      <td>0.488506</td>\n",
       "      <td>0.637931</td>\n",
       "      <td>0.321839</td>\n",
       "      <td>0.183908</td>\n",
       "      <td>0.586207</td>\n",
       "      <td>0.431034</td>\n",
       "      <td>0.632184</td>\n",
       "      <td>0.235632</td>\n",
       "    </tr>\n",
       "    <tr>\n",
       "      <th>2</th>\n",
       "      <td>2014 112</td>\n",
       "      <td>0.422414</td>\n",
       "      <td>0.254310</td>\n",
       "      <td>0.418103</td>\n",
       "      <td>0.228448</td>\n",
       "      <td>0.073276</td>\n",
       "      <td>0.538793</td>\n",
       "      <td>0.435345</td>\n",
       "      <td>0.288793</td>\n",
       "      <td>0.271552</td>\n",
       "      <td>...</td>\n",
       "      <td>0.362069</td>\n",
       "      <td>0.331897</td>\n",
       "      <td>0.297414</td>\n",
       "      <td>0.556034</td>\n",
       "      <td>0.120690</td>\n",
       "      <td>0.043103</td>\n",
       "      <td>0.478448</td>\n",
       "      <td>0.198276</td>\n",
       "      <td>0.469828</td>\n",
       "      <td>0.086207</td>\n",
       "    </tr>\n",
       "    <tr>\n",
       "      <th>3</th>\n",
       "      <td>2015 111</td>\n",
       "      <td>0.725581</td>\n",
       "      <td>0.460465</td>\n",
       "      <td>0.674419</td>\n",
       "      <td>0.279070</td>\n",
       "      <td>0.274419</td>\n",
       "      <td>0.776744</td>\n",
       "      <td>0.693023</td>\n",
       "      <td>0.632558</td>\n",
       "      <td>0.441860</td>\n",
       "      <td>...</td>\n",
       "      <td>0.427907</td>\n",
       "      <td>0.460465</td>\n",
       "      <td>0.483721</td>\n",
       "      <td>0.711628</td>\n",
       "      <td>0.265116</td>\n",
       "      <td>0.162791</td>\n",
       "      <td>0.627907</td>\n",
       "      <td>0.395349</td>\n",
       "      <td>0.674419</td>\n",
       "      <td>0.232558</td>\n",
       "    </tr>\n",
       "    <tr>\n",
       "      <th>4</th>\n",
       "      <td>2015 112</td>\n",
       "      <td>0.480315</td>\n",
       "      <td>0.240157</td>\n",
       "      <td>0.484252</td>\n",
       "      <td>0.204724</td>\n",
       "      <td>0.129921</td>\n",
       "      <td>0.610236</td>\n",
       "      <td>0.547244</td>\n",
       "      <td>0.413386</td>\n",
       "      <td>0.279528</td>\n",
       "      <td>...</td>\n",
       "      <td>0.350394</td>\n",
       "      <td>0.299213</td>\n",
       "      <td>0.295276</td>\n",
       "      <td>0.559055</td>\n",
       "      <td>0.141732</td>\n",
       "      <td>0.062992</td>\n",
       "      <td>0.484252</td>\n",
       "      <td>0.232283</td>\n",
       "      <td>0.476378</td>\n",
       "      <td>0.149606</td>\n",
       "    </tr>\n",
       "    <tr>\n",
       "      <th>5</th>\n",
       "      <td>2016 111</td>\n",
       "      <td>0.636364</td>\n",
       "      <td>0.414545</td>\n",
       "      <td>0.669091</td>\n",
       "      <td>0.341818</td>\n",
       "      <td>0.309091</td>\n",
       "      <td>0.800000</td>\n",
       "      <td>0.738182</td>\n",
       "      <td>0.625455</td>\n",
       "      <td>0.447273</td>\n",
       "      <td>...</td>\n",
       "      <td>0.429091</td>\n",
       "      <td>0.443636</td>\n",
       "      <td>0.447273</td>\n",
       "      <td>0.647273</td>\n",
       "      <td>0.272727</td>\n",
       "      <td>0.152727</td>\n",
       "      <td>0.581818</td>\n",
       "      <td>0.436364</td>\n",
       "      <td>0.680000</td>\n",
       "      <td>0.290909</td>\n",
       "    </tr>\n",
       "    <tr>\n",
       "      <th>6</th>\n",
       "      <td>2016 112</td>\n",
       "      <td>0.415808</td>\n",
       "      <td>0.302405</td>\n",
       "      <td>0.484536</td>\n",
       "      <td>0.274914</td>\n",
       "      <td>0.123711</td>\n",
       "      <td>0.621993</td>\n",
       "      <td>0.505155</td>\n",
       "      <td>0.446735</td>\n",
       "      <td>0.285223</td>\n",
       "      <td>...</td>\n",
       "      <td>0.309278</td>\n",
       "      <td>0.329897</td>\n",
       "      <td>0.309278</td>\n",
       "      <td>0.501718</td>\n",
       "      <td>0.161512</td>\n",
       "      <td>0.054983</td>\n",
       "      <td>0.508591</td>\n",
       "      <td>0.261168</td>\n",
       "      <td>0.484536</td>\n",
       "      <td>0.109966</td>\n",
       "    </tr>\n",
       "    <tr>\n",
       "      <th>7</th>\n",
       "      <td>2017 111</td>\n",
       "      <td>0.658537</td>\n",
       "      <td>0.478049</td>\n",
       "      <td>0.609756</td>\n",
       "      <td>0.390244</td>\n",
       "      <td>0.302439</td>\n",
       "      <td>0.746341</td>\n",
       "      <td>0.687805</td>\n",
       "      <td>0.585366</td>\n",
       "      <td>0.419512</td>\n",
       "      <td>...</td>\n",
       "      <td>0.424390</td>\n",
       "      <td>0.487805</td>\n",
       "      <td>0.497561</td>\n",
       "      <td>0.643902</td>\n",
       "      <td>0.312195</td>\n",
       "      <td>0.224390</td>\n",
       "      <td>0.624390</td>\n",
       "      <td>0.531707</td>\n",
       "      <td>0.663415</td>\n",
       "      <td>0.370732</td>\n",
       "    </tr>\n",
       "    <tr>\n",
       "      <th>8</th>\n",
       "      <td>2017 112</td>\n",
       "      <td>0.517241</td>\n",
       "      <td>0.265517</td>\n",
       "      <td>0.413793</td>\n",
       "      <td>0.251724</td>\n",
       "      <td>0.155172</td>\n",
       "      <td>0.582759</td>\n",
       "      <td>0.520690</td>\n",
       "      <td>0.458621</td>\n",
       "      <td>0.375862</td>\n",
       "      <td>...</td>\n",
       "      <td>0.296552</td>\n",
       "      <td>0.286207</td>\n",
       "      <td>0.296552</td>\n",
       "      <td>0.531034</td>\n",
       "      <td>0.131034</td>\n",
       "      <td>0.065517</td>\n",
       "      <td>0.455172</td>\n",
       "      <td>0.241379</td>\n",
       "      <td>0.520690</td>\n",
       "      <td>0.179310</td>\n",
       "    </tr>\n",
       "    <tr>\n",
       "      <th>9</th>\n",
       "      <td>2018 111</td>\n",
       "      <td>0.578947</td>\n",
       "      <td>0.373684</td>\n",
       "      <td>0.573684</td>\n",
       "      <td>0.394737</td>\n",
       "      <td>0.284211</td>\n",
       "      <td>0.731579</td>\n",
       "      <td>0.710526</td>\n",
       "      <td>0.626316</td>\n",
       "      <td>0.484211</td>\n",
       "      <td>...</td>\n",
       "      <td>0.426316</td>\n",
       "      <td>0.478947</td>\n",
       "      <td>0.531579</td>\n",
       "      <td>0.689474</td>\n",
       "      <td>0.310526</td>\n",
       "      <td>0.215789</td>\n",
       "      <td>0.663158</td>\n",
       "      <td>0.494737</td>\n",
       "      <td>0.689474</td>\n",
       "      <td>0.289474</td>\n",
       "    </tr>\n",
       "    <tr>\n",
       "      <th>10</th>\n",
       "      <td>2018 112</td>\n",
       "      <td>0.501558</td>\n",
       "      <td>0.277259</td>\n",
       "      <td>0.439252</td>\n",
       "      <td>0.308411</td>\n",
       "      <td>0.161994</td>\n",
       "      <td>0.679128</td>\n",
       "      <td>0.535826</td>\n",
       "      <td>0.433022</td>\n",
       "      <td>0.317757</td>\n",
       "      <td>...</td>\n",
       "      <td>0.364486</td>\n",
       "      <td>0.292835</td>\n",
       "      <td>0.308411</td>\n",
       "      <td>0.545171</td>\n",
       "      <td>0.155763</td>\n",
       "      <td>0.077882</td>\n",
       "      <td>0.588785</td>\n",
       "      <td>0.308411</td>\n",
       "      <td>0.560748</td>\n",
       "      <td>0.140187</td>\n",
       "    </tr>\n",
       "  </tbody>\n",
       "</table>\n",
       "<p>10 rows × 31 columns</p>\n",
       "</div>"
      ],
      "text/plain": [
       "        YEAR    PRE Q1    PRE Q2    PRE Q3    PRE Q4    PRE Q5    PRE Q6  \\\n",
       "1   2014 111  0.660920  0.477011  0.603448  0.367816  0.298851  0.712644   \n",
       "2   2014 112  0.422414  0.254310  0.418103  0.228448  0.073276  0.538793   \n",
       "3   2015 111  0.725581  0.460465  0.674419  0.279070  0.274419  0.776744   \n",
       "4   2015 112  0.480315  0.240157  0.484252  0.204724  0.129921  0.610236   \n",
       "5   2016 111  0.636364  0.414545  0.669091  0.341818  0.309091  0.800000   \n",
       "6   2016 112  0.415808  0.302405  0.484536  0.274914  0.123711  0.621993   \n",
       "7   2017 111  0.658537  0.478049  0.609756  0.390244  0.302439  0.746341   \n",
       "8   2017 112  0.517241  0.265517  0.413793  0.251724  0.155172  0.582759   \n",
       "9   2018 111  0.578947  0.373684  0.573684  0.394737  0.284211  0.731579   \n",
       "10  2018 112  0.501558  0.277259  0.439252  0.308411  0.161994  0.679128   \n",
       "\n",
       "      PRE Q7    PRE Q8    PRE Q9  ...   PRE Q21   PRE Q22   PRE Q23   PRE Q24  \\\n",
       "1   0.620690  0.603448  0.448276  ...  0.419540  0.465517  0.488506  0.637931   \n",
       "2   0.435345  0.288793  0.271552  ...  0.362069  0.331897  0.297414  0.556034   \n",
       "3   0.693023  0.632558  0.441860  ...  0.427907  0.460465  0.483721  0.711628   \n",
       "4   0.547244  0.413386  0.279528  ...  0.350394  0.299213  0.295276  0.559055   \n",
       "5   0.738182  0.625455  0.447273  ...  0.429091  0.443636  0.447273  0.647273   \n",
       "6   0.505155  0.446735  0.285223  ...  0.309278  0.329897  0.309278  0.501718   \n",
       "7   0.687805  0.585366  0.419512  ...  0.424390  0.487805  0.497561  0.643902   \n",
       "8   0.520690  0.458621  0.375862  ...  0.296552  0.286207  0.296552  0.531034   \n",
       "9   0.710526  0.626316  0.484211  ...  0.426316  0.478947  0.531579  0.689474   \n",
       "10  0.535826  0.433022  0.317757  ...  0.364486  0.292835  0.308411  0.545171   \n",
       "\n",
       "     PRE Q25   PRE Q26   PRE Q27   PRE Q28   PRE Q29   PRE Q30  \n",
       "1   0.321839  0.183908  0.586207  0.431034  0.632184  0.235632  \n",
       "2   0.120690  0.043103  0.478448  0.198276  0.469828  0.086207  \n",
       "3   0.265116  0.162791  0.627907  0.395349  0.674419  0.232558  \n",
       "4   0.141732  0.062992  0.484252  0.232283  0.476378  0.149606  \n",
       "5   0.272727  0.152727  0.581818  0.436364  0.680000  0.290909  \n",
       "6   0.161512  0.054983  0.508591  0.261168  0.484536  0.109966  \n",
       "7   0.312195  0.224390  0.624390  0.531707  0.663415  0.370732  \n",
       "8   0.131034  0.065517  0.455172  0.241379  0.520690  0.179310  \n",
       "9   0.310526  0.215789  0.663158  0.494737  0.689474  0.289474  \n",
       "10  0.155763  0.077882  0.588785  0.308411  0.560748  0.140187  \n",
       "\n",
       "[10 rows x 31 columns]"
      ]
     },
     "execution_count": 31,
     "metadata": {},
     "output_type": "execute_result"
    }
   ],
   "source": [
    "df1.loc[1] = [\"2014 111\"] + calculate_question_score_pre(df14_111)\n",
    "df1.loc[2] = [\"2014 112\"] + calculate_question_score_pre(df14_112)\n",
    "df1.loc[3] = [\"2015 111\"] + calculate_question_score_pre(df15_111)\n",
    "df1.loc[4] = [\"2015 112\"] + calculate_question_score_pre(df15_112)\n",
    "df1.loc[5] = [\"2016 111\"] + calculate_question_score_pre(df16_111)\n",
    "df1.loc[6] = [\"2016 112\"] + calculate_question_score_pre(df16_112)\n",
    "df1.loc[7] = [\"2017 111\"] + calculate_question_score_pre(df17_111)\n",
    "df1.loc[8] = [\"2017 112\"] + calculate_question_score_pre(df17_112)\n",
    "df1.loc[9] = [\"2018 111\"] + calculate_question_score_pre(df18_111)\n",
    "df1.loc[10] = [\"2018 112\"] + calculate_question_score_pre(df18_112)\n",
    "\n",
    "df1"
   ]
  },
  {
   "cell_type": "code",
   "execution_count": null,
   "metadata": {},
   "outputs": [],
   "source": []
  }
 ],
 "metadata": {
  "kernelspec": {
   "display_name": "Python 3",
   "language": "python",
   "name": "python3"
  },
  "language_info": {
   "codemirror_mode": {
    "name": "ipython",
    "version": 3
   },
   "file_extension": ".py",
   "mimetype": "text/x-python",
   "name": "python",
   "nbconvert_exporter": "python",
   "pygments_lexer": "ipython3",
   "version": "3.8.1"
  }
 },
 "nbformat": 4,
 "nbformat_minor": 4
}
