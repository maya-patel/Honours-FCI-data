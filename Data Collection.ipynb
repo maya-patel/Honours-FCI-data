{
 "cells": [
  {
   "cell_type": "code",
   "execution_count": 1,
   "metadata": {},
   "outputs": [],
   "source": [
    "import pandas as pd\n",
    "from FCI_functions.FCI_functions import calculate_pre_score, calculate_post_score, calculate_question_score_post, calculate_question_score_pre"
   ]
  },
  {
   "cell_type": "code",
   "execution_count": 2,
   "metadata": {},
   "outputs": [
    {
     "data": {
      "text/html": [
       "<div>\n",
       "<style scoped>\n",
       "    .dataframe tbody tr th:only-of-type {\n",
       "        vertical-align: middle;\n",
       "    }\n",
       "\n",
       "    .dataframe tbody tr th {\n",
       "        vertical-align: top;\n",
       "    }\n",
       "\n",
       "    .dataframe thead th {\n",
       "        text-align: right;\n",
       "    }\n",
       "</style>\n",
       "<table border=\"1\" class=\"dataframe\">\n",
       "  <thead>\n",
       "    <tr style=\"text-align: right;\">\n",
       "      <th></th>\n",
       "      <th>Session</th>\n",
       "      <th>Course</th>\n",
       "      <th>Lecture</th>\n",
       "      <th>Secondary</th>\n",
       "      <th>Percent Grade</th>\n",
       "      <th>Letter Grade</th>\n",
       "      <th>PRE Q1</th>\n",
       "      <th>PRE Q2</th>\n",
       "      <th>PRE Q3</th>\n",
       "      <th>PRE Q4</th>\n",
       "      <th>...</th>\n",
       "      <th>POST Q87</th>\n",
       "      <th>POST Q88</th>\n",
       "      <th>POST Q89</th>\n",
       "      <th>POST Q90</th>\n",
       "      <th>POST Q91</th>\n",
       "      <th>POST Q92</th>\n",
       "      <th>POST Q93</th>\n",
       "      <th>POST Q94</th>\n",
       "      <th>POST Q95</th>\n",
       "      <th>POST Q96</th>\n",
       "    </tr>\n",
       "  </thead>\n",
       "  <tbody>\n",
       "    <tr>\n",
       "      <th>0</th>\n",
       "      <td>2014W</td>\n",
       "      <td>111</td>\n",
       "      <td>1</td>\n",
       "      <td>L02</td>\n",
       "      <td>70</td>\n",
       "      <td>B-</td>\n",
       "      <td>C</td>\n",
       "      <td>D</td>\n",
       "      <td>D</td>\n",
       "      <td>A</td>\n",
       "      <td>...</td>\n",
       "      <td>A</td>\n",
       "      <td>C</td>\n",
       "      <td>C</td>\n",
       "      <td>E</td>\n",
       "      <td>D</td>\n",
       "      <td>C</td>\n",
       "      <td>A</td>\n",
       "      <td>C</td>\n",
       "      <td>B</td>\n",
       "      <td>BLANK</td>\n",
       "    </tr>\n",
       "    <tr>\n",
       "      <th>2</th>\n",
       "      <td>2014W</td>\n",
       "      <td>111</td>\n",
       "      <td>1</td>\n",
       "      <td>L10</td>\n",
       "      <td>74</td>\n",
       "      <td>B</td>\n",
       "      <td>A</td>\n",
       "      <td>A</td>\n",
       "      <td>C</td>\n",
       "      <td>A</td>\n",
       "      <td>...</td>\n",
       "      <td>B</td>\n",
       "      <td>B</td>\n",
       "      <td>A</td>\n",
       "      <td>D</td>\n",
       "      <td>A</td>\n",
       "      <td>A</td>\n",
       "      <td>B</td>\n",
       "      <td>C</td>\n",
       "      <td>B</td>\n",
       "      <td>BLANK</td>\n",
       "    </tr>\n",
       "    <tr>\n",
       "      <th>3</th>\n",
       "      <td>2014W</td>\n",
       "      <td>111</td>\n",
       "      <td>1</td>\n",
       "      <td>L02</td>\n",
       "      <td>78</td>\n",
       "      <td>B+</td>\n",
       "      <td>C</td>\n",
       "      <td>A</td>\n",
       "      <td>C</td>\n",
       "      <td>E</td>\n",
       "      <td>...</td>\n",
       "      <td>A</td>\n",
       "      <td>A</td>\n",
       "      <td>A</td>\n",
       "      <td>D</td>\n",
       "      <td>D</td>\n",
       "      <td>A</td>\n",
       "      <td>C</td>\n",
       "      <td>E</td>\n",
       "      <td>A</td>\n",
       "      <td>BLANK</td>\n",
       "    </tr>\n",
       "    <tr>\n",
       "      <th>4</th>\n",
       "      <td>2014W</td>\n",
       "      <td>111</td>\n",
       "      <td>1</td>\n",
       "      <td>L09</td>\n",
       "      <td>60</td>\n",
       "      <td>C</td>\n",
       "      <td>C</td>\n",
       "      <td>A</td>\n",
       "      <td>C</td>\n",
       "      <td>E</td>\n",
       "      <td>...</td>\n",
       "      <td>B</td>\n",
       "      <td>B</td>\n",
       "      <td>E</td>\n",
       "      <td>A</td>\n",
       "      <td>C</td>\n",
       "      <td>C</td>\n",
       "      <td>A</td>\n",
       "      <td>D</td>\n",
       "      <td>A</td>\n",
       "      <td>BLANK</td>\n",
       "    </tr>\n",
       "    <tr>\n",
       "      <th>5</th>\n",
       "      <td>2014W</td>\n",
       "      <td>111</td>\n",
       "      <td>1</td>\n",
       "      <td>L15</td>\n",
       "      <td>58</td>\n",
       "      <td>C-</td>\n",
       "      <td>B</td>\n",
       "      <td>A</td>\n",
       "      <td>B</td>\n",
       "      <td>A</td>\n",
       "      <td>...</td>\n",
       "      <td>C</td>\n",
       "      <td>C</td>\n",
       "      <td>E</td>\n",
       "      <td>E</td>\n",
       "      <td>C</td>\n",
       "      <td>A</td>\n",
       "      <td>B</td>\n",
       "      <td>C</td>\n",
       "      <td>!!</td>\n",
       "      <td>BLANK</td>\n",
       "    </tr>\n",
       "  </tbody>\n",
       "</table>\n",
       "<p>5 rows × 117 columns</p>\n",
       "</div>"
      ],
      "text/plain": [
       "  Session  Course  Lecture Secondary  Percent Grade Letter Grade PRE Q1  \\\n",
       "0   2014W     111        1       L02             70           B-      C   \n",
       "2   2014W     111        1       L10             74           B       A   \n",
       "3   2014W     111        1       L02             78           B+      C   \n",
       "4   2014W     111        1       L09             60           C       C   \n",
       "5   2014W     111        1       L15             58           C-      B   \n",
       "\n",
       "  PRE Q2 PRE Q3 PRE Q4  ... POST Q87 POST Q88 POST Q89 POST Q90 POST Q91  \\\n",
       "0      D      D      A  ...        A        C        C        E        D   \n",
       "2      A      C      A  ...        B        B        A        D        A   \n",
       "3      A      C      E  ...        A        A        A        D        D   \n",
       "4      A      C      E  ...        B        B        E        A        C   \n",
       "5      A      B      A  ...        C        C        E        E        C   \n",
       "\n",
       "  POST Q92 POST Q93 POST Q94 POST Q95 POST Q96  \n",
       "0        C        A        C        B    BLANK  \n",
       "2        A        B        C        B    BLANK  \n",
       "3        A        C        E        A    BLANK  \n",
       "4        C        A        D        A    BLANK  \n",
       "5        A        B        C       !!    BLANK  \n",
       "\n",
       "[5 rows x 117 columns]"
      ]
     },
     "execution_count": 2,
     "metadata": {},
     "output_type": "execute_result"
    }
   ],
   "source": [
    "# import raw data from excel files with NA threshold at 25\n",
    "df16_111 = pd.read_excel('rawdata/2016-17 WT1 Phys 111 ALL Data - Shared with Chelsea.xlsx').dropna(axis = 0, thresh = 25)\n",
    "df16_112 = pd.read_excel('rawdata/2016-17 WT1 Phys 112 ALL Data - Shared with Chelsea.xlsx').dropna(axis = 0, thresh = 25)\n",
    "df14_111 = pd.read_excel('rawdata/2014-15 WT1 Phys 111 ALL Data - Shared with Chelsea (20210212).xlsx').dropna(axis = 0, thresh = 25)\n",
    "df14_112 = pd.read_excel('rawdata/2014-15 WT1 Phys 112 ALL Data - Shared with Chelsea (20210212).xlsx').dropna(axis = 0, thresh = 25)\n",
    "df15_111 = pd.read_excel('rawdata/2015-16 WT1 Phys 111 ALL Data - Shared with Chelsea.xlsx').dropna(axis = 0, thresh = 25)\n",
    "df15_112 = pd.read_excel('rawdata/2015-16 WT1 Phys 112 ALL Data - Shared with Chelsea.xlsx').dropna(axis = 0, thresh = 25)\n",
    "df17_111 = pd.read_excel('rawdata/2017-18 WT1 Phys 111 ALL Data - Shared with David (20190612).xlsx').dropna(axis = 0, thresh = 25)\n",
    "df17_112 = pd.read_excel('rawdata/2017-18 WT1 Phys 112 ALL Data - Shared with David (20190612).xlsx').dropna(axis = 0, thresh = 25)\n",
    "df18_111 = pd.read_excel('rawdata/2018-19 WT1 Phys 111 ALL Data - Shared with David (20190530).xlsx').dropna(axis = 0, thresh = 25)\n",
    "df18_112 = pd.read_excel('rawdata/2018-19 WT1 Phys 112 ALL Data - Shared with David (20190527).xlsx').dropna(axis = 0, thresh = 25)\n",
    "df14_111.head()"
   ]
  },
  {
   "cell_type": "code",
   "execution_count": 3,
   "metadata": {},
   "outputs": [
    {
     "data": {
      "text/plain": [
       "6.340996168582421"
      ]
     },
     "metadata": {},
     "output_type": "display_data"
    },
    {
     "data": {
      "text/plain": [
       "5.244252873563241"
      ]
     },
     "metadata": {},
     "output_type": "display_data"
    },
    {
     "data": {
      "text/plain": [
       "2.8242424242423922"
      ]
     },
     "metadata": {},
     "output_type": "display_data"
    },
    {
     "data": {
      "text/plain": [
       "11.053837342497147"
      ]
     },
     "metadata": {},
     "output_type": "display_data"
    },
    {
     "data": {
      "text/plain": [
       "1.5193798449612217"
      ]
     },
     "metadata": {},
     "output_type": "display_data"
    },
    {
     "data": {
      "text/plain": [
       "12.506561679790067"
      ]
     },
     "metadata": {},
     "output_type": "display_data"
    },
    {
     "data": {
      "text/plain": [
       "4.8455284552845725"
      ]
     },
     "metadata": {},
     "output_type": "display_data"
    },
    {
     "data": {
      "text/plain": [
       "17.321839080459775"
      ]
     },
     "metadata": {},
     "output_type": "display_data"
    },
    {
     "data": {
      "text/plain": [
       "-2.5614035087719387"
      ]
     },
     "metadata": {},
     "output_type": "display_data"
    },
    {
     "data": {
      "text/plain": [
       "8.670820353063355"
      ]
     },
     "metadata": {},
     "output_type": "display_data"
    }
   ],
   "source": [
    "# output gain from all years\n",
    "display(df14_111.apply(calculate_post_score, axis=1).mean()-df14_111.apply(calculate_pre_score, axis=1).mean())\n",
    "display(df14_112.apply(calculate_post_score, axis=1).mean()-df14_112.apply(calculate_pre_score, axis=1).mean())\n",
    "display(df16_111.apply(calculate_post_score, axis=1).mean()-df16_111.apply(calculate_pre_score, axis=1).mean())\n",
    "display(df16_112.apply(calculate_post_score, axis=1).mean()-df16_112.apply(calculate_pre_score, axis=1).mean())\n",
    "display(df15_111.apply(calculate_post_score, axis=1).mean()-df15_111.apply(calculate_pre_score, axis=1).mean())\n",
    "display(df15_112.apply(calculate_post_score, axis=1).mean()-df15_112.apply(calculate_pre_score, axis=1).mean())\n",
    "display(df17_111.apply(calculate_post_score, axis=1).mean()-df17_111.apply(calculate_pre_score, axis=1).mean())\n",
    "display(df17_112.apply(calculate_post_score, axis=1).mean()-df17_112.apply(calculate_pre_score, axis=1).mean())\n",
    "display(df18_111.apply(calculate_post_score, axis=1).mean()-df18_111.apply(calculate_pre_score, axis=1).mean())\n",
    "display(df18_112.apply(calculate_post_score, axis=1).mean()-df18_112.apply(calculate_pre_score, axis=1).mean())"
   ]
  },
  {
   "cell_type": "code",
   "execution_count": 4,
   "metadata": {},
   "outputs": [
    {
     "data": {
      "text/plain": [
       "45.147679324894504"
      ]
     },
     "metadata": {},
     "output_type": "display_data"
    },
    {
     "data": {
      "text/plain": [
       "32.91139240506326"
      ]
     },
     "metadata": {},
     "output_type": "display_data"
    },
    {
     "data": {
      "text/plain": [
       "12.236286919831244"
      ]
     },
     "metadata": {},
     "output_type": "display_data"
    }
   ],
   "source": [
    "# calculate gain of 2016 001 lecture section\n",
    "is_001 = df16_112['Lecture']== 1\n",
    "post = df16_112[is_001].apply(calculate_post_score, axis=1).mean()\n",
    "pre = df16_112[is_001].apply(calculate_pre_score, axis=1).mean()\n",
    "display(post)\n",
    "display(pre)\n",
    "display(post-pre)"
   ]
  },
  {
   "cell_type": "code",
   "execution_count": 5,
   "metadata": {},
   "outputs": [
    {
     "data": {
      "text/plain": [
       "27.980392156862756"
      ]
     },
     "metadata": {},
     "output_type": "display_data"
    },
    {
     "data": {
      "text/plain": [
       "45.54347826086956"
      ]
     },
     "metadata": {},
     "output_type": "display_data"
    }
   ],
   "source": [
    "# calculate pre scores of 2016 112 by gender\n",
    "is_f = df16_112['PRE Q85']== 'A'\n",
    "pre_f = df16_112[is_f].apply(calculate_pre_score, axis=1).mean()\n",
    "is_m = df16_112['PRE Q85']== 'B'\n",
    "pre_m = df16_112[is_m].apply(calculate_pre_score, axis=1).mean()\n",
    "display(pre_f)\n",
    "display(pre_m)"
   ]
  },
  {
   "cell_type": "code",
   "execution_count": 6,
   "metadata": {},
   "outputs": [
    {
     "data": {
      "text/html": [
       "<div>\n",
       "<style scoped>\n",
       "    .dataframe tbody tr th:only-of-type {\n",
       "        vertical-align: middle;\n",
       "    }\n",
       "\n",
       "    .dataframe tbody tr th {\n",
       "        vertical-align: top;\n",
       "    }\n",
       "\n",
       "    .dataframe thead th {\n",
       "        text-align: right;\n",
       "    }\n",
       "</style>\n",
       "<table border=\"1\" class=\"dataframe\">\n",
       "  <thead>\n",
       "    <tr style=\"text-align: right;\">\n",
       "      <th></th>\n",
       "      <th>PRE Q1</th>\n",
       "      <th>PRE Q2</th>\n",
       "      <th>PRE Q3</th>\n",
       "      <th>PRE Q4</th>\n",
       "      <th>PRE Q5</th>\n",
       "      <th>PRE Q6</th>\n",
       "      <th>PRE Q7</th>\n",
       "      <th>PRE Q8</th>\n",
       "      <th>PRE Q9</th>\n",
       "      <th>PRE Q10</th>\n",
       "      <th>...</th>\n",
       "      <th>PRE Q21</th>\n",
       "      <th>PRE Q22</th>\n",
       "      <th>PRE Q23</th>\n",
       "      <th>PRE Q24</th>\n",
       "      <th>PRE Q25</th>\n",
       "      <th>PRE Q26</th>\n",
       "      <th>PRE Q27</th>\n",
       "      <th>PRE Q28</th>\n",
       "      <th>PRE Q29</th>\n",
       "      <th>PRE Q30</th>\n",
       "    </tr>\n",
       "  </thead>\n",
       "  <tbody>\n",
       "    <tr>\n",
       "      <th>Female</th>\n",
       "      <td>0.323529</td>\n",
       "      <td>0.276471</td>\n",
       "      <td>0.458824</td>\n",
       "      <td>0.229412</td>\n",
       "      <td>0.082353</td>\n",
       "      <td>0.529412</td>\n",
       "      <td>0.452941</td>\n",
       "      <td>0.341176</td>\n",
       "      <td>0.252941</td>\n",
       "      <td>0.264706</td>\n",
       "      <td>...</td>\n",
       "      <td>0.258824</td>\n",
       "      <td>0.276471</td>\n",
       "      <td>0.170588</td>\n",
       "      <td>0.400000</td>\n",
       "      <td>0.135294</td>\n",
       "      <td>0.023529</td>\n",
       "      <td>0.458824</td>\n",
       "      <td>0.182353</td>\n",
       "      <td>0.435294</td>\n",
       "      <td>0.088235</td>\n",
       "    </tr>\n",
       "    <tr>\n",
       "      <th>Male</th>\n",
       "      <td>0.586957</td>\n",
       "      <td>0.369565</td>\n",
       "      <td>0.554348</td>\n",
       "      <td>0.347826</td>\n",
       "      <td>0.206522</td>\n",
       "      <td>0.836957</td>\n",
       "      <td>0.608696</td>\n",
       "      <td>0.641304</td>\n",
       "      <td>0.369565</td>\n",
       "      <td>0.619565</td>\n",
       "      <td>...</td>\n",
       "      <td>0.402174</td>\n",
       "      <td>0.434783</td>\n",
       "      <td>0.576087</td>\n",
       "      <td>0.717391</td>\n",
       "      <td>0.173913</td>\n",
       "      <td>0.130435</td>\n",
       "      <td>0.586957</td>\n",
       "      <td>0.402174</td>\n",
       "      <td>0.608696</td>\n",
       "      <td>0.152174</td>\n",
       "    </tr>\n",
       "  </tbody>\n",
       "</table>\n",
       "<p>2 rows × 30 columns</p>\n",
       "</div>"
      ],
      "text/plain": [
       "          PRE Q1    PRE Q2    PRE Q3    PRE Q4    PRE Q5    PRE Q6    PRE Q7  \\\n",
       "Female  0.323529  0.276471  0.458824  0.229412  0.082353  0.529412  0.452941   \n",
       "Male    0.586957  0.369565  0.554348  0.347826  0.206522  0.836957  0.608696   \n",
       "\n",
       "          PRE Q8    PRE Q9   PRE Q10  ...   PRE Q21   PRE Q22   PRE Q23  \\\n",
       "Female  0.341176  0.252941  0.264706  ...  0.258824  0.276471  0.170588   \n",
       "Male    0.641304  0.369565  0.619565  ...  0.402174  0.434783  0.576087   \n",
       "\n",
       "         PRE Q24   PRE Q25   PRE Q26   PRE Q27   PRE Q28   PRE Q29   PRE Q30  \n",
       "Female  0.400000  0.135294  0.023529  0.458824  0.182353  0.435294  0.088235  \n",
       "Male    0.717391  0.173913  0.130435  0.586957  0.402174  0.608696  0.152174  \n",
       "\n",
       "[2 rows x 30 columns]"
      ]
     },
     "execution_count": 6,
     "metadata": {},
     "output_type": "execute_result"
    }
   ],
   "source": [
    "column_names=[]\n",
    "for i in range(1, 31):\n",
    "    column_names.append(\"PRE Q\" + str(i))\n",
    "df2 = pd.DataFrame(columns=column_names)\n",
    "\n",
    "# calculate pre scores of 2016 112 by gender by question\n",
    "is_f = df16_112['PRE Q85']== 'A'\n",
    "pre_f = calculate_question_score_pre(df16_112[is_f])\n",
    "is_m = df16_112['PRE Q85']== 'B'\n",
    "pre_m = calculate_question_score_pre(df16_112[is_m])\n",
    "df2.loc[\"Female\"] = pre_f\n",
    "df2.loc[\"Male\"] = pre_m\n",
    "\n",
    "df2"
   ]
  },
  {
   "cell_type": "code",
   "execution_count": 7,
   "metadata": {},
   "outputs": [
    {
     "data": {
      "text/html": [
       "<div>\n",
       "<style scoped>\n",
       "    .dataframe tbody tr th:only-of-type {\n",
       "        vertical-align: middle;\n",
       "    }\n",
       "\n",
       "    .dataframe tbody tr th {\n",
       "        vertical-align: top;\n",
       "    }\n",
       "\n",
       "    .dataframe thead th {\n",
       "        text-align: right;\n",
       "    }\n",
       "</style>\n",
       "<table border=\"1\" class=\"dataframe\">\n",
       "  <thead>\n",
       "    <tr style=\"text-align: right;\">\n",
       "      <th></th>\n",
       "      <th>PRE Q12014-15</th>\n",
       "      <th>PRE Q12015-16</th>\n",
       "      <th>PRE Q1</th>\n",
       "    </tr>\n",
       "  </thead>\n",
       "  <tbody>\n",
       "    <tr>\n",
       "      <th>C</th>\n",
       "      <td>115</td>\n",
       "      <td>156</td>\n",
       "      <td>98</td>\n",
       "    </tr>\n",
       "    <tr>\n",
       "      <th>NaN</th>\n",
       "      <td>21</td>\n",
       "      <td>3</td>\n",
       "      <td>26</td>\n",
       "    </tr>\n",
       "    <tr>\n",
       "      <th>D</th>\n",
       "      <td>14</td>\n",
       "      <td>20</td>\n",
       "      <td>44</td>\n",
       "    </tr>\n",
       "    <tr>\n",
       "      <th>A</th>\n",
       "      <td>13</td>\n",
       "      <td>26</td>\n",
       "      <td>30</td>\n",
       "    </tr>\n",
       "    <tr>\n",
       "      <th>B</th>\n",
       "      <td>8</td>\n",
       "      <td>6</td>\n",
       "      <td>19</td>\n",
       "    </tr>\n",
       "    <tr>\n",
       "      <th>E</th>\n",
       "      <td>3</td>\n",
       "      <td>4</td>\n",
       "      <td>15</td>\n",
       "    </tr>\n",
       "  </tbody>\n",
       "</table>\n",
       "</div>"
      ],
      "text/plain": [
       "     PRE Q12014-15  PRE Q12015-16  PRE Q1\n",
       "C              115            156      98\n",
       "NaN             21              3      26\n",
       "D               14             20      44\n",
       "A               13             26      30\n",
       "B                8              6      19\n",
       "E                3              4      15"
      ]
     },
     "execution_count": 7,
     "metadata": {},
     "output_type": "execute_result"
    }
   ],
   "source": [
    "y14_q1 = pd.DataFrame(df14_111['PRE Q1'].value_counts(dropna=False))\n",
    "y15_q1 = pd.DataFrame(df15_111['PRE Q1'].value_counts(dropna=False))\n",
    "y14_q1_112 = pd.DataFrame(df14_112['PRE Q1'].value_counts(dropna=False))\n",
    "\n",
    "dff1 = y14_q1.join(y15_q1, lsuffix='2014-15', rsuffix='2015-16')\n",
    "dff1 = dff1.join(y14_q1_112, rsuffix='2014 112')\n",
    "dff1\n",
    "\n",
    "#correct answer = C"
   ]
  },
  {
   "cell_type": "code",
   "execution_count": 8,
   "metadata": {},
   "outputs": [],
   "source": [
    "corr_ans = ['C', 'A' , 'C', 'E', 'B', 'B', 'B', 'B' , 'E', 'A', 'D', 'B', 'D', 'D', 'A', 'A', 'B', 'B', 'E', 'D', \n",
    "            'E', 'B', 'B', 'A', 'C', 'E', 'C', 'E', 'B', 'C']"
   ]
  },
  {
   "cell_type": "code",
   "execution_count": 9,
   "metadata": {
    "scrolled": true
   },
   "outputs": [
    {
     "data": {
      "text/html": [
       "<div>\n",
       "<style scoped>\n",
       "    .dataframe tbody tr th:only-of-type {\n",
       "        vertical-align: middle;\n",
       "    }\n",
       "\n",
       "    .dataframe tbody tr th {\n",
       "        vertical-align: top;\n",
       "    }\n",
       "\n",
       "    .dataframe thead th {\n",
       "        text-align: right;\n",
       "    }\n",
       "</style>\n",
       "<table border=\"1\" class=\"dataframe\">\n",
       "  <thead>\n",
       "    <tr style=\"text-align: right;\">\n",
       "      <th></th>\n",
       "      <th>Course</th>\n",
       "      <th>Lecture</th>\n",
       "      <th>Percent Grade</th>\n",
       "    </tr>\n",
       "  </thead>\n",
       "  <tbody>\n",
       "    <tr>\n",
       "      <th>count</th>\n",
       "      <td>174.0</td>\n",
       "      <td>174.000000</td>\n",
       "      <td>174.000000</td>\n",
       "    </tr>\n",
       "    <tr>\n",
       "      <th>mean</th>\n",
       "      <td>111.0</td>\n",
       "      <td>1.373563</td>\n",
       "      <td>70.040230</td>\n",
       "    </tr>\n",
       "    <tr>\n",
       "      <th>std</th>\n",
       "      <td>0.0</td>\n",
       "      <td>0.485146</td>\n",
       "      <td>15.518164</td>\n",
       "    </tr>\n",
       "    <tr>\n",
       "      <th>min</th>\n",
       "      <td>111.0</td>\n",
       "      <td>1.000000</td>\n",
       "      <td>5.000000</td>\n",
       "    </tr>\n",
       "    <tr>\n",
       "      <th>25%</th>\n",
       "      <td>111.0</td>\n",
       "      <td>1.000000</td>\n",
       "      <td>62.000000</td>\n",
       "    </tr>\n",
       "    <tr>\n",
       "      <th>50%</th>\n",
       "      <td>111.0</td>\n",
       "      <td>1.000000</td>\n",
       "      <td>70.500000</td>\n",
       "    </tr>\n",
       "    <tr>\n",
       "      <th>75%</th>\n",
       "      <td>111.0</td>\n",
       "      <td>2.000000</td>\n",
       "      <td>79.750000</td>\n",
       "    </tr>\n",
       "    <tr>\n",
       "      <th>max</th>\n",
       "      <td>111.0</td>\n",
       "      <td>2.000000</td>\n",
       "      <td>100.000000</td>\n",
       "    </tr>\n",
       "  </tbody>\n",
       "</table>\n",
       "</div>"
      ],
      "text/plain": [
       "       Course     Lecture  Percent Grade\n",
       "count   174.0  174.000000     174.000000\n",
       "mean    111.0    1.373563      70.040230\n",
       "std       0.0    0.485146      15.518164\n",
       "min     111.0    1.000000       5.000000\n",
       "25%     111.0    1.000000      62.000000\n",
       "50%     111.0    1.000000      70.500000\n",
       "75%     111.0    2.000000      79.750000\n",
       "max     111.0    2.000000     100.000000"
      ]
     },
     "execution_count": 9,
     "metadata": {},
     "output_type": "execute_result"
    }
   ],
   "source": [
    "df14_111.describe()"
   ]
  },
  {
   "cell_type": "code",
   "execution_count": 10,
   "metadata": {},
   "outputs": [],
   "source": [
    "column_names=[\"YEAR\"]\n",
    "for i in range(1, 31):\n",
    "    column_names.append(\"PRE Q\" + str(i))\n",
    "df1 = pd.DataFrame(columns=column_names)"
   ]
  },
  {
   "cell_type": "code",
   "execution_count": 11,
   "metadata": {},
   "outputs": [],
   "source": [
    "df1.loc[1] = [\"2014 111\"] + calculate_question_score_pre(df14_111)\n",
    "df1.loc[2] = [\"2014 112\"] + calculate_question_score_pre(df14_112)\n",
    "df1.loc[3] = [\"2015 111\"] + calculate_question_score_pre(df15_111)\n",
    "df1.loc[4] = [\"2015 112\"] + calculate_question_score_pre(df15_112)\n",
    "df1.loc[5] = [\"2016 111\"] + calculate_question_score_pre(df16_111)\n",
    "df1.loc[6] = [\"2016 112\"] + calculate_question_score_pre(df16_112)\n",
    "df1.loc[7] = [\"2017 111\"] + calculate_question_score_pre(df17_111)\n",
    "df1.loc[8] = [\"2017 112\"] + calculate_question_score_pre(df17_112)\n",
    "df1.loc[9] = [\"2018 111\"] + calculate_question_score_pre(df18_111)\n",
    "df1.loc[10] = [\"2018 112\"] + calculate_question_score_pre(df18_112)\n",
    "\n",
    "df1.to_excel(\"Pre_test_by_question.xlsx\")"
   ]
  },
  {
   "cell_type": "code",
   "execution_count": 23,
   "metadata": {},
   "outputs": [],
   "source": [
    "# create table of average scores by gender by year\n",
    "column_names=[\"YEAR\", \"Pre Score F\", \"Post Score F\", \"Gain F\", \"Pre Score M\", \"Post Score M\", \"Gain M\"]\n",
    "df3 = pd.DataFrame(columns=column_names)\n",
    "\n",
    "# calculate scores of 2014 111 by gender\n",
    "def by_gender_by_year(df, name):\n",
    "    is_f = df['PRE Q85']== 'A'\n",
    "    pre_f = df[is_f].apply(calculate_pre_score, axis=1).mean()\n",
    "    post_f =df[is_f].apply(calculate_post_score, axis=1).mean()\n",
    "    is_m = df['PRE Q85']== 'B'\n",
    "    pre_m = df[is_m].apply(calculate_pre_score, axis=1).mean()\n",
    "    post_m = df[is_m].apply(calculate_post_score, axis=1).mean()\n",
    "\n",
    "    array = [name, pre_f, post_f, post_f-pre_f, pre_m, post_m, post_m-pre_m]\n",
    "    return array\n"
   ]
  },
  {
   "cell_type": "code",
   "execution_count": 29,
   "metadata": {},
   "outputs": [
    {
     "data": {
      "text/html": [
       "<div>\n",
       "<style scoped>\n",
       "    .dataframe tbody tr th:only-of-type {\n",
       "        vertical-align: middle;\n",
       "    }\n",
       "\n",
       "    .dataframe tbody tr th {\n",
       "        vertical-align: top;\n",
       "    }\n",
       "\n",
       "    .dataframe thead th {\n",
       "        text-align: right;\n",
       "    }\n",
       "</style>\n",
       "<table border=\"1\" class=\"dataframe\">\n",
       "  <thead>\n",
       "    <tr style=\"text-align: right;\">\n",
       "      <th></th>\n",
       "      <th>YEAR</th>\n",
       "      <th>Pre Score F</th>\n",
       "      <th>Post Score F</th>\n",
       "      <th>Gain F</th>\n",
       "      <th>Pre Score M</th>\n",
       "      <th>Post Score M</th>\n",
       "      <th>Gain M</th>\n",
       "    </tr>\n",
       "  </thead>\n",
       "  <tbody>\n",
       "    <tr>\n",
       "      <th>1</th>\n",
       "      <td>2014 111</td>\n",
       "      <td>40.980392</td>\n",
       "      <td>47.843137</td>\n",
       "      <td>6.862745</td>\n",
       "      <td>63.474178</td>\n",
       "      <td>59.577465</td>\n",
       "      <td>-3.896714</td>\n",
       "    </tr>\n",
       "    <tr>\n",
       "      <th>2</th>\n",
       "      <td>2014 112</td>\n",
       "      <td>28.138138</td>\n",
       "      <td>33.573574</td>\n",
       "      <td>5.435435</td>\n",
       "      <td>42.850877</td>\n",
       "      <td>40.350877</td>\n",
       "      <td>-2.500000</td>\n",
       "    </tr>\n",
       "    <tr>\n",
       "      <th>3</th>\n",
       "      <td>2015 111</td>\n",
       "      <td>40.581395</td>\n",
       "      <td>43.992248</td>\n",
       "      <td>3.410853</td>\n",
       "      <td>56.666667</td>\n",
       "      <td>56.538462</td>\n",
       "      <td>-0.128205</td>\n",
       "    </tr>\n",
       "    <tr>\n",
       "      <th>4</th>\n",
       "      <td>2015 112</td>\n",
       "      <td>28.255208</td>\n",
       "      <td>38.411458</td>\n",
       "      <td>10.156250</td>\n",
       "      <td>43.076923</td>\n",
       "      <td>52.747253</td>\n",
       "      <td>9.670330</td>\n",
       "    </tr>\n",
       "    <tr>\n",
       "      <th>5</th>\n",
       "      <td>2016 111</td>\n",
       "      <td>41.863799</td>\n",
       "      <td>47.813620</td>\n",
       "      <td>5.949821</td>\n",
       "      <td>60.364583</td>\n",
       "      <td>57.760417</td>\n",
       "      <td>-2.604167</td>\n",
       "    </tr>\n",
       "    <tr>\n",
       "      <th>6</th>\n",
       "      <td>2016 112</td>\n",
       "      <td>27.980392</td>\n",
       "      <td>42.000000</td>\n",
       "      <td>14.019608</td>\n",
       "      <td>45.543478</td>\n",
       "      <td>52.500000</td>\n",
       "      <td>6.956522</td>\n",
       "    </tr>\n",
       "    <tr>\n",
       "      <th>7</th>\n",
       "      <td>2017 111</td>\n",
       "      <td>45.151515</td>\n",
       "      <td>47.333333</td>\n",
       "      <td>2.181818</td>\n",
       "      <td>60.083333</td>\n",
       "      <td>61.500000</td>\n",
       "      <td>1.416667</td>\n",
       "    </tr>\n",
       "    <tr>\n",
       "      <th>8</th>\n",
       "      <td>2017 112</td>\n",
       "      <td>30.940695</td>\n",
       "      <td>46.584867</td>\n",
       "      <td>15.644172</td>\n",
       "      <td>48.446970</td>\n",
       "      <td>61.818182</td>\n",
       "      <td>13.371212</td>\n",
       "    </tr>\n",
       "    <tr>\n",
       "      <th>9</th>\n",
       "      <td>2018 111</td>\n",
       "      <td>39.855072</td>\n",
       "      <td>40.869565</td>\n",
       "      <td>1.014493</td>\n",
       "      <td>56.843658</td>\n",
       "      <td>48.554572</td>\n",
       "      <td>-8.289086</td>\n",
       "    </tr>\n",
       "    <tr>\n",
       "      <th>10</th>\n",
       "      <td>2018 112</td>\n",
       "      <td>32.570922</td>\n",
       "      <td>42.092199</td>\n",
       "      <td>9.521277</td>\n",
       "      <td>47.609428</td>\n",
       "      <td>54.781145</td>\n",
       "      <td>7.171717</td>\n",
       "    </tr>\n",
       "  </tbody>\n",
       "</table>\n",
       "</div>"
      ],
      "text/plain": [
       "        YEAR  Pre Score F  Post Score F     Gain F  Pre Score M  Post Score M  \\\n",
       "1   2014 111    40.980392     47.843137   6.862745    63.474178     59.577465   \n",
       "2   2014 112    28.138138     33.573574   5.435435    42.850877     40.350877   \n",
       "3   2015 111    40.581395     43.992248   3.410853    56.666667     56.538462   \n",
       "4   2015 112    28.255208     38.411458  10.156250    43.076923     52.747253   \n",
       "5   2016 111    41.863799     47.813620   5.949821    60.364583     57.760417   \n",
       "6   2016 112    27.980392     42.000000  14.019608    45.543478     52.500000   \n",
       "7   2017 111    45.151515     47.333333   2.181818    60.083333     61.500000   \n",
       "8   2017 112    30.940695     46.584867  15.644172    48.446970     61.818182   \n",
       "9   2018 111    39.855072     40.869565   1.014493    56.843658     48.554572   \n",
       "10  2018 112    32.570922     42.092199   9.521277    47.609428     54.781145   \n",
       "\n",
       "       Gain M  \n",
       "1   -3.896714  \n",
       "2   -2.500000  \n",
       "3   -0.128205  \n",
       "4    9.670330  \n",
       "5   -2.604167  \n",
       "6    6.956522  \n",
       "7    1.416667  \n",
       "8   13.371212  \n",
       "9   -8.289086  \n",
       "10   7.171717  "
      ]
     },
     "execution_count": 29,
     "metadata": {},
     "output_type": "execute_result"
    }
   ],
   "source": [
    "df3.loc[1] = by_gender_by_year(df14_111, \"2014 111\")\n",
    "df3.loc[2] = by_gender_by_year(df14_112, \"2014 112\")\n",
    "df3.loc[3] = by_gender_by_year(df15_111, \"2015 111\")\n",
    "df3.loc[4] = by_gender_by_year(df15_112, \"2015 112\")\n",
    "df3.loc[5] = by_gender_by_year(df16_111, \"2016 111\")\n",
    "df3.loc[6] = by_gender_by_year(df16_112, \"2016 112\")\n",
    "df3.loc[7] = by_gender_by_year(df17_111, \"2017 111\")\n",
    "df3.loc[8] = by_gender_by_year(df17_112, \"2017 112\")\n",
    "df3.loc[9] = by_gender_by_year(df18_111, \"2018 111\")\n",
    "df3.loc[10] = by_gender_by_year(df18_112, \"2018 112\")\n",
    "df3"
   ]
  },
  {
   "cell_type": "code",
   "execution_count": null,
   "metadata": {},
   "outputs": [],
   "source": []
  }
 ],
 "metadata": {
  "kernelspec": {
   "display_name": "Python 3",
   "language": "python",
   "name": "python3"
  },
  "language_info": {
   "codemirror_mode": {
    "name": "ipython",
    "version": 3
   },
   "file_extension": ".py",
   "mimetype": "text/x-python",
   "name": "python",
   "nbconvert_exporter": "python",
   "pygments_lexer": "ipython3",
   "version": "3.8.1"
  }
 },
 "nbformat": 4,
 "nbformat_minor": 4
}
