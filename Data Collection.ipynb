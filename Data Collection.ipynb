{
 "cells": [
  {
   "cell_type": "code",
   "execution_count": 1,
   "metadata": {},
   "outputs": [],
   "source": [
    "import pandas as pd\n",
    "import numpy as np\n",
    "from FCI_functions.FCI_functions import calculate_pre_score, calculate_post_score, calculate_question_score_post, calculate_question_score_pre"
   ]
  },
  {
   "cell_type": "code",
   "execution_count": 2,
   "metadata": {},
   "outputs": [
    {
     "data": {
      "text/html": [
       "<div>\n",
       "<style scoped>\n",
       "    .dataframe tbody tr th:only-of-type {\n",
       "        vertical-align: middle;\n",
       "    }\n",
       "\n",
       "    .dataframe tbody tr th {\n",
       "        vertical-align: top;\n",
       "    }\n",
       "\n",
       "    .dataframe thead th {\n",
       "        text-align: right;\n",
       "    }\n",
       "</style>\n",
       "<table border=\"1\" class=\"dataframe\">\n",
       "  <thead>\n",
       "    <tr style=\"text-align: right;\">\n",
       "      <th></th>\n",
       "      <th>Session</th>\n",
       "      <th>Course</th>\n",
       "      <th>Lecture</th>\n",
       "      <th>Secondary</th>\n",
       "      <th>Percent Grade</th>\n",
       "      <th>Letter Grade</th>\n",
       "      <th>PRE Q1</th>\n",
       "      <th>PRE Q2</th>\n",
       "      <th>PRE Q3</th>\n",
       "      <th>PRE Q4</th>\n",
       "      <th>...</th>\n",
       "      <th>POST Q87</th>\n",
       "      <th>POST Q88</th>\n",
       "      <th>POST Q89</th>\n",
       "      <th>POST Q90</th>\n",
       "      <th>POST Q91</th>\n",
       "      <th>POST Q92</th>\n",
       "      <th>POST Q93</th>\n",
       "      <th>POST Q94</th>\n",
       "      <th>POST Q95</th>\n",
       "      <th>POST Q96</th>\n",
       "    </tr>\n",
       "  </thead>\n",
       "  <tbody>\n",
       "    <tr>\n",
       "      <th>0</th>\n",
       "      <td>2016W</td>\n",
       "      <td>111</td>\n",
       "      <td>1</td>\n",
       "      <td>L03</td>\n",
       "      <td>71</td>\n",
       "      <td>B-</td>\n",
       "      <td>C</td>\n",
       "      <td>A</td>\n",
       "      <td>B</td>\n",
       "      <td>A</td>\n",
       "      <td>...</td>\n",
       "      <td>B</td>\n",
       "      <td>B</td>\n",
       "      <td>D</td>\n",
       "      <td>B</td>\n",
       "      <td>E</td>\n",
       "      <td>C</td>\n",
       "      <td>A</td>\n",
       "      <td>NaN</td>\n",
       "      <td>NaN</td>\n",
       "      <td>NaN</td>\n",
       "    </tr>\n",
       "    <tr>\n",
       "      <th>1</th>\n",
       "      <td>2016W</td>\n",
       "      <td>111</td>\n",
       "      <td>1</td>\n",
       "      <td>L12</td>\n",
       "      <td>78</td>\n",
       "      <td>B+</td>\n",
       "      <td>C</td>\n",
       "      <td>D</td>\n",
       "      <td>B</td>\n",
       "      <td>E</td>\n",
       "      <td>...</td>\n",
       "      <td>C</td>\n",
       "      <td>B</td>\n",
       "      <td>C</td>\n",
       "      <td>B</td>\n",
       "      <td>B</td>\n",
       "      <td>C</td>\n",
       "      <td>A</td>\n",
       "      <td>A</td>\n",
       "      <td>B</td>\n",
       "      <td>NaN</td>\n",
       "    </tr>\n",
       "    <tr>\n",
       "      <th>2</th>\n",
       "      <td>2016W</td>\n",
       "      <td>111</td>\n",
       "      <td>1</td>\n",
       "      <td>L04</td>\n",
       "      <td>88</td>\n",
       "      <td>A</td>\n",
       "      <td>C</td>\n",
       "      <td>D</td>\n",
       "      <td>C</td>\n",
       "      <td>A</td>\n",
       "      <td>...</td>\n",
       "      <td>E</td>\n",
       "      <td>E</td>\n",
       "      <td>A</td>\n",
       "      <td>E</td>\n",
       "      <td>E</td>\n",
       "      <td>C</td>\n",
       "      <td>A</td>\n",
       "      <td>C</td>\n",
       "      <td>B</td>\n",
       "      <td>NaN</td>\n",
       "    </tr>\n",
       "    <tr>\n",
       "      <th>3</th>\n",
       "      <td>2016W</td>\n",
       "      <td>111</td>\n",
       "      <td>1</td>\n",
       "      <td>L02</td>\n",
       "      <td>66</td>\n",
       "      <td>C+</td>\n",
       "      <td>NaN</td>\n",
       "      <td>NaN</td>\n",
       "      <td>NaN</td>\n",
       "      <td>NaN</td>\n",
       "      <td>...</td>\n",
       "      <td>D</td>\n",
       "      <td>D</td>\n",
       "      <td>C</td>\n",
       "      <td>B</td>\n",
       "      <td>A</td>\n",
       "      <td>A</td>\n",
       "      <td>C</td>\n",
       "      <td>D</td>\n",
       "      <td>E</td>\n",
       "      <td>NaN</td>\n",
       "    </tr>\n",
       "    <tr>\n",
       "      <th>4</th>\n",
       "      <td>2016W</td>\n",
       "      <td>111</td>\n",
       "      <td>1</td>\n",
       "      <td>L02</td>\n",
       "      <td>74</td>\n",
       "      <td>B</td>\n",
       "      <td>D</td>\n",
       "      <td>B</td>\n",
       "      <td>A</td>\n",
       "      <td>A</td>\n",
       "      <td>...</td>\n",
       "      <td>D</td>\n",
       "      <td>E</td>\n",
       "      <td>C</td>\n",
       "      <td>B</td>\n",
       "      <td>E</td>\n",
       "      <td>B</td>\n",
       "      <td>A</td>\n",
       "      <td>C</td>\n",
       "      <td>C</td>\n",
       "      <td>NaN</td>\n",
       "    </tr>\n",
       "  </tbody>\n",
       "</table>\n",
       "<p>5 rows × 117 columns</p>\n",
       "</div>"
      ],
      "text/plain": [
       "  Session  Course  Lecture Secondary  Percent Grade Letter Grade PRE Q1  \\\n",
       "0   2016W     111        1       L03             71           B-      C   \n",
       "1   2016W     111        1       L12             78           B+      C   \n",
       "2   2016W     111        1       L04             88           A       C   \n",
       "3   2016W     111        1       L02             66           C+    NaN   \n",
       "4   2016W     111        1       L02             74           B       D   \n",
       "\n",
       "  PRE Q2 PRE Q3 PRE Q4  ... POST Q87 POST Q88 POST Q89 POST Q90 POST Q91  \\\n",
       "0      A      B      A  ...        B        B        D        B        E   \n",
       "1      D      B      E  ...        C        B        C        B        B   \n",
       "2      D      C      A  ...        E        E        A        E        E   \n",
       "3    NaN    NaN    NaN  ...        D        D        C        B        A   \n",
       "4      B      A      A  ...        D        E        C        B        E   \n",
       "\n",
       "  POST Q92 POST Q93 POST Q94 POST Q95 POST Q96  \n",
       "0        C        A      NaN      NaN      NaN  \n",
       "1        C        A        A        B      NaN  \n",
       "2        C        A        C        B      NaN  \n",
       "3        A        C        D        E      NaN  \n",
       "4        B        A        C        C      NaN  \n",
       "\n",
       "[5 rows x 117 columns]"
      ]
     },
     "execution_count": 2,
     "metadata": {},
     "output_type": "execute_result"
    }
   ],
   "source": [
    "# import raw data from excel files with NA threshold at 25\n",
    "df16_111 = pd.read_excel('rawdata/2016-17 WT1 Phys 111 ALL Data - Shared with Chelsea.xlsx').replace([\"BLANK\", \"!!\", \"MULT\"], \"NaN\")\n",
    "df16_112 = pd.read_excel('rawdata/2016-17 WT1 Phys 112 ALL Data - Shared with Chelsea.xlsx').replace([\"BLANK\", \"!!\", \"MULT\"], \"NaN\")\n",
    "df14_111 = pd.read_excel('rawdata/2014-15 WT1 Phys 111 ALL Data - Shared with Chelsea (20210212).xlsx').replace([\"BLANK\", \"!!\", \"MULT\"], \"NaN\")\n",
    "df14_112 = pd.read_excel('rawdata/2014-15 WT1 Phys 112 ALL Data - Shared with Chelsea (20210212).xlsx').replace([\"BLANK\", \"!!\", \"MULT\"], \"NaN\")\n",
    "df15_111 = pd.read_excel('rawdata/2015-16 WT1 Phys 111 ALL Data - Shared with Chelsea.xlsx').replace([\"BLANK\", \"!!\", \"MULT\"], \"NaN\")\n",
    "df15_112 = pd.read_excel('rawdata/2015-16 WT1 Phys 112 ALL Data - Shared with Chelsea.xlsx').replace([\"BLANK\", \"!!\", \"MULT\"], \"NaN\")\n",
    "df17_111 = pd.read_excel('rawdata/2017-18 WT1 Phys 111 ALL Data - Shared with David (20190612).xlsx').replace([\"BLANK\", \"!!\", \"MULT\"], \"NaN\")\n",
    "df17_112 = pd.read_excel('rawdata/2017-18 WT1 Phys 112 ALL Data - Shared with David (20190612).xlsx').replace([\"BLANK\", \"!!\", \"MULT\"], \"NaN\")\n",
    "df18_111 = pd.read_excel('rawdata/2018-19 WT1 Phys 111 ALL Data - Shared with David (20190530).xlsx').replace([\"BLANK\", \"!!\", \"MULT\"], \"NaN\")\n",
    "df18_112 = pd.read_excel('rawdata/2018-19 WT1 Phys 112 ALL Data - Shared with David (20190527).xlsx').replace([\"BLANK\", \"!!\", \"MULT\"], \"NaN\")\n",
    "df16_111.head()"
   ]
  },
  {
   "cell_type": "code",
   "execution_count": 3,
   "metadata": {},
   "outputs": [
    {
     "data": {
      "text/plain": [
       "1.2980392156862752"
      ]
     },
     "metadata": {},
     "output_type": "display_data"
    },
    {
     "data": {
      "text/plain": [
       "1.4370078740157481"
      ]
     },
     "metadata": {},
     "output_type": "display_data"
    },
    {
     "data": {
      "text/plain": [
       "0.8472727272727258"
      ]
     },
     "metadata": {},
     "output_type": "display_data"
    },
    {
     "data": {
      "text/plain": [
       "3.3161512027491415"
      ]
     },
     "metadata": {},
     "output_type": "display_data"
    },
    {
     "data": {
      "text/plain": [
       "0.45581395348837184"
      ]
     },
     "metadata": {},
     "output_type": "display_data"
    },
    {
     "data": {
      "text/plain": [
       "3.4157706093189972"
      ]
     },
     "metadata": {},
     "output_type": "display_data"
    },
    {
     "data": {
      "text/plain": [
       "0.9867549668874176"
      ]
     },
     "metadata": {},
     "output_type": "display_data"
    },
    {
     "data": {
      "text/plain": [
       "3.874035989717224"
      ]
     },
     "metadata": {},
     "output_type": "display_data"
    },
    {
     "data": {
      "text/plain": [
       "-0.7604166666666661"
      ]
     },
     "metadata": {},
     "output_type": "display_data"
    },
    {
     "data": {
      "text/plain": [
       "2.601246105919003"
      ]
     },
     "metadata": {},
     "output_type": "display_data"
    }
   ],
   "source": [
    "# output gain from all years\n",
    "display(df14_111.apply(calculate_post_score, axis=1).mean()-df14_111.apply(calculate_pre_score, axis=1).mean())\n",
    "display(df14_112.apply(calculate_post_score, axis=1).mean()-df14_112.apply(calculate_pre_score, axis=1).mean())\n",
    "display(df16_111.apply(calculate_post_score, axis=1).mean()-df16_111.apply(calculate_pre_score, axis=1).mean())\n",
    "display(df16_112.apply(calculate_post_score, axis=1).mean()-df16_112.apply(calculate_pre_score, axis=1).mean())\n",
    "display(df15_111.apply(calculate_post_score, axis=1).mean()-df15_111.apply(calculate_pre_score, axis=1).mean())\n",
    "display(df15_112.apply(calculate_post_score, axis=1).mean()-df15_112.apply(calculate_pre_score, axis=1).mean())\n",
    "display(df17_111.apply(calculate_post_score, axis=1).mean()-df17_111.apply(calculate_pre_score, axis=1).mean())\n",
    "display(df17_112.apply(calculate_post_score, axis=1).mean()-df17_112.apply(calculate_pre_score, axis=1).mean())\n",
    "display(df18_111.apply(calculate_post_score, axis=1).mean()-df18_111.apply(calculate_pre_score, axis=1).mean())\n",
    "display(df18_112.apply(calculate_post_score, axis=1).mean()-df18_112.apply(calculate_pre_score, axis=1).mean())"
   ]
  },
  {
   "cell_type": "code",
   "execution_count": 4,
   "metadata": {},
   "outputs": [
    {
     "data": {
      "text/plain": [
       "13.544303797468354"
      ]
     },
     "metadata": {},
     "output_type": "display_data"
    },
    {
     "data": {
      "text/plain": [
       "9.873417721518987"
      ]
     },
     "metadata": {},
     "output_type": "display_data"
    },
    {
     "data": {
      "text/plain": [
       "3.670886075949367"
      ]
     },
     "metadata": {},
     "output_type": "display_data"
    }
   ],
   "source": [
    "# calculate gain of 2016 001 lecture section\n",
    "is_001 = df16_112['Lecture']== 1\n",
    "post = df16_112[is_001].apply(calculate_post_score, axis=1).mean()\n",
    "pre = df16_112[is_001].apply(calculate_pre_score, axis=1).mean()\n",
    "display(post)\n",
    "display(pre)\n",
    "display(post-pre)"
   ]
  },
  {
   "cell_type": "code",
   "execution_count": 5,
   "metadata": {},
   "outputs": [
    {
     "data": {
      "text/plain": [
       "8.394117647058824"
      ]
     },
     "metadata": {},
     "output_type": "display_data"
    },
    {
     "data": {
      "text/plain": [
       "13.66304347826087"
      ]
     },
     "metadata": {},
     "output_type": "display_data"
    }
   ],
   "source": [
    "# calculate pre scores of 2016 112 by gender\n",
    "is_f = df16_112['PRE Q85']== 'A'\n",
    "pre_f = df16_112[is_f].apply(calculate_pre_score, axis=1).mean()\n",
    "is_m = df16_112['PRE Q85']== 'B'\n",
    "pre_m = df16_112[is_m].apply(calculate_pre_score, axis=1).mean()\n",
    "display(pre_f)\n",
    "display(pre_m)"
   ]
  },
  {
   "cell_type": "code",
   "execution_count": 6,
   "metadata": {},
   "outputs": [
    {
     "data": {
      "text/html": [
       "<div>\n",
       "<style scoped>\n",
       "    .dataframe tbody tr th:only-of-type {\n",
       "        vertical-align: middle;\n",
       "    }\n",
       "\n",
       "    .dataframe tbody tr th {\n",
       "        vertical-align: top;\n",
       "    }\n",
       "\n",
       "    .dataframe thead th {\n",
       "        text-align: right;\n",
       "    }\n",
       "</style>\n",
       "<table border=\"1\" class=\"dataframe\">\n",
       "  <thead>\n",
       "    <tr style=\"text-align: right;\">\n",
       "      <th></th>\n",
       "      <th>PRE Q1</th>\n",
       "      <th>PRE Q2</th>\n",
       "      <th>PRE Q3</th>\n",
       "      <th>PRE Q4</th>\n",
       "      <th>PRE Q5</th>\n",
       "      <th>PRE Q6</th>\n",
       "      <th>PRE Q7</th>\n",
       "      <th>PRE Q8</th>\n",
       "      <th>PRE Q9</th>\n",
       "      <th>PRE Q10</th>\n",
       "      <th>...</th>\n",
       "      <th>PRE Q21</th>\n",
       "      <th>PRE Q22</th>\n",
       "      <th>PRE Q23</th>\n",
       "      <th>PRE Q24</th>\n",
       "      <th>PRE Q25</th>\n",
       "      <th>PRE Q26</th>\n",
       "      <th>PRE Q27</th>\n",
       "      <th>PRE Q28</th>\n",
       "      <th>PRE Q29</th>\n",
       "      <th>PRE Q30</th>\n",
       "    </tr>\n",
       "  </thead>\n",
       "  <tbody>\n",
       "    <tr>\n",
       "      <th>Female</th>\n",
       "      <td>0.323529</td>\n",
       "      <td>0.276471</td>\n",
       "      <td>0.458824</td>\n",
       "      <td>0.229412</td>\n",
       "      <td>0.082353</td>\n",
       "      <td>0.529412</td>\n",
       "      <td>0.452941</td>\n",
       "      <td>0.341176</td>\n",
       "      <td>0.252941</td>\n",
       "      <td>0.264706</td>\n",
       "      <td>...</td>\n",
       "      <td>0.258824</td>\n",
       "      <td>0.276471</td>\n",
       "      <td>0.170588</td>\n",
       "      <td>0.400000</td>\n",
       "      <td>0.135294</td>\n",
       "      <td>0.023529</td>\n",
       "      <td>0.458824</td>\n",
       "      <td>0.182353</td>\n",
       "      <td>0.435294</td>\n",
       "      <td>0.088235</td>\n",
       "    </tr>\n",
       "    <tr>\n",
       "      <th>Male</th>\n",
       "      <td>0.586957</td>\n",
       "      <td>0.369565</td>\n",
       "      <td>0.554348</td>\n",
       "      <td>0.347826</td>\n",
       "      <td>0.206522</td>\n",
       "      <td>0.836957</td>\n",
       "      <td>0.608696</td>\n",
       "      <td>0.641304</td>\n",
       "      <td>0.369565</td>\n",
       "      <td>0.619565</td>\n",
       "      <td>...</td>\n",
       "      <td>0.402174</td>\n",
       "      <td>0.434783</td>\n",
       "      <td>0.576087</td>\n",
       "      <td>0.717391</td>\n",
       "      <td>0.173913</td>\n",
       "      <td>0.130435</td>\n",
       "      <td>0.586957</td>\n",
       "      <td>0.402174</td>\n",
       "      <td>0.608696</td>\n",
       "      <td>0.152174</td>\n",
       "    </tr>\n",
       "  </tbody>\n",
       "</table>\n",
       "<p>2 rows × 30 columns</p>\n",
       "</div>"
      ],
      "text/plain": [
       "          PRE Q1    PRE Q2    PRE Q3    PRE Q4    PRE Q5    PRE Q6    PRE Q7  \\\n",
       "Female  0.323529  0.276471  0.458824  0.229412  0.082353  0.529412  0.452941   \n",
       "Male    0.586957  0.369565  0.554348  0.347826  0.206522  0.836957  0.608696   \n",
       "\n",
       "          PRE Q8    PRE Q9   PRE Q10  ...   PRE Q21   PRE Q22   PRE Q23  \\\n",
       "Female  0.341176  0.252941  0.264706  ...  0.258824  0.276471  0.170588   \n",
       "Male    0.641304  0.369565  0.619565  ...  0.402174  0.434783  0.576087   \n",
       "\n",
       "         PRE Q24   PRE Q25   PRE Q26   PRE Q27   PRE Q28   PRE Q29   PRE Q30  \n",
       "Female  0.400000  0.135294  0.023529  0.458824  0.182353  0.435294  0.088235  \n",
       "Male    0.717391  0.173913  0.130435  0.586957  0.402174  0.608696  0.152174  \n",
       "\n",
       "[2 rows x 30 columns]"
      ]
     },
     "execution_count": 6,
     "metadata": {},
     "output_type": "execute_result"
    }
   ],
   "source": [
    "column_names=[]\n",
    "for i in range(1, 31):\n",
    "    column_names.append(\"PRE Q\" + str(i))\n",
    "df2 = pd.DataFrame(columns=column_names)\n",
    "\n",
    "# calculate pre scores of 2016 112 by gender by question\n",
    "is_f = df16_112['PRE Q85']== 'A'\n",
    "pre_f = calculate_question_score_pre(df16_112[is_f])\n",
    "is_m = df16_112['PRE Q85']== 'B'\n",
    "pre_m = calculate_question_score_pre(df16_112[is_m])\n",
    "df2.loc[\"Female\"] = pre_f\n",
    "df2.loc[\"Male\"] = pre_m\n",
    "\n",
    "df2"
   ]
  },
  {
   "cell_type": "code",
   "execution_count": 7,
   "metadata": {},
   "outputs": [
    {
     "data": {
      "text/html": [
       "<div>\n",
       "<style scoped>\n",
       "    .dataframe tbody tr th:only-of-type {\n",
       "        vertical-align: middle;\n",
       "    }\n",
       "\n",
       "    .dataframe tbody tr th {\n",
       "        vertical-align: top;\n",
       "    }\n",
       "\n",
       "    .dataframe thead th {\n",
       "        text-align: right;\n",
       "    }\n",
       "</style>\n",
       "<table border=\"1\" class=\"dataframe\">\n",
       "  <thead>\n",
       "    <tr style=\"text-align: right;\">\n",
       "      <th></th>\n",
       "      <th>PRE Q12014-15</th>\n",
       "      <th>PRE Q12015-16</th>\n",
       "      <th>PRE Q1</th>\n",
       "    </tr>\n",
       "  </thead>\n",
       "  <tbody>\n",
       "    <tr>\n",
       "      <th>C</th>\n",
       "      <td>115</td>\n",
       "      <td>156</td>\n",
       "      <td>98</td>\n",
       "    </tr>\n",
       "    <tr>\n",
       "      <th>NaN</th>\n",
       "      <td>102</td>\n",
       "      <td>3</td>\n",
       "      <td>48</td>\n",
       "    </tr>\n",
       "    <tr>\n",
       "      <th>D</th>\n",
       "      <td>14</td>\n",
       "      <td>20</td>\n",
       "      <td>44</td>\n",
       "    </tr>\n",
       "    <tr>\n",
       "      <th>A</th>\n",
       "      <td>13</td>\n",
       "      <td>26</td>\n",
       "      <td>30</td>\n",
       "    </tr>\n",
       "    <tr>\n",
       "      <th>B</th>\n",
       "      <td>8</td>\n",
       "      <td>6</td>\n",
       "      <td>19</td>\n",
       "    </tr>\n",
       "    <tr>\n",
       "      <th>E</th>\n",
       "      <td>3</td>\n",
       "      <td>4</td>\n",
       "      <td>15</td>\n",
       "    </tr>\n",
       "  </tbody>\n",
       "</table>\n",
       "</div>"
      ],
      "text/plain": [
       "     PRE Q12014-15  PRE Q12015-16  PRE Q1\n",
       "C              115            156      98\n",
       "NaN            102              3      48\n",
       "D               14             20      44\n",
       "A               13             26      30\n",
       "B                8              6      19\n",
       "E                3              4      15"
      ]
     },
     "execution_count": 7,
     "metadata": {},
     "output_type": "execute_result"
    }
   ],
   "source": [
    "y14_q1 = pd.DataFrame(df14_111['PRE Q1'].value_counts(dropna=False))\n",
    "y15_q1 = pd.DataFrame(df15_111['PRE Q1'].value_counts(dropna=False))\n",
    "y14_q1_112 = pd.DataFrame(df14_112['PRE Q1'].value_counts(dropna=False))\n",
    "\n",
    "dff1 = y14_q1.join(y15_q1, lsuffix='2014-15', rsuffix='2015-16')\n",
    "dff1 = dff1.join(y14_q1_112, rsuffix='2014 112')\n",
    "dff1\n",
    "\n",
    "#correct answer = C"
   ]
  },
  {
   "cell_type": "code",
   "execution_count": 8,
   "metadata": {},
   "outputs": [],
   "source": [
    "corr_ans = ['C', 'A' , 'C', 'E', 'B', 'B', 'B', 'B' , 'E', 'A', 'D', 'B', 'D', 'D', 'A', 'A', 'B', 'B', 'E', 'D', \n",
    "            'E', 'B', 'B', 'A', 'C', 'E', 'C', 'E', 'B', 'C']"
   ]
  },
  {
   "cell_type": "code",
   "execution_count": 9,
   "metadata": {
    "scrolled": true
   },
   "outputs": [
    {
     "data": {
      "text/html": [
       "<div>\n",
       "<style scoped>\n",
       "    .dataframe tbody tr th:only-of-type {\n",
       "        vertical-align: middle;\n",
       "    }\n",
       "\n",
       "    .dataframe tbody tr th {\n",
       "        vertical-align: top;\n",
       "    }\n",
       "\n",
       "    .dataframe thead th {\n",
       "        text-align: right;\n",
       "    }\n",
       "</style>\n",
       "<table border=\"1\" class=\"dataframe\">\n",
       "  <thead>\n",
       "    <tr style=\"text-align: right;\">\n",
       "      <th></th>\n",
       "      <th>Course</th>\n",
       "      <th>Lecture</th>\n",
       "      <th>Percent Grade</th>\n",
       "    </tr>\n",
       "  </thead>\n",
       "  <tbody>\n",
       "    <tr>\n",
       "      <th>count</th>\n",
       "      <td>255.0</td>\n",
       "      <td>255.000000</td>\n",
       "      <td>255.000000</td>\n",
       "    </tr>\n",
       "    <tr>\n",
       "      <th>mean</th>\n",
       "      <td>111.0</td>\n",
       "      <td>1.384314</td>\n",
       "      <td>69.474510</td>\n",
       "    </tr>\n",
       "    <tr>\n",
       "      <th>std</th>\n",
       "      <td>0.0</td>\n",
       "      <td>0.487389</td>\n",
       "      <td>17.289064</td>\n",
       "    </tr>\n",
       "    <tr>\n",
       "      <th>min</th>\n",
       "      <td>111.0</td>\n",
       "      <td>1.000000</td>\n",
       "      <td>3.000000</td>\n",
       "    </tr>\n",
       "    <tr>\n",
       "      <th>25%</th>\n",
       "      <td>111.0</td>\n",
       "      <td>1.000000</td>\n",
       "      <td>61.000000</td>\n",
       "    </tr>\n",
       "    <tr>\n",
       "      <th>50%</th>\n",
       "      <td>111.0</td>\n",
       "      <td>1.000000</td>\n",
       "      <td>71.000000</td>\n",
       "    </tr>\n",
       "    <tr>\n",
       "      <th>75%</th>\n",
       "      <td>111.0</td>\n",
       "      <td>2.000000</td>\n",
       "      <td>81.000000</td>\n",
       "    </tr>\n",
       "    <tr>\n",
       "      <th>max</th>\n",
       "      <td>111.0</td>\n",
       "      <td>2.000000</td>\n",
       "      <td>100.000000</td>\n",
       "    </tr>\n",
       "  </tbody>\n",
       "</table>\n",
       "</div>"
      ],
      "text/plain": [
       "       Course     Lecture  Percent Grade\n",
       "count   255.0  255.000000     255.000000\n",
       "mean    111.0    1.384314      69.474510\n",
       "std       0.0    0.487389      17.289064\n",
       "min     111.0    1.000000       3.000000\n",
       "25%     111.0    1.000000      61.000000\n",
       "50%     111.0    1.000000      71.000000\n",
       "75%     111.0    2.000000      81.000000\n",
       "max     111.0    2.000000     100.000000"
      ]
     },
     "execution_count": 9,
     "metadata": {},
     "output_type": "execute_result"
    }
   ],
   "source": [
    "df14_111.describe()"
   ]
  },
  {
   "cell_type": "code",
   "execution_count": 10,
   "metadata": {},
   "outputs": [],
   "source": [
    "column_names=[\"YEAR\"]\n",
    "for i in range(1, 31):\n",
    "    column_names.append(\"PRE Q\" + str(i))\n",
    "df1 = pd.DataFrame(columns=column_names)"
   ]
  },
  {
   "cell_type": "code",
   "execution_count": 11,
   "metadata": {},
   "outputs": [],
   "source": [
    "df1.loc[1] = [\"2014 111\"] + calculate_question_score_pre(df14_111)\n",
    "df1.loc[2] = [\"2014 112\"] + calculate_question_score_pre(df14_112)\n",
    "df1.loc[3] = [\"2015 111\"] + calculate_question_score_pre(df15_111)\n",
    "df1.loc[4] = [\"2015 112\"] + calculate_question_score_pre(df15_112)\n",
    "df1.loc[5] = [\"2016 111\"] + calculate_question_score_pre(df16_111)\n",
    "df1.loc[6] = [\"2016 112\"] + calculate_question_score_pre(df16_112)\n",
    "df1.loc[7] = [\"2017 111\"] + calculate_question_score_pre(df17_111)\n",
    "df1.loc[8] = [\"2017 112\"] + calculate_question_score_pre(df17_112)\n",
    "df1.loc[9] = [\"2018 111\"] + calculate_question_score_pre(df18_111)\n",
    "df1.loc[10] = [\"2018 112\"] + calculate_question_score_pre(df18_112)\n",
    "\n",
    "df1.to_excel(\"Pre_test_by_question.xlsx\")"
   ]
  },
  {
   "cell_type": "code",
   "execution_count": 14,
   "metadata": {},
   "outputs": [],
   "source": [
    "# create table of average scores by gender by year\n",
    "\n",
    "def by_gender_by_year(df, name):\n",
    "    pre = []\n",
    "    for i in range (1,31):\n",
    "        string = \"PRE Q\" + str(i)\n",
    "        pre.append(string)\n",
    "    post = []\n",
    "    for i in range (1,31):\n",
    "        string = \"POST Q\" + str(i)\n",
    "        post.append(string)\n",
    "\n",
    "    is_f = df['PRE Q85']== 'A'\n",
    "    df_f = df[is_f]\n",
    "    df_pre_f = df_f[pre].dropna(thresh=1, axis=0)\n",
    "    df_post_f = df_f[post].dropna(thresh=1, axis=0)\n",
    "    \n",
    "    pre_f = df_pre_f.apply(calculate_pre_score, axis=1).mean()\n",
    "    pre_f_error = df_pre_f.apply(calculate_pre_score, axis=1).sem(axis=0)\n",
    "    post_f =df_post_f.apply(calculate_post_score, axis=1).mean()\n",
    "    post_f_error = df_post_f.apply(calculate_post_score, axis=1).sem(axis=0)\n",
    "    gain_f_error = np.sqrt(pre_f_error**2 + post_f_error**2)\n",
    "    \n",
    "    is_m = df['PRE Q85']== 'B'\n",
    "    df_m = df[is_m]\n",
    "    df_pre_m = df_m[pre].dropna(thresh=1, axis=0)\n",
    "    df_post_m = df_m[post].dropna(thresh=1, axis=0)\n",
    "    \n",
    "    pre_m = df_pre_m.apply(calculate_pre_score, axis=1).mean()\n",
    "    pre_m_error = df_pre_m.apply(calculate_pre_score, axis=1).sem(axis=0)\n",
    "    post_m =df_post_m.apply(calculate_post_score, axis=1).mean()\n",
    "    post_m_error = df_post_m.apply(calculate_post_score, axis=1).sem(axis=0)\n",
    "    gain_m_error = np.sqrt(pre_m_error**2 + post_m_error**2)\n",
    "    #gain_error = (post_m-pre_m).sem(axis=0)\n",
    "    #print num of female and male sizes\n",
    "    \n",
    "    array = [name, pre_f, pre_f_error, post_f, post_f_error, post_f-pre_f, gain_f_error, pre_m, pre_m_error, post_m, post_m_error, post_m-pre_m, gain_m_error]\n",
    "    return df_pre_f"
   ]
  },
  {
   "cell_type": "code",
   "execution_count": 15,
   "metadata": {
    "scrolled": false
   },
   "outputs": [
    {
     "ename": "ValueError",
     "evalue": "cannot set a row with mismatched columns",
     "output_type": "error",
     "traceback": [
      "\u001b[0;31m---------------------------------------------------------------------------\u001b[0m",
      "\u001b[0;31mValueError\u001b[0m                                Traceback (most recent call last)",
      "\u001b[0;32m<ipython-input-15-695eca08b2d0>\u001b[0m in \u001b[0;36m<module>\u001b[0;34m\u001b[0m\n\u001b[1;32m      2\u001b[0m \u001b[0mdf4\u001b[0m \u001b[0;34m=\u001b[0m \u001b[0mpd\u001b[0m\u001b[0;34m.\u001b[0m\u001b[0mDataFrame\u001b[0m\u001b[0;34m(\u001b[0m\u001b[0mcolumns\u001b[0m\u001b[0;34m=\u001b[0m\u001b[0mcolumn_names\u001b[0m\u001b[0;34m)\u001b[0m\u001b[0;34m\u001b[0m\u001b[0;34m\u001b[0m\u001b[0m\n\u001b[1;32m      3\u001b[0m \u001b[0;34m\u001b[0m\u001b[0m\n\u001b[0;32m----> 4\u001b[0;31m \u001b[0mdf4\u001b[0m\u001b[0;34m.\u001b[0m\u001b[0mloc\u001b[0m\u001b[0;34m[\u001b[0m\u001b[0;36m1\u001b[0m\u001b[0;34m]\u001b[0m \u001b[0;34m=\u001b[0m \u001b[0mby_gender_by_year\u001b[0m\u001b[0;34m(\u001b[0m\u001b[0mdf14_111\u001b[0m\u001b[0;34m,\u001b[0m \u001b[0;34m\"2014 111\"\u001b[0m\u001b[0;34m)\u001b[0m\u001b[0;34m\u001b[0m\u001b[0;34m\u001b[0m\u001b[0m\n\u001b[0m\u001b[1;32m      5\u001b[0m \u001b[0mdf4\u001b[0m\u001b[0;34m.\u001b[0m\u001b[0mloc\u001b[0m\u001b[0;34m[\u001b[0m\u001b[0;36m2\u001b[0m\u001b[0;34m]\u001b[0m \u001b[0;34m=\u001b[0m \u001b[0mby_gender_by_year\u001b[0m\u001b[0;34m(\u001b[0m\u001b[0mdf14_112\u001b[0m\u001b[0;34m,\u001b[0m \u001b[0;34m\"2014 112\"\u001b[0m\u001b[0;34m)\u001b[0m\u001b[0;34m\u001b[0m\u001b[0;34m\u001b[0m\u001b[0m\n\u001b[1;32m      6\u001b[0m \u001b[0mdf4\u001b[0m\u001b[0;34m.\u001b[0m\u001b[0mloc\u001b[0m\u001b[0;34m[\u001b[0m\u001b[0;36m3\u001b[0m\u001b[0;34m]\u001b[0m \u001b[0;34m=\u001b[0m \u001b[0mby_gender_by_year\u001b[0m\u001b[0;34m(\u001b[0m\u001b[0mdf15_111\u001b[0m\u001b[0;34m,\u001b[0m \u001b[0;34m\"2015 111\"\u001b[0m\u001b[0;34m)\u001b[0m\u001b[0;34m\u001b[0m\u001b[0;34m\u001b[0m\u001b[0m\n",
      "\u001b[0;32m~/opt/anaconda3/lib/python3.8/site-packages/pandas/core/indexing.py\u001b[0m in \u001b[0;36m__setitem__\u001b[0;34m(self, key, value)\u001b[0m\n\u001b[1;32m    721\u001b[0m \u001b[0;34m\u001b[0m\u001b[0m\n\u001b[1;32m    722\u001b[0m         \u001b[0miloc\u001b[0m \u001b[0;34m=\u001b[0m \u001b[0mself\u001b[0m \u001b[0;32mif\u001b[0m \u001b[0mself\u001b[0m\u001b[0;34m.\u001b[0m\u001b[0mname\u001b[0m \u001b[0;34m==\u001b[0m \u001b[0;34m\"iloc\"\u001b[0m \u001b[0;32melse\u001b[0m \u001b[0mself\u001b[0m\u001b[0;34m.\u001b[0m\u001b[0mobj\u001b[0m\u001b[0;34m.\u001b[0m\u001b[0miloc\u001b[0m\u001b[0;34m\u001b[0m\u001b[0;34m\u001b[0m\u001b[0m\n\u001b[0;32m--> 723\u001b[0;31m         \u001b[0miloc\u001b[0m\u001b[0;34m.\u001b[0m\u001b[0m_setitem_with_indexer\u001b[0m\u001b[0;34m(\u001b[0m\u001b[0mindexer\u001b[0m\u001b[0;34m,\u001b[0m \u001b[0mvalue\u001b[0m\u001b[0;34m,\u001b[0m \u001b[0mself\u001b[0m\u001b[0;34m.\u001b[0m\u001b[0mname\u001b[0m\u001b[0;34m)\u001b[0m\u001b[0;34m\u001b[0m\u001b[0;34m\u001b[0m\u001b[0m\n\u001b[0m\u001b[1;32m    724\u001b[0m \u001b[0;34m\u001b[0m\u001b[0m\n\u001b[1;32m    725\u001b[0m     \u001b[0;32mdef\u001b[0m \u001b[0m_validate_key\u001b[0m\u001b[0;34m(\u001b[0m\u001b[0mself\u001b[0m\u001b[0;34m,\u001b[0m \u001b[0mkey\u001b[0m\u001b[0;34m,\u001b[0m \u001b[0maxis\u001b[0m\u001b[0;34m:\u001b[0m \u001b[0mint\u001b[0m\u001b[0;34m)\u001b[0m\u001b[0;34m:\u001b[0m\u001b[0;34m\u001b[0m\u001b[0;34m\u001b[0m\u001b[0m\n",
      "\u001b[0;32m~/opt/anaconda3/lib/python3.8/site-packages/pandas/core/indexing.py\u001b[0m in \u001b[0;36m_setitem_with_indexer\u001b[0;34m(self, indexer, value, name)\u001b[0m\n\u001b[1;32m   1722\u001b[0m \u001b[0;34m\u001b[0m\u001b[0m\n\u001b[1;32m   1723\u001b[0m             \u001b[0;32mif\u001b[0m \u001b[0mmissing\u001b[0m\u001b[0;34m:\u001b[0m\u001b[0;34m\u001b[0m\u001b[0;34m\u001b[0m\u001b[0m\n\u001b[0;32m-> 1724\u001b[0;31m                 \u001b[0mself\u001b[0m\u001b[0;34m.\u001b[0m\u001b[0m_setitem_with_indexer_missing\u001b[0m\u001b[0;34m(\u001b[0m\u001b[0mindexer\u001b[0m\u001b[0;34m,\u001b[0m \u001b[0mvalue\u001b[0m\u001b[0;34m)\u001b[0m\u001b[0;34m\u001b[0m\u001b[0;34m\u001b[0m\u001b[0m\n\u001b[0m\u001b[1;32m   1725\u001b[0m                 \u001b[0;32mreturn\u001b[0m\u001b[0;34m\u001b[0m\u001b[0;34m\u001b[0m\u001b[0m\n\u001b[1;32m   1726\u001b[0m \u001b[0;34m\u001b[0m\u001b[0m\n",
      "\u001b[0;32m~/opt/anaconda3/lib/python3.8/site-packages/pandas/core/indexing.py\u001b[0m in \u001b[0;36m_setitem_with_indexer_missing\u001b[0;34m(self, indexer, value)\u001b[0m\n\u001b[1;32m   2025\u001b[0m                     \u001b[0;31m# must have conforming columns\u001b[0m\u001b[0;34m\u001b[0m\u001b[0;34m\u001b[0m\u001b[0;34m\u001b[0m\u001b[0m\n\u001b[1;32m   2026\u001b[0m                     \u001b[0;32mif\u001b[0m \u001b[0mlen\u001b[0m\u001b[0;34m(\u001b[0m\u001b[0mvalue\u001b[0m\u001b[0;34m)\u001b[0m \u001b[0;34m!=\u001b[0m \u001b[0mlen\u001b[0m\u001b[0;34m(\u001b[0m\u001b[0mself\u001b[0m\u001b[0;34m.\u001b[0m\u001b[0mobj\u001b[0m\u001b[0;34m.\u001b[0m\u001b[0mcolumns\u001b[0m\u001b[0;34m)\u001b[0m\u001b[0;34m:\u001b[0m\u001b[0;34m\u001b[0m\u001b[0;34m\u001b[0m\u001b[0m\n\u001b[0;32m-> 2027\u001b[0;31m                         \u001b[0;32mraise\u001b[0m \u001b[0mValueError\u001b[0m\u001b[0;34m(\u001b[0m\u001b[0;34m\"cannot set a row with mismatched columns\"\u001b[0m\u001b[0;34m)\u001b[0m\u001b[0;34m\u001b[0m\u001b[0;34m\u001b[0m\u001b[0m\n\u001b[0m\u001b[1;32m   2028\u001b[0m \u001b[0;34m\u001b[0m\u001b[0m\n\u001b[1;32m   2029\u001b[0m                 \u001b[0mvalue\u001b[0m \u001b[0;34m=\u001b[0m \u001b[0mSeries\u001b[0m\u001b[0;34m(\u001b[0m\u001b[0mvalue\u001b[0m\u001b[0;34m,\u001b[0m \u001b[0mindex\u001b[0m\u001b[0;34m=\u001b[0m\u001b[0mself\u001b[0m\u001b[0;34m.\u001b[0m\u001b[0mobj\u001b[0m\u001b[0;34m.\u001b[0m\u001b[0mcolumns\u001b[0m\u001b[0;34m,\u001b[0m \u001b[0mname\u001b[0m\u001b[0;34m=\u001b[0m\u001b[0mindexer\u001b[0m\u001b[0;34m)\u001b[0m\u001b[0;34m\u001b[0m\u001b[0;34m\u001b[0m\u001b[0m\n",
      "\u001b[0;31mValueError\u001b[0m: cannot set a row with mismatched columns"
     ]
    }
   ],
   "source": [
    "column_names=[\"YEAR\", \"Pre Score F\", \"Pre Score F Error\", \"Post Score F\",\"Post Score F Error\", \"Gain F\", \"Gain Error\", \"Pre Score M\", \"Pre Score M Error\", \"Post Score M\", \"Post Score M Error\", \"Gain M\", \"Gain M Error\"]\n",
    "df4 = pd.DataFrame(columns=column_names)\n",
    "\n",
    "df4.loc[1] = by_gender_by_year(df14_111, \"2014 111\")\n",
    "df4.loc[2] = by_gender_by_year(df14_112, \"2014 112\")\n",
    "df4.loc[3] = by_gender_by_year(df15_111, \"2015 111\")\n",
    "df4.loc[4] = by_gender_by_year(df15_112, \"2015 112\")\n",
    "df4.loc[5] = by_gender_by_year(df16_111, \"2016 111\")\n",
    "df4.loc[6] = by_gender_by_year(df16_112, \"2016 112\")\n",
    "df4.loc[7] = by_gender_by_year(df17_111, \"2017 111\")\n",
    "df4.loc[8] = by_gender_by_year(df17_112, \"2017 112\")\n",
    "df4.loc[9] = by_gender_by_year(df18_111, \"2018 111\")\n",
    "df4.loc[10] = by_gender_by_year(df18_112, \"2018 112\")\n",
    "df4"
   ]
  },
  {
   "cell_type": "code",
   "execution_count": null,
   "metadata": {},
   "outputs": [],
   "source": []
  },
  {
   "cell_type": "code",
   "execution_count": null,
   "metadata": {},
   "outputs": [],
   "source": []
  },
  {
   "cell_type": "code",
   "execution_count": null,
   "metadata": {},
   "outputs": [],
   "source": []
  }
 ],
 "metadata": {
  "kernelspec": {
   "display_name": "Python 3",
   "language": "python",
   "name": "python3"
  },
  "language_info": {
   "codemirror_mode": {
    "name": "ipython",
    "version": 3
   },
   "file_extension": ".py",
   "mimetype": "text/x-python",
   "name": "python",
   "nbconvert_exporter": "python",
   "pygments_lexer": "ipython3",
   "version": "3.8.1"
  }
 },
 "nbformat": 4,
 "nbformat_minor": 4
}
